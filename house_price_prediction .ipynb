{
  "nbformat": 4,
  "nbformat_minor": 0,
  "metadata": {
    "colab": {
      "name": "house_price_prediction.ipynb",
      "provenance": [],
      "collapsed_sections": [
        "g-6S4joHSRMk"
      ]
    },
    "kernelspec": {
      "name": "python3",
      "display_name": "Python 3"
    },
    "language_info": {
      "name": "python"
    }
  },
  "cells": [
    {
      "cell_type": "markdown",
      "source": [
        "#Bangaluru House Price - Kaggle dataset"
      ],
      "metadata": {
        "id": "rF0iTmArKjP2"
      }
    },
    {
      "cell_type": "markdown",
      "source": [
        "## **Dataset:** https://www.kaggle.com/datasets/amitabhajoy/bengaluru-house-price-data"
      ],
      "metadata": {
        "id": "g-6S4joHSRMk"
      }
    },
    {
      "cell_type": "code",
      "source": [
        "#upload kaggle.json\n",
        "from google.colab import files\n",
        "files.upload()\n",
        "print('Uploaded')"
      ],
      "metadata": {
        "colab": {
          "resources": {
            "http://localhost:8080/nbextensions/google.colab/files.js": {
              "data": "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",
              "ok": true,
              "headers": [
                [
                  "content-type",
                  "application/javascript"
                ]
              ],
              "status": 200,
              "status_text": ""
            }
          },
          "base_uri": "https://localhost:8080/",
          "height": 87
        },
        "id": "rE3A76IyXlyd",
        "outputId": "390c7f1d-6c2c-4da0-e57c-4cb330a3f662"
      },
      "execution_count": 1,
      "outputs": [
        {
          "output_type": "display_data",
          "data": {
            "text/plain": [
              "<IPython.core.display.HTML object>"
            ],
            "text/html": [
              "\n",
              "     <input type=\"file\" id=\"files-6c447f60-d7e4-4a4e-817b-30e06d4dd9ca\" name=\"files[]\" multiple disabled\n",
              "        style=\"border:none\" />\n",
              "     <output id=\"result-6c447f60-d7e4-4a4e-817b-30e06d4dd9ca\">\n",
              "      Upload widget is only available when the cell has been executed in the\n",
              "      current browser session. Please rerun this cell to enable.\n",
              "      </output>\n",
              "      <script src=\"/nbextensions/google.colab/files.js\"></script> "
            ]
          },
          "metadata": {}
        },
        {
          "output_type": "stream",
          "name": "stdout",
          "text": [
            "Saving kaggle.json to kaggle.json\n",
            "Uploaded\n"
          ]
        }
      ]
    },
    {
      "cell_type": "code",
      "source": [
        "!pip install -q kaggle\n",
        "!mkdir -p ~/.kaggle\n",
        "!cp kaggle.json ~/.kaggle/\n",
        "!ls ~/.kaggle\n",
        "!chmod 600 /root/.kaggle/kaggle.json"
      ],
      "metadata": {
        "colab": {
          "base_uri": "https://localhost:8080/"
        },
        "id": "doSV0ogNJGas",
        "outputId": "ebc90866-dfe7-4933-9f3f-8bd2bc5e3225"
      },
      "execution_count": 2,
      "outputs": [
        {
          "output_type": "stream",
          "name": "stdout",
          "text": [
            "kaggle.json\n"
          ]
        }
      ]
    },
    {
      "cell_type": "code",
      "source": [
        "!kaggle datasets download -d amitabhajoy/bengaluru-house-price-data"
      ],
      "metadata": {
        "colab": {
          "base_uri": "https://localhost:8080/"
        },
        "id": "84V0hrZjJGd2",
        "outputId": "4d1f5d39-e8b2-46bc-d668-7b9ca7496443"
      },
      "execution_count": 3,
      "outputs": [
        {
          "output_type": "stream",
          "name": "stdout",
          "text": [
            "Downloading bengaluru-house-price-data.zip to /content\n",
            "\r  0% 0.00/195k [00:00<?, ?B/s]\n",
            "\r100% 195k/195k [00:00<00:00, 50.3MB/s]\n"
          ]
        }
      ]
    },
    {
      "cell_type": "code",
      "source": [
        "!unzip /content/bengaluru-house-price-data.zip -d kaggle"
      ],
      "metadata": {
        "colab": {
          "base_uri": "https://localhost:8080/"
        },
        "id": "GuTg5AubYJma",
        "outputId": "7deacbc5-8360-41d0-ec32-4e184db7d718"
      },
      "execution_count": 4,
      "outputs": [
        {
          "output_type": "stream",
          "name": "stdout",
          "text": [
            "Archive:  /content/bengaluru-house-price-data.zip\n",
            "  inflating: kaggle/Bengaluru_House_Data.csv  \n"
          ]
        }
      ]
    },
    {
      "cell_type": "markdown",
      "source": [
        "##Start of Code\n"
      ],
      "metadata": {
        "id": "xukFU6KSYenX"
      }
    },
    {
      "cell_type": "code",
      "source": [
        "import numpy as np\n",
        "import pandas as pd"
      ],
      "metadata": {
        "id": "eobsL8nZYJjp"
      },
      "execution_count": 5,
      "outputs": []
    },
    {
      "cell_type": "code",
      "source": [
        "df = pd.read_csv(\"/content/kaggle/Bengaluru_House_Data.csv\")\n",
        "df.head()"
      ],
      "metadata": {
        "colab": {
          "base_uri": "https://localhost:8080/",
          "height": 206
        },
        "id": "U0ByvNb_YJfg",
        "outputId": "7f93679b-76b9-43f9-b3f5-92bf31d0ac8d"
      },
      "execution_count": 14,
      "outputs": [
        {
          "output_type": "execute_result",
          "data": {
            "text/plain": [
              "              area_type   availability                  location       size  \\\n",
              "0  Super built-up  Area         19-Dec  Electronic City Phase II      2 BHK   \n",
              "1            Plot  Area  Ready To Move          Chikka Tirupathi  4 Bedroom   \n",
              "2        Built-up  Area  Ready To Move               Uttarahalli      3 BHK   \n",
              "3  Super built-up  Area  Ready To Move        Lingadheeranahalli      3 BHK   \n",
              "4  Super built-up  Area  Ready To Move                  Kothanur      2 BHK   \n",
              "\n",
              "   society total_sqft  bath  balcony   price  \n",
              "0  Coomee        1056   2.0      1.0   39.07  \n",
              "1  Theanmp       2600   5.0      3.0  120.00  \n",
              "2      NaN       1440   2.0      3.0   62.00  \n",
              "3  Soiewre       1521   3.0      1.0   95.00  \n",
              "4      NaN       1200   2.0      1.0   51.00  "
            ],
            "text/html": [
              "\n",
              "  <div id=\"df-36a7ee2e-e6ff-45a5-9832-f65ad19b988b\">\n",
              "    <div class=\"colab-df-container\">\n",
              "      <div>\n",
              "<style scoped>\n",
              "    .dataframe tbody tr th:only-of-type {\n",
              "        vertical-align: middle;\n",
              "    }\n",
              "\n",
              "    .dataframe tbody tr th {\n",
              "        vertical-align: top;\n",
              "    }\n",
              "\n",
              "    .dataframe thead th {\n",
              "        text-align: right;\n",
              "    }\n",
              "</style>\n",
              "<table border=\"1\" class=\"dataframe\">\n",
              "  <thead>\n",
              "    <tr style=\"text-align: right;\">\n",
              "      <th></th>\n",
              "      <th>area_type</th>\n",
              "      <th>availability</th>\n",
              "      <th>location</th>\n",
              "      <th>size</th>\n",
              "      <th>society</th>\n",
              "      <th>total_sqft</th>\n",
              "      <th>bath</th>\n",
              "      <th>balcony</th>\n",
              "      <th>price</th>\n",
              "    </tr>\n",
              "  </thead>\n",
              "  <tbody>\n",
              "    <tr>\n",
              "      <th>0</th>\n",
              "      <td>Super built-up  Area</td>\n",
              "      <td>19-Dec</td>\n",
              "      <td>Electronic City Phase II</td>\n",
              "      <td>2 BHK</td>\n",
              "      <td>Coomee</td>\n",
              "      <td>1056</td>\n",
              "      <td>2.0</td>\n",
              "      <td>1.0</td>\n",
              "      <td>39.07</td>\n",
              "    </tr>\n",
              "    <tr>\n",
              "      <th>1</th>\n",
              "      <td>Plot  Area</td>\n",
              "      <td>Ready To Move</td>\n",
              "      <td>Chikka Tirupathi</td>\n",
              "      <td>4 Bedroom</td>\n",
              "      <td>Theanmp</td>\n",
              "      <td>2600</td>\n",
              "      <td>5.0</td>\n",
              "      <td>3.0</td>\n",
              "      <td>120.00</td>\n",
              "    </tr>\n",
              "    <tr>\n",
              "      <th>2</th>\n",
              "      <td>Built-up  Area</td>\n",
              "      <td>Ready To Move</td>\n",
              "      <td>Uttarahalli</td>\n",
              "      <td>3 BHK</td>\n",
              "      <td>NaN</td>\n",
              "      <td>1440</td>\n",
              "      <td>2.0</td>\n",
              "      <td>3.0</td>\n",
              "      <td>62.00</td>\n",
              "    </tr>\n",
              "    <tr>\n",
              "      <th>3</th>\n",
              "      <td>Super built-up  Area</td>\n",
              "      <td>Ready To Move</td>\n",
              "      <td>Lingadheeranahalli</td>\n",
              "      <td>3 BHK</td>\n",
              "      <td>Soiewre</td>\n",
              "      <td>1521</td>\n",
              "      <td>3.0</td>\n",
              "      <td>1.0</td>\n",
              "      <td>95.00</td>\n",
              "    </tr>\n",
              "    <tr>\n",
              "      <th>4</th>\n",
              "      <td>Super built-up  Area</td>\n",
              "      <td>Ready To Move</td>\n",
              "      <td>Kothanur</td>\n",
              "      <td>2 BHK</td>\n",
              "      <td>NaN</td>\n",
              "      <td>1200</td>\n",
              "      <td>2.0</td>\n",
              "      <td>1.0</td>\n",
              "      <td>51.00</td>\n",
              "    </tr>\n",
              "  </tbody>\n",
              "</table>\n",
              "</div>\n",
              "      <button class=\"colab-df-convert\" onclick=\"convertToInteractive('df-36a7ee2e-e6ff-45a5-9832-f65ad19b988b')\"\n",
              "              title=\"Convert this dataframe to an interactive table.\"\n",
              "              style=\"display:none;\">\n",
              "        \n",
              "  <svg xmlns=\"http://www.w3.org/2000/svg\" height=\"24px\"viewBox=\"0 0 24 24\"\n",
              "       width=\"24px\">\n",
              "    <path d=\"M0 0h24v24H0V0z\" fill=\"none\"/>\n",
              "    <path d=\"M18.56 5.44l.94 2.06.94-2.06 2.06-.94-2.06-.94-.94-2.06-.94 2.06-2.06.94zm-11 1L8.5 8.5l.94-2.06 2.06-.94-2.06-.94L8.5 2.5l-.94 2.06-2.06.94zm10 10l.94 2.06.94-2.06 2.06-.94-2.06-.94-.94-2.06-.94 2.06-2.06.94z\"/><path d=\"M17.41 7.96l-1.37-1.37c-.4-.4-.92-.59-1.43-.59-.52 0-1.04.2-1.43.59L10.3 9.45l-7.72 7.72c-.78.78-.78 2.05 0 2.83L4 21.41c.39.39.9.59 1.41.59.51 0 1.02-.2 1.41-.59l7.78-7.78 2.81-2.81c.8-.78.8-2.07 0-2.86zM5.41 20L4 18.59l7.72-7.72 1.47 1.35L5.41 20z\"/>\n",
              "  </svg>\n",
              "      </button>\n",
              "      \n",
              "  <style>\n",
              "    .colab-df-container {\n",
              "      display:flex;\n",
              "      flex-wrap:wrap;\n",
              "      gap: 12px;\n",
              "    }\n",
              "\n",
              "    .colab-df-convert {\n",
              "      background-color: #E8F0FE;\n",
              "      border: none;\n",
              "      border-radius: 50%;\n",
              "      cursor: pointer;\n",
              "      display: none;\n",
              "      fill: #1967D2;\n",
              "      height: 32px;\n",
              "      padding: 0 0 0 0;\n",
              "      width: 32px;\n",
              "    }\n",
              "\n",
              "    .colab-df-convert:hover {\n",
              "      background-color: #E2EBFA;\n",
              "      box-shadow: 0px 1px 2px rgba(60, 64, 67, 0.3), 0px 1px 3px 1px rgba(60, 64, 67, 0.15);\n",
              "      fill: #174EA6;\n",
              "    }\n",
              "\n",
              "    [theme=dark] .colab-df-convert {\n",
              "      background-color: #3B4455;\n",
              "      fill: #D2E3FC;\n",
              "    }\n",
              "\n",
              "    [theme=dark] .colab-df-convert:hover {\n",
              "      background-color: #434B5C;\n",
              "      box-shadow: 0px 1px 3px 1px rgba(0, 0, 0, 0.15);\n",
              "      filter: drop-shadow(0px 1px 2px rgba(0, 0, 0, 0.3));\n",
              "      fill: #FFFFFF;\n",
              "    }\n",
              "  </style>\n",
              "\n",
              "      <script>\n",
              "        const buttonEl =\n",
              "          document.querySelector('#df-36a7ee2e-e6ff-45a5-9832-f65ad19b988b button.colab-df-convert');\n",
              "        buttonEl.style.display =\n",
              "          google.colab.kernel.accessAllowed ? 'block' : 'none';\n",
              "\n",
              "        async function convertToInteractive(key) {\n",
              "          const element = document.querySelector('#df-36a7ee2e-e6ff-45a5-9832-f65ad19b988b');\n",
              "          const dataTable =\n",
              "            await google.colab.kernel.invokeFunction('convertToInteractive',\n",
              "                                                     [key], {});\n",
              "          if (!dataTable) return;\n",
              "\n",
              "          const docLinkHtml = 'Like what you see? Visit the ' +\n",
              "            '<a target=\"_blank\" href=https://colab.research.google.com/notebooks/data_table.ipynb>data table notebook</a>'\n",
              "            + ' to learn more about interactive tables.';\n",
              "          element.innerHTML = '';\n",
              "          dataTable['output_type'] = 'display_data';\n",
              "          await google.colab.output.renderOutput(dataTable, element);\n",
              "          const docLink = document.createElement('div');\n",
              "          docLink.innerHTML = docLinkHtml;\n",
              "          element.appendChild(docLink);\n",
              "        }\n",
              "      </script>\n",
              "    </div>\n",
              "  </div>\n",
              "  "
            ]
          },
          "metadata": {},
          "execution_count": 14
        }
      ]
    },
    {
      "cell_type": "code",
      "source": [
        "df.shape"
      ],
      "metadata": {
        "colab": {
          "base_uri": "https://localhost:8080/"
        },
        "id": "zu91FWPXpDX3",
        "outputId": "7fb5dee6-47ef-433c-8ed1-ea02d17b1fc1"
      },
      "execution_count": 9,
      "outputs": [
        {
          "output_type": "execute_result",
          "data": {
            "text/plain": [
              "(13320, 9)"
            ]
          },
          "metadata": {},
          "execution_count": 9
        }
      ]
    },
    {
      "cell_type": "code",
      "source": [
        "df.columns"
      ],
      "metadata": {
        "colab": {
          "base_uri": "https://localhost:8080/"
        },
        "id": "EG7Jd6W3YJde",
        "outputId": "b70ceb60-6ae5-4665-93ca-d6695759e250"
      },
      "execution_count": 7,
      "outputs": [
        {
          "output_type": "execute_result",
          "data": {
            "text/plain": [
              "Index(['area_type', 'availability', 'location', 'size', 'society',\n",
              "       'total_sqft', 'bath', 'balcony', 'price'],\n",
              "      dtype='object')"
            ]
          },
          "metadata": {},
          "execution_count": 7
        }
      ]
    },
    {
      "cell_type": "code",
      "source": [
        "for obj in catg:\n",
        "  print(\"{} sets {}\".format(obj,set(df[obj])))"
      ],
      "metadata": {
        "colab": {
          "base_uri": "https://localhost:8080/"
        },
        "id": "EzVnaYlZYJbC",
        "outputId": "06eb5629-8656-4719-a7d8-dc52ac5bea5f"
      },
      "execution_count": null,
      "outputs": [
        {
          "output_type": "stream",
          "name": "stdout",
          "text": [
            "area_type sets {'Plot  Area', 'Built-up  Area', 'Super built-up  Area', 'Carpet  Area'}\n",
            "location sets {nan, 'Shree Ananth Nagar Layout', 'Langford Gardens', '1st Block HRBR Layout', 'Balagere', 'BTM 4th Stage', 'sarjapura main road', 'Ramanjaneyanagar', 'Banashankari 6th stage , 2nd block', 'Udaya Nagar', 'Pattanagere', 'Chaitanya Ananya', 'Nagaraja Garden', ' Bhoganhalli', 'Michael Palaya', 'Achins Road', 'Domlur', 'Kothannur', 'Thanisandra', 'Attiguppe', 'Laxmi Sagar Layout', 'Syndicate Bank Colony', 'Huskur', 'Sarvabhouma Nagar', 'Murugeshpalya', 'Kanakapura Main Road', 'Devi Nagar', 'Sanjeevini Nagar', 'Sadhguru Layout', 'Teachers Colony', 'Bilal Nagar', 'Kyalasanahalli', 'frazertown', 'Sanne Amanikere', 'IVC Road', 'Immadihalli', 'Sabari Nagar', 'NRI Layout', '4th Block HBR Layout', 'GKW Layout', 'Sathya Layout', '3rd Block Hrbr Layout', 'Dodda Nekkundi Extension', 'Hosakerehalli', 'ITI Employees Layout', 'Rahat Bagh', 'High grounds', 'KSRTC Layout', 'Anand nagar', 'Kodbisanhalli', 'Hennur Busstop', 'Tata Nagar', 'Vadarpalya', 'Binnamangala', 'Ramamohanapuram', 'PNS Layout', 'Bidrahalli', 'Bank Of Baroda Colony', 'Indiranagar HAL 2nd Stage', 'Nagarbhavi Garden Villas Layout', 'Chikka Tirupathi', 'AGS Layout', 'Canara Bank Layout', 'KAMAKIYA', 'VGP Layout', 'Chikbasavanapura', ' Basavangudi', 'Banashankari 6th Stage ,Subramanyapura', 'Ramakrishnappa Layout', 'Nallurhalli', 'Cunningham Road', 'Wheelers Road', 'Kengeri Satellite Town', 'Bettahalsoor', 'Kengeri Hobli', 'Ramamurthy Nagar', 'Anathanagar', 'Doddanekundi', 'HAL 2nd Stage', 'Kempapura', 'Bisuvanahalli', 'RK Layout 2nd Stage', 'Lakkasandra', 'Bandepalya', 'T.C. Palya', 'BSM Extension', 'Sri Venkateshpura Layout', '3rd Block HBR Layout', 'Thyagaraja Nagar', 'manyata', 'Kothnur Narayanapura', 'Raja Rajashweri Nagar', 'Whitefield, ', 'Karuna Nagar', 'Vaishnavi Layout', 'Kalhalli', 'Fraser town', 'Pulkeshi Nagar', '1st Block BEL Layout', 'Bank Avenue', 'Addischetan Layout', 'BTM 2nd Stage', 'Bharat Nagar', 'Bharathi Nagar', 'Karnataka Shabarimala', 'Hebbal', 'Vijaya Bank Colony', 'Gollarahatti', 'Manayata Tech Park', 'Green Garden Layout', 'Jaya Mahal layout', 'Suddaguntepalya', 'M C Layout', 'Hosa Road', 'Javarandoddi', 'Thanisandra main road', 'Ncpr Industrial Layout', 'Muneshwara Nagar', 'Prakruthi Township', 'Sunkadakatte', 'HOSUR RMAIN ROAD', 'Gnana Bharathi', 'Mukkutam Nagar', 'Bapuji Layout', 'JP nagar 9th Phase, ', 'Devasandra Extension', 'Canara Bank Colony', 'Langford Town', 'Bommasandra Industrial Area', 'Gidada Konnenahalli', '2nd phase jp nagar, jp nagar', 'Judicial Layout', 'Sadaramangala', 'Vijayabank bank layout', 'Binny Pete', 'kanakapura main road', 'Maruthi Sevanagar', 'Whitefield ECC Road', 'Vijinapura', 'Malleshwaram', 'Amblipura', 'Dodda Kempaiah Layout', 'Sai Gardens', 'Maruthi nagar kogilu', '1Hoysalanagar', 'Badavala Nagar', 'SHANTHINAGAR', 'Munivenkatppa Layout', 'Baba Nagar', 'Jogupalya', 'TC Palaya', 'Chikkabettahalli', 'Basaveswarnagar', 'Subramanyanagar', 'Gunjur', 'Millers Road', 'MRCR Layout', 'Ramaswamy Palya - Kammanahalli Main Road', 'Chikkaballapur', 'Vidya Nagar', 'Patelappa Layout', 'KR Garden', 'Jakkuru Layout', 'Govindapura', 'Kaikondrahalli', 'Housing Board Layout Vijay Nagar', 'Maruthi Layout', 'Rayasandra', '1st Block Jayanagar', \"St. John's Road\", 'Richards Town', 'Electronic city phase 1, ', 'Puttappa Layout', 'BTM Layout 2nd Stage 1st Phase', ' Whitefield', 'Venkateswara Nagar', 'Doddabele', 'Cleveland Town', 'Vijay Nagar', 'BTM Layout 1stage 9th Main', 'Bande Nallasandra', 'HMT Layout', 'Nagawara Junction', 'Kirloskar Layout', 'Carmelaram', 'Devarabisanahalli', 'BEL Layout', 'Bommenahalli', 'Malleshpalya', 'Kashi Nagar', 'Jakkasandra Extension', 'Akash Nagar', 'MS Pallya', 'Sonam Layout', 'Jaraganahalli Jp Nagar Post', 'Dasappa Layout', 'BTM Layout', 'Kallumantapa', 'Ckikkakammana Halli', 'Devara Jeevanahalli', '2nd Block Koramangala', 'Moodalapalya', 'Pattandur Agrahara', 'Attur Layout', 'BEL Road', 'Seshadripuram', 'Annapurneshwari Nagar', 'Abshot Layout', 'Subash Nagar', 'RPC layout', 'Kengeri Satellite Town ( BDA SITE)', 'KR Puram', 'Kullappa Colony', '2nd Phase Judicial Layout', 'Krishna Reddy Layout', '5th Block Hbr Layout', 'J.P.nagar 6th Phase.Sarakki Nagar', 'Kadugodi', 'adigondanhalli', 'Arasanakunte', 'Near Electronic City, ', 'Jakkasandra', 'Thirupalya', 'Dwaraka Nagar', 'Kamakshipalya', 'Banagirinagar', 'Indira Nagar', 'Off Bannergatta Road', 'Sindhi Colony', 'Srirampuram', 'Bhagyalakshmi Avenue', 'Kammasandra', 'Meenakunte', 'Rajapura', 'Begur Road', 'Shauhardha Layout', 'Manjunath Nagar', 'Jnana Ganga Nagar', 'Somasundara Palya', 'Hunasamaranahalli', '1st Block HBR Layout', 'Chuchangatta Colony', 'Kundalahalli', 'Doddagubbi', 'JP Nagar 7th Phase, ', 'Gopal Reddy Layout', 'Prestige Sunrise', 'arudi', 'Anjappa Layout', 'Balaji Gardens Layout', 'Bhattarahalli', 'Raghavendra Layout', 'Garebhavipalya', 'Remco Bhel Layout', 'Kodigehaali', 'CV Raman Nagar', 'Doddabanahalli', 'sankeswari', 'Kadubeesanahalli', 'Gangondanahalli', 'Ananthanagar Phase 1,Electronic City , phase 2', '6th block banashankari 3rd stage, 100 feet ORR', 'Jeevanhalli', '3rd Block Koramangala', 'Omarbagh Layout', '8th block Koramangala', 'Pampa Extension', '1Kasavanhalli', 'Hegde Nagar', 'Veerabhadra Nagar', 'Chinnapanahalli', 'Varthur Road, ', 'Byadarahalli', 'Outer Ring Road East', 'Channasandra Layout', 'Gottigere', 'P&T Layout', 'beml layout, basaveshwara nagar', 'Govindpura', 'Iggalur', 'Dooravani Nagar', 'Kumara Park', 'Doddaballapur', 'Vimanapura', 'Shanthala Nagar', 'Duddanahalli', 'Naidu Layout', 'Venkatapura', 'SBM Colony', 'Dwarka Nagar', 'Jagajyothi layout', 'Shivanagar', 'MCECHS  layout', 'Subramanyapura', 'Hosur Road', 'RMV', 'Thubarahalli', 'HOSUR MAIN ROAD', 'kanakapura road', 'Hsr layout sector3', 'Kanakapura main  Road', 'Basnashankari,6th stage,', 'Ganga Nagar Extension', 'Ganesha Block', 'Sundara Nagar', 'Kudlu Village, ', 'Kadabagere', 'Srinivas Colony', 'Varanasi', 'Chikkakannalli', 'Air View Colony', 'Ananthapura, T C palaya Main Road', 'Escorts Colony', 'Tilak Nagar', 'Okalipura', 'Kumarapalli', '1st Phase JP Nagar', 'Anandapura', 'Chokkasandra', 'Konappana Agrahara', 'Tasker Town', 'Ankappa Layout', 'Alur', 'Rajaji Nagar', 'Tippenahalli', 'Geddalahalli', 'Mathikere SBM colony', 'Soundarya Layout', 'Dinnur', 'Raja Rajeshwari Nagara', 'Jigani', 'PC Palaya', ' south', 'Hennur Bande', 'Chikkalasandra', 'Kalkere Channasandra', 'Bettadasanapura', '7th Block Koramangala', 'Kudlu Gate', '1 Immadihalli', 'Banashankari Stage II', 'Aavalahalli', 'Silver Springs Layout', 'Brookefield', 'Vyalikaval', 'Amruthahalli', 'Chambenahalli', 'Uttarahalli', 'Tumkur Road', 'Chowdeshwari Layout', 'Sathanur', 'Xavier Layout', 'Dasanapura', 'Thurahalli', 'Sector 1 HSR Layout', ' Devarabeesana Halli', 'akshaya nagar t c palya', 'Kathriguppe', 'Kumaraswami Layout', 'Puttanahalli', 'Arekempanahalli', 'Bhoopsandra', 'Channasandra', 'Poorna Pragna Layout', 'Jayanagar', 'Shingapura', 'RR Layout', 'Rahmath Nagar', 'Vishveshwarya Layout', 'RMV Extension', 'Doddabidrakallu', 'Goraguntepalya', 'M.G Road', 'Begur', 'Harappanahalli', 'Popular Colony', 'whitefiled', 'Bannerghatta', '1st Stage Radha Krishna Layout', 'Vibhutipura Extension', 'Prashanth Nagar', 'Bennigana Halli', 'Challaghatta', 'NS Palya', 'Sadanand Nagar', 'Somanna Garden', 'Masjid e Alkareem', 'Uvce Layout', 'J C Nagar', 'Ilyas Nagar', 'Banashankari3rd stage bigbazar', 'Doctors Layout', 'T C Palya main Road', 'Jp nagar 8th Phase .', 'Nanjappa Layout', 'Muthurayya Swamy Layout', '4th Block Jayanagar', 'Chikka Banaswadi', 'Basaveshwara Nagar', 'Annaiah Reddy Layout', 'Akshayanagara East', 'Munnekollal', 'Surabhi Layout', 'Someshwara Layout', 'Rachenahalli', 'Horamavu Agara', 'Manonarayanapalya', 'RWF West Colony', 'Gowdanapalya', 'Veersandra', 'BDS Layout', 'Vinayak Nagar', '4 Bedroom Farm House in Bagalur', 'sapthagiri Layout', 'Tirumanahalli', 'Rajiv Gandhi Nagar', 'Nanjappa Layout Vidyaranyapura', 'Ayappa Nagar', 'LB Shastri Nagar', 'Jay an agar 4 T Block', 'Rustam Bagh Layout', 'BEML Layout 5th Stage', 'Coconut Garden', 'Doddanakundi Industrial Area 2', 'Shankarapuram', 'pavitra paradise', 'S R Layout', 'Sri Balaji Krupa Layout', 'Lakshmiamma Garden', 'Kenchanehalli R R Nagar', 'Gollarapalya Hosahalli', 'NGR Layout', 'Richmond Town', 'Milk Colony', 'Coconut Grove Layout', 'Rajarajeshwari Nagara', 'Sultan Palaya', 'Bagalur Main Road', 'Pai Layout', 'Rajarajesheari nagar', 'KPC Layout', 'Banashankari Stage I', 'Banagiri Nagar', '5 Bedroom Farm House in Lakshmipura', 'Vinayaka Layout', 'Jakkur Plantation', 'Mahalakshmi Puram', 'Prakruthi Nagar', 'Nagarbhavi  BDA Complex', 'Sector 3 HSR Layout', 'Bommanahalli', 'Chennappa Layout', 'Kodihalli', 'Giri Nagar', 'Raghavendra Nagar', '1A Block Koramangala', 'Chamrajpet', 'Virudhu Nagar', 'Sahyadri Layout', 'Hoodi Circle, ', '5th Phase JP Nagar', 'Virupakshapura', 'Udayapur Village', 'Maragondanahalli', 'Allalasandra', 'Kanakpura Road', 'Uday Nagar', 'Margondanahalli', 'Bethel Nagar', 'Tharabanahalli', '1st Block Koramangala', 'Rajankunte', 'B Narayanapura', 'Govindaraja Nagar Ward', 'Vittal Mallya Road', 'Ramanagara Channapatna', 'Pragathi Nagar', 'Nobo Nagar', '2nd Stage Arekere Mico Layout', 'Anand Nagar', 'Whitefield', 'kg halli jalhalli west', 'Frazer Town', ' Anekal', 'Vishwapriya Nagar', 'Thigalarapalya', 'Raja Rajeshwari Nagar', 'Thanisandra Main Road, ', 'Church Street', 'Kanakapura Road, ', 'Varsova Layout', 'OMBR Layout', 'Bileshivale', 'Bagalur', 'Double Road', 'Arehalli', 'Veer Sandra', 'Vasanthapura', 'Vayunandana Layout', 'Kannur', 'singapura paradise', 'Gopalkrishna Nagar', 'West of Chord Road', 'Attibele', 'Arishinakunte', 'Billapura', 'Lakshmipura Vidyaanyapura', 'ravindra nagar, T.dasarahalli peenya', 'Gandhi Nagar', 'Basava Nagar', 'KUDLU MAIN ROAD', 'Kavika Layout', 'Tejaswini Nagar', ' Electronic City', 'Adugodi', 'rr nagar', 'JakkurYelahanka', 'Neelasandra', 'Banashankari 6th Stage', 'Satyasaibaba Layout', 'Malimakanapura', 'Friends Colony', 'Race Course Road', ' Rachenahalli', 'Maruthi HBCS Layout', 'Byatarayanapura', 'Ambedkar Colony', 'Cholanayakanahalli', 'Jnanabharathi Layout', 'Balepet', 'Defence Layout', 'Jinkethimmanahalli', 'Gkvk Layout', 'Sector 2 HSR Layout', 'Tavarekere', 'Lakshmipura', 'Keerthi Layout', 'Rajagopala Nagar', '2nd Block Bel Layout', 'T G extension', 'Gaundanapalya', 'Ramagondanahalli', 'Electronics City Phase 1', 'Victoria Layout', 'Ring Road Nagarbhavi', 'Celebrity Paradise Layout', 'Gaurava Nagar', 'Off Bannergatta road', 'Hegganahalli', 'DUO Layout', 'HSR Layout', 'Vittal Nagar', 'Raghuvanahalli', 'Basavanna Nagar', 'Sadashiva Nagar', 'Bidere Agarahara, Behind Safal market', '6th Phase JP Nagar', 'Yediyur', 'Dollars Layout', 'Yelenahalli', 'Hanuman Nagar', 'Crimson Layout', 'Hommadevanahalli', 'AECS Layout', 'Doddakallasandra', 'Hadosiddapura', 'Off Sarjapur road, ', 'New Thippasandra', 'Defence Colony', 'Garden Layout', 'Sarjapur', 'Anugrah Layout', 'Maithri Layout', 'RBI Layout', 'Yelahanka', 'Peenya', 'Maheswari Nagar', 'Sampangirama Nagar', 'Panathur', 'Billamaranahalli', 'Sunder Ram Shetty Nagar', 'Jayamahal Extension', 'Kurubarahalli', 'Indra Nagar', 'Mathikere', '7th Phase JP Nagar', 'Ramchandrapuram', 'Benson Town', 'Kachanayakanahalli', 'Phase 1 Kammasandra', 'Hallehalli', 'Seegehalli', 'Ferrar Nagar', 'Kadugondanahalli', '1 Annasandrapalya', 'Old Town', 'Kengeri Satellite Town KHB Apartment', 'Chokkahalli', 'Iblur Village', 'Palace Road', 'Cubbon Road', 'Ambalipura', 'Basavanagara', 'Nandi Hills', 'Bapuji Nagar', 'Shirdi Sai Nagar', 'Raja Rajeshwari Nagar 5th Stage', 'HRBR Layout', 'Thirumalashettyhally', '1Hanuman Nagar', 'Punappa Layout', 'Vasantapura main road', '6th block Koramangala', 'Sir M V Nagar', 'Nandi Durga Road', 'Babusapalaya', 'Richmond Road', 'Anekal', 'Yemlur', 'Kasthuri Nagar East Of NGEF', 'Mylasandra', 'Nrupathunga Nagar', 'St Thomas Town', 'Gubbi Cross, Hennur Main Road', 'Govindraja Nagar', 'Indira Nagar 3rd Stage', 'Banashankari Stage VI', 'JP Nagar 8th Phase, ', 'Hosahalli', '2Electronic City Phase II', 'Anjana Nagar', 'Kattigenahalli', 'BHEL Layout', 'Sompura', 'Basavanapura', 'Dena Bank Colony', 'Sulthangunta', 'Ashwini layout', 'Parappana Agrahara', 'Thavarekere', 'Banashankari Stage III', 'Vijaya Bank Layout', 'Old Airport Road', 'Atmananda Colony', 'Kalkere', 'EPIP AREA, WHITEFIELD', 'Hanumantha Nagar', 'Jayanagar, ', 'Venugopal Reddy Layout', 'Kundalahalli Colony', 'Kuvempu Nagar', 'Narasapura', 'Mahaganapathy Nagar', 'Hongasandra', 'Telecom Layout', 'Sneha Colony', 'GB Palya', 'Nagavarapalya', 'Shantiniketan Layout', 'SMV layout', 'Craig Park Layout', 'Vivek Nagar', 'Devanahalli', 'Nagavara', 'Kanakapur main road', 'Hoskote', 'Upkar Layout', 'Sarjapur  Road', 'Rajanna Layout', 'Bikasipura', 'Banashankari Stage V', 'Talaghattapura', 'BAGUR ROAD', 'Marasandra', 'BCMC Layout', 'Manjunatha Layout', 'Gopalapura', 'Bhuvaneswari Nagar', 'Bidadi', 'SARJAPUR BAGALUR ROAD', 'Jayanti Nagar', 'Chikkagubbi', 'Herohalli', 'Wilson Garden', '8th Phase JP Nagar', 'Ardendale', 'Brigade Road', 'P&T Colony', 'Sunkan palya', 'T.C PALYA', 'Hosakerehalli Layout', 'RMV extension stage 2, rmv extension', 'Ullal Uppanagar', 'Halanayakanahalli', 'Nagondanahalli', 'Samethanahalli', 'Indranagar  100ft road defence colony', 'Jai Bheema Nagar', 'J P Nagar 7th Phase Ramayya City', '1 Giri Nagar', 'Narayanappa Layout', 'Akshaya Nagar', 'Anantapura', 'Udayagiri', 'Doddanakunte', 'BCC Layout', 'LIC Colony', 'Devarabeesana Halli', 'Kithaganur', '2 Bedroom Furnished Farm House in Kolar Road', '5th Stage BEML Layout', 'Mallasandra', 'Kathriguppe IV Phase', 'RMC YARD', 'T Dasarahalli', 'Akshaya Vana', 'Maruthi Nagar', 'Classic Paradise Layout', 'Prakash Nagar', 'Ejipura', 'Ngef Layout', 'M V Extenstion', 'Meenakshi Layout', 'cooketown', 'Venkatadri Layout', 'Gollahalli', 'Cooke Town', '3rd Phase JP Nagar', 'Chennammanakere Achukattu', 'Jaymahal Road', 'Ramesh Nagar', 'Cottonpet', 'Horamavu Banaswadi', 'Badrappa Layout', 'Kirloskar layout, Basaveshwarnagar', 'Beml layout, Rajarajeshwari nagar', 'K N Extension', '2nd Phase JP Nagar', 'Vasanthpura', 'Alfa Garden Layout', 'Krishna Nagar', 'ISRO Layout', 'Bahubali Nagar', 'Jyothi Nagar', 'T R Mill Road', 'KEB Colony', 'Rajiv Nagar', 'Vajarahalli', ' Devarachikkanahalli', 'Pulikeshi Nagar', 'Devasthanagalu', 'Rest House Road', 'R.T. Nagar', 'Lakkasandra Extension', 'Medi Agrahara', 'Tunganagara', 'Vijaypura', 'Suryanagar', 'Bhoganhalli', 'K G Colony', 'Byagadadhenahalli', 'Jaya Nagar East', 'Dodda Nekkundi', 'Anjanapura', 'Kodipalya', 'Vittasandra', 'Padmanabhanagar', 'Geetanjali Layout', 'Sathya Sai Layout', '4th Phase JP Nagar', 'Hosapalya', 'bsk 6th stage 2ad block near sri conversation hall', 'Muthyala Nagar', 'Zuzuvadi', 'manyata tech park', 'Vasanth nagar', 'Andrahalli', 'B Y Raveshwara Nagar', 'Hessarghatta', 'Banaswadi, ', 'Viswajit Layout', 'Mariyannapalya', 'Chikkanahalli', 'Varthur', 'Devanahalli Road', 'Mahadevpura', 'Chikkasandra', 'MEI layout, Bagalgunte', 'Hennur Road', 'Sampige Layout', 'Subbannaiah Palya', 'Adarsh Nagar', 'Domlur Layout', 'Budigere', 'Lakshminarayana Pura', 'Vishwapriya Layout', 'Kengeri Satellite Town Stage II', 'Abbigere', 'Gunjur Palya', 'Thyagraj Nagar', 'Guni Agrahara', 'KHB Colony Extension', 'Marathahalli', 'Kudlu', 'Sarvobhogam Nagar', 'anjananager magdi road', '5th Block Jayanagar', 'Poornapragna Housing Society Layout', 'Ananth Nagar', 'Shirdi Sai Layout', 'Harohalli', 'Yelahanka,MVIT college', '4th T block Jayanagar', 'Lalbagh Road', 'Ganga Nagar', 'Kadarenahalli', 'Bellandur', 'Naganathapura', 'Nyanappana Halli', 'Sugama Layout', 'Koramangala', 'Glass Factory Layout', 'Yemlur, Old Airport Road, ', 'Stage-4 Bommanahalli', 'EPIP Zone', 'Guddadahalli', 'Electronic City', 'Sahakara Nagar', 'Rukmaiah Layout', 'Hosahalli Extension', 'Manganahalli', 'HSR Layout 7th sector, ', 'AGB Layout', '1Channasandra', 'Hal old airport road', 'Agrahara Dasarahalli', 'CMH Road', 'Basapura', 'Dommasandra', 'Virgonagar', 'Motappa Layout', 'Kenchenhalli', 'Mallappa Layout', 'Vishwanatha Nagenahalli', 'Infantry Road', 'Koppa', 'Singapura Village', 'Konanakunte', 'Shampura', 'Ullal Road', 'Anekal - Hosur Road', 'Virat Nagar', 'Coffee Board Layout', 'NR Colony', 'Hanumagiri', '12th cross srinivas nagar banshankari 3rd stage', 'Kanakadasa Layout', 'CQAL Layout', 'Ashok Nagar', 'Brindavan Layout', 'Basavangudi', 'Lingarajapuram', 'Austin Town', 'Shanthi Pura', 'Doctor Layout Rayasandra', 'Shanthi Layout', 'Green View Layout', 'Amruthnagar', 'Postal Colony', 'Sector 4 HSR Layout', 'Bull Temple Road', 'Kasavanhalli', 'Yelahanka New Town', 'Kodanda Reddy Layout', '1 Ramamurthy Nagar', 'Banashankari 2nd Stage', 'Dodsworth Layout', 'Dasarahalli', 'Jalahalli', 'Lake City', 'T c palya', 'Pillahalli', 'Abbaiah Reddy Layout', 'Jalahalli West', 'Medaralli', 'T K Reddy Layout', 'ITPL', 'Weavers Colony', 'Reliaable Tranquil Layout', 'Hulimavu', 'Kammagondahalli', 'Chelekare', 'Bellari Road', 'Rajarajeshwari nagar', 'Mullur', 'Kariyammana Agrahara', 'Keshava Nagar', 'Malur Hosur Road', 'VHBCS Layout', 'Dollars Colony', '6th Block Jayanagar', '1st Stage Domlur', 'Chennammana Kere', 'D Group Employees Layout', 'Cambridge Layout', 'Mudalpalaya', 'asha township, off hennur road', 'Lakshminarayanapura, Electronic City Phase 2', 'Madiwala', '4th Block Koramangala', 'Byappanahalli', '3rd Block Banashankari', 'HBR Layout', '3rd Block Jayanagar', 'Akshya Nagar', 'BAGUR', 'banashankari stage iii sa', 'Shakthi Nagar', 'Basaveshwara Nagar Yelahanka', 'Rajasree Layout', 'Kumbhena Agrahara', 'Jalahalli East', 'Park View Layout', 'Shettigere', 'Electronic City Phase 1, ', 'Bhuvaneshwari Nagar', 'Sadahalli', 'Bharathnagar', 'Kumbena Agrahara', 'Thirumenahalli', 'Konanakunte Cross', 'Gattigere', 'Sundar Ram Shetty Nagar', 'Vidyapeeta', 'Seethappa Layout', 'basaveshwarnagar', 'Amco Colony', 'Chikkathoguru', 'Rainbow Drive', 'Anwar Layout', 'Whietfield, ', 'Lavakusha Nagar', 'Arekere', 'Ulsoor', 'HAL Layout', 'Bendiganahalli', 'Kalasipalya', 'Green Glen Layout', 'Chamundi Nagar', 'Sector 7 HSR Layout', 'Pai layout , Mahadevapura', 'Maragondana Halli, kr puram, old madras road', 'Vidhyanagar Cross', 'Electronic City Phase II', 'Byrasandra', 'Srinagar', 'Tala Cauvery Layout', 'SRINIVASAPURA', 'Banashankari 2 nd Stage', 'Grihalakshmi Layout', 'Silk Board', 'Kuvempu Layout', 'Chickpet', 'HAL 3rd Stage', 'Shetty Halli', '6th Block Rajaji Nagar', 'Varthur Road', 'Adityanagar', 'Madanayakahalli', 'Panathur Road, ', 'Ramanashree Enclave', 'K R C kothanur', 'Ashwathnagar', 'Junnasandra', 'Jayamahal', 'Vinayaka Nagar', 'Gulakamale', 'Gandhi Bazar', 'Huttanahalli', 'GD Layout', 'N R Layout', 'Rajarajeshwarinagar', 'Sadduguntepalya', 'RMV 2nd Stage', 'Kothnoor Dinne', 'Nagashetty Halli', 'Belathur', 'Sonnenahalli', 'Asthagrama Layout', 'Kanakapura', 'Hanumanth Nagar', 'mvj engineering college', '2nd Block Hbr Layout', 'MLA Layout', '3rd Stage Raja Rajeshwari Nagar', 'Doddathoguru', 'Geleyara Balaga Layout', 'Yelachenahalli', 'Akshayanagara West', 'MM Layout', '2nd Stage Nagarbhavi', 'Chellikere', 'Kasturi Nagar', 'Vidyaranyapura', 'B Channasandra', 'Kambipura', 'Green Woods Layout', 'Amarjyothi Colony', 'Manorayana Palya', 'Chandra Layout', 'BEML Layout', 'Tindlu', 'OLd Gurappanapalya', 'SK Garden', 'Chikkabanavar', 'Tigalarpalya', 'Sanjay nagar', 'near Ramanashree California resort', 'KR Layout', 'CR Layout', 'Amam Enclave Layout', 'Bommasandra', 'Shivaji Nagar', 'Mathikere Extension', 'Gattahalli', 'Shanti Nagar', 'Harlur', 'Sarjapur Road, ', 'Doopanahalli', 'Chikkadunnasandra', 'Sri Sai Layout', 'TR Mill Road, Chamarajpet', 'Neelamangala', 'Maruthi Extension', 'Vibuthipura', 'Omkar Nagar', 'Esther Enclave Layout', 'manyata park', 'Annapoorneshwari Layout, JP nagar 7th phase', 'Chikkajala', 'Laxminarayana Layout', 'Kengeri', 'white field,kadugodi', 'Divya Unnathi Layout', 'Lingadheeranahalli', 'Nayandanahalli', 'Haralur Road, ', 'KG Halli', 'Koramangala Industrial Layout', ' Banaswadi', 'Subhash Nagar', 'Banashankari', 'Sree Narayana Nagar', 'Nagadevanahalli', 'Hoysalanagar', '3rd Phase Iti Layout', 'Hoodi', 'P Krishnappa Layout', '8th Block Jayanagar', 'Chikka Gowdanapalya.', 'Kamdhenu Nagar', 'Nagasandra', 'Dr Shivarama Karantha Nagar', 'Nehru Nagar', 'Anantapuram', 'Marsur', 'Suragajakkanahalli', 'Srigandada Kaval', 'Mango Garden Layout', 'elachenahalli', 'Jeevan bima nagar', 'Upadhyaya Layout', 'Kacharakanahalli', 'Williams Town', 'Navodaya Nagar', 'Aishwarya Crystal Layout', 'CHIKKATIRUPATHI', 'Dairy Circle', 'Indira Nagar Stage 2', 'Hebbal Kempapura', 'Kaggadasapura', 'JP Nagar', 'Narayanapura', 'Thomas Town', 'Jakkur', 'Lavelle Road', 'Cox Town', 'Cambridge  road', 'Vijayanagar', 'BEML Layout 5th stage', 'Madavara', 'Handenahalli', 'Kada Agrahara', 'Ex-Servicemen Colony Dinnur Main Road R.T.Nagar', 'Kamakya Layout', 'Kaveri Nagar', 'RR Nagar', 'Rammana Layout', 'New Gurappana Palya', 'Byrathi Village', 'Marathi Layout', ' ittamadu', 'Singanayakanahalli', 'Viviani Road', 'Kereguddadahalli', 'Green Domain Layout', 'Ambedkar Nagar', 'Medahalli', 'Mangammanapalya', 'Kathreguppe', 'Gokula Extension', 'D Souza Layout', 'Hennagara', 'Mallathahalli', 'Gulimangala', 'Ashwath Nagar', '2nd Block Hrbr Layout', 'BTM 1st Stage', 'Wajid layout thanisandra', 'Chikkabidarakallu', 'Banashankari 3rd stage, Vivekanandanagar', 'ITI Layout', 'Srinivasa Nagar', 'Himagiri Meadows', 'Gubbalala', 'Banjara Layout', 'Mailasandra', 'Shettihalli', 'Kalena Agrahara', 'CQAL LAYOUT C BLOCK', 'poornaprajna layout', 'Nagarbhavi', 'Behind Don Bosco Church', ' Thanisandra', 'Srirampura', 'Haralur Road', 'Dominic Layout', 'Billekahalli', 'Sidedahalli', 'Yeshwanthpur', 'Kothanur', 'Versova Layout', 'Kumbalgodu', 'Shikaripalya', 'Konena Agrahara', 'Jagadish Nagar', 'Ashirvad Colony', 'Hennur', 'Kamala Nagar', 'Prasanna layout Herohalli', '9th Block Jayanagar', 'Yarandahalli', 'Kammanahalli', 'Near ullas theater', 'Daadys Gaarden Layout', 'Kanakapura  Rod', 'Choodasandra', '2nd Block Jayanagar', 'Sarjapura - Attibele Road', 'Judicial Layout, Kanakapura Road, ', 'Hoodi Layout', 'Venkateshpuram', 'Pillanna Gardens', 'Laggere', 'Kaggalipura', 'Marathalli bridge', '9th Phase JP Nagar', 'Hiremath Layout', 'Bharath Housing Society Layout', 'Old Mangammanapalya Road', 'Byrasandra Extension', 'Kogilu', 't.c palya', 'Ashraya Layout', 'Chandapura', 'Havanur extension', 'Prasanti Nagar', 'Near International Airport', 'Gokaula Extension', 'Vignana Nagar', 'AMS Layout', 'Doddakannelli', 'Sarakki Nagar', 'Sampigehalli', 'Makali', 'Lal Bahadur Shastri Nagar', 'Vikram Nagar', ' Sector 1 HSR Layout', 'Mahalakshmi Layout', 'Hoskote near', 'kamanahalli main road', 'Palace Guttahalli', 'Hormavu', 'vinayakanagar', '7th Block Jayanagar', 'Kaverappa Layout', 'Soppahalli', 'Deepanjali Nagar', 'Singasandra', 'RMV Extension Stage 2', 'Viswapriyanagar.begur Road.bommanahalli.', 'AECS LAYOUT A-BLOCK Singasandra', 'Kenchenahalli', 'Duvasapalya', 'Devanahalli Int. Airport', 'Reliable Woods Layout', 'Nandini Layout', 'Binny Mills Employees Colony', 'Kanakapura Road', 'Bellandur, ', 'Nelamangala', 'Yeshwanthpur Industrial Suburb', 'Marenahalli', 'Agara Village', 'Veerannapalya', 'Sampangi Rama Nagar', 'Ittamadu', 'Gayathri Nagar', 'Nirman Layout', ' Mysore Highway', 'Battarahalli', 'Sector 6 HSR Layout', '1st Stage Indira Nagar', 'Siddapura', 'Old Madras Road', 'Banashankari stage 2', 'Howthinarayanappa Garden', 'Narayana Nagar 1st Block', 'Prithvi Layout', 'Kanaka Nagar', 'Brooke Bond First Cross', 'Narayanappa Garden', 'RTO ullalu', 'Saptagiri Layout', 'Vaderahalli', 'Hullahalli', 'RK Colony', 'Garudachar Palya', 'kadubisnahalli', 'Prasanth Extension', 'Off Sarjapur Road, ', 'Thippasandra', 'Jaladarsini Layout', 'Neeladri Nagar', 'Dodda Banaswadi', 'Dollar Scheme Colony', 'Magadi Road', 'Sri Kanteshwara Nagar', 'Pattegarhpalya', 'Doddabommasandra', 'Kaval Byrasandra', 'Kodathi', 'Doddakammanahalli', 'Amrita Nagar', 'V.V Puram', 'Banaswadi', 'Janatha Colony', 'Dhanalakshmi Layout', 'Mysore Road', '5th block Koramangala', 'Ramamurthy Nagar Extension', 'JCR Layout', 'Vasatha Vallbha Nagar', 'Kannamangala', 'Kodigehalli', 'Nagappa Reddy Layout', 'Kalyan nagar', 'Harsha Layout', 'Chokkanahalli', 'Basvasamithi Layout Vidyaranyapura', 'Papareddipalya', 'Palanahalli', 'Electronic city Phase 1, ', 'Queens Road', 'Volagerekallahalli', 'ECC Road, Whitefield, ', 'Singena Agrahara', 'Ganganahalli', 'B K Nagar', 'Panduranga Nagar', 'Mico Layout', 'Kempegowda Nagar', 'Hennur Gardens', 'Banasawadi, ', 'Lakshmi Layout', 'Devarachikkanahalli', 'Bannerghatta Road', 'Bagalakunte', 'Subramanya Nagar', 'GM Palaya', 'NTI Layout', 'Lottegolla Halli', 'Hagadur', 'Seetharampalya', 'Nanjappa Garden', 'A Narayanapura', 'Brindavan Nagar', 'Avalahalli', 'tc.palya', 'Suraksha Nagar', 'Kodichikkanahalli', 'Annasandrapalya', 'Belatur', 'Roopena Agrahara', 'Chikku Lakshmaiah Layout', 'Vasantha Vallabha Nagar'}\n",
            "size sets {nan, '16 BHK', '13 BHK', '3 BHK', '7 BHK', '19 BHK', '2 Bedroom', '1 Bedroom', '11 Bedroom', '9 BHK', '4 BHK', '6 Bedroom', '10 BHK', '5 Bedroom', '9 Bedroom', '3 Bedroom', '8 BHK', '5 BHK', '14 BHK', '6 BHK', '8 Bedroom', '1 RK', '1 BHK', '7 Bedroom', '43 Bedroom', '10 Bedroom', '12 Bedroom', '2 BHK', '27 BHK', '4 Bedroom', '18 Bedroom', '11 BHK'}\n",
            "society sets {nan, 'Dee 2 P', 'Bamita ', 'Akdorli', 'MVmesle', 'Rosha I', 'SGiewrk', 'Srnumum', 'Shaceop', 'Srhan P', 'HMtesle', 'Anlthmo', 'LuntsAp', 'Niacesa', 'MKllei ', 'GoityEt', 'Prana S', 'Pritehi', 'Myitece', 'Choomu ', 'Raide P', 'Suvasre', 'Siise R', 'Prrry M', 'Raesta ', 'KuisePa', 'Bhide P', 'SNityVe', 'Soodsa ', 'PuilaMi', 'Trade E', 'Orens G', 'IBaveen', 'KrineAq', 'Bhave E', 'PrstaLa', 'Shdhia ', 'ETntsce', 'SryleHo', 'SollaMa', 'Itnaia ', 'Hivesdr', 'Say 3 R', 'SLnssPr', 'Naods W', 'Hiate F', 'BMineis', 'Prarkhi', 'Ozdiaan', 'MIntare', 'Brstark', 'Sosisic', 'MCrds S', 'Jaisemi', 'Courf T', 'Foghaa ', 'N iewak', 'SJcerpe', 'Aaityi ', 'Pyvenas', 'Maowsve', 'ShanaSp', 'VDarmlo', 'SrntsRV', 'Sorisa ', 'Inods A', 'Tenetee', 'Solia D', 'Sryamar', 'Maens G', 'Omy 2es', 'Lelia M', 'Adace P', 'PraleSi', 'KHatsFl', 'Prncyay', 'VHinoel', 'Clntsrt', 'KuncyRe', 'AszarAl', 'Tepleee', 'Sulya A', 'Moquach', 'Kaestid', 'Prora F', 'Assha A', 'Skume R', 'Soarkge', 'Adntsra', 'Theanmp', 'Bilya A', 'Esnamth', 'Atarebe', 'Paony H', 'SNncypa', 'MBodsen', 'Srayatr', 'Rocid P', 'PrrloMo', 'SuanaNa', 'Sholaya', 'VancyRe', 'PrarePa', 'Suashen', 'Mancyi ', 'Vaensia', 'Siace P', 'Gomeseg', 'Vanusn ', 'SReafin', 'SaareNo', 'CLdiaAr', 'Bhgarve', 'Coona A', 'Prmesi ', 'Prillot', 'Baveles', 'Brony H', 'Jyavet ', 'Satle C', 'Ste 2al', 'DSata S', 'Goardth', 'PrpiaSr', 'PaigeMa', 'ShnyeSy', 'Deiten ', 'Aimesya', 'Jae 2hu', 'Shine S', 'SodilDa', 'Socon Z', 'LoLeoen', 'Asncyes', 'Wharl P', 'DSingSt', 'Varve R', 'SLaceda', 'Savar S', 'Krs A C', 'SBoneuc', 'DSsorin', 'Leora E', 'DStra S', 'DSdhiSa', 'Saavean', 'Jae 1hu', 'Sancya ', 'Vanami ', 'SLiewce', 'ZeodsWo', 'AHodsWo', 'Sahtsva', 'Inion P', 'Sisice ', 'DSity S', 'ICoolon', 'Leora D', 'NDionas', 'Diacee ', 'Visom B', 'SNadeAr', 'Mameser', 'Sahanra', 'MSadeed', 'Kinumsh', 'Soral C', 'Hoston ', 'MSureRR', 'Hoeatan', 'Swhtsna', 'Evvan V', 'Ceste C', 'PaantPl', 'Mamesi ', 'SrentAp', 'Saisena', 'Neite T', 'Velas V', 'Puarero', 'Krestee', 'PentyVB', 'S2oveat', 'Maavera', 'SSarlPe', 'Rooodre', 'Aklia R', 'Sriffhi', 'SoitaCa', 'Palanla', 'IBityin', 'Gohts H', 'Prntsax', 'MCtleas', 'NDncysi', 'Soiewre', 'Inntsth', 'Inentva', 'KSliaor', 'Ceeury ', 'Saisei ', 'Prityel', 'SamesHo', 'Juoryma', 'Jahtsa ', 'UKkente', 'PSdenGa', 'DiiteR ', 'Chisei ', 'CaIRSCr', 'Vatra N', 'Malah A', 'SSestth', 'Edleyil', 'Incksaf', 'Muistry', 'YMhenLi', 'Tavenew', 'Somumys', 'NCdgerj', 'Avine A', 'SivelMa', 'Srystme', 'Riiew L', 'Trnce A', 'Soarkig', 'Toreeic', 'RInceeg', 'BSensth', 'Dhows M', 'MaionMa', 'BhncyRe', 'SRhtsa ', 'Malmser', 'SPllain', 'Sanetra', 'Kritel ', 'NChtsun', 'AnentAp', 'Aantspa', 'Deonsxp', 'Chtali ', 'AsineSu', 'PSterAs', 'RSntsAp', 'Goandn ', 'Suvals ', 'Anavi B', 'PlhtsHe', 'Viisear', 'BruntPa', 'DSellil', 'VMityre', 'TGjraVa', 'Prllsan', 'Apentir', 'Asarqz ', 'Paestol', 'DSillto', 'Siiewag', 'Puestig', 'Yaenti ', 'DSapeto', 'Saenett', 'Cearkry', 'Macanr ', 'Skarkev', 'Nastadr', 'NCensun', 'NianaKe', 'Viers S', 'Jaanaa ', 'Sarch M', 'SLionan', 'Raisys ', 'SJowsn ', 'Jahidva', 'Shxorm ', 'MVkleiw', 'Roima A', 'PaanaCh', 'Prdowth', 'Anineu ', 'NDfelip', 'PavesGr', 'NRowse ', 'Veitaus', 'PuziaVe', 'Vaodak ', 'MSopsw ', 'Jaity H', 'JSyane ', 'Sadhii ', 'Saarep ', 'AmiewLa', 'Salesni', 'PulokPu', 'Brntsal', 'Sariaat', 'ALtonea', 'Arentra', 'Niiewem', 'Arndesa', 'MadinJa', 'V2lasna', 'Viara M', 'Naepa D', 'NianaBr', 'Prowshi', 'Inden O', 'Lancy R', 'Srrtsu ', 'GRe 2iv', 'Prcan P', 'RRnumn ', 'Ranorar', 'MDonta ', 'Caiseur', 'Sastaat', 'Bhiya N', 'Saive L', 'Lehidrc', 'PavanSa', 'Unuil T', 'Cimeshw', 'SRzonhu', 'Coronte', 'Amarere', 'Haestt ', 'NCenega', 'GaityEt', 'Rainet ', 'Jaitira', 'SRrnauv', 'Veiewak', 'Riave E', 'DSureSi', 'DSoodil', 'Oztarol', 'MJinele', 'GilomSh', 'Prsun S', 'Ardaseo', 'FoapeWa', 'Skityer', 'Bltonin', 'Rakulai', 'DSgmax ', 'KSideas', 'Elentrk', 'Srhamra', 'S onsMa', 'SrSaira', 'BMityre', 'Lants A', 'Shiew T', 'Teilsaf', 'Gontsoo', 'VBpleMa', 'Shony S', 'AcisePa', 'AxinoCi', 'NCowsar', 'SuBayin', 'URodsmb', 'GRlpank', 'Naashi ', 'Trntska', 'Maa 5a ', 'Salle F', 'Daivon ', 'NCold G', 'Aharlve', 'S2enste', 'GKncysi', 'Shensit', 'MKensi ', 'Muiseek', 'Ely 3Em', 'Rarthne', 'Soite E', 'Gllas V', 'Chuti S', 'PaontWa', 'BlibuMa', 'Ajresre', 'Tusom B', 'Shlashi', 'Ciisera', 'Anave S', 'Mailsaf', 'AreraRe', 'Drente ', 'Prineth', 'Toeadp ', 'Sravema', 'Srmesun', 'DSdidSp', 'KHnumla', 'Bhe 2ko', 'Umods W', 'Keids O', 'AMaveon', 'MMowsik', 'Gotis A', 'VDenaWa', 'Shsom B', 'VKe 1 M', 'Aplanje', 'Epwnee ', 'VKvenas', 'Shncy R', 'Viockit', 'Srvasks', 'Srkha S', 'Sanzaat', 'Sanne E', 'Mayne A', 'Shard T', 'DSestma', 'Mancya ', 'TiaksAa', 'Adowslm', 'Prave E', 'LiaveEn', 'DSldsen', 'Brods W', 'Nencei ', 'AGoutLa', 'Naiewre', 'HMonymp', 'DancyRe', 'Giconal', 'Veale R', 'Almid P', 'Srthaa ', 'KancyRe', 'Maarkr ', 'Elley B', 'Amais V', 'GoontLa', 'Deens G', 'DSera S', 'Makeser', 'Paurt C', 'Puens G', 'Naireru', 'Un 46th', 'Srayai ', 'SoronSa', 'SLtias ', 'GeereEc', 'Maunt M', 'Deade A', 'Thessrm', 'Shmai D', 'Skave E', 'Prsorhi', 'AdndeBe', 'Uncioe ', 'Pridel ', 'Elodsre', 'Soena A', 'PuoodSk', 'BrriaLu', 'Usnexra', 'Cehosy ', 'GRlas V', 'Muncy R', 'BSian M', 'KAMESRI', 'Gasom B', 'BDectou', 'Asnex A', 'Kelmsoy', 'Srise P', 'Deiveer', 'SKvanin', 'GRvanun', 'Srentea', 'Matonr ', 'Viise P', 'Mairer ', 'Amelllu', 'Heate L', 'Icingpy', 'Siestr ', 'Fants A', 'Cores V', 'RMncy R', 'Sie 2is', 'Gotaten', 'MyeurGr', 'KHityry', 'Vaniai ', 'Juaxyan', 'SRniaGa', 'Niara S', 'JSlipTu', 'Hiows C', 'DSeldpr', 'PindsWo', 'Asneren', 'Prdenth', 'NVdenic', 'Prurten', 'Alarke ', 'Vailsaf', 'Sphts H', 'Evanaan', 'DSise S', 'MoaveEn', 'Esatea ', 'Puodsm ', 'Gincyi ', 'Saahaat', 'HMeuran', 'Alivae ', 'Amngsag', 'Bhsic C', 'Shinei ', 'MSvelek', 'Tinori ', 'EcEONfe', 'Santste', 'Inuseda', 'AkArkti', 'DiaveEn', 'DSersus', 'Ajows V', 'Sungspr', 'Sidin J', 'Prarkll', 'SoniaPe', 'Nimesch', 'Sid 2ss', 'MBireap', 'RBersll', 'Names H', 'TealeRo', 'SRidePr', 'Nihtsss', 'Cuohahi', 'Laavevi', 'Vandak ', 'Saavear', 'Mantsce', 'Niowshi', 'Revane ', 'Srvasi ', 'M ondit', 'EsniaGa', 'BrnoxEq', 'Ranor M', 'Jaise P', 'Pricae ', 'Riousd ', 'Maager ', 'SPontna', 'PuandHi', 'Krite D', 'BMtusLo', 'Maidsr ', 'Maoseer', 'Saineiv', 'Danna S', 'Priewhi', 'Aaubyya', 'BaisePa', 'Sungsha', 'Naasyak', 'Soestin', 'Suensda', 'Mauner ', 'KonteiT', 'Clint E', 'SVnamnd', 'KMnorab', 'DatroGo', 'HiahsLa', 'MRowsea', 'Meowns ', 'Leuseut', 'Inave R', 'Asuilnc', 'Sinde G', 'V2avei ', 'Asorai ', 'Indanrt', 'AWharde', 'VaiteEx', 'BrardCo', 'MBaleRo', 'Srasy F', 'Ajens G', 'Toainnt', 'Amlisai', 'Srowsrj', 'CMard B', 'Toodyit', 'Arade A', 'Kames S', 'SLnorMa', 'Prigh L', 'Prtates', 'Roale D', 'Vencyha', 'Asarkia', 'Bhensa ', 'Prowsi ', 'Puwerun', 'SRidsrc', 'Sriferi', 'ElentAp', 'Goezell', 'Bisic C', 'Spngsin', 'GoncyRe', 'Raood R', 'Paoliy ', 'Adity T', 'Cruran ', 'GRarken', 'Seamaha', 'PaisePa', 'Patust ', 'Chara N', 'Grntsd ', 'Bebalrk', 'Shbhi S', 'VBeriav', 'Maonsrn', 'NRosete', 'Soamsay', 'Sryam N', 'Sagalhi', 'Sancyi ', 'Lancysi', 'NCarkna', 'NRniad ', 'AuRISa ', 'Prngshi', 'Cangse ', 'Vaharvi', 'NantsGa', 'Advash ', 'Papusa ', 'Mavanru', 'Leton A', 'Glnetch', 'Shrds O', 'Aniona ', 'Miwel M', 'Jaaveha', 'Nadhian', 'Goeur G', 'Brglede', 'GClmsun', 'SPavenc', 'Loente ', 'PrityFa', 'Shissut', 'PueraRi', 'Eledst ', 'SrageGl', 'Pre 1ri', 'ElaleSp', 'Maionra', 'Srrnasa', 'BrdgeNo', 'Prndsde', 'ShshaSa', 'Frowsru', 'Leilo E', 'TNrdet ', 'JKmesHo', 'SLoraFl', 'ARnamru', 'HoDewy ', 'SNe 2ev', 'DSthian', 'Arentpa', 'Siourpl', 'OsrdsOr', 'Fleepi ', 'AeisePV', 'SJodsed', 'MJiyayl', 'Rahidhi', 'Mavelr ', 'MNlam G', 'SJityaz', 'GSideS ', 'Roeekbl', 'Ceezey ', 'Niareum', 'Suryais', 'NadelCi', 'RMerslu', 'FBazaah', 'Puceswn', 'Bustain', 'Seityen', 'Mykyayi', 'Vestas ', 'Dwity T', 'Omncy R', 'Miiewa ', 'AjhalNa', 'GRhtiru', 'Pethaai', 'Maourit', 'Arntyi ', 'Saandvi', 'Reciale', 'Vaontos', 'VRiewke', 'Prony S', 'DSidsrc', 'SradeSr', 'ARomee ', 'Ladenea', 'Viaxy G', 'NatanNi', 'JRarlPe', 'DSndsod', 'RKhipwn', 'Saowsou', 'Aaire S', 'Zostaa ', 'Soncy R', 'MaisePa', 'Maentor', 'ShaleSp', 'ItRRVna', 'Soosea ', 'NSezeBr', 'Samittv', 'Ansna K', 'StodsWa', 'VVbhion', 'CoiewSy', 'Vaent V', 'HivanBr', 'SRldsnt', 'DSvvyx ', 'MacleK ', 'Cevely ', 'MBpleca', 'AMAKS O', 'SNdri N', 'PualeSk', 'GCbowai', 'SwionMa', 'Bemesrm', 'Apitea ', 'Shyalha', 'Cerasy ', 'ACersd ', 'ShyamSh', 'Niidet ', 'Srncyla', 'Teire G', 'Prarat ', 'Bhentne', 'MVnexde', 'Camesa ', 'Hameson', 'GMentAp', 'Giaver ', 'Prensya', 'i1odsne', 'Undraro', 'Dehts H', 'Saata S', 'AVeldun', 'FlsicFl', 'Thiced ', 'Sarlsm ', 'Stide B', 'Gonorir', 'Nioutar', 'Srldsri', 'i1ncyRe', 'CMoneoo', 'AriosHe', 'GoratAr', 'Bront A', 'GCngsn ', 'Doissa ', 'Vasisvi', 'MancyRe', 'Briumri', 'Rie 2 P', 'GontsAp', 'TNaldme', 'SLiritn', 'Saityat', 'BDensar', 'Klark L', 'Shusehi', 'RotatHa', 'Shitt S', 'Shmes O', 'DSvil S', 'InhtsHe', 'Iseenst', 'Siaraa ', 'Javasya', 'ACopsva', 'TNnumla', 'Sainei ', 'VaoldMa', 'Amsomun', 'Pruthg ', 'Vadidpl', 'Karchru', 'Ajomaa ', 'Arata A', 'SaSkyBl', 'Roareta', 'Shiumi ', 'PrBayGa', 'SrncyRe', 'Saite G', 'Prtanha', 'Soy 1Iv', 'Palleon', 'Sklls C', 'Leeno S', 'BrriaIm', 'Vaidsi ', 'Jainaht', 'SVhyaga', 'Vacle P', 'Prdhue ', 'Brngsal', 'DLhtsnd', 'Vedhias', 'Prensin', 'Oce 1nd', 'Roa 2ha', 'Sonumy ', 'Soionar', 'DSousyl', 'ShourSp', 'Saesttt', 'Saenti ', 'DRens A', 'GaicaVe', 'Neestna', 'Skinaa ', 'Loe 1st', 'DSeak S', 'Pralmat', 'Chpana ', 'Saacy A', 'PuonsSe', 'SNeur G', 'Puallhi', 'Aling10', 'K dotna', 'Disical', 'Prsisge', 'Mandsi ', 'Inaxyga', 'Prageta', 'Prood G', 'FoityIn', 'Somus A', 'DSdorSp', 'Goareir', 'UbreeAn', 'Guranya', 'Suent V', 'Vaows M', 'Asareur', 'Cerdsga', 'Thessie', 'Adarkya', 'CMDewun', 'GrrvaGr', 'Soiniy ', 'MYncysi', 'CVnetnc', 'BModsen', 'Shthi S', 'MDoseim', 'BSlasin', 'ETens G', 'Saark H', 'Saaveas', 'Rilor C', 'KSidems', 'MIalerd', 'K borja', 'Chnts A', 'Vehida ', 'Krz 2 Q', 'SMaxyay', 'PrntaEn', 'Skvasa ', 'Soe 2Sa', 'Vaarech', 'Puops R', 'SMikaay', 'SJmesst', 'GoilsDa', 'SoystAm', 'V2anags', 'Raourpl', 'PrstaTe', 'SollyCl', 'SoliaMa', 'Saowsri', 'Jahts H', 'CMhidal', 'Saent A', 'SrireSo', 'ViortCo', 'SoapeSu', 'Sariana', 'Ceonyy ', 'Niiman ', 'Rauil T', 'Mae 2ra', 'Gonoril', 'Baesta ', 'Emodsel', 'Srtusi ', 'NevenLi', 'Elrisnt', 'Rintspa', 'Soikaa ', 'Vidil D', 'Viony H', 'LeeyaCa', 'Myple M', 'SaaceSa', 'Vaodssh', 'Vincyat', 'BMoldar', 'DSlesSp', 'Vaw 2il', 'Maerar ', 'DSe 2ie', 'Gundaa ', 'KHage G', 'AbnceEs', 'SKdesa ', 'Vaunei ', 'Unentsi', 'GSnts A', 'Pelle P', 'Duity C', 'Ozana U', 'Co IIla', 'Varala ', 'Aroomba', 'Kacesh ', 'Raellil', 'Bhise P', 'Itvas S', 'Krtonwe', 'RahtsHe', 'SLtalry', 'Apows M', 'Ahriaup', 'PisomSu', 'Caonand', 'Prareth', 'PriumMi', 'Peles P', 'ArariGo', 'LVniaar', 'Diisein', 'SSoraba', 'Ocock R', 'WishiVa', 'SMshi M', 'SraruSr', 'Inasy E', 'Oznuean', 'Ammesss', 'Veodsar', 'Bhath N', 'RaiewLa', 'Srarkha', 'APuraen', 'PuontFa', 'Sooutnu', 'LGifeew', 'Hoxiaa ', 'SuVue S', 'Kehts H', 'JHk 1en', 'PrdgeSo', 'Aseenh ', 'Prersis', 'Sparam ', 'Sumesa ', 'Vrensn ', 'Sronda ', 'Vaurtar', 'DNionfl', 'Krberl ', 'KKersow', 'Soisy D', 'Skesta ', 'Adity S', 'Hemai D', 'Foodasa', 'Matrai ', 'Graceik', 'PuamaPa', 'CharkGr', 'Suitea ', 'Prcesvy', 'Pridei ', 'LGapeon', 'SaideHi', 'Ocavees', 'CoinoCu', 'Ayaya A', 'EiionCa', 'TGasyhu', 'Hanar I', 'Soianal', 'Rerelve', 'Haows M', 'Corix B', 'Utntspa', 'SrisePo', 'Krine O', 'Prncy R', 'Asiss B', 'Gats He', 'Ajnue A', 'Sancei ', 'KlarkBe', 'JClyner', 'Sagnage', 'MSuntra', 'Sancybr', 'Tahtsla', 'Amnavdr', 'AdadeEs', 'Sohid O', 'SNtua S', 'EGdiaAr', 'S mesci', 'E onsg ', 'Hoens T', 'Shise P', 'Soubya ', 'JSonyar', 'Shestth', 'Siows M', 'Viissmi', 'Elidet ', 'Raave E', 'Laowsba', 'Sourtal', 'V htsji', 'SuMTBPr', 'Srncy R', 'Niborik', 'Clell D', 'Bhinglv', 'Soeurri', 'Cearuy ', 'Sapazta', 'KPhtsei', 'Brnia G', 'Saionl ', 'Atntspa', 'Copust ', 'Aincy R', 'Asity S', 'HMinebo', 'HoiewLa', 'Leino C', 'Bhacy L', 'SoniaEt', 'Puestol', 'Gencysi', 'Pronege', 'Cemesti', 'MJeusyl', 'Jalot C', 'EAvarum', 'AiIIIpl', 'Maierr ', 'Emhtsl ', 'SatraNa', 'BadorSp', 'JahanSa', 'SLarei ', 'Sillaa ', 'Maade P', 'Sonyxa ', 'Fosic C', 'AmthaIn', 'SiidsGa', 'VMowsea', 'Brnumnn', 'Chranya', 'Kierser', 'Samesan', 'Sowerew', 'Asira E', 'Pae 1ov', 'DuenaTa', 'Veales ', 'MSingco', 'UpowsMe', 'Prian E', 'Matlelp', 'GMownTe', 'MaitySe', 'Vaw 1il', 'SancyRe', 'DSvar S', 'Shncyhi', 'Ajleyor', 'Srconor', 'Aahts H', 'Prard B', 'Shestut', 'Kr 10Ca', 'Unezes ', 'Soweray', 'LuncyRe', 'ALoraAu', 'Avlya A', 'Puveshe', 'Kiare S', 'Pudgear', 'Nentsan', 'ManceEl', 'SLourle', 'AkonyHa', 'SoncyRe', 'PronsEn', 'VaasaPr', 'VaantPl', 'Srdids ', 'SVoutow', 'Crentt ', 'Sancy R', 'Goateds', 'Gopus O', 'Arora A', 'Suleyli', 'RKntsrt', 'Upldsin', 'Vapasrk', 'MancyEl', 'DSestil', 'DSalehn', 'Vador S', 'Diaste ', 'Keony H', 'Phaku K', 'Saavem ', 'Sotosty', 'Ulure S', 'Saeina ', 'Vahid O', 'Komesa ', 'Srshq T', 'DubowRa', 'JRrnauv', 'Ocezes ', 'Roarkan', 'Aentsbe', 'Brlms P', 'Saersel', 'Prhar G', 'VBn 2lm', 'DSapeSk', 'Soowsa ', 'SomonCi', 'Ciris P', 'Fanorrt', 'Caxusnd', 'InadeAr', 'Reeroce', 'Adevo S', 'Indesve', 'Ranuetz', 'ValiaCa', 'Siisega', 'BKideor', 'Nae 2El', 'Sonue A', 'SRgio V', 'Vaensnd', 'Daill S', 'LeDuvMy', 'Krntsee', 'Rallsdr', 'Oaeze B', 'NDivaOl', 'Saage V', 'RBRWAyo', 'Prook M', 'Chorda ', 'Eltert ', 'KVersuj', 'Niaveha', 'LendaVi', 'Shiaa S', 'Gaenty ', 'KBaleoy', 'Nanorkr', 'Vatlede', 'Trurea ', 'Wiowsri', 'RodenGa', 'Asintas', 'Laave E', 'Pehtsa ', 'Halms S', 'She 2rk', 'Tencyes', 'Srncykh', 'FoGemna', 'HMwerCo', 'Eznuee ', 'Thessmm', 'Sueneu ', 'Shntsad', 'GathiVa', 'Putere ', 'Swers T', 'Preaunt', 'BrlisMe', 'RailsDa', 'Koestpt', 'Prenty ', 'Clsto C', 'Sants A', 'SraveSL', 'Sonosty', 'Maenara', 'JRichee', 'Saarlth', 'Tiitela', 'Shika A', 'OlarkLa', 'Gollela', 'SearkHy', 'Ozensve', 'Syonyph', 'Mamespa', 'Somns T', 'ChionCo', 'Esnamin', 'Darsh S', 'SJlynro', 'Hohnari', 'Akvam P', 'Apavea ', 'Emstael', 'Corus C', 'Srigmsw', 'Jaangm ', 'VDe 1Du', 'Mauil T', 'ARvasV ', 'ISeekon', 'Srier P', 'Golmsoy', 'ShentAp', 'Kenia G', 'Akave E', 'Rallaa ', 'Scsta V', 'ARineha', 'BMttaor', 'Prhna S', 'Vetanan', 'Emine P', 'VBavaai', 'Reunee ', 'Sotus L', 'Soond R', 'VSineDi', 'MaaveEn', 'Unateit', 'SJovest', 'Dhowsyo', 'Priew P', 'Undge T', 'Ratlet ', 'Myace P', 'S2ionrn', 'ShstaAl', 'DSoodSh', 'Alncy R', 'Gancy P', 'VeSkyva', 'Daives ', 'VSaya A', 'Owlotou', 'DSreerk', 'Prowser', 'ArzzaRe', 'AvensGa', 'Foncync', 'NeendLe', 'Amhidte', 'Peora P', 'PNncysi', 'PrensKe', 'Srhts P', 'FetatHa', 'ArndsSk', 'PuendWe', 'MJlese ', 'Amazaa ', 'SaMTBai', 'Ceureld', 'Naoden ', 'GrhtiSr', 'Srhida ', 'TRensre', 'GonumPl', 'Suelsa ', 'Chhalut', 'PancyRe', 'Ahciace', 'Pumesim', 'Maita R', 'SJarkte', 'Jaers S', 'SrarkSk', 'Esave E', 'Vrenty ', 'DSpazTo', 'Jurdsig', 'Elacet ', 'Thowsil', 'Monorh ', 'Sencys ', 'Asadacy', 'Niine J', 'Nisisn ', 'Kesomrn', 'NDrelau', 'VentsAp', 'Frhtsr ', 'Solle V', 'B ncysi', 'KKdenng', 'Koillph', 'SosicCl', 'Goted U', 'NVaree ', 'Wiass G', 'Saaveir', 'Srsami ', 'AritaFe', 'NStusD ', 'AsdiaAr', 'Brsic C', 'Caycend', 'HRnyaAn', 'JaniaGa', 'Nihtsur', 'Puide P', 'Kiagar ', 'IJent A', 'Dintsmi', 'Panorse', 'Arria G', 'Dovel M', 'Mithmn ', 'Maest N', 'Marthur', 'Reicace', 'KBnnupu', 'MadorSp', 'Arhtsth', 'Pao 3ow', 'Sapus S', 'Krshi G', 'Vaenev ', 'Goourta', 'Saalpas', 'VaiewV ', 'AdestAs', 'Neisei ', 'Viuliap', 'HovasTe', 'DSidePr', 'Suent A', 'Aples M', 'Soazak ', 'Music C', 'Esareap', 'SurtsCo', 'Skensk ', 'NaonySy', 'Mileeou', 'Shntsan', 'CalanGo', 'Duals P', 'Dhave E', 'AdniaSk', 'CoLeoen', 'Anair A', 'Peentn ', 'G conTh', 'Wiaysld', 'SLayaer', 'Arncyd ', 'Shalkri', 'DSensn ', 'VSletes', 'Salisal', 'AdtusAn', 'Ablmsol', 'Vantspa', 'Bhmesa ', 'Gontyol', 'Coowsri', 'KrodsNo', 'Pontspa', 'Reyle L', 'Arera V', 'Brwernn', 'Scenth ', 'ArnzaFi', 'Jaw 2 L', 'Sulla S', 'SaodsGr', 'Maian M', 'Drerspe', 'Sutesga', 'Samukja', 'Vancya ', 'CMionsy', 'Asara S', 'Vaanda ', 'Saavena', 'AbarkVa', 'Jalonht', 'Pao 2Sm', 'Krllael', 'GRvasth', 'MGave E', 'Sueesti', 'PrliaRe', 'SVacyeg', 'Prrtht ', 'ThBayah', 'Dhndsh ', 'Chhamku', 'Essic C', 'Reodsnc', 'Vantsra', 'Lalipa ', 'Proodt ', 'LIandee', 'Vabow R', 'Puachal', 'Goty  E', 'V2gesre', 'SMllay ', 'Usquaya', 'Krryll ', 'Puarent', 'Valipf ', 'Sulesil', 'Dhise P', 'Mallad ', 'Prtusth', 'LancyRe', 'PrOakSi', 'DNeremo', 'Shamzm ', 'NiCodCa', 'Soestrn', 'PrawnRa', 'Prodsth', 'Dimes E', 'Collsrn', 'BMmesHo', 'Brsiaen', 'RortsCo', 'AztheBr', 'SNpalaj', 'Pry 2 R', 'Esncyth', 'Saace P', 'Duoveoo', 'PrhyaK ', 'Putus L', 'Krone S', 'Prandm ', 'Eline P', 'Aavelis', 'Jahipa ', 'Soitya ', 'Mania G', 'ARineun', 'SLwernf', 'Peace P', 'Maletr ', 'Ajacea ', 'GKityde', 'G ceses', 'Siageal', 'CoaveAt', 'May 2ge', 'Beesta ', 'DLhtsen', 'SRanail', 'Paarklu', 'Arhid O', 'ArowsMe', 'Arnts A', 'Jhntspa', 'Leero C', 'Saniai ', 'Henue A', 'ValleCi', 'Maoma P', 'Cetattu', 'Supleon', 'Radenta', 'SantsAp', 'Whosone', 'VRest N', 'Ronty C', 'TrryaAi', 'NRtesnd', 'HMqueu ', 'PritaDo', 'VmlleRo', 'SunetSo', 'Suntsan', 'Vidgema', 'Sashaa ', 'Sanumn ', 'Ahownve', 'Coomee ', 'Vaaveeh', 'Cotaror', 'Anensva', 'Golmsn ', 'SudenEd', 'SKthaAa', 'Daden G', 'Caiseha', 'Arano M', 'MDncyhi', 'SavanBr', 'Laihai ', 'UKe 2nz', 'Brway G', 'Krton S', 'SNiew L', 'Giersin', 'Reion M', 'Ocuil T', 'Krine C', 'SSthamh', 'EmrchAn', 'Siuntar', 'PintsAp', 'Coush W', 'BSisear', 'MaionPa', 'Keera R', 'Shateor', 'Adaveth', 'AFe 3Ph', 'RaosePr', 'Prmesad', 'SVovelm', 'Chntsat', 'VaitySe', 'Prllasw', 'Skdia A', 'BhisePa', 'Shmolti', 'Sovar S', 'Reverve', 'Xeitaa ', 'Mames M', 'SLireap', 'Sasicha', 'Goe 2me', 'Vitat H', 'UKanema', 'Vaodspe', 'DLhtsan', 'NaensGa', 'RatatHa', 'Sririth', 'Skacak ', 'MJilayl', 'Hedosme', 'SLowse ', 'Soresea', 'PrityTr', 'LGrldti', 'Saiewas', 'Asene S', 'RatraNa', 'Toindls', 'PrncyRe', 'SRensar', 'Shidei ', 'Nathira', 'Saitya ', 'Ravashw', 'Abncy R', 'Srhemay', 'Savarar', 'DSionhe', 'Sutte C', 'Arnis A', 'Sonet G', 'AbiewLa', 'Brareio', 'SirlsPe', 'Visic C', 'NellsKo', 'HawerMa', 'Taonte ', 'Hincy R', 'LGestbo', 'Rallse ', 'Santspa', 'DSineun', 'Prs 2hi', 'Pyikad ', 'Chiteny', 'SSonsvi', 'Sreat R', 'Naory G', 'RaontWa', 'Zonce E', 'DSesthr', 'DNncasa', 'Inurave', 'i1rtsCo', 'Saeraep', 'Apinaa ', 'MNtha A', 'Solip T', 'SVodsve', 'VRdelit', 'MavanK ', 'RMudeat', 'Sondaka', 'NRncyrk', 'Srarkav', 'Daganva', 'Shireru', 'Prleaou', 'Saowson', 'VaarkMe', 'Phens G', 'Hisic G', 'SSaveik', 'SneurGr', 'BCivell', 'Varlsa ', 'SVlesas', 'Amivace', 'Phhidx ', 'DSestre', 'HRaniIb', 'VRrtsa ', 'Vemit S', 'Malmsri', 'SNbay G', 'Esale O', 'Marnara', 'KroneMo', 'Loals P', 'HioraTr', 'Invenai', 'SrnesSr', 'Roiti A', 'Swadeh ', 'AkletBa', 'Cedusy ', 'ARngsd ', 'Spows M', 'PSmalsh', 'Viave E', 'MJarlPe', 'Goner C', 'Srsica ', 'Rasom B', 'PhestOn', 'Niimet ', 'VRave E', 'EmardBo', 'FeowsMe', 'AHavenc', 'Aincyev', 'SNnia E', 'Tentsw ', 'HodhiSa', 'EsadeNS', 'Peide L', 'AnnceEl', 'Gilleon', 'Ahhtser', 'InllaPa', 'DSstaen', 'Raiyai ', 'Niway G', 'Chllsev', 'AdhriPa', 'Dhncyud', 'Bancyri', 'Neise P', 'SaeneSe', 'Krala D', 'Amionce', 'ThntsAp', 'K ensad', 'Saestde', 'Suncyu ', 'Icncy R', 'Hahtsya', 'AnazaPl', 'JahtsHe', 'K ncy R', 'Keersto', 'Adthm R', 'Nanuena', 'BaiseBa', 'Feissx ', 'ARntyne', 'Hiestre', 'Masser ', 'Hoensti', 'Jaensa ', 'SatonLi', 'GKiewke', 'Srure S', 'Viaree ', 'BainePr', 'Femes S', 'Adion A', 'DSgam S', 'Upoutks', 'HoAcela', 'Gamesti', 'BSersTo', 'Emsic C', 'Jants V', 'Veisear', 'DaniaNe', 'Pae 2ov', 'LoentKr', 'Puitea ', 'Jae 1ke', 'SApusnu', 'SMuilan', 'Kaiew L', 'RNvasth', 'Srllaan', 'Sioma A', 'HIideSu', 'Srcha S', 'Arnorya', 'RothaVa', 'AnncyRe', 'Raony C', 'BriumMi', 'DSOakil', 'Spiteid', 'Radhian', 'Prionad', 'Diensso', 'Saaintv', 'Apise P', 'Patri M', 'Conixt ', 'SoderLa', 'Vastael', 'NDclenn', 'Paion P', 'SMncyy ', 'MNnia E', 'SNillin', 'RKncyha', 'Sancyra', 'DSutyng', 'PancyPr', 'DRnerns', 'CSncele', 'Gruesaf', 'SaageWi', 'Vaeva E', 'SLiand ', 'Honcyju', 'Puentpa', 'ViistLa', 'NatisAt', 'Arcia S', 'Prclee ', 'HooudSi', 'Niers S', 'Chisea ', 'Vaaldak', 'Prentra', 'Itbhaa ', 'ArierPr', 'Leate O', 'ArrdsOr', 'Madener', 'Opamaan', 'OriewLa', 'Naenti ', 'Suriaa ', 'Vaine S', 'Vehes L', 'Veyalin', 'Tiare S', 'DSimaUl', 'Aroveth', 'Saeur G', 'BrlisCo', 'Gopia O', 'Vixirri', 'GaentAp', 'Prtor N', 'ColeyNa', 'Prmes H', 'Saentva', 'Siacen ', 'SBiewid', 'PoetyHo', 'CaaveEn', 'Grare S', 'Prncyrn', 'Ciques ', 'HViesar', 'Naavehi', 'Suwerlo', 'BSarknd', 'VRaceer', 'Janaala', 'IBictnd', 'V6estde', 'Srmitev', 'UNERA P', 'DiamiSa', 'Soire A', 'GModsNR', 'Saacela', 'AsastDe', 'Lallere', 'Prldsri', 'NaaveEn', 'Adion M', 'A rtsai', 'Soe 2as', 'MaentNa', 'AsensGa', 'Unarlth', 'Unm 2El', 'Prvaska', 'SaignSo', 'SrEndPo', 'Cee 2du', 'Mahla T', 'Dheusag', 'CiaksRi', 'Sudama ', 'MJinala', 'Itelaa ', 'Foinade', 'MRvar S', 'Arity S', 'Epllan ', 'Viodspr', 'Brium C', 'RohtsHe', 'Binorn ', 'Puncyya', 'Inaadd ', 'Grensak', 'Dhgraas', 'Srods P', 'Saciatt', 'Rencyes', 'Coise P', 'Jatish ', 'Niateki', 'Nillsre', 'Malowr ', 'DSons S', 'Kobhiil', 'DSrry S', 'Vayali ', 'Saowsi ', 'Vicony ', 'Coa It ', 'Coner C', 'JaghtDe', 'Daosts ', 'Sothin ', 'NVanat ', 'Koncyad', 'Ameur G', 'SheldGr', 'Saave R', 'VMlet C', 'Exncene', 'Mawerer', 'Viium E', 'Maaveal', 'SunceEs', 'Emsisy ', 'Maidei ', 'Alestrb', 'Soyleif', 'SVthaho', 'ThhtsV ', 'Brstaue', 'Viiniai', 'VBownre', 'Brrds O', 'Diaveic', 'Bhncyis', 'GMilse ', 'Apvas N', 'SoestSu', 'AnialPa', 'SuntsAp', 'AdingSV', 'Thionav', 'Sodgere', 'Suavea ', 'MBncyh ', 'Stndeil', 'Maantr ', 'SoasaSa', 'Laiteya', 'DSeme S', 'PrdgeLa', 'Itala A', 'Daxir E', 'SyavuHo', 'Shnto F', 'BVeneSe', 'NDpalSe', 'Meentan', 'Pardst ', 'Shestlo', 'AkncyRe', 'Vaderla', 'GKowsea', 'Emngs S', 'Maodser', 'DStik S', 'Goues A', 'Srestve', 'Vangsld', 'Sorta S', 'Mahesr ', 'SastyDy', 'Feowsdi', 'Sancy L', 'BrereAt', 'Tantsod', 'Ocrda M', 'DShtsow', 'Saarea ', 'Spity E', 'Cemesal', 'Alows M', 'Siissi ', 'RatosAr', 'ToSky F', 'Viine P', 'Hentye ', 'Inensba', 'ViensRK', 'ViionMa', 'YCnce R', 'Aduil T', 'Nauha G', 'Goelsn ', 'T ZedZe', 'Concyvi', 'Derdsig', 'S2kaaan', 'AdlasRe', 'Keers S', 'Frhts H', 'Rewelav', 'VaireSo', 'Niiewin', 'SiineSu', 'Gintsar', 'SLhidOr', 'Prdomt ', 'Ihnueut', 'Baowsig', 'SLontel', 'Puodse ', 'SNontle', 'Sonviik', 'Kinuerg', 'JJortom', 'Srisei ', 'Chsilut', 'SontsAp', 'Arzzo P', 'Fea 3Al', 'BrontLa', 'SosonGa', 'Suurtni', 'Foconna', 'SNavenc', 'SMdesy ', 'Canoroy', 'Klort C', 'SSaleRo', 'SJerse ', 'Tenceen', 'DStus S', 'MCvarar', 'MauilTr', 'JJr 2e ', 'SVdhaig', 'Mazler ', 'Brersge', 'Adstah ', 'K tlete', 'Dural C', 'ARureig', 'Vaens G', 'Jaiewke', 'SKterAs', 'ARnts A', 'Prhtsok', 'Grmes L', 'SLavena', 'DencyRe', 'SuncyRe', 'MSanaer', 'Plowsri', 'Soinequ', 'Prlla C', 'GSodsee', 'Apmes H', 'Ieuseut', 'Cilip J', 'Viconth', 'RRersow', 'SRageri', 'APncyla', 'Hotat H', 'TealdEm', 'Brine J', 'Raeusiy', 'Neony H', 'Omter A', 'MGntsar', 'KencyRe', 'Ahntyve', 'FoncyRe', 'Juclend', 'Sharlth', 'Haaceal', 'Shionya', 'Aangsur', 'CidgeKn', 'Sahidri', 'ARipsul', 'ChodsGr', 'VincyRe', 'Foity S', 'ProdsWe', 'NCaveun', 'DSnjh S', 'SVmesVi', 'Maorai ', 'Ascid P', 'Srntsha', 'NRnoral', 'Aaentpa', 'HMRWAyo', 'JRaderc', 'Hincy V', 'Mebhaee', 'Thuse F', 'Avlls H', 'Metrais', '3Codeli', 'TCncyn ', 'Prlis A', 'KohraNa', 'Rathira', 'Viowsen', 'Sheurre', 'Suram S', 'Catle C', 'Raenti ', 'Pronyt ', 'AsNowre', 'Smrryny', 'Rencyed', 'Vemes H', 'Saire S', 'Arldsyo', 'Amageru', 'Pranthi', 'BSiumly', 'Coleyli', 'Tovesee', 'ARaveSa', 'Shenshi', 'Srdor S', 'Betatsi', 'Aliewe ', 'Cestama', 'Gaent R', 'Magiaya', 'MItatHa', 'Enodsed', 'Heatee ', 'Soose P', 'Madgeer', 'Miershi', 'Saent G', 'Sohea A', 'Rarelt ', 'LencyRe', 'DwntsAp', 'Rie 2ri', 'URncysi', 'Prood P', 'ImncyTa', 'EsaceLe', 'GancyRe', 'Srersas', 'Isncasa', 'PeBayle', 'Keharya', 'PuineSu', 'Lancyey', 'Pardsri', 'Suncy R', 'ImiteEl', 'M1riaa ', 'GRhtsei', 'Maity W', 'Prorath', 'NiarkHy', 'Prwer S', 'SGllaav', 'SoosePr', 'Maine J', 'SGandea', 'HMigond', 'AltesEs', 'MBrrySt', 'Adeatlm', 'Gentson', 'Emceske', 'MNikaas', 'Srntssh', 'Goaysn ', 'Srandir', 'ShtonDw', 'CSvelMa', 'MCngeha', 'KsonsCa', 'Uptusol', 'Frides ', 'Shont F', 'Malyxer', 'Rehtsna', 'PronsAs', 'UKicte ', 'SNity S', 'Mae 2ow', 'CaestSr', 'Reitice', 'PadgeOa', 'SuodsAc', 'Meines ', 'Hiatei ', 'Brens7 ', 'Fencyes', 'Shntie ', 'StwarSi', 'Prldsum', 'PuhtsHe', 'Myhrie ', 'AkoreEn', 'Spdoren', 'Valdsic', 'CMoryma', 'Tincyum', 'SihtsHe', 'PaownNe', 'Krreera', 'Asnts a', 'Mapleer', 'IDldsin', 'Alsta F', 'Maionus', 'Puownm ', 'Jancyes', 'Coa 3t ', 'Inshath', 'SoisoCa', 'Lecco C', 'RSntsja', 'Saa 2Ai', 'NCiteEl', 'Mangsr ', 'VRowsa ', 'SVyam N', 'VSlistr', 'SLityee', 'AReenui', 'AlourAr', 'MGBay T', 'MamelKa', 'Prasa W', 'Supams ', 'SyOnen ', 'Vaesh T', 'Bhmesy ', 'Kamesar', 'Sortz Q', 'Nehalri', 'CMhamai', 'Mades G', 'Diarknt', 'Sabixtt', 'PantsAp', 'Liwerun', 'Maana E', 'Jancyva', 'IcudiMa', 'Brtondd', 'Dhalsh ', 'SaisePa', 'Mahosya', 'Moity S', 'Saandtt', 'Shyas S', 'Jauraht', 'DSerste', 'DSapete', 'KPiteEl', 'DSireSo', 'Srncya ', 'Bousey ', 'Afncyad', 'MaaveDu', 'Vancy R', 'Pathira', 'Manha M', 'SoersTo', 'Sksia A', 'Keleti ', 'PrwarSa', 'Elleyt ', 'SLenssh', 'GMown E', 'Laderav', 'FiriaVi', 'DNtonri', 'Soacyst', 'SGncy R', 'AnaveEn', 'NCierar', 'RMcesa ', 'Akone R', 'Gaaran ', 'Suiumy ', 'ApallEn', 'SoechHa', 'IDlleri', 'Prntsrt', 'Saconp ', 'LGeete ', 'Sohti S', 'MyigePr', 'Vacesi ', 'Aaniaa ', 'BrlonAv', 'Vaonyi ', 'ArBayeb', 'Sringlv', 'Srire S', 'PrrvaPl', 'Rancy R', 'ViaarSa', 'Keorai ', 'Vaour S', 'Maentr ', 'Sithand', 'InockHo', 'KeureSi', 'Orana N', 'RookaJh', 'Prlmsge', 'Satlea ', 'Pa II E', 'Kolisl ', 'AxvamTa', 'Shodsir', 'Chtert ', 'SPthara', 'Pride S', 'Srluei ', 'OadraCh', 'AgaveEn', 'SVstos ', 'Toiasle', 'Inntss ', 'Salms G', 'Mancyes', 'Maisehi', 'AlEcone', 'Detat H', 'Asoilul', 'ElavuHo', 'Hiowsi ', 'ShdhiSa', 'MaidoPl', 'Sahtsi ', 'Shodsth', 'Krrbsil', 'SSdhimr', 'Saaveha', 'Shhin S', 'SoineC ', 'Foisha ', 'Miitat ', 'GradeMR', 'Veyal V', 'SaireSa', 'GolusLi', 'Aiitya ', 'Saaksa ', 'Sanstya', 'Goeesem', 'Sravehi', 'Srg Bnc', 'GCiewty', 'Marnaer', 'Thesseg', 'Ceise P', 'Vadel C', 'SocusHi', 'RMaanSa', 'SVineun', 'Caiya D', 'Atreli ', 'G harth', 'CoDast ', 'Jaades ', 'Abeesmi', 'Saacesa', 'Vaarai ', 'HMriast', 'Baanise', 'Brama P', 'Vincy R', 'Dhniail', 'Rabow R', 'Ikmesay', 'SRbiaxu', 'Priesla', 'Mancyhi', 'Suise S', 'LedorSa', 'Duavenc', 'SLoven ', 'Asmosz ', 'Sraveks', 'SLureSi', 'VDdonel', 'ACiteda', 'Keort F', 'Prthand', 'EvestPi', 'NCs 2rj', 'Vimesar', 'Contsci', 'Baentgi', 'Baalp S', 'DSineSt', 'Pu270a ', 'Pancy R', 'Oznzaes', 'Shierhi', 'MenueNo', 'SruntFa', 'Blisera', 'MasicCl', 'Kuownri', 'ArsiaEx', 'Kreera ', 'Sragei ', 'Edreelm', 'Koagati', 'Itvir M', 'Srrlsnu', 'Masta A', 'Goe 3la', 'PuontBe', 'PrinePr', 'Villeka', 'APusenc', 'SatatHa', 'Bregae ', 'Spsic C', 'SLarkic', 'Brica E', 'NCondia', 'Saade E', 'Amconi ', 'AriosPa', 'Coora S', 'Saentpa', 'Skstark', 'JPismPr', 'Shvarji', 'Prhtsua', 'Suiseit', 'DNlleks', 'Dwterai', 'Mae 1Ar', 'ShtalCr', 'Redarav', 'LGlarAs', 'Jaood G', 'Emtat H', 'Evood S', 'A idse ', 'Spanda ', 'Sasta S', 'LGDewke', 'DScon S', 'Stlomg ', 'MamalPr', 'Brity U', 'Goeenes', 'Natic T', 'SriewGr', 'SLncyaj', 'Kaantth', 'Neess P', 'PyonsCa', 'Prarkun', 'Krtiqa ', 'Paentta', 'Chllea ', 'Inulat ', 'SKisyDa', 'Sryalan', 'Axdam V', 'Vaaram ', 'MBncele', 'Neagar ', 'Saensar', 'Esree8 ', 'Shana S', 'Stkarrd', 'Tuentpa', 'HiqueMa', 'Arensh ', 'Saood S', 'Spess C', 'MJtumty', 'Siite E', 'Piityra', 'Thisea ', 'NadriNe', 'DSagax ', 'C ensnd', 'Bintsee', 'NRodsen', 'UmrldDr', 'VSomepi', 'Sooneoo', 'Sriseva', 'Srowsee', 'Sanorpa', 'MavarSa', 'Spews L', 'TuiteIn', '7 ise P', 'Soran U', 'BhreeBa', 'Prionve', 'Ceove G', 'Riodsri', 'Goyalir', 'VHistal', 'Stensg ', 'Mazzo P', 'Keave E', 'Unris E', 'AaineSi', 'Goodsrb', 'Soini T', 'Raard B', 'ItAnuna', 'Dhistee', 'AWharan', 'WoarkEm', 'Eladero', 'Prodsm ', 'Lancya ', 'KBityo ', 'Oreldhi', 'VaMarll', 'J isear', 'Akncyes', 'Adsia F', 'MaeamSu', 'Smentha', 'SLestde', 'Pantym ', 'SoageHe', 'DSsicky', 'Reiteee', 'Pridsi ', 'Etuney ', 'Seardac', 'Kencyes', 'Shelash', 'Shentpa', 'JPoldGo', 'Shncyes', 'Bhncy V', 'Gaodsch', 'Javasi ', 'SoineJa', 'Oca 2 V', 'Aconyit', 'MVisear', 'Mas 2 H', 'Vauna F', 'BDlexHo', 'Inntsa ', 'Dhnts A', 'Vasta C', 'Ardanru', 'Sothadr', 'Oaines ', 'SViseun', 'SJityVe', 'CoapeSo', 'Agtiaur', 'Omaveai', 'Saageat', 'SLtraks', 'R ra  R', 'Exitym ', 'GoandAc', 'HintsAp', 'Elayabh', 'Covelrs', 'Vaoodar', 'Icaryan', 'Prvanai', 'GoAirej', 'ReudePr', 'Asuceis', 'Anncyar', 'Vithm R', 'SJces R', 'HMityld', 'Pantsce', 'MAnceun', 'Shers S', 'NDiteio', 'Brtiael', 'Apion M', 'J axyGa', 'VBvenal', 'Grterrr', 'ViisePa', 'Alnorrm', 'Ozquaba', 'Pamesy ', 'Trows M', 'PrianM ', 'ARncy R', 'VMianri', 'CharkR ', 'Prone M', 'Clood E', 'Srers T', 'MCnexva', 'M denGa', 'Koowsis', 'Silusti', 'Bhhmi L', 'Nileyap', 'P num P', 'Saavenc', 'SagasSa', 'GKityel', 'SraveHi', 'AraraSa', 'MyhtsHe', 'MJtroty', 'Prianhi', 'Kantsce', 'Flretes', 'Kut 3or', 'DSestSt', 'ARestco', 'Jeshan ', 'Guenoa ', 'Mancy R', 'Chaldi ', 'Adxira ', 'Shentnd', 'AjityIn', 'SaodySa', 'Prsichi', 'SSityri', 'Dwntsli', 'Raaden ', 'Vancyat', 'Malex C', 'Hahtsde', 'Dieldli', 'SuentAp', 'Kaamai ', 'Calyxy ', 'MRsicla', 'TGeepga', 'SStusan', 'Cadel C', 'SVon hn', 'Ceral C', 'Siayayo', 'Spensas', 'BancyRe', 'Naandit', 'Srncyya', 'AdentEl', 'Suhamra', 'JDensar', 'DSncele', 'Apntsal', 'Asncy P', 'Inenshe', 'VisicCl', 'SuezeLa', 'Saoneil', 'Mosom B', 'Hirio L', 'Seasare', 'Pranai ', 'SyidaCr', 'Brersld', 'Siilka ', 'Mahtsba', 'Srtasno', 'Sravea ', 'SuaveRa', 'Vandaac', 'Ceiti I', 'Maows M', 'Niarknt', 'Satanan', 'PrestSe', 'JaaldEm', 'MB-laan', 'Kelia R', 'Asncywo'}\n",
            "bath sets {nan, 1.0, 2.0, 3.0, 4.0, 5.0, 6.0, 7.0, 8.0, 9.0, nan, nan, nan, nan, nan, nan, 11.0, 10.0, 14.0, 12.0, 16.0, 15.0, 13.0, 18.0, 27.0, nan, nan, nan, nan, nan, nan, nan, nan, nan, nan, 40.0, nan, nan, nan, nan, nan, nan, nan, nan, nan, nan, nan, nan, nan, nan, nan, nan, nan, nan, nan, nan, nan, nan, nan, nan, nan, nan, nan, nan, nan, nan, nan, nan, nan, nan, nan, nan, nan, nan, nan, nan, nan, nan, nan, nan, nan, nan, nan, nan, nan, nan, nan, nan, nan, nan, nan, nan}\n",
            "balcony sets {nan, 1.0, nan, 3.0, nan, 2.0, 0.0, nan, nan, nan, nan, nan, nan, nan, nan, nan, nan, nan, nan, nan, nan, nan, nan, nan, nan, nan, nan, nan, nan, nan, nan, nan, nan, nan, nan, nan, nan, nan, nan, nan, nan, nan, nan, nan, nan, nan, nan, nan, nan, nan, nan, nan, nan, nan, nan, nan, nan, nan, nan, nan, nan, nan, nan, nan, nan, nan, nan, nan, nan, nan, nan, nan, nan, nan, nan, nan, nan, nan, nan, nan, nan, nan, nan, nan, nan, nan, nan, nan, nan, nan, nan, nan, nan, nan, nan, nan, nan, nan, nan, nan, nan, nan, nan, nan, nan, nan, nan, nan, nan, nan, nan, nan, nan, nan, nan, nan, nan, nan, nan, nan, nan, nan, nan, nan, nan, nan, nan, nan, nan, nan, nan, nan, nan, nan, nan, nan, nan, nan, nan, nan, nan, nan, nan, nan, nan, nan, nan, nan, nan, nan, nan, nan, nan, nan, nan, nan, nan, nan, nan, nan, nan, nan, nan, nan, nan, nan, nan, nan, nan, nan, nan, nan, nan, nan, nan, nan, nan, nan, nan, nan, nan, nan, nan, nan, nan, nan, nan, nan, nan, nan, nan, nan, nan, nan, nan, nan, nan, nan, nan, nan, nan, nan, nan, nan, nan, nan, nan, nan, nan, nan, nan, nan, nan, nan, nan, nan, nan, nan, nan, nan, nan, nan, nan, nan, nan, nan, nan, nan, nan, nan, nan, nan, nan, nan, nan, nan, nan, nan, nan, nan, nan, nan, nan, nan, nan, nan, nan, nan, nan, nan, nan, nan, nan, nan, nan, nan, nan, nan, nan, nan, nan, nan, nan, nan, nan, nan, nan, nan, nan, nan, nan, nan, nan, nan, nan, nan, nan, nan, nan, nan, nan, nan, nan, nan, nan, nan, nan, nan, nan, nan, nan, nan, nan, nan, nan, nan, nan, nan, nan, nan, nan, nan, nan, nan, nan, nan, nan, nan, nan, nan, nan, nan, nan, nan, nan, nan, nan, nan, nan, nan, nan, nan, nan, nan, nan, nan, nan, nan, nan, nan, nan, nan, nan, nan, nan, nan, nan, nan, nan, nan, nan, nan, nan, nan, nan, nan, nan, nan, nan, nan, nan, nan, nan, nan, nan, nan, nan, nan, nan, nan, nan, nan, nan, nan, nan, nan, nan, nan, nan, nan, nan, nan, nan, nan, nan, nan, nan, nan, nan, nan, nan, nan, nan, nan, nan, nan, nan, nan, nan, nan, nan, nan, nan, nan, nan, nan, nan, nan, nan, nan, nan, nan, nan, nan, nan, nan, nan, nan, nan, nan, nan, nan, nan, nan, nan, nan, nan, nan, nan, nan, nan, nan, nan, nan, nan, nan, nan, nan, nan, nan, nan, nan, nan, nan, nan, nan, nan, nan, nan, nan, nan, nan, nan, nan, nan, nan, nan, nan, nan, nan, nan, nan, nan, nan, nan, nan, nan, nan, nan, nan, nan, nan, nan, nan, nan, nan, nan, nan, nan, nan, nan, nan, nan, nan, nan, nan, nan, nan, nan, nan, nan, nan, nan, nan, nan, nan, nan, nan, nan, nan, nan, nan, nan, nan, nan, nan, nan, nan, nan, nan, nan, nan, nan, nan, nan, nan, nan, nan, nan, nan, nan, nan, nan, nan, nan, nan, nan, nan, nan, nan, nan, nan, nan, nan, nan, nan, nan, nan, nan, nan, nan, nan, nan, nan, nan, nan, nan, nan, nan, nan, nan, nan, nan, nan, nan, nan, nan, nan, nan, nan, nan, nan, nan, nan, nan, nan, nan, nan, nan, nan, nan, nan, nan, nan, nan, nan, nan, nan, nan, nan, nan, nan, nan, nan, nan, nan, nan, nan, nan, nan, nan, nan, nan, nan, nan, nan, nan, nan, nan, nan, nan, nan, nan, nan, nan, nan, nan, nan, nan, nan, nan, nan, nan, nan, nan, nan, nan, nan, nan, nan, nan, nan, nan}\n"
          ]
        }
      ]
    },
    {
      "cell_type": "code",
      "source": [
        "df['area_type'].unique()"
      ],
      "metadata": {
        "colab": {
          "base_uri": "https://localhost:8080/"
        },
        "id": "16CRf5mTpWXE",
        "outputId": "2da8a11f-2e99-4206-bb5b-876ad73f9872"
      },
      "execution_count": 15,
      "outputs": [
        {
          "output_type": "execute_result",
          "data": {
            "text/plain": [
              "array(['Super built-up  Area', 'Plot  Area', 'Built-up  Area',\n",
              "       'Carpet  Area'], dtype=object)"
            ]
          },
          "metadata": {},
          "execution_count": 15
        }
      ]
    },
    {
      "cell_type": "code",
      "source": [
        "df['area_type'].value_counts()"
      ],
      "metadata": {
        "colab": {
          "base_uri": "https://localhost:8080/"
        },
        "id": "xLEZprorpdsz",
        "outputId": "c3a6af4d-0cff-4f28-906e-bc000c926a8c"
      },
      "execution_count": 16,
      "outputs": [
        {
          "output_type": "execute_result",
          "data": {
            "text/plain": [
              "Super built-up  Area    8790\n",
              "Built-up  Area          2418\n",
              "Plot  Area              2025\n",
              "Carpet  Area              87\n",
              "Name: area_type, dtype: int64"
            ]
          },
          "metadata": {},
          "execution_count": 16
        }
      ]
    },
    {
      "cell_type": "markdown",
      "source": [
        "##Drop features that are not required to build our model"
      ],
      "metadata": {
        "id": "tAtCpUAZq8CF"
      }
    },
    {
      "cell_type": "code",
      "source": [
        "df1 = df.drop(['area_type','society','balcony','availability'],axis='columns')\n",
        "df1.shape"
      ],
      "metadata": {
        "colab": {
          "base_uri": "https://localhost:8080/"
        },
        "id": "a6GLbRCTpiFj",
        "outputId": "eaf81ea4-c966-46f1-c6bd-63c75559eae3"
      },
      "execution_count": 17,
      "outputs": [
        {
          "output_type": "execute_result",
          "data": {
            "text/plain": [
              "(13320, 5)"
            ]
          },
          "metadata": {},
          "execution_count": 17
        }
      ]
    },
    {
      "cell_type": "markdown",
      "source": [
        "##Data Cleaning: Handle NA values"
      ],
      "metadata": {
        "id": "JKEsVMYwq1_V"
      }
    },
    {
      "cell_type": "code",
      "source": [
        "df1.isnull().sum()"
      ],
      "metadata": {
        "colab": {
          "base_uri": "https://localhost:8080/"
        },
        "id": "6LhkDeSrpiAz",
        "outputId": "7c8416c9-5106-49ea-bea7-fc17a6b31b07"
      },
      "execution_count": 19,
      "outputs": [
        {
          "output_type": "execute_result",
          "data": {
            "text/plain": [
              "location       1\n",
              "size          16\n",
              "total_sqft     0\n",
              "bath          73\n",
              "price          0\n",
              "dtype: int64"
            ]
          },
          "metadata": {},
          "execution_count": 19
        }
      ]
    },
    {
      "cell_type": "code",
      "source": [
        "bath_m = df1.bath.median()\n",
        "bath_m"
      ],
      "metadata": {
        "colab": {
          "base_uri": "https://localhost:8080/"
        },
        "id": "EnuMx3PTYJXN",
        "outputId": "cee3c4fc-7d36-47a1-c818-2d810f6b309f"
      },
      "execution_count": 22,
      "outputs": [
        {
          "output_type": "execute_result",
          "data": {
            "text/plain": [
              "2.0"
            ]
          },
          "metadata": {},
          "execution_count": 22
        }
      ]
    },
    {
      "cell_type": "code",
      "source": [
        "df1['bath'].fillna(value= bath_m, inplace = True)\n",
        "df1.bath.unique()"
      ],
      "metadata": {
        "colab": {
          "base_uri": "https://localhost:8080/"
        },
        "id": "W7gyU1NFhlXB",
        "outputId": "6e58e66f-70ec-40a3-9349-57d097d0b529"
      },
      "execution_count": 23,
      "outputs": [
        {
          "output_type": "execute_result",
          "data": {
            "text/plain": [
              "array([ 2.,  5.,  3.,  4.,  6.,  1.,  9.,  8.,  7., 11., 10., 14., 27.,\n",
              "       12., 16., 40., 15., 13., 18.])"
            ]
          },
          "metadata": {},
          "execution_count": 23
        }
      ]
    },
    {
      "cell_type": "code",
      "source": [
        "df2 = df1.dropna()"
      ],
      "metadata": {
        "id": "lroWuQc1ph-S"
      },
      "execution_count": 24,
      "outputs": []
    },
    {
      "cell_type": "code",
      "source": [
        "df2.isnull().sum()"
      ],
      "metadata": {
        "colab": {
          "base_uri": "https://localhost:8080/"
        },
        "id": "_UHgXZ9hph1v",
        "outputId": "d7c6ac3b-2a4c-470a-846a-5c96b672c672"
      },
      "execution_count": 25,
      "outputs": [
        {
          "output_type": "execute_result",
          "data": {
            "text/plain": [
              "location      0\n",
              "size          0\n",
              "total_sqft    0\n",
              "bath          0\n",
              "price         0\n",
              "dtype: int64"
            ]
          },
          "metadata": {},
          "execution_count": 25
        }
      ]
    },
    {
      "cell_type": "code",
      "source": [
        "df2['size'].unique()"
      ],
      "metadata": {
        "colab": {
          "base_uri": "https://localhost:8080/"
        },
        "id": "CnJUA4ofYJR-",
        "outputId": "99485d38-be7b-4148-d433-0b25e9054c68"
      },
      "execution_count": 26,
      "outputs": [
        {
          "output_type": "execute_result",
          "data": {
            "text/plain": [
              "array(['2 BHK', '4 Bedroom', '3 BHK', '4 BHK', '6 Bedroom', '3 Bedroom',\n",
              "       '1 BHK', '1 RK', '1 Bedroom', '8 Bedroom', '2 Bedroom',\n",
              "       '7 Bedroom', '5 BHK', '7 BHK', '6 BHK', '5 Bedroom', '11 BHK',\n",
              "       '9 BHK', '9 Bedroom', '27 BHK', '10 Bedroom', '11 Bedroom',\n",
              "       '10 BHK', '19 BHK', '16 BHK', '43 Bedroom', '14 BHK', '8 BHK',\n",
              "       '12 Bedroom', '13 BHK', '18 Bedroom'], dtype=object)"
            ]
          },
          "metadata": {},
          "execution_count": 26
        }
      ]
    },
    {
      "cell_type": "code",
      "source": [
        "df2.shape"
      ],
      "metadata": {
        "colab": {
          "base_uri": "https://localhost:8080/"
        },
        "id": "sLH17TCArloe",
        "outputId": "e837e4aa-f802-4657-fc6f-db1c7cbec04a"
      },
      "execution_count": 27,
      "outputs": [
        {
          "output_type": "execute_result",
          "data": {
            "text/plain": [
              "(13303, 5)"
            ]
          },
          "metadata": {},
          "execution_count": 27
        }
      ]
    },
    {
      "cell_type": "code",
      "source": [],
      "metadata": {
        "id": "exf_xOF9rllw"
      },
      "execution_count": null,
      "outputs": []
    },
    {
      "cell_type": "markdown",
      "source": [
        "##Feature Engineering"
      ],
      "metadata": {
        "id": "vie5n2pXrpGD"
      }
    },
    {
      "cell_type": "markdown",
      "source": [
        "Add new feature(integer) for bhk"
      ],
      "metadata": {
        "id": "YQwJDoOArzSd"
      }
    },
    {
      "cell_type": "code",
      "source": [
        "df2['size'].unique()"
      ],
      "metadata": {
        "colab": {
          "base_uri": "https://localhost:8080/"
        },
        "id": "uEA5oswElK2H",
        "outputId": "b1b8646a-7aff-4c57-b52f-9fc40f9d547a"
      },
      "execution_count": 28,
      "outputs": [
        {
          "output_type": "execute_result",
          "data": {
            "text/plain": [
              "array(['2 BHK', '4 Bedroom', '3 BHK', '4 BHK', '6 Bedroom', '3 Bedroom',\n",
              "       '1 BHK', '1 RK', '1 Bedroom', '8 Bedroom', '2 Bedroom',\n",
              "       '7 Bedroom', '5 BHK', '7 BHK', '6 BHK', '5 Bedroom', '11 BHK',\n",
              "       '9 BHK', '9 Bedroom', '27 BHK', '10 Bedroom', '11 Bedroom',\n",
              "       '10 BHK', '19 BHK', '16 BHK', '43 Bedroom', '14 BHK', '8 BHK',\n",
              "       '12 Bedroom', '13 BHK', '18 Bedroom'], dtype=object)"
            ]
          },
          "metadata": {},
          "execution_count": 28
        }
      ]
    },
    {
      "cell_type": "code",
      "source": [
        "df2[['bhk', 'suffx']] = df2['size'].str.split(' ', 1, expand=True)"
      ],
      "metadata": {
        "id": "HCCLpIDjlOFL",
        "colab": {
          "base_uri": "https://localhost:8080/"
        },
        "outputId": "375dba89-c695-421e-b2a7-1c4e58963e35"
      },
      "execution_count": 29,
      "outputs": [
        {
          "output_type": "stream",
          "name": "stderr",
          "text": [
            "/usr/local/lib/python3.7/dist-packages/pandas/core/frame.py:3641: SettingWithCopyWarning: \n",
            "A value is trying to be set on a copy of a slice from a DataFrame.\n",
            "Try using .loc[row_indexer,col_indexer] = value instead\n",
            "\n",
            "See the caveats in the documentation: https://pandas.pydata.org/pandas-docs/stable/user_guide/indexing.html#returning-a-view-versus-a-copy\n",
            "  self[k1] = value[k2]\n"
          ]
        }
      ]
    },
    {
      "cell_type": "code",
      "source": [
        "df2.head()"
      ],
      "metadata": {
        "colab": {
          "base_uri": "https://localhost:8080/",
          "height": 206
        },
        "id": "bo0hSWcksojG",
        "outputId": "eeb5280b-01da-4dc4-e9f7-308efa5fb4fb"
      },
      "execution_count": 30,
      "outputs": [
        {
          "output_type": "execute_result",
          "data": {
            "text/plain": [
              "                   location       size total_sqft  bath   price bhk    suffx\n",
              "0  Electronic City Phase II      2 BHK       1056   2.0   39.07   2      BHK\n",
              "1          Chikka Tirupathi  4 Bedroom       2600   5.0  120.00   4  Bedroom\n",
              "2               Uttarahalli      3 BHK       1440   2.0   62.00   3      BHK\n",
              "3        Lingadheeranahalli      3 BHK       1521   3.0   95.00   3      BHK\n",
              "4                  Kothanur      2 BHK       1200   2.0   51.00   2      BHK"
            ],
            "text/html": [
              "\n",
              "  <div id=\"df-b46fe98f-d3b9-432a-adc3-2b91a879db11\">\n",
              "    <div class=\"colab-df-container\">\n",
              "      <div>\n",
              "<style scoped>\n",
              "    .dataframe tbody tr th:only-of-type {\n",
              "        vertical-align: middle;\n",
              "    }\n",
              "\n",
              "    .dataframe tbody tr th {\n",
              "        vertical-align: top;\n",
              "    }\n",
              "\n",
              "    .dataframe thead th {\n",
              "        text-align: right;\n",
              "    }\n",
              "</style>\n",
              "<table border=\"1\" class=\"dataframe\">\n",
              "  <thead>\n",
              "    <tr style=\"text-align: right;\">\n",
              "      <th></th>\n",
              "      <th>location</th>\n",
              "      <th>size</th>\n",
              "      <th>total_sqft</th>\n",
              "      <th>bath</th>\n",
              "      <th>price</th>\n",
              "      <th>bhk</th>\n",
              "      <th>suffx</th>\n",
              "    </tr>\n",
              "  </thead>\n",
              "  <tbody>\n",
              "    <tr>\n",
              "      <th>0</th>\n",
              "      <td>Electronic City Phase II</td>\n",
              "      <td>2 BHK</td>\n",
              "      <td>1056</td>\n",
              "      <td>2.0</td>\n",
              "      <td>39.07</td>\n",
              "      <td>2</td>\n",
              "      <td>BHK</td>\n",
              "    </tr>\n",
              "    <tr>\n",
              "      <th>1</th>\n",
              "      <td>Chikka Tirupathi</td>\n",
              "      <td>4 Bedroom</td>\n",
              "      <td>2600</td>\n",
              "      <td>5.0</td>\n",
              "      <td>120.00</td>\n",
              "      <td>4</td>\n",
              "      <td>Bedroom</td>\n",
              "    </tr>\n",
              "    <tr>\n",
              "      <th>2</th>\n",
              "      <td>Uttarahalli</td>\n",
              "      <td>3 BHK</td>\n",
              "      <td>1440</td>\n",
              "      <td>2.0</td>\n",
              "      <td>62.00</td>\n",
              "      <td>3</td>\n",
              "      <td>BHK</td>\n",
              "    </tr>\n",
              "    <tr>\n",
              "      <th>3</th>\n",
              "      <td>Lingadheeranahalli</td>\n",
              "      <td>3 BHK</td>\n",
              "      <td>1521</td>\n",
              "      <td>3.0</td>\n",
              "      <td>95.00</td>\n",
              "      <td>3</td>\n",
              "      <td>BHK</td>\n",
              "    </tr>\n",
              "    <tr>\n",
              "      <th>4</th>\n",
              "      <td>Kothanur</td>\n",
              "      <td>2 BHK</td>\n",
              "      <td>1200</td>\n",
              "      <td>2.0</td>\n",
              "      <td>51.00</td>\n",
              "      <td>2</td>\n",
              "      <td>BHK</td>\n",
              "    </tr>\n",
              "  </tbody>\n",
              "</table>\n",
              "</div>\n",
              "      <button class=\"colab-df-convert\" onclick=\"convertToInteractive('df-b46fe98f-d3b9-432a-adc3-2b91a879db11')\"\n",
              "              title=\"Convert this dataframe to an interactive table.\"\n",
              "              style=\"display:none;\">\n",
              "        \n",
              "  <svg xmlns=\"http://www.w3.org/2000/svg\" height=\"24px\"viewBox=\"0 0 24 24\"\n",
              "       width=\"24px\">\n",
              "    <path d=\"M0 0h24v24H0V0z\" fill=\"none\"/>\n",
              "    <path d=\"M18.56 5.44l.94 2.06.94-2.06 2.06-.94-2.06-.94-.94-2.06-.94 2.06-2.06.94zm-11 1L8.5 8.5l.94-2.06 2.06-.94-2.06-.94L8.5 2.5l-.94 2.06-2.06.94zm10 10l.94 2.06.94-2.06 2.06-.94-2.06-.94-.94-2.06-.94 2.06-2.06.94z\"/><path d=\"M17.41 7.96l-1.37-1.37c-.4-.4-.92-.59-1.43-.59-.52 0-1.04.2-1.43.59L10.3 9.45l-7.72 7.72c-.78.78-.78 2.05 0 2.83L4 21.41c.39.39.9.59 1.41.59.51 0 1.02-.2 1.41-.59l7.78-7.78 2.81-2.81c.8-.78.8-2.07 0-2.86zM5.41 20L4 18.59l7.72-7.72 1.47 1.35L5.41 20z\"/>\n",
              "  </svg>\n",
              "      </button>\n",
              "      \n",
              "  <style>\n",
              "    .colab-df-container {\n",
              "      display:flex;\n",
              "      flex-wrap:wrap;\n",
              "      gap: 12px;\n",
              "    }\n",
              "\n",
              "    .colab-df-convert {\n",
              "      background-color: #E8F0FE;\n",
              "      border: none;\n",
              "      border-radius: 50%;\n",
              "      cursor: pointer;\n",
              "      display: none;\n",
              "      fill: #1967D2;\n",
              "      height: 32px;\n",
              "      padding: 0 0 0 0;\n",
              "      width: 32px;\n",
              "    }\n",
              "\n",
              "    .colab-df-convert:hover {\n",
              "      background-color: #E2EBFA;\n",
              "      box-shadow: 0px 1px 2px rgba(60, 64, 67, 0.3), 0px 1px 3px 1px rgba(60, 64, 67, 0.15);\n",
              "      fill: #174EA6;\n",
              "    }\n",
              "\n",
              "    [theme=dark] .colab-df-convert {\n",
              "      background-color: #3B4455;\n",
              "      fill: #D2E3FC;\n",
              "    }\n",
              "\n",
              "    [theme=dark] .colab-df-convert:hover {\n",
              "      background-color: #434B5C;\n",
              "      box-shadow: 0px 1px 3px 1px rgba(0, 0, 0, 0.15);\n",
              "      filter: drop-shadow(0px 1px 2px rgba(0, 0, 0, 0.3));\n",
              "      fill: #FFFFFF;\n",
              "    }\n",
              "  </style>\n",
              "\n",
              "      <script>\n",
              "        const buttonEl =\n",
              "          document.querySelector('#df-b46fe98f-d3b9-432a-adc3-2b91a879db11 button.colab-df-convert');\n",
              "        buttonEl.style.display =\n",
              "          google.colab.kernel.accessAllowed ? 'block' : 'none';\n",
              "\n",
              "        async function convertToInteractive(key) {\n",
              "          const element = document.querySelector('#df-b46fe98f-d3b9-432a-adc3-2b91a879db11');\n",
              "          const dataTable =\n",
              "            await google.colab.kernel.invokeFunction('convertToInteractive',\n",
              "                                                     [key], {});\n",
              "          if (!dataTable) return;\n",
              "\n",
              "          const docLinkHtml = 'Like what you see? Visit the ' +\n",
              "            '<a target=\"_blank\" href=https://colab.research.google.com/notebooks/data_table.ipynb>data table notebook</a>'\n",
              "            + ' to learn more about interactive tables.';\n",
              "          element.innerHTML = '';\n",
              "          dataTable['output_type'] = 'display_data';\n",
              "          await google.colab.output.renderOutput(dataTable, element);\n",
              "          const docLink = document.createElement('div');\n",
              "          docLink.innerHTML = docLinkHtml;\n",
              "          element.appendChild(docLink);\n",
              "        }\n",
              "      </script>\n",
              "    </div>\n",
              "  </div>\n",
              "  "
            ]
          },
          "metadata": {},
          "execution_count": 30
        }
      ]
    },
    {
      "cell_type": "markdown",
      "source": [
        "total_sqft feature"
      ],
      "metadata": {
        "id": "cyk2yVvetMk4"
      }
    },
    {
      "cell_type": "code",
      "source": [
        "df2['total_sqft'].unique()"
      ],
      "metadata": {
        "colab": {
          "base_uri": "https://localhost:8080/"
        },
        "outputId": "6100ed87-5a70-4007-980c-b20a0379d1a2",
        "id": "533W9T2itZ0m"
      },
      "execution_count": 35,
      "outputs": [
        {
          "output_type": "execute_result",
          "data": {
            "text/plain": [
              "array(['1056', '2600', '1440', ..., '1133 - 1384', '774', '4689'],\n",
              "      dtype=object)"
            ]
          },
          "metadata": {},
          "execution_count": 35
        }
      ]
    },
    {
      "cell_type": "code",
      "source": [
        "# converting total_sqft  into a float using funtion\n",
        "def convertRange(x):\n",
        "    temp = x.split('-')\n",
        "    if len(temp)==2:\n",
        "        return (float(temp[0]) + float(temp[1]))/2\n",
        "    try:\n",
        "        return float(x)\n",
        "    except :\n",
        "        return None"
      ],
      "metadata": {
        "id": "WLQfVF0TtZ0n"
      },
      "execution_count": 36,
      "outputs": []
    },
    {
      "cell_type": "code",
      "source": [
        "df2['total_sqft'] = df2['total_sqft'].apply(convertRange)"
      ],
      "metadata": {
        "colab": {
          "base_uri": "https://localhost:8080/"
        },
        "id": "LytNuScktZ0n",
        "outputId": "b64b84b1-3aed-450d-c887-5c239036f4b3"
      },
      "execution_count": 37,
      "outputs": [
        {
          "output_type": "stream",
          "name": "stderr",
          "text": [
            "/usr/local/lib/python3.7/dist-packages/ipykernel_launcher.py:1: SettingWithCopyWarning: \n",
            "A value is trying to be set on a copy of a slice from a DataFrame.\n",
            "Try using .loc[row_indexer,col_indexer] = value instead\n",
            "\n",
            "See the caveats in the documentation: https://pandas.pydata.org/pandas-docs/stable/user_guide/indexing.html#returning-a-view-versus-a-copy\n",
            "  \"\"\"Entry point for launching an IPython kernel.\n"
          ]
        }
      ]
    },
    {
      "cell_type": "code",
      "source": [
        "df2['total_sqft'].unique()"
      ],
      "metadata": {
        "colab": {
          "base_uri": "https://localhost:8080/"
        },
        "id": "8_2f6TFDsSQ9",
        "outputId": "a49170e3-1669-4089-c84e-08be5e6534d6"
      },
      "execution_count": 38,
      "outputs": [
        {
          "output_type": "execute_result",
          "data": {
            "text/plain": [
              "array([1056. , 2600. , 1440. , ..., 1258.5,  774. , 4689. ])"
            ]
          },
          "metadata": {},
          "execution_count": 38
        }
      ]
    },
    {
      "cell_type": "markdown",
      "source": [
        "Add new feature called \"price per square feet\""
      ],
      "metadata": {
        "id": "Doomnoq8t7BG"
      }
    },
    {
      "cell_type": "code",
      "source": [
        "df2['price_per_sqft'] = df2['price']*100000/df2['total_sqft']\n",
        "df2.head()"
      ],
      "metadata": {
        "colab": {
          "base_uri": "https://localhost:8080/",
          "height": 310
        },
        "id": "4E9zaa5osSOl",
        "outputId": "d21ae721-b75d-407a-b0ea-d51e970cb143"
      },
      "execution_count": 39,
      "outputs": [
        {
          "output_type": "stream",
          "name": "stderr",
          "text": [
            "/usr/local/lib/python3.7/dist-packages/ipykernel_launcher.py:1: SettingWithCopyWarning: \n",
            "A value is trying to be set on a copy of a slice from a DataFrame.\n",
            "Try using .loc[row_indexer,col_indexer] = value instead\n",
            "\n",
            "See the caveats in the documentation: https://pandas.pydata.org/pandas-docs/stable/user_guide/indexing.html#returning-a-view-versus-a-copy\n",
            "  \"\"\"Entry point for launching an IPython kernel.\n"
          ]
        },
        {
          "output_type": "execute_result",
          "data": {
            "text/plain": [
              "                   location       size  total_sqft  bath   price bhk    suffx  \\\n",
              "0  Electronic City Phase II      2 BHK      1056.0   2.0   39.07   2      BHK   \n",
              "1          Chikka Tirupathi  4 Bedroom      2600.0   5.0  120.00   4  Bedroom   \n",
              "2               Uttarahalli      3 BHK      1440.0   2.0   62.00   3      BHK   \n",
              "3        Lingadheeranahalli      3 BHK      1521.0   3.0   95.00   3      BHK   \n",
              "4                  Kothanur      2 BHK      1200.0   2.0   51.00   2      BHK   \n",
              "\n",
              "   price_per_sqft  \n",
              "0     3699.810606  \n",
              "1     4615.384615  \n",
              "2     4305.555556  \n",
              "3     6245.890861  \n",
              "4     4250.000000  "
            ],
            "text/html": [
              "\n",
              "  <div id=\"df-b7a51a18-147f-4457-8cad-10e0f4032385\">\n",
              "    <div class=\"colab-df-container\">\n",
              "      <div>\n",
              "<style scoped>\n",
              "    .dataframe tbody tr th:only-of-type {\n",
              "        vertical-align: middle;\n",
              "    }\n",
              "\n",
              "    .dataframe tbody tr th {\n",
              "        vertical-align: top;\n",
              "    }\n",
              "\n",
              "    .dataframe thead th {\n",
              "        text-align: right;\n",
              "    }\n",
              "</style>\n",
              "<table border=\"1\" class=\"dataframe\">\n",
              "  <thead>\n",
              "    <tr style=\"text-align: right;\">\n",
              "      <th></th>\n",
              "      <th>location</th>\n",
              "      <th>size</th>\n",
              "      <th>total_sqft</th>\n",
              "      <th>bath</th>\n",
              "      <th>price</th>\n",
              "      <th>bhk</th>\n",
              "      <th>suffx</th>\n",
              "      <th>price_per_sqft</th>\n",
              "    </tr>\n",
              "  </thead>\n",
              "  <tbody>\n",
              "    <tr>\n",
              "      <th>0</th>\n",
              "      <td>Electronic City Phase II</td>\n",
              "      <td>2 BHK</td>\n",
              "      <td>1056.0</td>\n",
              "      <td>2.0</td>\n",
              "      <td>39.07</td>\n",
              "      <td>2</td>\n",
              "      <td>BHK</td>\n",
              "      <td>3699.810606</td>\n",
              "    </tr>\n",
              "    <tr>\n",
              "      <th>1</th>\n",
              "      <td>Chikka Tirupathi</td>\n",
              "      <td>4 Bedroom</td>\n",
              "      <td>2600.0</td>\n",
              "      <td>5.0</td>\n",
              "      <td>120.00</td>\n",
              "      <td>4</td>\n",
              "      <td>Bedroom</td>\n",
              "      <td>4615.384615</td>\n",
              "    </tr>\n",
              "    <tr>\n",
              "      <th>2</th>\n",
              "      <td>Uttarahalli</td>\n",
              "      <td>3 BHK</td>\n",
              "      <td>1440.0</td>\n",
              "      <td>2.0</td>\n",
              "      <td>62.00</td>\n",
              "      <td>3</td>\n",
              "      <td>BHK</td>\n",
              "      <td>4305.555556</td>\n",
              "    </tr>\n",
              "    <tr>\n",
              "      <th>3</th>\n",
              "      <td>Lingadheeranahalli</td>\n",
              "      <td>3 BHK</td>\n",
              "      <td>1521.0</td>\n",
              "      <td>3.0</td>\n",
              "      <td>95.00</td>\n",
              "      <td>3</td>\n",
              "      <td>BHK</td>\n",
              "      <td>6245.890861</td>\n",
              "    </tr>\n",
              "    <tr>\n",
              "      <th>4</th>\n",
              "      <td>Kothanur</td>\n",
              "      <td>2 BHK</td>\n",
              "      <td>1200.0</td>\n",
              "      <td>2.0</td>\n",
              "      <td>51.00</td>\n",
              "      <td>2</td>\n",
              "      <td>BHK</td>\n",
              "      <td>4250.000000</td>\n",
              "    </tr>\n",
              "  </tbody>\n",
              "</table>\n",
              "</div>\n",
              "      <button class=\"colab-df-convert\" onclick=\"convertToInteractive('df-b7a51a18-147f-4457-8cad-10e0f4032385')\"\n",
              "              title=\"Convert this dataframe to an interactive table.\"\n",
              "              style=\"display:none;\">\n",
              "        \n",
              "  <svg xmlns=\"http://www.w3.org/2000/svg\" height=\"24px\"viewBox=\"0 0 24 24\"\n",
              "       width=\"24px\">\n",
              "    <path d=\"M0 0h24v24H0V0z\" fill=\"none\"/>\n",
              "    <path d=\"M18.56 5.44l.94 2.06.94-2.06 2.06-.94-2.06-.94-.94-2.06-.94 2.06-2.06.94zm-11 1L8.5 8.5l.94-2.06 2.06-.94-2.06-.94L8.5 2.5l-.94 2.06-2.06.94zm10 10l.94 2.06.94-2.06 2.06-.94-2.06-.94-.94-2.06-.94 2.06-2.06.94z\"/><path d=\"M17.41 7.96l-1.37-1.37c-.4-.4-.92-.59-1.43-.59-.52 0-1.04.2-1.43.59L10.3 9.45l-7.72 7.72c-.78.78-.78 2.05 0 2.83L4 21.41c.39.39.9.59 1.41.59.51 0 1.02-.2 1.41-.59l7.78-7.78 2.81-2.81c.8-.78.8-2.07 0-2.86zM5.41 20L4 18.59l7.72-7.72 1.47 1.35L5.41 20z\"/>\n",
              "  </svg>\n",
              "      </button>\n",
              "      \n",
              "  <style>\n",
              "    .colab-df-container {\n",
              "      display:flex;\n",
              "      flex-wrap:wrap;\n",
              "      gap: 12px;\n",
              "    }\n",
              "\n",
              "    .colab-df-convert {\n",
              "      background-color: #E8F0FE;\n",
              "      border: none;\n",
              "      border-radius: 50%;\n",
              "      cursor: pointer;\n",
              "      display: none;\n",
              "      fill: #1967D2;\n",
              "      height: 32px;\n",
              "      padding: 0 0 0 0;\n",
              "      width: 32px;\n",
              "    }\n",
              "\n",
              "    .colab-df-convert:hover {\n",
              "      background-color: #E2EBFA;\n",
              "      box-shadow: 0px 1px 2px rgba(60, 64, 67, 0.3), 0px 1px 3px 1px rgba(60, 64, 67, 0.15);\n",
              "      fill: #174EA6;\n",
              "    }\n",
              "\n",
              "    [theme=dark] .colab-df-convert {\n",
              "      background-color: #3B4455;\n",
              "      fill: #D2E3FC;\n",
              "    }\n",
              "\n",
              "    [theme=dark] .colab-df-convert:hover {\n",
              "      background-color: #434B5C;\n",
              "      box-shadow: 0px 1px 3px 1px rgba(0, 0, 0, 0.15);\n",
              "      filter: drop-shadow(0px 1px 2px rgba(0, 0, 0, 0.3));\n",
              "      fill: #FFFFFF;\n",
              "    }\n",
              "  </style>\n",
              "\n",
              "      <script>\n",
              "        const buttonEl =\n",
              "          document.querySelector('#df-b7a51a18-147f-4457-8cad-10e0f4032385 button.colab-df-convert');\n",
              "        buttonEl.style.display =\n",
              "          google.colab.kernel.accessAllowed ? 'block' : 'none';\n",
              "\n",
              "        async function convertToInteractive(key) {\n",
              "          const element = document.querySelector('#df-b7a51a18-147f-4457-8cad-10e0f4032385');\n",
              "          const dataTable =\n",
              "            await google.colab.kernel.invokeFunction('convertToInteractive',\n",
              "                                                     [key], {});\n",
              "          if (!dataTable) return;\n",
              "\n",
              "          const docLinkHtml = 'Like what you see? Visit the ' +\n",
              "            '<a target=\"_blank\" href=https://colab.research.google.com/notebooks/data_table.ipynb>data table notebook</a>'\n",
              "            + ' to learn more about interactive tables.';\n",
              "          element.innerHTML = '';\n",
              "          dataTable['output_type'] = 'display_data';\n",
              "          await google.colab.output.renderOutput(dataTable, element);\n",
              "          const docLink = document.createElement('div');\n",
              "          docLink.innerHTML = docLinkHtml;\n",
              "          element.appendChild(docLink);\n",
              "        }\n",
              "      </script>\n",
              "    </div>\n",
              "  </div>\n",
              "  "
            ]
          },
          "metadata": {},
          "execution_count": 39
        }
      ]
    },
    {
      "cell_type": "code",
      "source": [
        "df2['price_per_sqft'].describe()"
      ],
      "metadata": {
        "colab": {
          "base_uri": "https://localhost:8080/"
        },
        "id": "D9oAbwyXsSIk",
        "outputId": "2c898038-3c76-4ea6-bd12-c07380c4025c"
      },
      "execution_count": 40,
      "outputs": [
        {
          "output_type": "execute_result",
          "data": {
            "text/plain": [
              "count    1.325700e+04\n",
              "mean     7.912825e+03\n",
              "std      1.064976e+05\n",
              "min      2.678298e+02\n",
              "25%      4.271186e+03\n",
              "50%      5.438596e+03\n",
              "75%      7.313318e+03\n",
              "max      1.200000e+07\n",
              "Name: price_per_sqft, dtype: float64"
            ]
          },
          "metadata": {},
          "execution_count": 40
        }
      ]
    },
    {
      "cell_type": "code",
      "source": [
        "df2_stats = df2['price_per_sqft'].describe()\n",
        "df2_stats"
      ],
      "metadata": {
        "colab": {
          "base_uri": "https://localhost:8080/"
        },
        "id": "aWOLG097ufH9",
        "outputId": "675514e2-aad6-4e04-fe70-5de8cac10b96"
      },
      "execution_count": 41,
      "outputs": [
        {
          "output_type": "execute_result",
          "data": {
            "text/plain": [
              "count    1.325700e+04\n",
              "mean     7.912825e+03\n",
              "std      1.064976e+05\n",
              "min      2.678298e+02\n",
              "25%      4.271186e+03\n",
              "50%      5.438596e+03\n",
              "75%      7.313318e+03\n",
              "max      1.200000e+07\n",
              "Name: price_per_sqft, dtype: float64"
            ]
          },
          "metadata": {},
          "execution_count": 41
        }
      ]
    },
    {
      "cell_type": "markdown",
      "source": [
        "Examine locations which is a categorical variable."
      ],
      "metadata": {
        "id": "QVcx0oBluot9"
      }
    },
    {
      "cell_type": "code",
      "source": [
        "df2['location'] = df2['location'].apply(lambda x : x.strip())\n",
        "location_stats = df2['location'].value_counts(ascending=False)\n",
        "location_stats"
      ],
      "metadata": {
        "id": "Qho8vFbPt1N7",
        "colab": {
          "base_uri": "https://localhost:8080/"
        },
        "outputId": "294c996d-c686-43d6-9771-c6dcf5597ed9"
      },
      "execution_count": 42,
      "outputs": [
        {
          "output_type": "stream",
          "name": "stderr",
          "text": [
            "/usr/local/lib/python3.7/dist-packages/ipykernel_launcher.py:1: SettingWithCopyWarning: \n",
            "A value is trying to be set on a copy of a slice from a DataFrame.\n",
            "Try using .loc[row_indexer,col_indexer] = value instead\n",
            "\n",
            "See the caveats in the documentation: https://pandas.pydata.org/pandas-docs/stable/user_guide/indexing.html#returning-a-view-versus-a-copy\n",
            "  \"\"\"Entry point for launching an IPython kernel.\n"
          ]
        },
        {
          "output_type": "execute_result",
          "data": {
            "text/plain": [
              "Whitefield                        540\n",
              "Sarjapur  Road                    397\n",
              "Electronic City                   304\n",
              "Kanakpura Road                    273\n",
              "Thanisandra                       237\n",
              "                                 ... \n",
              "Vasantapura main road               1\n",
              "Bapuji Layout                       1\n",
              "1st Stage Radha Krishna Layout      1\n",
              "BEML Layout 5th stage               1\n",
              "Abshot Layout                       1\n",
              "Name: location, Length: 1293, dtype: int64"
            ]
          },
          "metadata": {},
          "execution_count": 42
        }
      ]
    },
    {
      "cell_type": "code",
      "source": [
        "location_stats.values.sum()"
      ],
      "metadata": {
        "colab": {
          "base_uri": "https://localhost:8080/"
        },
        "id": "13lKPMxAufD2",
        "outputId": "6e20871e-59f2-4ada-aa9a-db8b7322be68"
      },
      "execution_count": 43,
      "outputs": [
        {
          "output_type": "execute_result",
          "data": {
            "text/plain": [
              "13303"
            ]
          },
          "metadata": {},
          "execution_count": 43
        }
      ]
    },
    {
      "cell_type": "code",
      "source": [
        "len(location_stats[location_stats>10])"
      ],
      "metadata": {
        "colab": {
          "base_uri": "https://localhost:8080/"
        },
        "id": "Y9nE-G2lufBO",
        "outputId": "ab868dd8-ec16-49de-d280-518967359209"
      },
      "execution_count": 44,
      "outputs": [
        {
          "output_type": "execute_result",
          "data": {
            "text/plain": [
              "241"
            ]
          },
          "metadata": {},
          "execution_count": 44
        }
      ]
    },
    {
      "cell_type": "code",
      "source": [
        "len(location_stats)"
      ],
      "metadata": {
        "colab": {
          "base_uri": "https://localhost:8080/"
        },
        "id": "dy-Swj8Lue86",
        "outputId": "99d471fc-950c-4ff9-80f9-01169e3a76a1"
      },
      "execution_count": 45,
      "outputs": [
        {
          "output_type": "execute_result",
          "data": {
            "text/plain": [
              "1293"
            ]
          },
          "metadata": {},
          "execution_count": 45
        }
      ]
    },
    {
      "cell_type": "code",
      "source": [
        "len(location_stats[location_stats<=10])"
      ],
      "metadata": {
        "colab": {
          "base_uri": "https://localhost:8080/"
        },
        "id": "3-Wbyam4ue6e",
        "outputId": "1479bc39-936a-416b-80e0-6952c4bc2da4"
      },
      "execution_count": 46,
      "outputs": [
        {
          "output_type": "execute_result",
          "data": {
            "text/plain": [
              "1052"
            ]
          },
          "metadata": {},
          "execution_count": 46
        }
      ]
    },
    {
      "cell_type": "code",
      "source": [
        "df3 = df2.loc[:]"
      ],
      "metadata": {
        "id": "vpn1ftjUvs7t"
      },
      "execution_count": 47,
      "outputs": []
    },
    {
      "cell_type": "markdown",
      "source": [
        "##Dimensionality Reduction"
      ],
      "metadata": {
        "id": "mHLsrpgevpsd"
      }
    },
    {
      "cell_type": "code",
      "source": [
        "location_stats_less_than_10 = location_stats[location_stats<=10]\n",
        "location_stats_less_than_10"
      ],
      "metadata": {
        "colab": {
          "base_uri": "https://localhost:8080/"
        },
        "id": "BZsZZSqtue2H",
        "outputId": "7bb994fc-86c6-47cd-e350-75e10843f664"
      },
      "execution_count": 48,
      "outputs": [
        {
          "output_type": "execute_result",
          "data": {
            "text/plain": [
              "Dairy Circle                      10\n",
              "Nagappa Reddy Layout              10\n",
              "Basapura                          10\n",
              "1st Block Koramangala             10\n",
              "Sector 1 HSR Layout               10\n",
              "                                  ..\n",
              "Vasantapura main road              1\n",
              "Bapuji Layout                      1\n",
              "1st Stage Radha Krishna Layout     1\n",
              "BEML Layout 5th stage              1\n",
              "Abshot Layout                      1\n",
              "Name: location, Length: 1052, dtype: int64"
            ]
          },
          "metadata": {},
          "execution_count": 48
        }
      ]
    },
    {
      "cell_type": "code",
      "source": [
        "len(df3.location.unique())"
      ],
      "metadata": {
        "colab": {
          "base_uri": "https://localhost:8080/"
        },
        "id": "yf0FEMQKwBIW",
        "outputId": "4ef14ad1-e423-4a42-92d9-3db2e54a248d"
      },
      "execution_count": 50,
      "outputs": [
        {
          "output_type": "execute_result",
          "data": {
            "text/plain": [
              "1293"
            ]
          },
          "metadata": {},
          "execution_count": 50
        }
      ]
    },
    {
      "cell_type": "code",
      "source": [
        "df3.location = df3.location.apply(lambda x: 'other' if x in location_stats_less_than_10 else x)\n",
        "len(df3.location.unique())"
      ],
      "metadata": {
        "colab": {
          "base_uri": "https://localhost:8080/"
        },
        "id": "qBUoqV6xwBEn",
        "outputId": "9e1e1825-216c-43ab-b01f-cf3740a6758a"
      },
      "execution_count": 51,
      "outputs": [
        {
          "output_type": "execute_result",
          "data": {
            "text/plain": [
              "242"
            ]
          },
          "metadata": {},
          "execution_count": 51
        }
      ]
    },
    {
      "cell_type": "code",
      "source": [
        "df3.head(20)"
      ],
      "metadata": {
        "colab": {
          "base_uri": "https://localhost:8080/",
          "height": 676
        },
        "id": "BxpqzZHAwBCn",
        "outputId": "0f30ce22-3252-4e6b-9539-5b4e0d6350a9"
      },
      "execution_count": 53,
      "outputs": [
        {
          "output_type": "execute_result",
          "data": {
            "text/plain": [
              "                    location       size  total_sqft  bath   price bhk  \\\n",
              "0   Electronic City Phase II      2 BHK      1056.0   2.0   39.07   2   \n",
              "1           Chikka Tirupathi  4 Bedroom      2600.0   5.0  120.00   4   \n",
              "2                Uttarahalli      3 BHK      1440.0   2.0   62.00   3   \n",
              "3         Lingadheeranahalli      3 BHK      1521.0   3.0   95.00   3   \n",
              "4                   Kothanur      2 BHK      1200.0   2.0   51.00   2   \n",
              "5                 Whitefield      2 BHK      1170.0   2.0   38.00   2   \n",
              "6           Old Airport Road      4 BHK      2732.0   4.0  204.00   4   \n",
              "7               Rajaji Nagar      4 BHK      3300.0   4.0  600.00   4   \n",
              "8               Marathahalli      3 BHK      1310.0   3.0   63.25   3   \n",
              "9                      other  6 Bedroom      1020.0   6.0  370.00   6   \n",
              "10                Whitefield      3 BHK      1800.0   2.0   70.00   3   \n",
              "11                Whitefield  4 Bedroom      2785.0   5.0  295.00   4   \n",
              "12        7th Phase JP Nagar      2 BHK      1000.0   2.0   38.00   2   \n",
              "13                 Gottigere      2 BHK      1100.0   2.0   40.00   2   \n",
              "14                  Sarjapur  3 Bedroom      2250.0   3.0  148.00   3   \n",
              "15               Mysore Road      2 BHK      1175.0   2.0   73.50   2   \n",
              "16             Bisuvanahalli      3 BHK      1180.0   3.0   48.00   3   \n",
              "17     Raja Rajeshwari Nagar      3 BHK      1540.0   3.0   60.00   3   \n",
              "18                     other      3 BHK      2770.0   4.0  290.00   3   \n",
              "19                     other      2 BHK      1100.0   2.0   48.00   2   \n",
              "\n",
              "      suffx  price_per_sqft  \n",
              "0       BHK     3699.810606  \n",
              "1   Bedroom     4615.384615  \n",
              "2       BHK     4305.555556  \n",
              "3       BHK     6245.890861  \n",
              "4       BHK     4250.000000  \n",
              "5       BHK     3247.863248  \n",
              "6       BHK     7467.057101  \n",
              "7       BHK    18181.818182  \n",
              "8       BHK     4828.244275  \n",
              "9   Bedroom    36274.509804  \n",
              "10      BHK     3888.888889  \n",
              "11  Bedroom    10592.459605  \n",
              "12      BHK     3800.000000  \n",
              "13      BHK     3636.363636  \n",
              "14  Bedroom     6577.777778  \n",
              "15      BHK     6255.319149  \n",
              "16      BHK     4067.796610  \n",
              "17      BHK     3896.103896  \n",
              "18      BHK    10469.314079  \n",
              "19      BHK     4363.636364  "
            ],
            "text/html": [
              "\n",
              "  <div id=\"df-ce25b353-7d95-4f53-aed2-d5da2441f372\">\n",
              "    <div class=\"colab-df-container\">\n",
              "      <div>\n",
              "<style scoped>\n",
              "    .dataframe tbody tr th:only-of-type {\n",
              "        vertical-align: middle;\n",
              "    }\n",
              "\n",
              "    .dataframe tbody tr th {\n",
              "        vertical-align: top;\n",
              "    }\n",
              "\n",
              "    .dataframe thead th {\n",
              "        text-align: right;\n",
              "    }\n",
              "</style>\n",
              "<table border=\"1\" class=\"dataframe\">\n",
              "  <thead>\n",
              "    <tr style=\"text-align: right;\">\n",
              "      <th></th>\n",
              "      <th>location</th>\n",
              "      <th>size</th>\n",
              "      <th>total_sqft</th>\n",
              "      <th>bath</th>\n",
              "      <th>price</th>\n",
              "      <th>bhk</th>\n",
              "      <th>suffx</th>\n",
              "      <th>price_per_sqft</th>\n",
              "    </tr>\n",
              "  </thead>\n",
              "  <tbody>\n",
              "    <tr>\n",
              "      <th>0</th>\n",
              "      <td>Electronic City Phase II</td>\n",
              "      <td>2 BHK</td>\n",
              "      <td>1056.0</td>\n",
              "      <td>2.0</td>\n",
              "      <td>39.07</td>\n",
              "      <td>2</td>\n",
              "      <td>BHK</td>\n",
              "      <td>3699.810606</td>\n",
              "    </tr>\n",
              "    <tr>\n",
              "      <th>1</th>\n",
              "      <td>Chikka Tirupathi</td>\n",
              "      <td>4 Bedroom</td>\n",
              "      <td>2600.0</td>\n",
              "      <td>5.0</td>\n",
              "      <td>120.00</td>\n",
              "      <td>4</td>\n",
              "      <td>Bedroom</td>\n",
              "      <td>4615.384615</td>\n",
              "    </tr>\n",
              "    <tr>\n",
              "      <th>2</th>\n",
              "      <td>Uttarahalli</td>\n",
              "      <td>3 BHK</td>\n",
              "      <td>1440.0</td>\n",
              "      <td>2.0</td>\n",
              "      <td>62.00</td>\n",
              "      <td>3</td>\n",
              "      <td>BHK</td>\n",
              "      <td>4305.555556</td>\n",
              "    </tr>\n",
              "    <tr>\n",
              "      <th>3</th>\n",
              "      <td>Lingadheeranahalli</td>\n",
              "      <td>3 BHK</td>\n",
              "      <td>1521.0</td>\n",
              "      <td>3.0</td>\n",
              "      <td>95.00</td>\n",
              "      <td>3</td>\n",
              "      <td>BHK</td>\n",
              "      <td>6245.890861</td>\n",
              "    </tr>\n",
              "    <tr>\n",
              "      <th>4</th>\n",
              "      <td>Kothanur</td>\n",
              "      <td>2 BHK</td>\n",
              "      <td>1200.0</td>\n",
              "      <td>2.0</td>\n",
              "      <td>51.00</td>\n",
              "      <td>2</td>\n",
              "      <td>BHK</td>\n",
              "      <td>4250.000000</td>\n",
              "    </tr>\n",
              "    <tr>\n",
              "      <th>5</th>\n",
              "      <td>Whitefield</td>\n",
              "      <td>2 BHK</td>\n",
              "      <td>1170.0</td>\n",
              "      <td>2.0</td>\n",
              "      <td>38.00</td>\n",
              "      <td>2</td>\n",
              "      <td>BHK</td>\n",
              "      <td>3247.863248</td>\n",
              "    </tr>\n",
              "    <tr>\n",
              "      <th>6</th>\n",
              "      <td>Old Airport Road</td>\n",
              "      <td>4 BHK</td>\n",
              "      <td>2732.0</td>\n",
              "      <td>4.0</td>\n",
              "      <td>204.00</td>\n",
              "      <td>4</td>\n",
              "      <td>BHK</td>\n",
              "      <td>7467.057101</td>\n",
              "    </tr>\n",
              "    <tr>\n",
              "      <th>7</th>\n",
              "      <td>Rajaji Nagar</td>\n",
              "      <td>4 BHK</td>\n",
              "      <td>3300.0</td>\n",
              "      <td>4.0</td>\n",
              "      <td>600.00</td>\n",
              "      <td>4</td>\n",
              "      <td>BHK</td>\n",
              "      <td>18181.818182</td>\n",
              "    </tr>\n",
              "    <tr>\n",
              "      <th>8</th>\n",
              "      <td>Marathahalli</td>\n",
              "      <td>3 BHK</td>\n",
              "      <td>1310.0</td>\n",
              "      <td>3.0</td>\n",
              "      <td>63.25</td>\n",
              "      <td>3</td>\n",
              "      <td>BHK</td>\n",
              "      <td>4828.244275</td>\n",
              "    </tr>\n",
              "    <tr>\n",
              "      <th>9</th>\n",
              "      <td>other</td>\n",
              "      <td>6 Bedroom</td>\n",
              "      <td>1020.0</td>\n",
              "      <td>6.0</td>\n",
              "      <td>370.00</td>\n",
              "      <td>6</td>\n",
              "      <td>Bedroom</td>\n",
              "      <td>36274.509804</td>\n",
              "    </tr>\n",
              "    <tr>\n",
              "      <th>10</th>\n",
              "      <td>Whitefield</td>\n",
              "      <td>3 BHK</td>\n",
              "      <td>1800.0</td>\n",
              "      <td>2.0</td>\n",
              "      <td>70.00</td>\n",
              "      <td>3</td>\n",
              "      <td>BHK</td>\n",
              "      <td>3888.888889</td>\n",
              "    </tr>\n",
              "    <tr>\n",
              "      <th>11</th>\n",
              "      <td>Whitefield</td>\n",
              "      <td>4 Bedroom</td>\n",
              "      <td>2785.0</td>\n",
              "      <td>5.0</td>\n",
              "      <td>295.00</td>\n",
              "      <td>4</td>\n",
              "      <td>Bedroom</td>\n",
              "      <td>10592.459605</td>\n",
              "    </tr>\n",
              "    <tr>\n",
              "      <th>12</th>\n",
              "      <td>7th Phase JP Nagar</td>\n",
              "      <td>2 BHK</td>\n",
              "      <td>1000.0</td>\n",
              "      <td>2.0</td>\n",
              "      <td>38.00</td>\n",
              "      <td>2</td>\n",
              "      <td>BHK</td>\n",
              "      <td>3800.000000</td>\n",
              "    </tr>\n",
              "    <tr>\n",
              "      <th>13</th>\n",
              "      <td>Gottigere</td>\n",
              "      <td>2 BHK</td>\n",
              "      <td>1100.0</td>\n",
              "      <td>2.0</td>\n",
              "      <td>40.00</td>\n",
              "      <td>2</td>\n",
              "      <td>BHK</td>\n",
              "      <td>3636.363636</td>\n",
              "    </tr>\n",
              "    <tr>\n",
              "      <th>14</th>\n",
              "      <td>Sarjapur</td>\n",
              "      <td>3 Bedroom</td>\n",
              "      <td>2250.0</td>\n",
              "      <td>3.0</td>\n",
              "      <td>148.00</td>\n",
              "      <td>3</td>\n",
              "      <td>Bedroom</td>\n",
              "      <td>6577.777778</td>\n",
              "    </tr>\n",
              "    <tr>\n",
              "      <th>15</th>\n",
              "      <td>Mysore Road</td>\n",
              "      <td>2 BHK</td>\n",
              "      <td>1175.0</td>\n",
              "      <td>2.0</td>\n",
              "      <td>73.50</td>\n",
              "      <td>2</td>\n",
              "      <td>BHK</td>\n",
              "      <td>6255.319149</td>\n",
              "    </tr>\n",
              "    <tr>\n",
              "      <th>16</th>\n",
              "      <td>Bisuvanahalli</td>\n",
              "      <td>3 BHK</td>\n",
              "      <td>1180.0</td>\n",
              "      <td>3.0</td>\n",
              "      <td>48.00</td>\n",
              "      <td>3</td>\n",
              "      <td>BHK</td>\n",
              "      <td>4067.796610</td>\n",
              "    </tr>\n",
              "    <tr>\n",
              "      <th>17</th>\n",
              "      <td>Raja Rajeshwari Nagar</td>\n",
              "      <td>3 BHK</td>\n",
              "      <td>1540.0</td>\n",
              "      <td>3.0</td>\n",
              "      <td>60.00</td>\n",
              "      <td>3</td>\n",
              "      <td>BHK</td>\n",
              "      <td>3896.103896</td>\n",
              "    </tr>\n",
              "    <tr>\n",
              "      <th>18</th>\n",
              "      <td>other</td>\n",
              "      <td>3 BHK</td>\n",
              "      <td>2770.0</td>\n",
              "      <td>4.0</td>\n",
              "      <td>290.00</td>\n",
              "      <td>3</td>\n",
              "      <td>BHK</td>\n",
              "      <td>10469.314079</td>\n",
              "    </tr>\n",
              "    <tr>\n",
              "      <th>19</th>\n",
              "      <td>other</td>\n",
              "      <td>2 BHK</td>\n",
              "      <td>1100.0</td>\n",
              "      <td>2.0</td>\n",
              "      <td>48.00</td>\n",
              "      <td>2</td>\n",
              "      <td>BHK</td>\n",
              "      <td>4363.636364</td>\n",
              "    </tr>\n",
              "  </tbody>\n",
              "</table>\n",
              "</div>\n",
              "      <button class=\"colab-df-convert\" onclick=\"convertToInteractive('df-ce25b353-7d95-4f53-aed2-d5da2441f372')\"\n",
              "              title=\"Convert this dataframe to an interactive table.\"\n",
              "              style=\"display:none;\">\n",
              "        \n",
              "  <svg xmlns=\"http://www.w3.org/2000/svg\" height=\"24px\"viewBox=\"0 0 24 24\"\n",
              "       width=\"24px\">\n",
              "    <path d=\"M0 0h24v24H0V0z\" fill=\"none\"/>\n",
              "    <path d=\"M18.56 5.44l.94 2.06.94-2.06 2.06-.94-2.06-.94-.94-2.06-.94 2.06-2.06.94zm-11 1L8.5 8.5l.94-2.06 2.06-.94-2.06-.94L8.5 2.5l-.94 2.06-2.06.94zm10 10l.94 2.06.94-2.06 2.06-.94-2.06-.94-.94-2.06-.94 2.06-2.06.94z\"/><path d=\"M17.41 7.96l-1.37-1.37c-.4-.4-.92-.59-1.43-.59-.52 0-1.04.2-1.43.59L10.3 9.45l-7.72 7.72c-.78.78-.78 2.05 0 2.83L4 21.41c.39.39.9.59 1.41.59.51 0 1.02-.2 1.41-.59l7.78-7.78 2.81-2.81c.8-.78.8-2.07 0-2.86zM5.41 20L4 18.59l7.72-7.72 1.47 1.35L5.41 20z\"/>\n",
              "  </svg>\n",
              "      </button>\n",
              "      \n",
              "  <style>\n",
              "    .colab-df-container {\n",
              "      display:flex;\n",
              "      flex-wrap:wrap;\n",
              "      gap: 12px;\n",
              "    }\n",
              "\n",
              "    .colab-df-convert {\n",
              "      background-color: #E8F0FE;\n",
              "      border: none;\n",
              "      border-radius: 50%;\n",
              "      cursor: pointer;\n",
              "      display: none;\n",
              "      fill: #1967D2;\n",
              "      height: 32px;\n",
              "      padding: 0 0 0 0;\n",
              "      width: 32px;\n",
              "    }\n",
              "\n",
              "    .colab-df-convert:hover {\n",
              "      background-color: #E2EBFA;\n",
              "      box-shadow: 0px 1px 2px rgba(60, 64, 67, 0.3), 0px 1px 3px 1px rgba(60, 64, 67, 0.15);\n",
              "      fill: #174EA6;\n",
              "    }\n",
              "\n",
              "    [theme=dark] .colab-df-convert {\n",
              "      background-color: #3B4455;\n",
              "      fill: #D2E3FC;\n",
              "    }\n",
              "\n",
              "    [theme=dark] .colab-df-convert:hover {\n",
              "      background-color: #434B5C;\n",
              "      box-shadow: 0px 1px 3px 1px rgba(0, 0, 0, 0.15);\n",
              "      filter: drop-shadow(0px 1px 2px rgba(0, 0, 0, 0.3));\n",
              "      fill: #FFFFFF;\n",
              "    }\n",
              "  </style>\n",
              "\n",
              "      <script>\n",
              "        const buttonEl =\n",
              "          document.querySelector('#df-ce25b353-7d95-4f53-aed2-d5da2441f372 button.colab-df-convert');\n",
              "        buttonEl.style.display =\n",
              "          google.colab.kernel.accessAllowed ? 'block' : 'none';\n",
              "\n",
              "        async function convertToInteractive(key) {\n",
              "          const element = document.querySelector('#df-ce25b353-7d95-4f53-aed2-d5da2441f372');\n",
              "          const dataTable =\n",
              "            await google.colab.kernel.invokeFunction('convertToInteractive',\n",
              "                                                     [key], {});\n",
              "          if (!dataTable) return;\n",
              "\n",
              "          const docLinkHtml = 'Like what you see? Visit the ' +\n",
              "            '<a target=\"_blank\" href=https://colab.research.google.com/notebooks/data_table.ipynb>data table notebook</a>'\n",
              "            + ' to learn more about interactive tables.';\n",
              "          element.innerHTML = '';\n",
              "          dataTable['output_type'] = 'display_data';\n",
              "          await google.colab.output.renderOutput(dataTable, element);\n",
              "          const docLink = document.createElement('div');\n",
              "          docLink.innerHTML = docLinkHtml;\n",
              "          element.appendChild(docLink);\n",
              "        }\n",
              "      </script>\n",
              "    </div>\n",
              "  </div>\n",
              "  "
            ]
          },
          "metadata": {},
          "execution_count": 53
        }
      ]
    },
    {
      "cell_type": "markdown",
      "source": [
        "##Outlier Removal Using Logic"
      ],
      "metadata": {
        "id": "w8QiB2VEweCI"
      }
    },
    {
      "cell_type": "markdown",
      "source": [
        "Normally square ft per bedroom is 300 (i.e. 2 bhk apartment is minimum 600 sqft. If you have for example 400 sqft apartment with 2 bhk than that seems suspicious and can be removed as an outlier."
      ],
      "metadata": {
        "id": "y8tA5zUHw08h"
      }
    },
    {
      "cell_type": "code",
      "source": [
        "df4 = df3.loc[:]"
      ],
      "metadata": {
        "id": "lUfIPWMOwBAv"
      },
      "execution_count": 54,
      "outputs": []
    },
    {
      "cell_type": "code",
      "source": [
        "df4.bhk = df4.bhk.astype(float)"
      ],
      "metadata": {
        "id": "R7C8JkWnxL_m"
      },
      "execution_count": 57,
      "outputs": []
    },
    {
      "cell_type": "code",
      "source": [
        "df4[df4.total_sqft/df4.bhk<300].head()"
      ],
      "metadata": {
        "colab": {
          "base_uri": "https://localhost:8080/",
          "height": 206
        },
        "id": "L6piOsYHwA8A",
        "outputId": "806d7c64-54aa-46a8-ff65-16085a7b0021"
      },
      "execution_count": 58,
      "outputs": [
        {
          "output_type": "execute_result",
          "data": {
            "text/plain": [
              "               location       size  total_sqft  bath  price  bhk    suffx  \\\n",
              "9                 other  6 Bedroom      1020.0   6.0  370.0  6.0  Bedroom   \n",
              "45           HSR Layout  8 Bedroom       600.0   9.0  200.0  8.0  Bedroom   \n",
              "58        Murugeshpalya  6 Bedroom      1407.0   4.0  150.0  6.0  Bedroom   \n",
              "68  Devarachikkanahalli  8 Bedroom      1350.0   7.0   85.0  8.0  Bedroom   \n",
              "70                other  3 Bedroom       500.0   3.0  100.0  3.0  Bedroom   \n",
              "\n",
              "    price_per_sqft  \n",
              "9     36274.509804  \n",
              "45    33333.333333  \n",
              "58    10660.980810  \n",
              "68     6296.296296  \n",
              "70    20000.000000  "
            ],
            "text/html": [
              "\n",
              "  <div id=\"df-1508dad7-5c73-4ef4-83bf-b2d873c90149\">\n",
              "    <div class=\"colab-df-container\">\n",
              "      <div>\n",
              "<style scoped>\n",
              "    .dataframe tbody tr th:only-of-type {\n",
              "        vertical-align: middle;\n",
              "    }\n",
              "\n",
              "    .dataframe tbody tr th {\n",
              "        vertical-align: top;\n",
              "    }\n",
              "\n",
              "    .dataframe thead th {\n",
              "        text-align: right;\n",
              "    }\n",
              "</style>\n",
              "<table border=\"1\" class=\"dataframe\">\n",
              "  <thead>\n",
              "    <tr style=\"text-align: right;\">\n",
              "      <th></th>\n",
              "      <th>location</th>\n",
              "      <th>size</th>\n",
              "      <th>total_sqft</th>\n",
              "      <th>bath</th>\n",
              "      <th>price</th>\n",
              "      <th>bhk</th>\n",
              "      <th>suffx</th>\n",
              "      <th>price_per_sqft</th>\n",
              "    </tr>\n",
              "  </thead>\n",
              "  <tbody>\n",
              "    <tr>\n",
              "      <th>9</th>\n",
              "      <td>other</td>\n",
              "      <td>6 Bedroom</td>\n",
              "      <td>1020.0</td>\n",
              "      <td>6.0</td>\n",
              "      <td>370.0</td>\n",
              "      <td>6.0</td>\n",
              "      <td>Bedroom</td>\n",
              "      <td>36274.509804</td>\n",
              "    </tr>\n",
              "    <tr>\n",
              "      <th>45</th>\n",
              "      <td>HSR Layout</td>\n",
              "      <td>8 Bedroom</td>\n",
              "      <td>600.0</td>\n",
              "      <td>9.0</td>\n",
              "      <td>200.0</td>\n",
              "      <td>8.0</td>\n",
              "      <td>Bedroom</td>\n",
              "      <td>33333.333333</td>\n",
              "    </tr>\n",
              "    <tr>\n",
              "      <th>58</th>\n",
              "      <td>Murugeshpalya</td>\n",
              "      <td>6 Bedroom</td>\n",
              "      <td>1407.0</td>\n",
              "      <td>4.0</td>\n",
              "      <td>150.0</td>\n",
              "      <td>6.0</td>\n",
              "      <td>Bedroom</td>\n",
              "      <td>10660.980810</td>\n",
              "    </tr>\n",
              "    <tr>\n",
              "      <th>68</th>\n",
              "      <td>Devarachikkanahalli</td>\n",
              "      <td>8 Bedroom</td>\n",
              "      <td>1350.0</td>\n",
              "      <td>7.0</td>\n",
              "      <td>85.0</td>\n",
              "      <td>8.0</td>\n",
              "      <td>Bedroom</td>\n",
              "      <td>6296.296296</td>\n",
              "    </tr>\n",
              "    <tr>\n",
              "      <th>70</th>\n",
              "      <td>other</td>\n",
              "      <td>3 Bedroom</td>\n",
              "      <td>500.0</td>\n",
              "      <td>3.0</td>\n",
              "      <td>100.0</td>\n",
              "      <td>3.0</td>\n",
              "      <td>Bedroom</td>\n",
              "      <td>20000.000000</td>\n",
              "    </tr>\n",
              "  </tbody>\n",
              "</table>\n",
              "</div>\n",
              "      <button class=\"colab-df-convert\" onclick=\"convertToInteractive('df-1508dad7-5c73-4ef4-83bf-b2d873c90149')\"\n",
              "              title=\"Convert this dataframe to an interactive table.\"\n",
              "              style=\"display:none;\">\n",
              "        \n",
              "  <svg xmlns=\"http://www.w3.org/2000/svg\" height=\"24px\"viewBox=\"0 0 24 24\"\n",
              "       width=\"24px\">\n",
              "    <path d=\"M0 0h24v24H0V0z\" fill=\"none\"/>\n",
              "    <path d=\"M18.56 5.44l.94 2.06.94-2.06 2.06-.94-2.06-.94-.94-2.06-.94 2.06-2.06.94zm-11 1L8.5 8.5l.94-2.06 2.06-.94-2.06-.94L8.5 2.5l-.94 2.06-2.06.94zm10 10l.94 2.06.94-2.06 2.06-.94-2.06-.94-.94-2.06-.94 2.06-2.06.94z\"/><path d=\"M17.41 7.96l-1.37-1.37c-.4-.4-.92-.59-1.43-.59-.52 0-1.04.2-1.43.59L10.3 9.45l-7.72 7.72c-.78.78-.78 2.05 0 2.83L4 21.41c.39.39.9.59 1.41.59.51 0 1.02-.2 1.41-.59l7.78-7.78 2.81-2.81c.8-.78.8-2.07 0-2.86zM5.41 20L4 18.59l7.72-7.72 1.47 1.35L5.41 20z\"/>\n",
              "  </svg>\n",
              "      </button>\n",
              "      \n",
              "  <style>\n",
              "    .colab-df-container {\n",
              "      display:flex;\n",
              "      flex-wrap:wrap;\n",
              "      gap: 12px;\n",
              "    }\n",
              "\n",
              "    .colab-df-convert {\n",
              "      background-color: #E8F0FE;\n",
              "      border: none;\n",
              "      border-radius: 50%;\n",
              "      cursor: pointer;\n",
              "      display: none;\n",
              "      fill: #1967D2;\n",
              "      height: 32px;\n",
              "      padding: 0 0 0 0;\n",
              "      width: 32px;\n",
              "    }\n",
              "\n",
              "    .colab-df-convert:hover {\n",
              "      background-color: #E2EBFA;\n",
              "      box-shadow: 0px 1px 2px rgba(60, 64, 67, 0.3), 0px 1px 3px 1px rgba(60, 64, 67, 0.15);\n",
              "      fill: #174EA6;\n",
              "    }\n",
              "\n",
              "    [theme=dark] .colab-df-convert {\n",
              "      background-color: #3B4455;\n",
              "      fill: #D2E3FC;\n",
              "    }\n",
              "\n",
              "    [theme=dark] .colab-df-convert:hover {\n",
              "      background-color: #434B5C;\n",
              "      box-shadow: 0px 1px 3px 1px rgba(0, 0, 0, 0.15);\n",
              "      filter: drop-shadow(0px 1px 2px rgba(0, 0, 0, 0.3));\n",
              "      fill: #FFFFFF;\n",
              "    }\n",
              "  </style>\n",
              "\n",
              "      <script>\n",
              "        const buttonEl =\n",
              "          document.querySelector('#df-1508dad7-5c73-4ef4-83bf-b2d873c90149 button.colab-df-convert');\n",
              "        buttonEl.style.display =\n",
              "          google.colab.kernel.accessAllowed ? 'block' : 'none';\n",
              "\n",
              "        async function convertToInteractive(key) {\n",
              "          const element = document.querySelector('#df-1508dad7-5c73-4ef4-83bf-b2d873c90149');\n",
              "          const dataTable =\n",
              "            await google.colab.kernel.invokeFunction('convertToInteractive',\n",
              "                                                     [key], {});\n",
              "          if (!dataTable) return;\n",
              "\n",
              "          const docLinkHtml = 'Like what you see? Visit the ' +\n",
              "            '<a target=\"_blank\" href=https://colab.research.google.com/notebooks/data_table.ipynb>data table notebook</a>'\n",
              "            + ' to learn more about interactive tables.';\n",
              "          element.innerHTML = '';\n",
              "          dataTable['output_type'] = 'display_data';\n",
              "          await google.colab.output.renderOutput(dataTable, element);\n",
              "          const docLink = document.createElement('div');\n",
              "          docLink.innerHTML = docLinkHtml;\n",
              "          element.appendChild(docLink);\n",
              "        }\n",
              "      </script>\n",
              "    </div>\n",
              "  </div>\n",
              "  "
            ]
          },
          "metadata": {},
          "execution_count": 58
        }
      ]
    },
    {
      "cell_type": "code",
      "source": [
        "df5 = df4[~(df4.total_sqft/df4.bhk<300)]\n",
        "df5.shape"
      ],
      "metadata": {
        "colab": {
          "base_uri": "https://localhost:8080/"
        },
        "id": "CDLe652MwA5G",
        "outputId": "42dbbd3d-4c0c-4dbe-c292-556d51cbf130"
      },
      "execution_count": 59,
      "outputs": [
        {
          "output_type": "execute_result",
          "data": {
            "text/plain": [
              "(12559, 8)"
            ]
          },
          "metadata": {},
          "execution_count": 59
        }
      ]
    },
    {
      "cell_type": "markdown",
      "source": [
        "##Outlier Removal Using Standard Deviation and Mean"
      ],
      "metadata": {
        "id": "anNeMsmbx8xF"
      }
    },
    {
      "cell_type": "code",
      "source": [
        "df5.price_per_sqft.describe()"
      ],
      "metadata": {
        "colab": {
          "base_uri": "https://localhost:8080/"
        },
        "id": "FqzbDzp7wA2d",
        "outputId": "06f69075-da18-450a-f1f7-54e0277399d7"
      },
      "execution_count": 60,
      "outputs": [
        {
          "output_type": "execute_result",
          "data": {
            "text/plain": [
              "count     12513.000000\n",
              "mean       6307.441644\n",
              "std        4160.931610\n",
              "min         267.829813\n",
              "25%        4210.526316\n",
              "50%        5295.007564\n",
              "75%        6916.666667\n",
              "max      176470.588235\n",
              "Name: price_per_sqft, dtype: float64"
            ]
          },
          "metadata": {},
          "execution_count": 60
        }
      ]
    },
    {
      "cell_type": "code",
      "source": [
        "def remove_pps_outliers(datf):\n",
        "    df_out = pd.DataFrame()\n",
        "    for key, subdf in datf.groupby('location'):\n",
        "        m = np.mean(subdf.price_per_sqft)\n",
        "        st = np.std(subdf.price_per_sqft)\n",
        "        reduced_df = subdf[(subdf.price_per_sqft>(m-st)) & (subdf.price_per_sqft<=(m+st))]\n",
        "        df_out = pd.concat([df_out,reduced_df],ignore_index=True)\n",
        "    return df_out"
      ],
      "metadata": {
        "id": "M28nXUVdyBoB"
      },
      "execution_count": 62,
      "outputs": []
    },
    {
      "cell_type": "code",
      "source": [
        "df6 = remove_pps_outliers(df5)\n",
        "df6.shape"
      ],
      "metadata": {
        "colab": {
          "base_uri": "https://localhost:8080/"
        },
        "id": "fIgnjkumyBlc",
        "outputId": "3ea0e28b-5be3-46b2-efae-bd3f1e5c6d6f"
      },
      "execution_count": 63,
      "outputs": [
        {
          "output_type": "execute_result",
          "data": {
            "text/plain": [
              "(10286, 8)"
            ]
          },
          "metadata": {},
          "execution_count": 63
        }
      ]
    },
    {
      "cell_type": "code",
      "source": [
        "from matplotlib import pyplot as plt\n",
        "import matplotlib \n",
        "matplotlib.rcParams[\"figure.figsize\"] = (20,10)"
      ],
      "metadata": {
        "id": "CfkI25UHyBjG"
      },
      "execution_count": 64,
      "outputs": []
    },
    {
      "cell_type": "code",
      "source": [
        "def plot_scatter_chart(df0,location):\n",
        "    bhk2 = df0[(df0.location==location) & (df0.bhk==2)]\n",
        "    bhk3 = df0[(df0.location==location) & (df0.bhk==3)]\n",
        "    matplotlib.rcParams['figure.figsize'] = (15,10)\n",
        "    plt.scatter(bhk2.total_sqft,bhk2.price,color='blue',label='2 BHK', s=50)\n",
        "    plt.scatter(bhk3.total_sqft,bhk3.price,marker='+', color='green',label='3 BHK', s=50)\n",
        "    plt.xlabel(\"Total Square Feet Area\")\n",
        "    plt.ylabel(\"Price (Lakh Indian Rupees)\")\n",
        "    plt.title(location)\n",
        "    plt.legend()   "
      ],
      "metadata": {
        "id": "YXCKK1kSyBg2"
      },
      "execution_count": 65,
      "outputs": []
    },
    {
      "cell_type": "code",
      "source": [
        "locations = df6.location.unique()"
      ],
      "metadata": {
        "id": "xgG7W17Y0FuW"
      },
      "execution_count": 112,
      "outputs": []
    },
    {
      "cell_type": "code",
      "source": [
        "locations"
      ],
      "metadata": {
        "colab": {
          "base_uri": "https://localhost:8080/"
        },
        "id": "34apEw-C7ipX",
        "outputId": "0633ded5-d21e-40e6-d6e6-ad815105d85d"
      },
      "execution_count": 113,
      "outputs": [
        {
          "output_type": "execute_result",
          "data": {
            "text/plain": [
              "array(['1st Block Jayanagar', '1st Phase JP Nagar',\n",
              "       '2nd Phase Judicial Layout', '2nd Stage Nagarbhavi',\n",
              "       '5th Block Hbr Layout', '5th Phase JP Nagar', '6th Phase JP Nagar',\n",
              "       '7th Phase JP Nagar', '8th Phase JP Nagar', '9th Phase JP Nagar',\n",
              "       'AECS Layout', 'Abbigere', 'Akshaya Nagar', 'Ambalipura',\n",
              "       'Ambedkar Nagar', 'Amruthahalli', 'Anandapura', 'Ananth Nagar',\n",
              "       'Anekal', 'Anjanapura', 'Ardendale', 'Arekere', 'Attibele',\n",
              "       'BEML Layout', 'BTM 2nd Stage', 'BTM Layout', 'Babusapalaya',\n",
              "       'Badavala Nagar', 'Balagere', 'Banashankari',\n",
              "       'Banashankari Stage II', 'Banashankari Stage III',\n",
              "       'Banashankari Stage V', 'Banashankari Stage VI', 'Banaswadi',\n",
              "       'Banjara Layout', 'Bannerghatta', 'Bannerghatta Road',\n",
              "       'Basavangudi', 'Basaveshwara Nagar', 'Battarahalli', 'Begur',\n",
              "       'Begur Road', 'Bellandur', 'Benson Town', 'Bharathi Nagar',\n",
              "       'Bhoganhalli', 'Billekahalli', 'Binny Pete', 'Bisuvanahalli',\n",
              "       'Bommanahalli', 'Bommasandra', 'Bommasandra Industrial Area',\n",
              "       'Bommenahalli', 'Brookefield', 'Budigere', 'CV Raman Nagar',\n",
              "       'Chamrajpet', 'Chandapura', 'Channasandra', 'Chikka Tirupathi',\n",
              "       'Chikkabanavar', 'Chikkalasandra', 'Choodasandra', 'Cooke Town',\n",
              "       'Cox Town', 'Cunningham Road', 'Dasanapura', 'Dasarahalli',\n",
              "       'Devanahalli', 'Devarachikkanahalli', 'Dodda Nekkundi',\n",
              "       'Doddaballapur', 'Doddakallasandra', 'Doddathoguru', 'Domlur',\n",
              "       'Dommasandra', 'EPIP Zone', 'Electronic City',\n",
              "       'Electronic City Phase II', 'Electronics City Phase 1',\n",
              "       'Frazer Town', 'GM Palaya', 'Garudachar Palya', 'Giri Nagar',\n",
              "       'Gollarapalya Hosahalli', 'Gottigere', 'Green Glen Layout',\n",
              "       'Gubbalala', 'Gunjur', 'HAL 2nd Stage', 'HBR Layout',\n",
              "       'HRBR Layout', 'HSR Layout', 'Haralur Road', 'Harlur', 'Hebbal',\n",
              "       'Hebbal Kempapura', 'Hegde Nagar', 'Hennur', 'Hennur Road',\n",
              "       'Hoodi', 'Horamavu Agara', 'Horamavu Banaswadi', 'Hormavu',\n",
              "       'Hosa Road', 'Hosakerehalli', 'Hoskote', 'Hosur Road', 'Hulimavu',\n",
              "       'ISRO Layout', 'ITPL', 'Iblur Village', 'Indira Nagar', 'JP Nagar',\n",
              "       'Jakkur', 'Jalahalli', 'Jalahalli East', 'Jigani',\n",
              "       'Judicial Layout', 'KR Puram', 'Kadubeesanahalli', 'Kadugodi',\n",
              "       'Kaggadasapura', 'Kaggalipura', 'Kaikondrahalli',\n",
              "       'Kalena Agrahara', 'Kalyan nagar', 'Kambipura', 'Kammanahalli',\n",
              "       'Kammasandra', 'Kanakapura', 'Kanakpura Road', 'Kannamangala',\n",
              "       'Karuna Nagar', 'Kasavanhalli', 'Kasturi Nagar', 'Kathriguppe',\n",
              "       'Kaval Byrasandra', 'Kenchenahalli', 'Kengeri',\n",
              "       'Kengeri Satellite Town', 'Kereguddadahalli', 'Kodichikkanahalli',\n",
              "       'Kodigehaali', 'Kodigehalli', 'Kodihalli', 'Kogilu', 'Konanakunte',\n",
              "       'Koramangala', 'Kothannur', 'Kothanur', 'Kudlu', 'Kudlu Gate',\n",
              "       'Kumaraswami Layout', 'Kundalahalli', 'LB Shastri Nagar',\n",
              "       'Laggere', 'Lakshminarayana Pura', 'Lingadheeranahalli',\n",
              "       'Magadi Road', 'Mahadevpura', 'Mahalakshmi Layout', 'Mallasandra',\n",
              "       'Malleshpalya', 'Malleshwaram', 'Marathahalli', 'Margondanahalli',\n",
              "       'Marsur', 'Mico Layout', 'Munnekollal', 'Murugeshpalya',\n",
              "       'Mysore Road', 'NGR Layout', 'NRI Layout', 'Nagarbhavi',\n",
              "       'Nagasandra', 'Nagavara', 'Nagavarapalya', 'Narayanapura',\n",
              "       'Neeladri Nagar', 'Nehru Nagar', 'OMBR Layout', 'Old Airport Road',\n",
              "       'Old Madras Road', 'Padmanabhanagar', 'Pai Layout', 'Panathur',\n",
              "       'Parappana Agrahara', 'Pattandur Agrahara', 'Poorna Pragna Layout',\n",
              "       'Prithvi Layout', 'R.T. Nagar', 'Rachenahalli',\n",
              "       'Raja Rajeshwari Nagar', 'Rajaji Nagar', 'Rajiv Nagar',\n",
              "       'Ramagondanahalli', 'Ramamurthy Nagar', 'Rayasandra',\n",
              "       'Sahakara Nagar', 'Sanjay nagar', 'Sarakki Nagar', 'Sarjapur',\n",
              "       'Sarjapur  Road', 'Sarjapura - Attibele Road',\n",
              "       'Sector 2 HSR Layout', 'Sector 7 HSR Layout', 'Seegehalli',\n",
              "       'Shampura', 'Shivaji Nagar', 'Singasandra', 'Somasundara Palya',\n",
              "       'Sompura', 'Sonnenahalli', 'Subramanyapura', 'Sultan Palaya',\n",
              "       'TC Palaya', 'Talaghattapura', 'Thanisandra', 'Thigalarapalya',\n",
              "       'Thubarahalli', 'Thyagaraja Nagar', 'Tindlu', 'Tumkur Road',\n",
              "       'Ulsoor', 'Uttarahalli', 'Varthur', 'Varthur Road', 'Vasanthapura',\n",
              "       'Vidyaranyapura', 'Vijayanagar', 'Vishveshwarya Layout',\n",
              "       'Vishwapriya Layout', 'Vittasandra', 'Whitefield',\n",
              "       'Yelachenahalli', 'Yelahanka', 'Yelahanka New Town', 'Yelenahalli',\n",
              "       'Yeshwanthpur', 'other'], dtype=object)"
            ]
          },
          "metadata": {},
          "execution_count": 113
        }
      ]
    },
    {
      "cell_type": "code",
      "source": [
        "plot_scatter_chart(df6,\"Ulsoor\")"
      ],
      "metadata": {
        "colab": {
          "base_uri": "https://localhost:8080/",
          "height": 621
        },
        "id": "iPcTMkMTyBd8",
        "outputId": "c38e9838-e282-413b-c626-db91008ceb86"
      },
      "execution_count": 70,
      "outputs": [
        {
          "output_type": "display_data",
          "data": {
            "text/plain": [
              "<Figure size 1080x720 with 1 Axes>"
            ],
            "image/png": "[encoded data removed]"
          },
          "metadata": {
            "needs_background": "light"
          }
        }
      ]
    },
    {
      "cell_type": "code",
      "source": [
        "plot_scatter_chart(df6,\"Frazer Town\")"
      ],
      "metadata": {
        "colab": {
          "base_uri": "https://localhost:8080/",
          "height": 621
        },
        "id": "Xg26yBsxuezd",
        "outputId": "38553db5-4411-407c-bb37-c5258fcc3ef1"
      },
      "execution_count": 71,
      "outputs": [
        {
          "output_type": "display_data",
          "data": {
            "text/plain": [
              "<Figure size 1080x720 with 1 Axes>"
            ],
            "image/png": "[encoded data removed]"
          },
          "metadata": {
            "needs_background": "light"
          }
        }
      ]
    },
    {
      "cell_type": "code",
      "source": [
        "plot_scatter_chart(df6,\"Rajaji Nagar\")"
      ],
      "metadata": {
        "colab": {
          "base_uri": "https://localhost:8080/",
          "height": 621
        },
        "id": "ERmbDnB22JGG",
        "outputId": "15019621-89e9-47a7-e966-52472a90bd3d"
      },
      "execution_count": 79,
      "outputs": [
        {
          "output_type": "display_data",
          "data": {
            "text/plain": [
              "<Figure size 1080x720 with 1 Axes>"
            ],
            "image/png": "[encoded data removed]"
          },
          "metadata": {
            "needs_background": "light"
          }
        }
      ]
    },
    {
      "cell_type": "code",
      "source": [],
      "metadata": {
        "id": "kBLgHT8Tz3fp"
      },
      "execution_count": null,
      "outputs": []
    },
    {
      "cell_type": "markdown",
      "source": [
        "we can remove those 2 BHK apartments whose price_per_sqft is less than mean price_per_sqft of 1 BHK apartment"
      ],
      "metadata": {
        "id": "JRJfHUEe1hWH"
      }
    },
    {
      "cell_type": "code",
      "source": [
        "def remove_bhk_outliers(df):\n",
        "    exclude_indices = np.array([])\n",
        "    for location, location_df in df.groupby('location'):\n",
        "        bhk_stats = {}\n",
        "        for bhk, bhk_df in location_df.groupby('bhk'):\n",
        "            bhk_stats[bhk] = {\n",
        "                'mean': np.mean(bhk_df.price_per_sqft),\n",
        "                'std': np.std(bhk_df.price_per_sqft),\n",
        "                'count': bhk_df.shape[0]\n",
        "            }\n",
        "        for bhk, bhk_df in location_df.groupby('bhk'):\n",
        "            stats = bhk_stats.get(bhk-1)\n",
        "            if stats and stats['count']>5:\n",
        "                exclude_indices = np.append(exclude_indices, bhk_df[bhk_df.price_per_sqft<(stats['mean'])].index.values)\n",
        "    return df.drop(exclude_indices,axis='index')"
      ],
      "metadata": {
        "id": "3LsZc32Dz3cy"
      },
      "execution_count": 73,
      "outputs": []
    },
    {
      "cell_type": "code",
      "source": [
        "df7 = remove_bhk_outliers(df6)\n",
        "df7.shape"
      ],
      "metadata": {
        "colab": {
          "base_uri": "https://localhost:8080/"
        },
        "id": "bYcBmRGUz3Y2",
        "outputId": "02c70b99-6b82-4698-88b2-87f509635451"
      },
      "execution_count": 74,
      "outputs": [
        {
          "output_type": "execute_result",
          "data": {
            "text/plain": [
              "(7353, 8)"
            ]
          },
          "metadata": {},
          "execution_count": 74
        }
      ]
    },
    {
      "cell_type": "code",
      "source": [
        "plot_scatter_chart(df7,\"Rajaji Nagar\")"
      ],
      "metadata": {
        "colab": {
          "base_uri": "https://localhost:8080/",
          "height": 621
        },
        "id": "kPE6Bt_Z2XMD",
        "outputId": "f0d51692-b1fc-4f78-abb9-240c5c19188c"
      },
      "execution_count": 80,
      "outputs": [
        {
          "output_type": "display_data",
          "data": {
            "text/plain": [
              "<Figure size 1080x720 with 1 Axes>"
            ],
            "image/png": "[encoded data removed]"
          },
          "metadata": {
            "needs_background": "light"
          }
        }
      ]
    },
    {
      "cell_type": "code",
      "source": [
        "plot_scatter_chart(df7,\"Ulsoor\")"
      ],
      "metadata": {
        "colab": {
          "base_uri": "https://localhost:8080/",
          "height": 621
        },
        "id": "VpqP7_q-z3Wy",
        "outputId": "0f4ca398-0eb7-4c4b-a295-439828ecc368"
      },
      "execution_count": 77,
      "outputs": [
        {
          "output_type": "display_data",
          "data": {
            "text/plain": [
              "<Figure size 1080x720 with 1 Axes>"
            ],
            "image/png": "[encoded data removed]"
          },
          "metadata": {
            "needs_background": "light"
          }
        }
      ]
    },
    {
      "cell_type": "code",
      "source": [
        "plot_scatter_chart(df7,\"Rajaji Nagar\")"
      ],
      "metadata": {
        "colab": {
          "base_uri": "https://localhost:8080/",
          "height": 621
        },
        "id": "keFfBgWwz3UO",
        "outputId": "5e816de9-f3e7-4a22-a06b-8bfe94dc1559"
      },
      "execution_count": 78,
      "outputs": [
        {
          "output_type": "display_data",
          "data": {
            "text/plain": [
              "<Figure size 1080x720 with 1 Axes>"
            ],
            "image/png": "[encoded data removed]"
          },
          "metadata": {
            "needs_background": "light"
          }
        }
      ]
    },
    {
      "cell_type": "code",
      "source": [
        "matplotlib.rcParams[\"figure.figsize\"] = (20,10)\n",
        "plt.hist(df7.price_per_sqft,rwidth=0.8)\n",
        "plt.xlabel(\"Price Per Square Feet\")\n",
        "plt.ylabel(\"Count\")"
      ],
      "metadata": {
        "colab": {
          "base_uri": "https://localhost:8080/",
          "height": 623
        },
        "id": "4CMpj_aYz3Rz",
        "outputId": "8b79d3cc-63e1-4fbc-ef85-2a3b2890353a"
      },
      "execution_count": 82,
      "outputs": [
        {
          "output_type": "execute_result",
          "data": {
            "text/plain": [
              "Text(0, 0.5, 'Count')"
            ]
          },
          "metadata": {},
          "execution_count": 82
        },
        {
          "output_type": "display_data",
          "data": {
            "text/plain": [
              "<Figure size 1440x720 with 1 Axes>"
            ],
            "image/png": "[encoded data removed]"
          },
          "metadata": {
            "needs_background": "light"
          }
        }
      ]
    },
    {
      "cell_type": "markdown",
      "source": [
        "##Outlier Removal Using Bathrooms Feature"
      ],
      "metadata": {
        "id": "qUbu04Pp3F7X"
      }
    },
    {
      "cell_type": "code",
      "source": [
        "df7.bath.unique()"
      ],
      "metadata": {
        "colab": {
          "base_uri": "https://localhost:8080/"
        },
        "id": "DKi4lSG5z3LC",
        "outputId": "dc86544e-c74c-4432-dc3f-8683a246afca"
      },
      "execution_count": 83,
      "outputs": [
        {
          "output_type": "execute_result",
          "data": {
            "text/plain": [
              "array([ 4.,  3.,  2.,  5.,  8.,  1.,  6.,  7.,  9., 12., 16., 13.])"
            ]
          },
          "metadata": {},
          "execution_count": 83
        }
      ]
    },
    {
      "cell_type": "code",
      "source": [
        "df8= df7.copy()"
      ],
      "metadata": {
        "id": "1Op6nIJf2cOZ"
      },
      "execution_count": 84,
      "outputs": []
    },
    {
      "cell_type": "code",
      "source": [
        "plt.hist(df8.bath,rwidth=0.8)\n",
        "plt.xlabel(\"Number of bathrooms\")\n",
        "plt.ylabel(\"Count\")"
      ],
      "metadata": {
        "colab": {
          "base_uri": "https://localhost:8080/",
          "height": 623
        },
        "id": "KF3Sz_Cx2cLS",
        "outputId": "54d54787-510c-4e83-f02f-ec235e5c5f1a"
      },
      "execution_count": 85,
      "outputs": [
        {
          "output_type": "execute_result",
          "data": {
            "text/plain": [
              "Text(0, 0.5, 'Count')"
            ]
          },
          "metadata": {},
          "execution_count": 85
        },
        {
          "output_type": "display_data",
          "data": {
            "text/plain": [
              "<Figure size 1440x720 with 1 Axes>"
            ],
            "image/png": "[encoded data removed]"
          },
          "metadata": {
            "needs_background": "light"
          }
        }
      ]
    },
    {
      "cell_type": "code",
      "source": [
        "df8[df8.bath>10]"
      ],
      "metadata": {
        "colab": {
          "base_uri": "https://localhost:8080/",
          "height": 206
        },
        "id": "SvT30Fsp2cHO",
        "outputId": "258a7442-22ef-47e5-fefa-db989c249c38"
      },
      "execution_count": 86,
      "outputs": [
        {
          "output_type": "execute_result",
          "data": {
            "text/plain": [
              "            location    size  total_sqft  bath  price   bhk suffx  \\\n",
              "5306  Neeladri Nagar  10 BHK      4000.0  12.0  160.0  10.0   BHK   \n",
              "8530           other  10 BHK     12000.0  12.0  525.0  10.0   BHK   \n",
              "8619           other  16 BHK     10000.0  16.0  550.0  16.0   BHK   \n",
              "9352           other  11 BHK      6000.0  12.0  150.0  11.0   BHK   \n",
              "9683           other  13 BHK      5425.0  13.0  275.0  13.0   BHK   \n",
              "\n",
              "      price_per_sqft  \n",
              "5306     4000.000000  \n",
              "8530     4375.000000  \n",
              "8619     5500.000000  \n",
              "9352     2500.000000  \n",
              "9683     5069.124424  "
            ],
            "text/html": [
              "\n",
              "  <div id=\"df-ab0c244b-88ba-4f96-98f1-5e23bd71b621\">\n",
              "    <div class=\"colab-df-container\">\n",
              "      <div>\n",
              "<style scoped>\n",
              "    .dataframe tbody tr th:only-of-type {\n",
              "        vertical-align: middle;\n",
              "    }\n",
              "\n",
              "    .dataframe tbody tr th {\n",
              "        vertical-align: top;\n",
              "    }\n",
              "\n",
              "    .dataframe thead th {\n",
              "        text-align: right;\n",
              "    }\n",
              "</style>\n",
              "<table border=\"1\" class=\"dataframe\">\n",
              "  <thead>\n",
              "    <tr style=\"text-align: right;\">\n",
              "      <th></th>\n",
              "      <th>location</th>\n",
              "      <th>size</th>\n",
              "      <th>total_sqft</th>\n",
              "      <th>bath</th>\n",
              "      <th>price</th>\n",
              "      <th>bhk</th>\n",
              "      <th>suffx</th>\n",
              "      <th>price_per_sqft</th>\n",
              "    </tr>\n",
              "  </thead>\n",
              "  <tbody>\n",
              "    <tr>\n",
              "      <th>5306</th>\n",
              "      <td>Neeladri Nagar</td>\n",
              "      <td>10 BHK</td>\n",
              "      <td>4000.0</td>\n",
              "      <td>12.0</td>\n",
              "      <td>160.0</td>\n",
              "      <td>10.0</td>\n",
              "      <td>BHK</td>\n",
              "      <td>4000.000000</td>\n",
              "    </tr>\n",
              "    <tr>\n",
              "      <th>8530</th>\n",
              "      <td>other</td>\n",
              "      <td>10 BHK</td>\n",
              "      <td>12000.0</td>\n",
              "      <td>12.0</td>\n",
              "      <td>525.0</td>\n",
              "      <td>10.0</td>\n",
              "      <td>BHK</td>\n",
              "      <td>4375.000000</td>\n",
              "    </tr>\n",
              "    <tr>\n",
              "      <th>8619</th>\n",
              "      <td>other</td>\n",
              "      <td>16 BHK</td>\n",
              "      <td>10000.0</td>\n",
              "      <td>16.0</td>\n",
              "      <td>550.0</td>\n",
              "      <td>16.0</td>\n",
              "      <td>BHK</td>\n",
              "      <td>5500.000000</td>\n",
              "    </tr>\n",
              "    <tr>\n",
              "      <th>9352</th>\n",
              "      <td>other</td>\n",
              "      <td>11 BHK</td>\n",
              "      <td>6000.0</td>\n",
              "      <td>12.0</td>\n",
              "      <td>150.0</td>\n",
              "      <td>11.0</td>\n",
              "      <td>BHK</td>\n",
              "      <td>2500.000000</td>\n",
              "    </tr>\n",
              "    <tr>\n",
              "      <th>9683</th>\n",
              "      <td>other</td>\n",
              "      <td>13 BHK</td>\n",
              "      <td>5425.0</td>\n",
              "      <td>13.0</td>\n",
              "      <td>275.0</td>\n",
              "      <td>13.0</td>\n",
              "      <td>BHK</td>\n",
              "      <td>5069.124424</td>\n",
              "    </tr>\n",
              "  </tbody>\n",
              "</table>\n",
              "</div>\n",
              "      <button class=\"colab-df-convert\" onclick=\"convertToInteractive('df-ab0c244b-88ba-4f96-98f1-5e23bd71b621')\"\n",
              "              title=\"Convert this dataframe to an interactive table.\"\n",
              "              style=\"display:none;\">\n",
              "        \n",
              "  <svg xmlns=\"http://www.w3.org/2000/svg\" height=\"24px\"viewBox=\"0 0 24 24\"\n",
              "       width=\"24px\">\n",
              "    <path d=\"M0 0h24v24H0V0z\" fill=\"none\"/>\n",
              "    <path d=\"M18.56 5.44l.94 2.06.94-2.06 2.06-.94-2.06-.94-.94-2.06-.94 2.06-2.06.94zm-11 1L8.5 8.5l.94-2.06 2.06-.94-2.06-.94L8.5 2.5l-.94 2.06-2.06.94zm10 10l.94 2.06.94-2.06 2.06-.94-2.06-.94-.94-2.06-.94 2.06-2.06.94z\"/><path d=\"M17.41 7.96l-1.37-1.37c-.4-.4-.92-.59-1.43-.59-.52 0-1.04.2-1.43.59L10.3 9.45l-7.72 7.72c-.78.78-.78 2.05 0 2.83L4 21.41c.39.39.9.59 1.41.59.51 0 1.02-.2 1.41-.59l7.78-7.78 2.81-2.81c.8-.78.8-2.07 0-2.86zM5.41 20L4 18.59l7.72-7.72 1.47 1.35L5.41 20z\"/>\n",
              "  </svg>\n",
              "      </button>\n",
              "      \n",
              "  <style>\n",
              "    .colab-df-container {\n",
              "      display:flex;\n",
              "      flex-wrap:wrap;\n",
              "      gap: 12px;\n",
              "    }\n",
              "\n",
              "    .colab-df-convert {\n",
              "      background-color: #E8F0FE;\n",
              "      border: none;\n",
              "      border-radius: 50%;\n",
              "      cursor: pointer;\n",
              "      display: none;\n",
              "      fill: #1967D2;\n",
              "      height: 32px;\n",
              "      padding: 0 0 0 0;\n",
              "      width: 32px;\n",
              "    }\n",
              "\n",
              "    .colab-df-convert:hover {\n",
              "      background-color: #E2EBFA;\n",
              "      box-shadow: 0px 1px 2px rgba(60, 64, 67, 0.3), 0px 1px 3px 1px rgba(60, 64, 67, 0.15);\n",
              "      fill: #174EA6;\n",
              "    }\n",
              "\n",
              "    [theme=dark] .colab-df-convert {\n",
              "      background-color: #3B4455;\n",
              "      fill: #D2E3FC;\n",
              "    }\n",
              "\n",
              "    [theme=dark] .colab-df-convert:hover {\n",
              "      background-color: #434B5C;\n",
              "      box-shadow: 0px 1px 3px 1px rgba(0, 0, 0, 0.15);\n",
              "      filter: drop-shadow(0px 1px 2px rgba(0, 0, 0, 0.3));\n",
              "      fill: #FFFFFF;\n",
              "    }\n",
              "  </style>\n",
              "\n",
              "      <script>\n",
              "        const buttonEl =\n",
              "          document.querySelector('#df-ab0c244b-88ba-4f96-98f1-5e23bd71b621 button.colab-df-convert');\n",
              "        buttonEl.style.display =\n",
              "          google.colab.kernel.accessAllowed ? 'block' : 'none';\n",
              "\n",
              "        async function convertToInteractive(key) {\n",
              "          const element = document.querySelector('#df-ab0c244b-88ba-4f96-98f1-5e23bd71b621');\n",
              "          const dataTable =\n",
              "            await google.colab.kernel.invokeFunction('convertToInteractive',\n",
              "                                                     [key], {});\n",
              "          if (!dataTable) return;\n",
              "\n",
              "          const docLinkHtml = 'Like what you see? Visit the ' +\n",
              "            '<a target=\"_blank\" href=https://colab.research.google.com/notebooks/data_table.ipynb>data table notebook</a>'\n",
              "            + ' to learn more about interactive tables.';\n",
              "          element.innerHTML = '';\n",
              "          dataTable['output_type'] = 'display_data';\n",
              "          await google.colab.output.renderOutput(dataTable, element);\n",
              "          const docLink = document.createElement('div');\n",
              "          docLink.innerHTML = docLinkHtml;\n",
              "          element.appendChild(docLink);\n",
              "        }\n",
              "      </script>\n",
              "    </div>\n",
              "  </div>\n",
              "  "
            ]
          },
          "metadata": {},
          "execution_count": 86
        }
      ]
    },
    {
      "cell_type": "code",
      "source": [
        "#It is unusual to have 2 more bathrooms than number of bedrooms in a home\n",
        "df8[df8.bath>df8.bhk+2]"
      ],
      "metadata": {
        "colab": {
          "base_uri": "https://localhost:8080/",
          "height": 175
        },
        "id": "TSIo901d2cE9",
        "outputId": "6d4d5fb2-f069-4bce-f6ab-d97ac546f001"
      },
      "execution_count": 87,
      "outputs": [
        {
          "output_type": "execute_result",
          "data": {
            "text/plain": [
              "           location       size  total_sqft  bath   price  bhk    suffx  \\\n",
              "1634  Chikkabanavar  4 Bedroom      2460.0   7.0    80.0  4.0  Bedroom   \n",
              "5267     Nagasandra  4 Bedroom      7000.0   8.0   450.0  4.0  Bedroom   \n",
              "6748    Thanisandra      3 BHK      1806.0   6.0   116.0  3.0      BHK   \n",
              "8455          other      6 BHK     11338.0   9.0  1000.0  6.0      BHK   \n",
              "\n",
              "      price_per_sqft  \n",
              "1634     3252.032520  \n",
              "5267     6428.571429  \n",
              "6748     6423.034330  \n",
              "8455     8819.897689  "
            ],
            "text/html": [
              "\n",
              "  <div id=\"df-7bd52719-8fd3-4a9e-8d15-ecdec6bbe1d0\">\n",
              "    <div class=\"colab-df-container\">\n",
              "      <div>\n",
              "<style scoped>\n",
              "    .dataframe tbody tr th:only-of-type {\n",
              "        vertical-align: middle;\n",
              "    }\n",
              "\n",
              "    .dataframe tbody tr th {\n",
              "        vertical-align: top;\n",
              "    }\n",
              "\n",
              "    .dataframe thead th {\n",
              "        text-align: right;\n",
              "    }\n",
              "</style>\n",
              "<table border=\"1\" class=\"dataframe\">\n",
              "  <thead>\n",
              "    <tr style=\"text-align: right;\">\n",
              "      <th></th>\n",
              "      <th>location</th>\n",
              "      <th>size</th>\n",
              "      <th>total_sqft</th>\n",
              "      <th>bath</th>\n",
              "      <th>price</th>\n",
              "      <th>bhk</th>\n",
              "      <th>suffx</th>\n",
              "      <th>price_per_sqft</th>\n",
              "    </tr>\n",
              "  </thead>\n",
              "  <tbody>\n",
              "    <tr>\n",
              "      <th>1634</th>\n",
              "      <td>Chikkabanavar</td>\n",
              "      <td>4 Bedroom</td>\n",
              "      <td>2460.0</td>\n",
              "      <td>7.0</td>\n",
              "      <td>80.0</td>\n",
              "      <td>4.0</td>\n",
              "      <td>Bedroom</td>\n",
              "      <td>3252.032520</td>\n",
              "    </tr>\n",
              "    <tr>\n",
              "      <th>5267</th>\n",
              "      <td>Nagasandra</td>\n",
              "      <td>4 Bedroom</td>\n",
              "      <td>7000.0</td>\n",
              "      <td>8.0</td>\n",
              "      <td>450.0</td>\n",
              "      <td>4.0</td>\n",
              "      <td>Bedroom</td>\n",
              "      <td>6428.571429</td>\n",
              "    </tr>\n",
              "    <tr>\n",
              "      <th>6748</th>\n",
              "      <td>Thanisandra</td>\n",
              "      <td>3 BHK</td>\n",
              "      <td>1806.0</td>\n",
              "      <td>6.0</td>\n",
              "      <td>116.0</td>\n",
              "      <td>3.0</td>\n",
              "      <td>BHK</td>\n",
              "      <td>6423.034330</td>\n",
              "    </tr>\n",
              "    <tr>\n",
              "      <th>8455</th>\n",
              "      <td>other</td>\n",
              "      <td>6 BHK</td>\n",
              "      <td>11338.0</td>\n",
              "      <td>9.0</td>\n",
              "      <td>1000.0</td>\n",
              "      <td>6.0</td>\n",
              "      <td>BHK</td>\n",
              "      <td>8819.897689</td>\n",
              "    </tr>\n",
              "  </tbody>\n",
              "</table>\n",
              "</div>\n",
              "      <button class=\"colab-df-convert\" onclick=\"convertToInteractive('df-7bd52719-8fd3-4a9e-8d15-ecdec6bbe1d0')\"\n",
              "              title=\"Convert this dataframe to an interactive table.\"\n",
              "              style=\"display:none;\">\n",
              "        \n",
              "  <svg xmlns=\"http://www.w3.org/2000/svg\" height=\"24px\"viewBox=\"0 0 24 24\"\n",
              "       width=\"24px\">\n",
              "    <path d=\"M0 0h24v24H0V0z\" fill=\"none\"/>\n",
              "    <path d=\"M18.56 5.44l.94 2.06.94-2.06 2.06-.94-2.06-.94-.94-2.06-.94 2.06-2.06.94zm-11 1L8.5 8.5l.94-2.06 2.06-.94-2.06-.94L8.5 2.5l-.94 2.06-2.06.94zm10 10l.94 2.06.94-2.06 2.06-.94-2.06-.94-.94-2.06-.94 2.06-2.06.94z\"/><path d=\"M17.41 7.96l-1.37-1.37c-.4-.4-.92-.59-1.43-.59-.52 0-1.04.2-1.43.59L10.3 9.45l-7.72 7.72c-.78.78-.78 2.05 0 2.83L4 21.41c.39.39.9.59 1.41.59.51 0 1.02-.2 1.41-.59l7.78-7.78 2.81-2.81c.8-.78.8-2.07 0-2.86zM5.41 20L4 18.59l7.72-7.72 1.47 1.35L5.41 20z\"/>\n",
              "  </svg>\n",
              "      </button>\n",
              "      \n",
              "  <style>\n",
              "    .colab-df-container {\n",
              "      display:flex;\n",
              "      flex-wrap:wrap;\n",
              "      gap: 12px;\n",
              "    }\n",
              "\n",
              "    .colab-df-convert {\n",
              "      background-color: #E8F0FE;\n",
              "      border: none;\n",
              "      border-radius: 50%;\n",
              "      cursor: pointer;\n",
              "      display: none;\n",
              "      fill: #1967D2;\n",
              "      height: 32px;\n",
              "      padding: 0 0 0 0;\n",
              "      width: 32px;\n",
              "    }\n",
              "\n",
              "    .colab-df-convert:hover {\n",
              "      background-color: #E2EBFA;\n",
              "      box-shadow: 0px 1px 2px rgba(60, 64, 67, 0.3), 0px 1px 3px 1px rgba(60, 64, 67, 0.15);\n",
              "      fill: #174EA6;\n",
              "    }\n",
              "\n",
              "    [theme=dark] .colab-df-convert {\n",
              "      background-color: #3B4455;\n",
              "      fill: #D2E3FC;\n",
              "    }\n",
              "\n",
              "    [theme=dark] .colab-df-convert:hover {\n",
              "      background-color: #434B5C;\n",
              "      box-shadow: 0px 1px 3px 1px rgba(0, 0, 0, 0.15);\n",
              "      filter: drop-shadow(0px 1px 2px rgba(0, 0, 0, 0.3));\n",
              "      fill: #FFFFFF;\n",
              "    }\n",
              "  </style>\n",
              "\n",
              "      <script>\n",
              "        const buttonEl =\n",
              "          document.querySelector('#df-7bd52719-8fd3-4a9e-8d15-ecdec6bbe1d0 button.colab-df-convert');\n",
              "        buttonEl.style.display =\n",
              "          google.colab.kernel.accessAllowed ? 'block' : 'none';\n",
              "\n",
              "        async function convertToInteractive(key) {\n",
              "          const element = document.querySelector('#df-7bd52719-8fd3-4a9e-8d15-ecdec6bbe1d0');\n",
              "          const dataTable =\n",
              "            await google.colab.kernel.invokeFunction('convertToInteractive',\n",
              "                                                     [key], {});\n",
              "          if (!dataTable) return;\n",
              "\n",
              "          const docLinkHtml = 'Like what you see? Visit the ' +\n",
              "            '<a target=\"_blank\" href=https://colab.research.google.com/notebooks/data_table.ipynb>data table notebook</a>'\n",
              "            + ' to learn more about interactive tables.';\n",
              "          element.innerHTML = '';\n",
              "          dataTable['output_type'] = 'display_data';\n",
              "          await google.colab.output.renderOutput(dataTable, element);\n",
              "          const docLink = document.createElement('div');\n",
              "          docLink.innerHTML = docLinkHtml;\n",
              "          element.appendChild(docLink);\n",
              "        }\n",
              "      </script>\n",
              "    </div>\n",
              "  </div>\n",
              "  "
            ]
          },
          "metadata": {},
          "execution_count": 87
        }
      ]
    },
    {
      "cell_type": "markdown",
      "source": [
        " total bath = total bed + 1 max. Anything above that is an outlier or a data error and can be removed\n"
      ],
      "metadata": {
        "id": "U-TLkkiJ30UR"
      }
    },
    {
      "cell_type": "code",
      "source": [
        "df9 = df8[df8.bath<df8.bhk+2]\n",
        "df9.shape"
      ],
      "metadata": {
        "colab": {
          "base_uri": "https://localhost:8080/"
        },
        "id": "CdkBkwo23r8J",
        "outputId": "70478931-9f15-4d6a-916e-9c0347dd1ddf"
      },
      "execution_count": 88,
      "outputs": [
        {
          "output_type": "execute_result",
          "data": {
            "text/plain": [
              "(7275, 8)"
            ]
          },
          "metadata": {},
          "execution_count": 88
        }
      ]
    },
    {
      "cell_type": "code",
      "source": [
        "df9.head()"
      ],
      "metadata": {
        "colab": {
          "base_uri": "https://localhost:8080/",
          "height": 206
        },
        "id": "wXWIKA9e3r5o",
        "outputId": "90b72880-200b-464f-98ac-3d70e5989e6e"
      },
      "execution_count": 90,
      "outputs": [
        {
          "output_type": "execute_result",
          "data": {
            "text/plain": [
              "              location   size  total_sqft  bath  price  bhk suffx  \\\n",
              "0  1st Block Jayanagar  4 BHK      2850.0   4.0  428.0  4.0   BHK   \n",
              "1  1st Block Jayanagar  3 BHK      1630.0   3.0  194.0  3.0   BHK   \n",
              "2  1st Block Jayanagar  3 BHK      1875.0   2.0  235.0  3.0   BHK   \n",
              "3  1st Block Jayanagar  3 BHK      1200.0   2.0  130.0  3.0   BHK   \n",
              "4  1st Block Jayanagar  2 BHK      1235.0   2.0  148.0  2.0   BHK   \n",
              "\n",
              "   price_per_sqft  \n",
              "0    15017.543860  \n",
              "1    11901.840491  \n",
              "2    12533.333333  \n",
              "3    10833.333333  \n",
              "4    11983.805668  "
            ],
            "text/html": [
              "\n",
              "  <div id=\"df-852d16e5-6e68-46f8-933c-f964a3ffb2c9\">\n",
              "    <div class=\"colab-df-container\">\n",
              "      <div>\n",
              "<style scoped>\n",
              "    .dataframe tbody tr th:only-of-type {\n",
              "        vertical-align: middle;\n",
              "    }\n",
              "\n",
              "    .dataframe tbody tr th {\n",
              "        vertical-align: top;\n",
              "    }\n",
              "\n",
              "    .dataframe thead th {\n",
              "        text-align: right;\n",
              "    }\n",
              "</style>\n",
              "<table border=\"1\" class=\"dataframe\">\n",
              "  <thead>\n",
              "    <tr style=\"text-align: right;\">\n",
              "      <th></th>\n",
              "      <th>location</th>\n",
              "      <th>size</th>\n",
              "      <th>total_sqft</th>\n",
              "      <th>bath</th>\n",
              "      <th>price</th>\n",
              "      <th>bhk</th>\n",
              "      <th>suffx</th>\n",
              "      <th>price_per_sqft</th>\n",
              "    </tr>\n",
              "  </thead>\n",
              "  <tbody>\n",
              "    <tr>\n",
              "      <th>0</th>\n",
              "      <td>1st Block Jayanagar</td>\n",
              "      <td>4 BHK</td>\n",
              "      <td>2850.0</td>\n",
              "      <td>4.0</td>\n",
              "      <td>428.0</td>\n",
              "      <td>4.0</td>\n",
              "      <td>BHK</td>\n",
              "      <td>15017.543860</td>\n",
              "    </tr>\n",
              "    <tr>\n",
              "      <th>1</th>\n",
              "      <td>1st Block Jayanagar</td>\n",
              "      <td>3 BHK</td>\n",
              "      <td>1630.0</td>\n",
              "      <td>3.0</td>\n",
              "      <td>194.0</td>\n",
              "      <td>3.0</td>\n",
              "      <td>BHK</td>\n",
              "      <td>11901.840491</td>\n",
              "    </tr>\n",
              "    <tr>\n",
              "      <th>2</th>\n",
              "      <td>1st Block Jayanagar</td>\n",
              "      <td>3 BHK</td>\n",
              "      <td>1875.0</td>\n",
              "      <td>2.0</td>\n",
              "      <td>235.0</td>\n",
              "      <td>3.0</td>\n",
              "      <td>BHK</td>\n",
              "      <td>12533.333333</td>\n",
              "    </tr>\n",
              "    <tr>\n",
              "      <th>3</th>\n",
              "      <td>1st Block Jayanagar</td>\n",
              "      <td>3 BHK</td>\n",
              "      <td>1200.0</td>\n",
              "      <td>2.0</td>\n",
              "      <td>130.0</td>\n",
              "      <td>3.0</td>\n",
              "      <td>BHK</td>\n",
              "      <td>10833.333333</td>\n",
              "    </tr>\n",
              "    <tr>\n",
              "      <th>4</th>\n",
              "      <td>1st Block Jayanagar</td>\n",
              "      <td>2 BHK</td>\n",
              "      <td>1235.0</td>\n",
              "      <td>2.0</td>\n",
              "      <td>148.0</td>\n",
              "      <td>2.0</td>\n",
              "      <td>BHK</td>\n",
              "      <td>11983.805668</td>\n",
              "    </tr>\n",
              "  </tbody>\n",
              "</table>\n",
              "</div>\n",
              "      <button class=\"colab-df-convert\" onclick=\"convertToInteractive('df-852d16e5-6e68-46f8-933c-f964a3ffb2c9')\"\n",
              "              title=\"Convert this dataframe to an interactive table.\"\n",
              "              style=\"display:none;\">\n",
              "        \n",
              "  <svg xmlns=\"http://www.w3.org/2000/svg\" height=\"24px\"viewBox=\"0 0 24 24\"\n",
              "       width=\"24px\">\n",
              "    <path d=\"M0 0h24v24H0V0z\" fill=\"none\"/>\n",
              "    <path d=\"M18.56 5.44l.94 2.06.94-2.06 2.06-.94-2.06-.94-.94-2.06-.94 2.06-2.06.94zm-11 1L8.5 8.5l.94-2.06 2.06-.94-2.06-.94L8.5 2.5l-.94 2.06-2.06.94zm10 10l.94 2.06.94-2.06 2.06-.94-2.06-.94-.94-2.06-.94 2.06-2.06.94z\"/><path d=\"M17.41 7.96l-1.37-1.37c-.4-.4-.92-.59-1.43-.59-.52 0-1.04.2-1.43.59L10.3 9.45l-7.72 7.72c-.78.78-.78 2.05 0 2.83L4 21.41c.39.39.9.59 1.41.59.51 0 1.02-.2 1.41-.59l7.78-7.78 2.81-2.81c.8-.78.8-2.07 0-2.86zM5.41 20L4 18.59l7.72-7.72 1.47 1.35L5.41 20z\"/>\n",
              "  </svg>\n",
              "      </button>\n",
              "      \n",
              "  <style>\n",
              "    .colab-df-container {\n",
              "      display:flex;\n",
              "      flex-wrap:wrap;\n",
              "      gap: 12px;\n",
              "    }\n",
              "\n",
              "    .colab-df-convert {\n",
              "      background-color: #E8F0FE;\n",
              "      border: none;\n",
              "      border-radius: 50%;\n",
              "      cursor: pointer;\n",
              "      display: none;\n",
              "      fill: #1967D2;\n",
              "      height: 32px;\n",
              "      padding: 0 0 0 0;\n",
              "      width: 32px;\n",
              "    }\n",
              "\n",
              "    .colab-df-convert:hover {\n",
              "      background-color: #E2EBFA;\n",
              "      box-shadow: 0px 1px 2px rgba(60, 64, 67, 0.3), 0px 1px 3px 1px rgba(60, 64, 67, 0.15);\n",
              "      fill: #174EA6;\n",
              "    }\n",
              "\n",
              "    [theme=dark] .colab-df-convert {\n",
              "      background-color: #3B4455;\n",
              "      fill: #D2E3FC;\n",
              "    }\n",
              "\n",
              "    [theme=dark] .colab-df-convert:hover {\n",
              "      background-color: #434B5C;\n",
              "      box-shadow: 0px 1px 3px 1px rgba(0, 0, 0, 0.15);\n",
              "      filter: drop-shadow(0px 1px 2px rgba(0, 0, 0, 0.3));\n",
              "      fill: #FFFFFF;\n",
              "    }\n",
              "  </style>\n",
              "\n",
              "      <script>\n",
              "        const buttonEl =\n",
              "          document.querySelector('#df-852d16e5-6e68-46f8-933c-f964a3ffb2c9 button.colab-df-convert');\n",
              "        buttonEl.style.display =\n",
              "          google.colab.kernel.accessAllowed ? 'block' : 'none';\n",
              "\n",
              "        async function convertToInteractive(key) {\n",
              "          const element = document.querySelector('#df-852d16e5-6e68-46f8-933c-f964a3ffb2c9');\n",
              "          const dataTable =\n",
              "            await google.colab.kernel.invokeFunction('convertToInteractive',\n",
              "                                                     [key], {});\n",
              "          if (!dataTable) return;\n",
              "\n",
              "          const docLinkHtml = 'Like what you see? Visit the ' +\n",
              "            '<a target=\"_blank\" href=https://colab.research.google.com/notebooks/data_table.ipynb>data table notebook</a>'\n",
              "            + ' to learn more about interactive tables.';\n",
              "          element.innerHTML = '';\n",
              "          dataTable['output_type'] = 'display_data';\n",
              "          await google.colab.output.renderOutput(dataTable, element);\n",
              "          const docLink = document.createElement('div');\n",
              "          docLink.innerHTML = docLinkHtml;\n",
              "          element.appendChild(docLink);\n",
              "        }\n",
              "      </script>\n",
              "    </div>\n",
              "  </div>\n",
              "  "
            ]
          },
          "metadata": {},
          "execution_count": 90
        }
      ]
    },
    {
      "cell_type": "markdown",
      "source": [
        "##Drop columns which are unwanted now\n"
      ],
      "metadata": {
        "id": "m9N1m23_4K6H"
      }
    },
    {
      "cell_type": "code",
      "source": [
        "df10 = df9.drop(['size','suffx','price_per_sqft'],axis='columns')\n",
        "df10.head(3)"
      ],
      "metadata": {
        "colab": {
          "base_uri": "https://localhost:8080/",
          "height": 143
        },
        "id": "JgzEFHci3r26",
        "outputId": "677e52fe-4d1b-4f7b-e636-f1d6b68c71ec"
      },
      "execution_count": 91,
      "outputs": [
        {
          "output_type": "execute_result",
          "data": {
            "text/plain": [
              "              location  total_sqft  bath  price  bhk\n",
              "0  1st Block Jayanagar      2850.0   4.0  428.0  4.0\n",
              "1  1st Block Jayanagar      1630.0   3.0  194.0  3.0\n",
              "2  1st Block Jayanagar      1875.0   2.0  235.0  3.0"
            ],
            "text/html": [
              "\n",
              "  <div id=\"df-63d688b0-0bf6-4d32-8d17-5cdf5f727eff\">\n",
              "    <div class=\"colab-df-container\">\n",
              "      <div>\n",
              "<style scoped>\n",
              "    .dataframe tbody tr th:only-of-type {\n",
              "        vertical-align: middle;\n",
              "    }\n",
              "\n",
              "    .dataframe tbody tr th {\n",
              "        vertical-align: top;\n",
              "    }\n",
              "\n",
              "    .dataframe thead th {\n",
              "        text-align: right;\n",
              "    }\n",
              "</style>\n",
              "<table border=\"1\" class=\"dataframe\">\n",
              "  <thead>\n",
              "    <tr style=\"text-align: right;\">\n",
              "      <th></th>\n",
              "      <th>location</th>\n",
              "      <th>total_sqft</th>\n",
              "      <th>bath</th>\n",
              "      <th>price</th>\n",
              "      <th>bhk</th>\n",
              "    </tr>\n",
              "  </thead>\n",
              "  <tbody>\n",
              "    <tr>\n",
              "      <th>0</th>\n",
              "      <td>1st Block Jayanagar</td>\n",
              "      <td>2850.0</td>\n",
              "      <td>4.0</td>\n",
              "      <td>428.0</td>\n",
              "      <td>4.0</td>\n",
              "    </tr>\n",
              "    <tr>\n",
              "      <th>1</th>\n",
              "      <td>1st Block Jayanagar</td>\n",
              "      <td>1630.0</td>\n",
              "      <td>3.0</td>\n",
              "      <td>194.0</td>\n",
              "      <td>3.0</td>\n",
              "    </tr>\n",
              "    <tr>\n",
              "      <th>2</th>\n",
              "      <td>1st Block Jayanagar</td>\n",
              "      <td>1875.0</td>\n",
              "      <td>2.0</td>\n",
              "      <td>235.0</td>\n",
              "      <td>3.0</td>\n",
              "    </tr>\n",
              "  </tbody>\n",
              "</table>\n",
              "</div>\n",
              "      <button class=\"colab-df-convert\" onclick=\"convertToInteractive('df-63d688b0-0bf6-4d32-8d17-5cdf5f727eff')\"\n",
              "              title=\"Convert this dataframe to an interactive table.\"\n",
              "              style=\"display:none;\">\n",
              "        \n",
              "  <svg xmlns=\"http://www.w3.org/2000/svg\" height=\"24px\"viewBox=\"0 0 24 24\"\n",
              "       width=\"24px\">\n",
              "    <path d=\"M0 0h24v24H0V0z\" fill=\"none\"/>\n",
              "    <path d=\"M18.56 5.44l.94 2.06.94-2.06 2.06-.94-2.06-.94-.94-2.06-.94 2.06-2.06.94zm-11 1L8.5 8.5l.94-2.06 2.06-.94-2.06-.94L8.5 2.5l-.94 2.06-2.06.94zm10 10l.94 2.06.94-2.06 2.06-.94-2.06-.94-.94-2.06-.94 2.06-2.06.94z\"/><path d=\"M17.41 7.96l-1.37-1.37c-.4-.4-.92-.59-1.43-.59-.52 0-1.04.2-1.43.59L10.3 9.45l-7.72 7.72c-.78.78-.78 2.05 0 2.83L4 21.41c.39.39.9.59 1.41.59.51 0 1.02-.2 1.41-.59l7.78-7.78 2.81-2.81c.8-.78.8-2.07 0-2.86zM5.41 20L4 18.59l7.72-7.72 1.47 1.35L5.41 20z\"/>\n",
              "  </svg>\n",
              "      </button>\n",
              "      \n",
              "  <style>\n",
              "    .colab-df-container {\n",
              "      display:flex;\n",
              "      flex-wrap:wrap;\n",
              "      gap: 12px;\n",
              "    }\n",
              "\n",
              "    .colab-df-convert {\n",
              "      background-color: #E8F0FE;\n",
              "      border: none;\n",
              "      border-radius: 50%;\n",
              "      cursor: pointer;\n",
              "      display: none;\n",
              "      fill: #1967D2;\n",
              "      height: 32px;\n",
              "      padding: 0 0 0 0;\n",
              "      width: 32px;\n",
              "    }\n",
              "\n",
              "    .colab-df-convert:hover {\n",
              "      background-color: #E2EBFA;\n",
              "      box-shadow: 0px 1px 2px rgba(60, 64, 67, 0.3), 0px 1px 3px 1px rgba(60, 64, 67, 0.15);\n",
              "      fill: #174EA6;\n",
              "    }\n",
              "\n",
              "    [theme=dark] .colab-df-convert {\n",
              "      background-color: #3B4455;\n",
              "      fill: #D2E3FC;\n",
              "    }\n",
              "\n",
              "    [theme=dark] .colab-df-convert:hover {\n",
              "      background-color: #434B5C;\n",
              "      box-shadow: 0px 1px 3px 1px rgba(0, 0, 0, 0.15);\n",
              "      filter: drop-shadow(0px 1px 2px rgba(0, 0, 0, 0.3));\n",
              "      fill: #FFFFFF;\n",
              "    }\n",
              "  </style>\n",
              "\n",
              "      <script>\n",
              "        const buttonEl =\n",
              "          document.querySelector('#df-63d688b0-0bf6-4d32-8d17-5cdf5f727eff button.colab-df-convert');\n",
              "        buttonEl.style.display =\n",
              "          google.colab.kernel.accessAllowed ? 'block' : 'none';\n",
              "\n",
              "        async function convertToInteractive(key) {\n",
              "          const element = document.querySelector('#df-63d688b0-0bf6-4d32-8d17-5cdf5f727eff');\n",
              "          const dataTable =\n",
              "            await google.colab.kernel.invokeFunction('convertToInteractive',\n",
              "                                                     [key], {});\n",
              "          if (!dataTable) return;\n",
              "\n",
              "          const docLinkHtml = 'Like what you see? Visit the ' +\n",
              "            '<a target=\"_blank\" href=https://colab.research.google.com/notebooks/data_table.ipynb>data table notebook</a>'\n",
              "            + ' to learn more about interactive tables.';\n",
              "          element.innerHTML = '';\n",
              "          dataTable['output_type'] = 'display_data';\n",
              "          await google.colab.output.renderOutput(dataTable, element);\n",
              "          const docLink = document.createElement('div');\n",
              "          docLink.innerHTML = docLinkHtml;\n",
              "          element.appendChild(docLink);\n",
              "        }\n",
              "      </script>\n",
              "    </div>\n",
              "  </div>\n",
              "  "
            ]
          },
          "metadata": {},
          "execution_count": 91
        }
      ]
    },
    {
      "cell_type": "markdown",
      "source": [
        "##Use One Hot Encoding For Location\n"
      ],
      "metadata": {
        "id": "3inCJLHf4lLX"
      }
    },
    {
      "cell_type": "code",
      "source": [
        "dummies = pd.get_dummies(df10.location)\n",
        "dummies.head()"
      ],
      "metadata": {
        "colab": {
          "base_uri": "https://localhost:8080/",
          "height": 269
        },
        "id": "pQCXzrS33r0D",
        "outputId": "12b04263-66d9-4679-eecc-3177ebd073f2"
      },
      "execution_count": 92,
      "outputs": [
        {
          "output_type": "execute_result",
          "data": {
            "text/plain": [
              "   1st Block Jayanagar  1st Phase JP Nagar  2nd Phase Judicial Layout  \\\n",
              "0                    1                   0                          0   \n",
              "1                    1                   0                          0   \n",
              "2                    1                   0                          0   \n",
              "\n",
              "   2nd Stage Nagarbhavi  5th Block Hbr Layout  5th Phase JP Nagar  \\\n",
              "0                     0                     0                   0   \n",
              "1                     0                     0                   0   \n",
              "2                     0                     0                   0   \n",
              "\n",
              "   6th Phase JP Nagar  7th Phase JP Nagar  8th Phase JP Nagar  \\\n",
              "0                   0                   0                   0   \n",
              "1                   0                   0                   0   \n",
              "2                   0                   0                   0   \n",
              "\n",
              "   9th Phase JP Nagar  ...  Vishveshwarya Layout  Vishwapriya Layout  \\\n",
              "0                   0  ...                     0                   0   \n",
              "1                   0  ...                     0                   0   \n",
              "2                   0  ...                     0                   0   \n",
              "\n",
              "   Vittasandra  Whitefield  Yelachenahalli  Yelahanka  Yelahanka New Town  \\\n",
              "0            0           0               0          0                   0   \n",
              "1            0           0               0          0                   0   \n",
              "2            0           0               0          0                   0   \n",
              "\n",
              "   Yelenahalli  Yeshwanthpur  other  \n",
              "0            0             0      0  \n",
              "1            0             0      0  \n",
              "2            0             0      0  \n",
              "\n",
              "[3 rows x 242 columns]"
            ],
            "text/html": [
              "\n",
              "  <div id=\"df-0aa95891-4edc-4e6f-970d-24fd7bc5f554\">\n",
              "    <div class=\"colab-df-container\">\n",
              "      <div>\n",
              "<style scoped>\n",
              "    .dataframe tbody tr th:only-of-type {\n",
              "        vertical-align: middle;\n",
              "    }\n",
              "\n",
              "    .dataframe tbody tr th {\n",
              "        vertical-align: top;\n",
              "    }\n",
              "\n",
              "    .dataframe thead th {\n",
              "        text-align: right;\n",
              "    }\n",
              "</style>\n",
              "<table border=\"1\" class=\"dataframe\">\n",
              "  <thead>\n",
              "    <tr style=\"text-align: right;\">\n",
              "      <th></th>\n",
              "      <th>1st Block Jayanagar</th>\n",
              "      <th>1st Phase JP Nagar</th>\n",
              "      <th>2nd Phase Judicial Layout</th>\n",
              "      <th>2nd Stage Nagarbhavi</th>\n",
              "      <th>5th Block Hbr Layout</th>\n",
              "      <th>5th Phase JP Nagar</th>\n",
              "      <th>6th Phase JP Nagar</th>\n",
              "      <th>7th Phase JP Nagar</th>\n",
              "      <th>8th Phase JP Nagar</th>\n",
              "      <th>9th Phase JP Nagar</th>\n",
              "      <th>...</th>\n",
              "      <th>Vishveshwarya Layout</th>\n",
              "      <th>Vishwapriya Layout</th>\n",
              "      <th>Vittasandra</th>\n",
              "      <th>Whitefield</th>\n",
              "      <th>Yelachenahalli</th>\n",
              "      <th>Yelahanka</th>\n",
              "      <th>Yelahanka New Town</th>\n",
              "      <th>Yelenahalli</th>\n",
              "      <th>Yeshwanthpur</th>\n",
              "      <th>other</th>\n",
              "    </tr>\n",
              "  </thead>\n",
              "  <tbody>\n",
              "    <tr>\n",
              "      <th>0</th>\n",
              "      <td>1</td>\n",
              "      <td>0</td>\n",
              "      <td>0</td>\n",
              "      <td>0</td>\n",
              "      <td>0</td>\n",
              "      <td>0</td>\n",
              "      <td>0</td>\n",
              "      <td>0</td>\n",
              "      <td>0</td>\n",
              "      <td>0</td>\n",
              "      <td>...</td>\n",
              "      <td>0</td>\n",
              "      <td>0</td>\n",
              "      <td>0</td>\n",
              "      <td>0</td>\n",
              "      <td>0</td>\n",
              "      <td>0</td>\n",
              "      <td>0</td>\n",
              "      <td>0</td>\n",
              "      <td>0</td>\n",
              "      <td>0</td>\n",
              "    </tr>\n",
              "    <tr>\n",
              "      <th>1</th>\n",
              "      <td>1</td>\n",
              "      <td>0</td>\n",
              "      <td>0</td>\n",
              "      <td>0</td>\n",
              "      <td>0</td>\n",
              "      <td>0</td>\n",
              "      <td>0</td>\n",
              "      <td>0</td>\n",
              "      <td>0</td>\n",
              "      <td>0</td>\n",
              "      <td>...</td>\n",
              "      <td>0</td>\n",
              "      <td>0</td>\n",
              "      <td>0</td>\n",
              "      <td>0</td>\n",
              "      <td>0</td>\n",
              "      <td>0</td>\n",
              "      <td>0</td>\n",
              "      <td>0</td>\n",
              "      <td>0</td>\n",
              "      <td>0</td>\n",
              "    </tr>\n",
              "    <tr>\n",
              "      <th>2</th>\n",
              "      <td>1</td>\n",
              "      <td>0</td>\n",
              "      <td>0</td>\n",
              "      <td>0</td>\n",
              "      <td>0</td>\n",
              "      <td>0</td>\n",
              "      <td>0</td>\n",
              "      <td>0</td>\n",
              "      <td>0</td>\n",
              "      <td>0</td>\n",
              "      <td>...</td>\n",
              "      <td>0</td>\n",
              "      <td>0</td>\n",
              "      <td>0</td>\n",
              "      <td>0</td>\n",
              "      <td>0</td>\n",
              "      <td>0</td>\n",
              "      <td>0</td>\n",
              "      <td>0</td>\n",
              "      <td>0</td>\n",
              "      <td>0</td>\n",
              "    </tr>\n",
              "  </tbody>\n",
              "</table>\n",
              "<p>3 rows × 242 columns</p>\n",
              "</div>\n",
              "      <button class=\"colab-df-convert\" onclick=\"convertToInteractive('df-0aa95891-4edc-4e6f-970d-24fd7bc5f554')\"\n",
              "              title=\"Convert this dataframe to an interactive table.\"\n",
              "              style=\"display:none;\">\n",
              "        \n",
              "  <svg xmlns=\"http://www.w3.org/2000/svg\" height=\"24px\"viewBox=\"0 0 24 24\"\n",
              "       width=\"24px\">\n",
              "    <path d=\"M0 0h24v24H0V0z\" fill=\"none\"/>\n",
              "    <path d=\"M18.56 5.44l.94 2.06.94-2.06 2.06-.94-2.06-.94-.94-2.06-.94 2.06-2.06.94zm-11 1L8.5 8.5l.94-2.06 2.06-.94-2.06-.94L8.5 2.5l-.94 2.06-2.06.94zm10 10l.94 2.06.94-2.06 2.06-.94-2.06-.94-.94-2.06-.94 2.06-2.06.94z\"/><path d=\"M17.41 7.96l-1.37-1.37c-.4-.4-.92-.59-1.43-.59-.52 0-1.04.2-1.43.59L10.3 9.45l-7.72 7.72c-.78.78-.78 2.05 0 2.83L4 21.41c.39.39.9.59 1.41.59.51 0 1.02-.2 1.41-.59l7.78-7.78 2.81-2.81c.8-.78.8-2.07 0-2.86zM5.41 20L4 18.59l7.72-7.72 1.47 1.35L5.41 20z\"/>\n",
              "  </svg>\n",
              "      </button>\n",
              "      \n",
              "  <style>\n",
              "    .colab-df-container {\n",
              "      display:flex;\n",
              "      flex-wrap:wrap;\n",
              "      gap: 12px;\n",
              "    }\n",
              "\n",
              "    .colab-df-convert {\n",
              "      background-color: #E8F0FE;\n",
              "      border: none;\n",
              "      border-radius: 50%;\n",
              "      cursor: pointer;\n",
              "      display: none;\n",
              "      fill: #1967D2;\n",
              "      height: 32px;\n",
              "      padding: 0 0 0 0;\n",
              "      width: 32px;\n",
              "    }\n",
              "\n",
              "    .colab-df-convert:hover {\n",
              "      background-color: #E2EBFA;\n",
              "      box-shadow: 0px 1px 2px rgba(60, 64, 67, 0.3), 0px 1px 3px 1px rgba(60, 64, 67, 0.15);\n",
              "      fill: #174EA6;\n",
              "    }\n",
              "\n",
              "    [theme=dark] .colab-df-convert {\n",
              "      background-color: #3B4455;\n",
              "      fill: #D2E3FC;\n",
              "    }\n",
              "\n",
              "    [theme=dark] .colab-df-convert:hover {\n",
              "      background-color: #434B5C;\n",
              "      box-shadow: 0px 1px 3px 1px rgba(0, 0, 0, 0.15);\n",
              "      filter: drop-shadow(0px 1px 2px rgba(0, 0, 0, 0.3));\n",
              "      fill: #FFFFFF;\n",
              "    }\n",
              "  </style>\n",
              "\n",
              "      <script>\n",
              "        const buttonEl =\n",
              "          document.querySelector('#df-0aa95891-4edc-4e6f-970d-24fd7bc5f554 button.colab-df-convert');\n",
              "        buttonEl.style.display =\n",
              "          google.colab.kernel.accessAllowed ? 'block' : 'none';\n",
              "\n",
              "        async function convertToInteractive(key) {\n",
              "          const element = document.querySelector('#df-0aa95891-4edc-4e6f-970d-24fd7bc5f554');\n",
              "          const dataTable =\n",
              "            await google.colab.kernel.invokeFunction('convertToInteractive',\n",
              "                                                     [key], {});\n",
              "          if (!dataTable) return;\n",
              "\n",
              "          const docLinkHtml = 'Like what you see? Visit the ' +\n",
              "            '<a target=\"_blank\" href=https://colab.research.google.com/notebooks/data_table.ipynb>data table notebook</a>'\n",
              "            + ' to learn more about interactive tables.';\n",
              "          element.innerHTML = '';\n",
              "          dataTable['output_type'] = 'display_data';\n",
              "          await google.colab.output.renderOutput(dataTable, element);\n",
              "          const docLink = document.createElement('div');\n",
              "          docLink.innerHTML = docLinkHtml;\n",
              "          element.appendChild(docLink);\n",
              "        }\n",
              "      </script>\n",
              "    </div>\n",
              "  </div>\n",
              "  "
            ]
          },
          "metadata": {},
          "execution_count": 92
        }
      ]
    },
    {
      "cell_type": "code",
      "source": [
        "df11 = pd.concat([df10,dummies.drop('other',axis='columns')],axis='columns')\n",
        "df11.head()"
      ],
      "metadata": {
        "colab": {
          "base_uri": "https://localhost:8080/",
          "height": 438
        },
        "id": "5G1r_Nl_3rxb",
        "outputId": "ddac36ea-41cf-4a96-d881-673ea5734aaf"
      },
      "execution_count": 93,
      "outputs": [
        {
          "output_type": "execute_result",
          "data": {
            "text/plain": [
              "              location  total_sqft  bath  price  bhk  1st Block Jayanagar  \\\n",
              "0  1st Block Jayanagar      2850.0   4.0  428.0  4.0                    1   \n",
              "1  1st Block Jayanagar      1630.0   3.0  194.0  3.0                    1   \n",
              "2  1st Block Jayanagar      1875.0   2.0  235.0  3.0                    1   \n",
              "3  1st Block Jayanagar      1200.0   2.0  130.0  3.0                    1   \n",
              "4  1st Block Jayanagar      1235.0   2.0  148.0  2.0                    1   \n",
              "\n",
              "   1st Phase JP Nagar  2nd Phase Judicial Layout  2nd Stage Nagarbhavi  \\\n",
              "0                   0                          0                     0   \n",
              "1                   0                          0                     0   \n",
              "2                   0                          0                     0   \n",
              "3                   0                          0                     0   \n",
              "4                   0                          0                     0   \n",
              "\n",
              "   5th Block Hbr Layout  ...  Vijayanagar  Vishveshwarya Layout  \\\n",
              "0                     0  ...            0                     0   \n",
              "1                     0  ...            0                     0   \n",
              "2                     0  ...            0                     0   \n",
              "3                     0  ...            0                     0   \n",
              "4                     0  ...            0                     0   \n",
              "\n",
              "   Vishwapriya Layout  Vittasandra  Whitefield  Yelachenahalli  Yelahanka  \\\n",
              "0                   0            0           0               0          0   \n",
              "1                   0            0           0               0          0   \n",
              "2                   0            0           0               0          0   \n",
              "3                   0            0           0               0          0   \n",
              "4                   0            0           0               0          0   \n",
              "\n",
              "   Yelahanka New Town  Yelenahalli  Yeshwanthpur  \n",
              "0                   0            0             0  \n",
              "1                   0            0             0  \n",
              "2                   0            0             0  \n",
              "3                   0            0             0  \n",
              "4                   0            0             0  \n",
              "\n",
              "[5 rows x 246 columns]"
            ],
            "text/html": [
              "\n",
              "  <div id=\"df-a5fc1b2c-6cd5-468b-bc0f-58d411b2c76e\">\n",
              "    <div class=\"colab-df-container\">\n",
              "      <div>\n",
              "<style scoped>\n",
              "    .dataframe tbody tr th:only-of-type {\n",
              "        vertical-align: middle;\n",
              "    }\n",
              "\n",
              "    .dataframe tbody tr th {\n",
              "        vertical-align: top;\n",
              "    }\n",
              "\n",
              "    .dataframe thead th {\n",
              "        text-align: right;\n",
              "    }\n",
              "</style>\n",
              "<table border=\"1\" class=\"dataframe\">\n",
              "  <thead>\n",
              "    <tr style=\"text-align: right;\">\n",
              "      <th></th>\n",
              "      <th>location</th>\n",
              "      <th>total_sqft</th>\n",
              "      <th>bath</th>\n",
              "      <th>price</th>\n",
              "      <th>bhk</th>\n",
              "      <th>1st Block Jayanagar</th>\n",
              "      <th>1st Phase JP Nagar</th>\n",
              "      <th>2nd Phase Judicial Layout</th>\n",
              "      <th>2nd Stage Nagarbhavi</th>\n",
              "      <th>5th Block Hbr Layout</th>\n",
              "      <th>...</th>\n",
              "      <th>Vijayanagar</th>\n",
              "      <th>Vishveshwarya Layout</th>\n",
              "      <th>Vishwapriya Layout</th>\n",
              "      <th>Vittasandra</th>\n",
              "      <th>Whitefield</th>\n",
              "      <th>Yelachenahalli</th>\n",
              "      <th>Yelahanka</th>\n",
              "      <th>Yelahanka New Town</th>\n",
              "      <th>Yelenahalli</th>\n",
              "      <th>Yeshwanthpur</th>\n",
              "    </tr>\n",
              "  </thead>\n",
              "  <tbody>\n",
              "    <tr>\n",
              "      <th>0</th>\n",
              "      <td>1st Block Jayanagar</td>\n",
              "      <td>2850.0</td>\n",
              "      <td>4.0</td>\n",
              "      <td>428.0</td>\n",
              "      <td>4.0</td>\n",
              "      <td>1</td>\n",
              "      <td>0</td>\n",
              "      <td>0</td>\n",
              "      <td>0</td>\n",
              "      <td>0</td>\n",
              "      <td>...</td>\n",
              "      <td>0</td>\n",
              "      <td>0</td>\n",
              "      <td>0</td>\n",
              "      <td>0</td>\n",
              "      <td>0</td>\n",
              "      <td>0</td>\n",
              "      <td>0</td>\n",
              "      <td>0</td>\n",
              "      <td>0</td>\n",
              "      <td>0</td>\n",
              "    </tr>\n",
              "    <tr>\n",
              "      <th>1</th>\n",
              "      <td>1st Block Jayanagar</td>\n",
              "      <td>1630.0</td>\n",
              "      <td>3.0</td>\n",
              "      <td>194.0</td>\n",
              "      <td>3.0</td>\n",
              "      <td>1</td>\n",
              "      <td>0</td>\n",
              "      <td>0</td>\n",
              "      <td>0</td>\n",
              "      <td>0</td>\n",
              "      <td>...</td>\n",
              "      <td>0</td>\n",
              "      <td>0</td>\n",
              "      <td>0</td>\n",
              "      <td>0</td>\n",
              "      <td>0</td>\n",
              "      <td>0</td>\n",
              "      <td>0</td>\n",
              "      <td>0</td>\n",
              "      <td>0</td>\n",
              "      <td>0</td>\n",
              "    </tr>\n",
              "    <tr>\n",
              "      <th>2</th>\n",
              "      <td>1st Block Jayanagar</td>\n",
              "      <td>1875.0</td>\n",
              "      <td>2.0</td>\n",
              "      <td>235.0</td>\n",
              "      <td>3.0</td>\n",
              "      <td>1</td>\n",
              "      <td>0</td>\n",
              "      <td>0</td>\n",
              "      <td>0</td>\n",
              "      <td>0</td>\n",
              "      <td>...</td>\n",
              "      <td>0</td>\n",
              "      <td>0</td>\n",
              "      <td>0</td>\n",
              "      <td>0</td>\n",
              "      <td>0</td>\n",
              "      <td>0</td>\n",
              "      <td>0</td>\n",
              "      <td>0</td>\n",
              "      <td>0</td>\n",
              "      <td>0</td>\n",
              "    </tr>\n",
              "    <tr>\n",
              "      <th>3</th>\n",
              "      <td>1st Block Jayanagar</td>\n",
              "      <td>1200.0</td>\n",
              "      <td>2.0</td>\n",
              "      <td>130.0</td>\n",
              "      <td>3.0</td>\n",
              "      <td>1</td>\n",
              "      <td>0</td>\n",
              "      <td>0</td>\n",
              "      <td>0</td>\n",
              "      <td>0</td>\n",
              "      <td>...</td>\n",
              "      <td>0</td>\n",
              "      <td>0</td>\n",
              "      <td>0</td>\n",
              "      <td>0</td>\n",
              "      <td>0</td>\n",
              "      <td>0</td>\n",
              "      <td>0</td>\n",
              "      <td>0</td>\n",
              "      <td>0</td>\n",
              "      <td>0</td>\n",
              "    </tr>\n",
              "    <tr>\n",
              "      <th>4</th>\n",
              "      <td>1st Block Jayanagar</td>\n",
              "      <td>1235.0</td>\n",
              "      <td>2.0</td>\n",
              "      <td>148.0</td>\n",
              "      <td>2.0</td>\n",
              "      <td>1</td>\n",
              "      <td>0</td>\n",
              "      <td>0</td>\n",
              "      <td>0</td>\n",
              "      <td>0</td>\n",
              "      <td>...</td>\n",
              "      <td>0</td>\n",
              "      <td>0</td>\n",
              "      <td>0</td>\n",
              "      <td>0</td>\n",
              "      <td>0</td>\n",
              "      <td>0</td>\n",
              "      <td>0</td>\n",
              "      <td>0</td>\n",
              "      <td>0</td>\n",
              "      <td>0</td>\n",
              "    </tr>\n",
              "  </tbody>\n",
              "</table>\n",
              "<p>5 rows × 246 columns</p>\n",
              "</div>\n",
              "      <button class=\"colab-df-convert\" onclick=\"convertToInteractive('df-a5fc1b2c-6cd5-468b-bc0f-58d411b2c76e')\"\n",
              "              title=\"Convert this dataframe to an interactive table.\"\n",
              "              style=\"display:none;\">\n",
              "        \n",
              "  <svg xmlns=\"http://www.w3.org/2000/svg\" height=\"24px\"viewBox=\"0 0 24 24\"\n",
              "       width=\"24px\">\n",
              "    <path d=\"M0 0h24v24H0V0z\" fill=\"none\"/>\n",
              "    <path d=\"M18.56 5.44l.94 2.06.94-2.06 2.06-.94-2.06-.94-.94-2.06-.94 2.06-2.06.94zm-11 1L8.5 8.5l.94-2.06 2.06-.94-2.06-.94L8.5 2.5l-.94 2.06-2.06.94zm10 10l.94 2.06.94-2.06 2.06-.94-2.06-.94-.94-2.06-.94 2.06-2.06.94z\"/><path d=\"M17.41 7.96l-1.37-1.37c-.4-.4-.92-.59-1.43-.59-.52 0-1.04.2-1.43.59L10.3 9.45l-7.72 7.72c-.78.78-.78 2.05 0 2.83L4 21.41c.39.39.9.59 1.41.59.51 0 1.02-.2 1.41-.59l7.78-7.78 2.81-2.81c.8-.78.8-2.07 0-2.86zM5.41 20L4 18.59l7.72-7.72 1.47 1.35L5.41 20z\"/>\n",
              "  </svg>\n",
              "      </button>\n",
              "      \n",
              "  <style>\n",
              "    .colab-df-container {\n",
              "      display:flex;\n",
              "      flex-wrap:wrap;\n",
              "      gap: 12px;\n",
              "    }\n",
              "\n",
              "    .colab-df-convert {\n",
              "      background-color: #E8F0FE;\n",
              "      border: none;\n",
              "      border-radius: 50%;\n",
              "      cursor: pointer;\n",
              "      display: none;\n",
              "      fill: #1967D2;\n",
              "      height: 32px;\n",
              "      padding: 0 0 0 0;\n",
              "      width: 32px;\n",
              "    }\n",
              "\n",
              "    .colab-df-convert:hover {\n",
              "      background-color: #E2EBFA;\n",
              "      box-shadow: 0px 1px 2px rgba(60, 64, 67, 0.3), 0px 1px 3px 1px rgba(60, 64, 67, 0.15);\n",
              "      fill: #174EA6;\n",
              "    }\n",
              "\n",
              "    [theme=dark] .colab-df-convert {\n",
              "      background-color: #3B4455;\n",
              "      fill: #D2E3FC;\n",
              "    }\n",
              "\n",
              "    [theme=dark] .colab-df-convert:hover {\n",
              "      background-color: #434B5C;\n",
              "      box-shadow: 0px 1px 3px 1px rgba(0, 0, 0, 0.15);\n",
              "      filter: drop-shadow(0px 1px 2px rgba(0, 0, 0, 0.3));\n",
              "      fill: #FFFFFF;\n",
              "    }\n",
              "  </style>\n",
              "\n",
              "      <script>\n",
              "        const buttonEl =\n",
              "          document.querySelector('#df-a5fc1b2c-6cd5-468b-bc0f-58d411b2c76e button.colab-df-convert');\n",
              "        buttonEl.style.display =\n",
              "          google.colab.kernel.accessAllowed ? 'block' : 'none';\n",
              "\n",
              "        async function convertToInteractive(key) {\n",
              "          const element = document.querySelector('#df-a5fc1b2c-6cd5-468b-bc0f-58d411b2c76e');\n",
              "          const dataTable =\n",
              "            await google.colab.kernel.invokeFunction('convertToInteractive',\n",
              "                                                     [key], {});\n",
              "          if (!dataTable) return;\n",
              "\n",
              "          const docLinkHtml = 'Like what you see? Visit the ' +\n",
              "            '<a target=\"_blank\" href=https://colab.research.google.com/notebooks/data_table.ipynb>data table notebook</a>'\n",
              "            + ' to learn more about interactive tables.';\n",
              "          element.innerHTML = '';\n",
              "          dataTable['output_type'] = 'display_data';\n",
              "          await google.colab.output.renderOutput(dataTable, element);\n",
              "          const docLink = document.createElement('div');\n",
              "          docLink.innerHTML = docLinkHtml;\n",
              "          element.appendChild(docLink);\n",
              "        }\n",
              "      </script>\n",
              "    </div>\n",
              "  </div>\n",
              "  "
            ]
          },
          "metadata": {},
          "execution_count": 93
        }
      ]
    },
    {
      "cell_type": "code",
      "source": [
        "df12 = df11.drop('location',axis='columns')\n",
        "df12.head()"
      ],
      "metadata": {
        "colab": {
          "base_uri": "https://localhost:8080/",
          "height": 351
        },
        "id": "FuDFvcvk3rsg",
        "outputId": "2ba7feeb-5f4d-4c7e-998f-21807a0a62a6"
      },
      "execution_count": 95,
      "outputs": [
        {
          "output_type": "execute_result",
          "data": {
            "text/plain": [
              "   total_sqft  bath  price  bhk  1st Block Jayanagar  1st Phase JP Nagar  \\\n",
              "0      2850.0   4.0  428.0  4.0                    1                   0   \n",
              "1      1630.0   3.0  194.0  3.0                    1                   0   \n",
              "2      1875.0   2.0  235.0  3.0                    1                   0   \n",
              "3      1200.0   2.0  130.0  3.0                    1                   0   \n",
              "4      1235.0   2.0  148.0  2.0                    1                   0   \n",
              "\n",
              "   2nd Phase Judicial Layout  2nd Stage Nagarbhavi  5th Block Hbr Layout  \\\n",
              "0                          0                     0                     0   \n",
              "1                          0                     0                     0   \n",
              "2                          0                     0                     0   \n",
              "3                          0                     0                     0   \n",
              "4                          0                     0                     0   \n",
              "\n",
              "   5th Phase JP Nagar  ...  Vijayanagar  Vishveshwarya Layout  \\\n",
              "0                   0  ...            0                     0   \n",
              "1                   0  ...            0                     0   \n",
              "2                   0  ...            0                     0   \n",
              "3                   0  ...            0                     0   \n",
              "4                   0  ...            0                     0   \n",
              "\n",
              "   Vishwapriya Layout  Vittasandra  Whitefield  Yelachenahalli  Yelahanka  \\\n",
              "0                   0            0           0               0          0   \n",
              "1                   0            0           0               0          0   \n",
              "2                   0            0           0               0          0   \n",
              "3                   0            0           0               0          0   \n",
              "4                   0            0           0               0          0   \n",
              "\n",
              "   Yelahanka New Town  Yelenahalli  Yeshwanthpur  \n",
              "0                   0            0             0  \n",
              "1                   0            0             0  \n",
              "2                   0            0             0  \n",
              "3                   0            0             0  \n",
              "4                   0            0             0  \n",
              "\n",
              "[5 rows x 245 columns]"
            ],
            "text/html": [
              "\n",
              "  <div id=\"df-5587de64-7e60-48ea-903e-299941ee2fb5\">\n",
              "    <div class=\"colab-df-container\">\n",
              "      <div>\n",
              "<style scoped>\n",
              "    .dataframe tbody tr th:only-of-type {\n",
              "        vertical-align: middle;\n",
              "    }\n",
              "\n",
              "    .dataframe tbody tr th {\n",
              "        vertical-align: top;\n",
              "    }\n",
              "\n",
              "    .dataframe thead th {\n",
              "        text-align: right;\n",
              "    }\n",
              "</style>\n",
              "<table border=\"1\" class=\"dataframe\">\n",
              "  <thead>\n",
              "    <tr style=\"text-align: right;\">\n",
              "      <th></th>\n",
              "      <th>total_sqft</th>\n",
              "      <th>bath</th>\n",
              "      <th>price</th>\n",
              "      <th>bhk</th>\n",
              "      <th>1st Block Jayanagar</th>\n",
              "      <th>1st Phase JP Nagar</th>\n",
              "      <th>2nd Phase Judicial Layout</th>\n",
              "      <th>2nd Stage Nagarbhavi</th>\n",
              "      <th>5th Block Hbr Layout</th>\n",
              "      <th>5th Phase JP Nagar</th>\n",
              "      <th>...</th>\n",
              "      <th>Vijayanagar</th>\n",
              "      <th>Vishveshwarya Layout</th>\n",
              "      <th>Vishwapriya Layout</th>\n",
              "      <th>Vittasandra</th>\n",
              "      <th>Whitefield</th>\n",
              "      <th>Yelachenahalli</th>\n",
              "      <th>Yelahanka</th>\n",
              "      <th>Yelahanka New Town</th>\n",
              "      <th>Yelenahalli</th>\n",
              "      <th>Yeshwanthpur</th>\n",
              "    </tr>\n",
              "  </thead>\n",
              "  <tbody>\n",
              "    <tr>\n",
              "      <th>0</th>\n",
              "      <td>2850.0</td>\n",
              "      <td>4.0</td>\n",
              "      <td>428.0</td>\n",
              "      <td>4.0</td>\n",
              "      <td>1</td>\n",
              "      <td>0</td>\n",
              "      <td>0</td>\n",
              "      <td>0</td>\n",
              "      <td>0</td>\n",
              "      <td>0</td>\n",
              "      <td>...</td>\n",
              "      <td>0</td>\n",
              "      <td>0</td>\n",
              "      <td>0</td>\n",
              "      <td>0</td>\n",
              "      <td>0</td>\n",
              "      <td>0</td>\n",
              "      <td>0</td>\n",
              "      <td>0</td>\n",
              "      <td>0</td>\n",
              "      <td>0</td>\n",
              "    </tr>\n",
              "    <tr>\n",
              "      <th>1</th>\n",
              "      <td>1630.0</td>\n",
              "      <td>3.0</td>\n",
              "      <td>194.0</td>\n",
              "      <td>3.0</td>\n",
              "      <td>1</td>\n",
              "      <td>0</td>\n",
              "      <td>0</td>\n",
              "      <td>0</td>\n",
              "      <td>0</td>\n",
              "      <td>0</td>\n",
              "      <td>...</td>\n",
              "      <td>0</td>\n",
              "      <td>0</td>\n",
              "      <td>0</td>\n",
              "      <td>0</td>\n",
              "      <td>0</td>\n",
              "      <td>0</td>\n",
              "      <td>0</td>\n",
              "      <td>0</td>\n",
              "      <td>0</td>\n",
              "      <td>0</td>\n",
              "    </tr>\n",
              "    <tr>\n",
              "      <th>2</th>\n",
              "      <td>1875.0</td>\n",
              "      <td>2.0</td>\n",
              "      <td>235.0</td>\n",
              "      <td>3.0</td>\n",
              "      <td>1</td>\n",
              "      <td>0</td>\n",
              "      <td>0</td>\n",
              "      <td>0</td>\n",
              "      <td>0</td>\n",
              "      <td>0</td>\n",
              "      <td>...</td>\n",
              "      <td>0</td>\n",
              "      <td>0</td>\n",
              "      <td>0</td>\n",
              "      <td>0</td>\n",
              "      <td>0</td>\n",
              "      <td>0</td>\n",
              "      <td>0</td>\n",
              "      <td>0</td>\n",
              "      <td>0</td>\n",
              "      <td>0</td>\n",
              "    </tr>\n",
              "    <tr>\n",
              "      <th>3</th>\n",
              "      <td>1200.0</td>\n",
              "      <td>2.0</td>\n",
              "      <td>130.0</td>\n",
              "      <td>3.0</td>\n",
              "      <td>1</td>\n",
              "      <td>0</td>\n",
              "      <td>0</td>\n",
              "      <td>0</td>\n",
              "      <td>0</td>\n",
              "      <td>0</td>\n",
              "      <td>...</td>\n",
              "      <td>0</td>\n",
              "      <td>0</td>\n",
              "      <td>0</td>\n",
              "      <td>0</td>\n",
              "      <td>0</td>\n",
              "      <td>0</td>\n",
              "      <td>0</td>\n",
              "      <td>0</td>\n",
              "      <td>0</td>\n",
              "      <td>0</td>\n",
              "    </tr>\n",
              "    <tr>\n",
              "      <th>4</th>\n",
              "      <td>1235.0</td>\n",
              "      <td>2.0</td>\n",
              "      <td>148.0</td>\n",
              "      <td>2.0</td>\n",
              "      <td>1</td>\n",
              "      <td>0</td>\n",
              "      <td>0</td>\n",
              "      <td>0</td>\n",
              "      <td>0</td>\n",
              "      <td>0</td>\n",
              "      <td>...</td>\n",
              "      <td>0</td>\n",
              "      <td>0</td>\n",
              "      <td>0</td>\n",
              "      <td>0</td>\n",
              "      <td>0</td>\n",
              "      <td>0</td>\n",
              "      <td>0</td>\n",
              "      <td>0</td>\n",
              "      <td>0</td>\n",
              "      <td>0</td>\n",
              "    </tr>\n",
              "  </tbody>\n",
              "</table>\n",
              "<p>5 rows × 245 columns</p>\n",
              "</div>\n",
              "      <button class=\"colab-df-convert\" onclick=\"convertToInteractive('df-5587de64-7e60-48ea-903e-299941ee2fb5')\"\n",
              "              title=\"Convert this dataframe to an interactive table.\"\n",
              "              style=\"display:none;\">\n",
              "        \n",
              "  <svg xmlns=\"http://www.w3.org/2000/svg\" height=\"24px\"viewBox=\"0 0 24 24\"\n",
              "       width=\"24px\">\n",
              "    <path d=\"M0 0h24v24H0V0z\" fill=\"none\"/>\n",
              "    <path d=\"M18.56 5.44l.94 2.06.94-2.06 2.06-.94-2.06-.94-.94-2.06-.94 2.06-2.06.94zm-11 1L8.5 8.5l.94-2.06 2.06-.94-2.06-.94L8.5 2.5l-.94 2.06-2.06.94zm10 10l.94 2.06.94-2.06 2.06-.94-2.06-.94-.94-2.06-.94 2.06-2.06.94z\"/><path d=\"M17.41 7.96l-1.37-1.37c-.4-.4-.92-.59-1.43-.59-.52 0-1.04.2-1.43.59L10.3 9.45l-7.72 7.72c-.78.78-.78 2.05 0 2.83L4 21.41c.39.39.9.59 1.41.59.51 0 1.02-.2 1.41-.59l7.78-7.78 2.81-2.81c.8-.78.8-2.07 0-2.86zM5.41 20L4 18.59l7.72-7.72 1.47 1.35L5.41 20z\"/>\n",
              "  </svg>\n",
              "      </button>\n",
              "      \n",
              "  <style>\n",
              "    .colab-df-container {\n",
              "      display:flex;\n",
              "      flex-wrap:wrap;\n",
              "      gap: 12px;\n",
              "    }\n",
              "\n",
              "    .colab-df-convert {\n",
              "      background-color: #E8F0FE;\n",
              "      border: none;\n",
              "      border-radius: 50%;\n",
              "      cursor: pointer;\n",
              "      display: none;\n",
              "      fill: #1967D2;\n",
              "      height: 32px;\n",
              "      padding: 0 0 0 0;\n",
              "      width: 32px;\n",
              "    }\n",
              "\n",
              "    .colab-df-convert:hover {\n",
              "      background-color: #E2EBFA;\n",
              "      box-shadow: 0px 1px 2px rgba(60, 64, 67, 0.3), 0px 1px 3px 1px rgba(60, 64, 67, 0.15);\n",
              "      fill: #174EA6;\n",
              "    }\n",
              "\n",
              "    [theme=dark] .colab-df-convert {\n",
              "      background-color: #3B4455;\n",
              "      fill: #D2E3FC;\n",
              "    }\n",
              "\n",
              "    [theme=dark] .colab-df-convert:hover {\n",
              "      background-color: #434B5C;\n",
              "      box-shadow: 0px 1px 3px 1px rgba(0, 0, 0, 0.15);\n",
              "      filter: drop-shadow(0px 1px 2px rgba(0, 0, 0, 0.3));\n",
              "      fill: #FFFFFF;\n",
              "    }\n",
              "  </style>\n",
              "\n",
              "      <script>\n",
              "        const buttonEl =\n",
              "          document.querySelector('#df-5587de64-7e60-48ea-903e-299941ee2fb5 button.colab-df-convert');\n",
              "        buttonEl.style.display =\n",
              "          google.colab.kernel.accessAllowed ? 'block' : 'none';\n",
              "\n",
              "        async function convertToInteractive(key) {\n",
              "          const element = document.querySelector('#df-5587de64-7e60-48ea-903e-299941ee2fb5');\n",
              "          const dataTable =\n",
              "            await google.colab.kernel.invokeFunction('convertToInteractive',\n",
              "                                                     [key], {});\n",
              "          if (!dataTable) return;\n",
              "\n",
              "          const docLinkHtml = 'Like what you see? Visit the ' +\n",
              "            '<a target=\"_blank\" href=https://colab.research.google.com/notebooks/data_table.ipynb>data table notebook</a>'\n",
              "            + ' to learn more about interactive tables.';\n",
              "          element.innerHTML = '';\n",
              "          dataTable['output_type'] = 'display_data';\n",
              "          await google.colab.output.renderOutput(dataTable, element);\n",
              "          const docLink = document.createElement('div');\n",
              "          docLink.innerHTML = docLinkHtml;\n",
              "          element.appendChild(docLink);\n",
              "        }\n",
              "      </script>\n",
              "    </div>\n",
              "  </div>\n",
              "  "
            ]
          },
          "metadata": {},
          "execution_count": 95
        }
      ]
    },
    {
      "cell_type": "markdown",
      "source": [
        "##Build a Model "
      ],
      "metadata": {
        "id": "TPqAEHGc5Cm3"
      }
    },
    {
      "cell_type": "code",
      "source": [
        "df12.shape"
      ],
      "metadata": {
        "colab": {
          "base_uri": "https://localhost:8080/"
        },
        "id": "Xaki8RH741o8",
        "outputId": "10ac70d2-7600-4061-af30-a3a968904429"
      },
      "execution_count": 96,
      "outputs": [
        {
          "output_type": "execute_result",
          "data": {
            "text/plain": [
              "(7275, 245)"
            ]
          },
          "metadata": {},
          "execution_count": 96
        }
      ]
    },
    {
      "cell_type": "code",
      "source": [
        "X = df12.drop(['price'],axis='columns')\n",
        "X.head()"
      ],
      "metadata": {
        "colab": {
          "base_uri": "https://localhost:8080/",
          "height": 289
        },
        "id": "DvTU_Uws41mS",
        "outputId": "29cf7140-a4c6-4c57-9dbc-8c999cb88f6e"
      },
      "execution_count": 97,
      "outputs": [
        {
          "output_type": "execute_result",
          "data": {
            "text/plain": [
              "   total_sqft  bath  bhk  1st Block Jayanagar  1st Phase JP Nagar  \\\n",
              "0      2850.0   4.0  4.0                    1                   0   \n",
              "1      1630.0   3.0  3.0                    1                   0   \n",
              "2      1875.0   2.0  3.0                    1                   0   \n",
              "\n",
              "   2nd Phase Judicial Layout  2nd Stage Nagarbhavi  5th Block Hbr Layout  \\\n",
              "0                          0                     0                     0   \n",
              "1                          0                     0                     0   \n",
              "2                          0                     0                     0   \n",
              "\n",
              "   5th Phase JP Nagar  6th Phase JP Nagar  ...  Vijayanagar  \\\n",
              "0                   0                   0  ...            0   \n",
              "1                   0                   0  ...            0   \n",
              "2                   0                   0  ...            0   \n",
              "\n",
              "   Vishveshwarya Layout  Vishwapriya Layout  Vittasandra  Whitefield  \\\n",
              "0                     0                   0            0           0   \n",
              "1                     0                   0            0           0   \n",
              "2                     0                   0            0           0   \n",
              "\n",
              "   Yelachenahalli  Yelahanka  Yelahanka New Town  Yelenahalli  Yeshwanthpur  \n",
              "0               0          0                   0            0             0  \n",
              "1               0          0                   0            0             0  \n",
              "2               0          0                   0            0             0  \n",
              "\n",
              "[3 rows x 244 columns]"
            ],
            "text/html": [
              "\n",
              "  <div id=\"df-485e8e4c-a39d-4884-ad2a-6b5f32f652a6\">\n",
              "    <div class=\"colab-df-container\">\n",
              "      <div>\n",
              "<style scoped>\n",
              "    .dataframe tbody tr th:only-of-type {\n",
              "        vertical-align: middle;\n",
              "    }\n",
              "\n",
              "    .dataframe tbody tr th {\n",
              "        vertical-align: top;\n",
              "    }\n",
              "\n",
              "    .dataframe thead th {\n",
              "        text-align: right;\n",
              "    }\n",
              "</style>\n",
              "<table border=\"1\" class=\"dataframe\">\n",
              "  <thead>\n",
              "    <tr style=\"text-align: right;\">\n",
              "      <th></th>\n",
              "      <th>total_sqft</th>\n",
              "      <th>bath</th>\n",
              "      <th>bhk</th>\n",
              "      <th>1st Block Jayanagar</th>\n",
              "      <th>1st Phase JP Nagar</th>\n",
              "      <th>2nd Phase Judicial Layout</th>\n",
              "      <th>2nd Stage Nagarbhavi</th>\n",
              "      <th>5th Block Hbr Layout</th>\n",
              "      <th>5th Phase JP Nagar</th>\n",
              "      <th>6th Phase JP Nagar</th>\n",
              "      <th>...</th>\n",
              "      <th>Vijayanagar</th>\n",
              "      <th>Vishveshwarya Layout</th>\n",
              "      <th>Vishwapriya Layout</th>\n",
              "      <th>Vittasandra</th>\n",
              "      <th>Whitefield</th>\n",
              "      <th>Yelachenahalli</th>\n",
              "      <th>Yelahanka</th>\n",
              "      <th>Yelahanka New Town</th>\n",
              "      <th>Yelenahalli</th>\n",
              "      <th>Yeshwanthpur</th>\n",
              "    </tr>\n",
              "  </thead>\n",
              "  <tbody>\n",
              "    <tr>\n",
              "      <th>0</th>\n",
              "      <td>2850.0</td>\n",
              "      <td>4.0</td>\n",
              "      <td>4.0</td>\n",
              "      <td>1</td>\n",
              "      <td>0</td>\n",
              "      <td>0</td>\n",
              "      <td>0</td>\n",
              "      <td>0</td>\n",
              "      <td>0</td>\n",
              "      <td>0</td>\n",
              "      <td>...</td>\n",
              "      <td>0</td>\n",
              "      <td>0</td>\n",
              "      <td>0</td>\n",
              "      <td>0</td>\n",
              "      <td>0</td>\n",
              "      <td>0</td>\n",
              "      <td>0</td>\n",
              "      <td>0</td>\n",
              "      <td>0</td>\n",
              "      <td>0</td>\n",
              "    </tr>\n",
              "    <tr>\n",
              "      <th>1</th>\n",
              "      <td>1630.0</td>\n",
              "      <td>3.0</td>\n",
              "      <td>3.0</td>\n",
              "      <td>1</td>\n",
              "      <td>0</td>\n",
              "      <td>0</td>\n",
              "      <td>0</td>\n",
              "      <td>0</td>\n",
              "      <td>0</td>\n",
              "      <td>0</td>\n",
              "      <td>...</td>\n",
              "      <td>0</td>\n",
              "      <td>0</td>\n",
              "      <td>0</td>\n",
              "      <td>0</td>\n",
              "      <td>0</td>\n",
              "      <td>0</td>\n",
              "      <td>0</td>\n",
              "      <td>0</td>\n",
              "      <td>0</td>\n",
              "      <td>0</td>\n",
              "    </tr>\n",
              "    <tr>\n",
              "      <th>2</th>\n",
              "      <td>1875.0</td>\n",
              "      <td>2.0</td>\n",
              "      <td>3.0</td>\n",
              "      <td>1</td>\n",
              "      <td>0</td>\n",
              "      <td>0</td>\n",
              "      <td>0</td>\n",
              "      <td>0</td>\n",
              "      <td>0</td>\n",
              "      <td>0</td>\n",
              "      <td>...</td>\n",
              "      <td>0</td>\n",
              "      <td>0</td>\n",
              "      <td>0</td>\n",
              "      <td>0</td>\n",
              "      <td>0</td>\n",
              "      <td>0</td>\n",
              "      <td>0</td>\n",
              "      <td>0</td>\n",
              "      <td>0</td>\n",
              "      <td>0</td>\n",
              "    </tr>\n",
              "  </tbody>\n",
              "</table>\n",
              "<p>3 rows × 244 columns</p>\n",
              "</div>\n",
              "      <button class=\"colab-df-convert\" onclick=\"convertToInteractive('df-485e8e4c-a39d-4884-ad2a-6b5f32f652a6')\"\n",
              "              title=\"Convert this dataframe to an interactive table.\"\n",
              "              style=\"display:none;\">\n",
              "        \n",
              "  <svg xmlns=\"http://www.w3.org/2000/svg\" height=\"24px\"viewBox=\"0 0 24 24\"\n",
              "       width=\"24px\">\n",
              "    <path d=\"M0 0h24v24H0V0z\" fill=\"none\"/>\n",
              "    <path d=\"M18.56 5.44l.94 2.06.94-2.06 2.06-.94-2.06-.94-.94-2.06-.94 2.06-2.06.94zm-11 1L8.5 8.5l.94-2.06 2.06-.94-2.06-.94L8.5 2.5l-.94 2.06-2.06.94zm10 10l.94 2.06.94-2.06 2.06-.94-2.06-.94-.94-2.06-.94 2.06-2.06.94z\"/><path d=\"M17.41 7.96l-1.37-1.37c-.4-.4-.92-.59-1.43-.59-.52 0-1.04.2-1.43.59L10.3 9.45l-7.72 7.72c-.78.78-.78 2.05 0 2.83L4 21.41c.39.39.9.59 1.41.59.51 0 1.02-.2 1.41-.59l7.78-7.78 2.81-2.81c.8-.78.8-2.07 0-2.86zM5.41 20L4 18.59l7.72-7.72 1.47 1.35L5.41 20z\"/>\n",
              "  </svg>\n",
              "      </button>\n",
              "      \n",
              "  <style>\n",
              "    .colab-df-container {\n",
              "      display:flex;\n",
              "      flex-wrap:wrap;\n",
              "      gap: 12px;\n",
              "    }\n",
              "\n",
              "    .colab-df-convert {\n",
              "      background-color: #E8F0FE;\n",
              "      border: none;\n",
              "      border-radius: 50%;\n",
              "      cursor: pointer;\n",
              "      display: none;\n",
              "      fill: #1967D2;\n",
              "      height: 32px;\n",
              "      padding: 0 0 0 0;\n",
              "      width: 32px;\n",
              "    }\n",
              "\n",
              "    .colab-df-convert:hover {\n",
              "      background-color: #E2EBFA;\n",
              "      box-shadow: 0px 1px 2px rgba(60, 64, 67, 0.3), 0px 1px 3px 1px rgba(60, 64, 67, 0.15);\n",
              "      fill: #174EA6;\n",
              "    }\n",
              "\n",
              "    [theme=dark] .colab-df-convert {\n",
              "      background-color: #3B4455;\n",
              "      fill: #D2E3FC;\n",
              "    }\n",
              "\n",
              "    [theme=dark] .colab-df-convert:hover {\n",
              "      background-color: #434B5C;\n",
              "      box-shadow: 0px 1px 3px 1px rgba(0, 0, 0, 0.15);\n",
              "      filter: drop-shadow(0px 1px 2px rgba(0, 0, 0, 0.3));\n",
              "      fill: #FFFFFF;\n",
              "    }\n",
              "  </style>\n",
              "\n",
              "      <script>\n",
              "        const buttonEl =\n",
              "          document.querySelector('#df-485e8e4c-a39d-4884-ad2a-6b5f32f652a6 button.colab-df-convert');\n",
              "        buttonEl.style.display =\n",
              "          google.colab.kernel.accessAllowed ? 'block' : 'none';\n",
              "\n",
              "        async function convertToInteractive(key) {\n",
              "          const element = document.querySelector('#df-485e8e4c-a39d-4884-ad2a-6b5f32f652a6');\n",
              "          const dataTable =\n",
              "            await google.colab.kernel.invokeFunction('convertToInteractive',\n",
              "                                                     [key], {});\n",
              "          if (!dataTable) return;\n",
              "\n",
              "          const docLinkHtml = 'Like what you see? Visit the ' +\n",
              "            '<a target=\"_blank\" href=https://colab.research.google.com/notebooks/data_table.ipynb>data table notebook</a>'\n",
              "            + ' to learn more about interactive tables.';\n",
              "          element.innerHTML = '';\n",
              "          dataTable['output_type'] = 'display_data';\n",
              "          await google.colab.output.renderOutput(dataTable, element);\n",
              "          const docLink = document.createElement('div');\n",
              "          docLink.innerHTML = docLinkHtml;\n",
              "          element.appendChild(docLink);\n",
              "        }\n",
              "      </script>\n",
              "    </div>\n",
              "  </div>\n",
              "  "
            ]
          },
          "metadata": {},
          "execution_count": 97
        }
      ]
    },
    {
      "cell_type": "code",
      "source": [
        "X.shape"
      ],
      "metadata": {
        "colab": {
          "base_uri": "https://localhost:8080/"
        },
        "id": "lVVur4Ay41j_",
        "outputId": "e43bf25f-7fca-4009-a42d-4fe442546c45"
      },
      "execution_count": 98,
      "outputs": [
        {
          "output_type": "execute_result",
          "data": {
            "text/plain": [
              "(7275, 244)"
            ]
          },
          "metadata": {},
          "execution_count": 98
        }
      ]
    },
    {
      "cell_type": "code",
      "source": [
        "y = df12.price\n",
        "y.head(3)"
      ],
      "metadata": {
        "colab": {
          "base_uri": "https://localhost:8080/"
        },
        "id": "fanTpvAn41hT",
        "outputId": "e81285b2-b079-4705-b416-fd0b95d35df9"
      },
      "execution_count": 99,
      "outputs": [
        {
          "output_type": "execute_result",
          "data": {
            "text/plain": [
              "0    428.0\n",
              "1    194.0\n",
              "2    235.0\n",
              "Name: price, dtype: float64"
            ]
          },
          "metadata": {},
          "execution_count": 99
        }
      ]
    },
    {
      "cell_type": "code",
      "source": [
        "from sklearn.model_selection import train_test_split\n",
        "from sklearn.linear_model import LinearRegression"
      ],
      "metadata": {
        "id": "7xkcbebr41bn"
      },
      "execution_count": 100,
      "outputs": []
    },
    {
      "cell_type": "code",
      "source": [
        "from sklearn.model_selection import ShuffleSplit\n",
        "from sklearn.model_selection import cross_val_score"
      ],
      "metadata": {
        "id": "00Tg7e5s5-Jp"
      },
      "execution_count": 104,
      "outputs": []
    },
    {
      "cell_type": "code",
      "source": [
        "X_train, X_test, y_train, y_test = train_test_split(X,y,test_size=0.2,random_state=7)"
      ],
      "metadata": {
        "id": "OXDmM5TAZI3c"
      },
      "execution_count": 102,
      "outputs": []
    },
    {
      "cell_type": "code",
      "source": [
        "lr_clf = LinearRegression()\n",
        "lr_clf.fit(X_train,y_train)\n",
        "lr_clf.score(X_test,y_test)"
      ],
      "metadata": {
        "id": "PcGHCw9xZIyJ",
        "colab": {
          "base_uri": "https://localhost:8080/"
        },
        "outputId": "ab616c11-ed52-4dbd-a751-cc92aa7dbc79"
      },
      "execution_count": 103,
      "outputs": [
        {
          "output_type": "execute_result",
          "data": {
            "text/plain": [
              "0.8419514786233459"
            ]
          },
          "metadata": {},
          "execution_count": 103
        }
      ]
    },
    {
      "cell_type": "code",
      "source": [
        "cv = ShuffleSplit(n_splits=5, test_size=0.2, random_state=0)\n",
        "cross_val_score(LinearRegression(), X, y, cv=cv)"
      ],
      "metadata": {
        "colab": {
          "base_uri": "https://localhost:8080/"
        },
        "id": "x-9diyfC57FH",
        "outputId": "ecf5262c-b7a8-4a96-8aed-711db2f2a17b"
      },
      "execution_count": 105,
      "outputs": [
        {
          "output_type": "execute_result",
          "data": {
            "text/plain": [
              "array([0.80702643, 0.77249195, 0.86466289, 0.83528873, 0.81806721])"
            ]
          },
          "metadata": {},
          "execution_count": 105
        }
      ]
    },
    {
      "cell_type": "markdown",
      "source": [
        "##Test the model for few properties"
      ],
      "metadata": {
        "id": "3mWo7UaV6KzZ"
      }
    },
    {
      "cell_type": "code",
      "source": [
        "def predict_price(location,sqft,bath,bhk):    \n",
        "    loc_index = np.where(X.columns==location)[0][0]\n",
        "\n",
        "    x = np.zeros(len(X.columns))\n",
        "    x[0] = sqft\n",
        "    x[1] = bath\n",
        "    x[2] = bhk\n",
        "    if loc_index >= 0:\n",
        "        x[loc_index] = 1\n",
        "\n",
        "    return lr_clf.predict([x])[0]"
      ],
      "metadata": {
        "id": "3VvU-57I6D9O"
      },
      "execution_count": 106,
      "outputs": []
    },
    {
      "cell_type": "code",
      "source": [
        "predict_price('1st Phase JP Nagar',1000, 2, 2)"
      ],
      "metadata": {
        "colab": {
          "base_uri": "https://localhost:8080/"
        },
        "id": "bqb7ee856UGZ",
        "outputId": "bbfb6799-16f3-4af7-c3c7-66e7356a01cd"
      },
      "execution_count": 107,
      "outputs": [
        {
          "output_type": "stream",
          "name": "stderr",
          "text": [
            "/usr/local/lib/python3.7/dist-packages/sklearn/base.py:451: UserWarning: X does not have valid feature names, but LinearRegression was fitted with feature names\n",
            "  \"X does not have valid feature names, but\"\n"
          ]
        },
        {
          "output_type": "execute_result",
          "data": {
            "text/plain": [
              "88.4053471195787"
            ]
          },
          "metadata": {},
          "execution_count": 107
        }
      ]
    },
    {
      "cell_type": "code",
      "source": [
        "predict_price('Indira Nagar',1000, 2, 2)"
      ],
      "metadata": {
        "colab": {
          "base_uri": "https://localhost:8080/"
        },
        "id": "u-3A6oer6T_n",
        "outputId": "001654f1-537a-4915-b9bd-8f30ffbfabd8"
      },
      "execution_count": 108,
      "outputs": [
        {
          "output_type": "stream",
          "name": "stderr",
          "text": [
            "/usr/local/lib/python3.7/dist-packages/sklearn/base.py:451: UserWarning: X does not have valid feature names, but LinearRegression was fitted with feature names\n",
            "  \"X does not have valid feature names, but\"\n"
          ]
        },
        {
          "output_type": "execute_result",
          "data": {
            "text/plain": [
              "184.8063914689708"
            ]
          },
          "metadata": {},
          "execution_count": 108
        }
      ]
    },
    {
      "cell_type": "code",
      "source": [
        "predict_price('Frazer Town',1200, 2, 2)"
      ],
      "metadata": {
        "colab": {
          "base_uri": "https://localhost:8080/"
        },
        "id": "mOW1GENV6dO_",
        "outputId": "69751c53-ee40-4e3b-bd2d-746e2b9e5c0a"
      },
      "execution_count": 110,
      "outputs": [
        {
          "output_type": "stream",
          "name": "stderr",
          "text": [
            "/usr/local/lib/python3.7/dist-packages/sklearn/base.py:451: UserWarning: X does not have valid feature names, but LinearRegression was fitted with feature names\n",
            "  \"X does not have valid feature names, but\"\n"
          ]
        },
        {
          "output_type": "execute_result",
          "data": {
            "text/plain": [
              "138.5731419366873"
            ]
          },
          "metadata": {},
          "execution_count": 110
        }
      ]
    },
    {
      "cell_type": "code",
      "source": [
        "predict_price('HBR Layout',1200, 2, 2)"
      ],
      "metadata": {
        "colab": {
          "base_uri": "https://localhost:8080/"
        },
        "id": "c_223X6W7Kdu",
        "outputId": "18d32b1f-f450-41b8-db39-ea52494f2ba5"
      },
      "execution_count": 111,
      "outputs": [
        {
          "output_type": "stream",
          "name": "stderr",
          "text": [
            "/usr/local/lib/python3.7/dist-packages/sklearn/base.py:451: UserWarning: X does not have valid feature names, but LinearRegression was fitted with feature names\n",
            "  \"X does not have valid feature names, but\"\n"
          ]
        },
        {
          "output_type": "execute_result",
          "data": {
            "text/plain": [
              "83.25691524744283"
            ]
          },
          "metadata": {},
          "execution_count": 111
        }
      ]
    },
    {
      "cell_type": "code",
      "source": [
        "locations"
      ],
      "metadata": {
        "colab": {
          "base_uri": "https://localhost:8080/"
        },
        "id": "GFcoAsv97nJX",
        "outputId": "b68c274c-ee3c-4a59-9eef-adf03e33a70d"
      },
      "execution_count": 114,
      "outputs": [
        {
          "output_type": "execute_result",
          "data": {
            "text/plain": [
              "array(['1st Block Jayanagar', '1st Phase JP Nagar',\n",
              "       '2nd Phase Judicial Layout', '2nd Stage Nagarbhavi',\n",
              "       '5th Block Hbr Layout', '5th Phase JP Nagar', '6th Phase JP Nagar',\n",
              "       '7th Phase JP Nagar', '8th Phase JP Nagar', '9th Phase JP Nagar',\n",
              "       'AECS Layout', 'Abbigere', 'Akshaya Nagar', 'Ambalipura',\n",
              "       'Ambedkar Nagar', 'Amruthahalli', 'Anandapura', 'Ananth Nagar',\n",
              "       'Anekal', 'Anjanapura', 'Ardendale', 'Arekere', 'Attibele',\n",
              "       'BEML Layout', 'BTM 2nd Stage', 'BTM Layout', 'Babusapalaya',\n",
              "       'Badavala Nagar', 'Balagere', 'Banashankari',\n",
              "       'Banashankari Stage II', 'Banashankari Stage III',\n",
              "       'Banashankari Stage V', 'Banashankari Stage VI', 'Banaswadi',\n",
              "       'Banjara Layout', 'Bannerghatta', 'Bannerghatta Road',\n",
              "       'Basavangudi', 'Basaveshwara Nagar', 'Battarahalli', 'Begur',\n",
              "       'Begur Road', 'Bellandur', 'Benson Town', 'Bharathi Nagar',\n",
              "       'Bhoganhalli', 'Billekahalli', 'Binny Pete', 'Bisuvanahalli',\n",
              "       'Bommanahalli', 'Bommasandra', 'Bommasandra Industrial Area',\n",
              "       'Bommenahalli', 'Brookefield', 'Budigere', 'CV Raman Nagar',\n",
              "       'Chamrajpet', 'Chandapura', 'Channasandra', 'Chikka Tirupathi',\n",
              "       'Chikkabanavar', 'Chikkalasandra', 'Choodasandra', 'Cooke Town',\n",
              "       'Cox Town', 'Cunningham Road', 'Dasanapura', 'Dasarahalli',\n",
              "       'Devanahalli', 'Devarachikkanahalli', 'Dodda Nekkundi',\n",
              "       'Doddaballapur', 'Doddakallasandra', 'Doddathoguru', 'Domlur',\n",
              "       'Dommasandra', 'EPIP Zone', 'Electronic City',\n",
              "       'Electronic City Phase II', 'Electronics City Phase 1',\n",
              "       'Frazer Town', 'GM Palaya', 'Garudachar Palya', 'Giri Nagar',\n",
              "       'Gollarapalya Hosahalli', 'Gottigere', 'Green Glen Layout',\n",
              "       'Gubbalala', 'Gunjur', 'HAL 2nd Stage', 'HBR Layout',\n",
              "       'HRBR Layout', 'HSR Layout', 'Haralur Road', 'Harlur', 'Hebbal',\n",
              "       'Hebbal Kempapura', 'Hegde Nagar', 'Hennur', 'Hennur Road',\n",
              "       'Hoodi', 'Horamavu Agara', 'Horamavu Banaswadi', 'Hormavu',\n",
              "       'Hosa Road', 'Hosakerehalli', 'Hoskote', 'Hosur Road', 'Hulimavu',\n",
              "       'ISRO Layout', 'ITPL', 'Iblur Village', 'Indira Nagar', 'JP Nagar',\n",
              "       'Jakkur', 'Jalahalli', 'Jalahalli East', 'Jigani',\n",
              "       'Judicial Layout', 'KR Puram', 'Kadubeesanahalli', 'Kadugodi',\n",
              "       'Kaggadasapura', 'Kaggalipura', 'Kaikondrahalli',\n",
              "       'Kalena Agrahara', 'Kalyan nagar', 'Kambipura', 'Kammanahalli',\n",
              "       'Kammasandra', 'Kanakapura', 'Kanakpura Road', 'Kannamangala',\n",
              "       'Karuna Nagar', 'Kasavanhalli', 'Kasturi Nagar', 'Kathriguppe',\n",
              "       'Kaval Byrasandra', 'Kenchenahalli', 'Kengeri',\n",
              "       'Kengeri Satellite Town', 'Kereguddadahalli', 'Kodichikkanahalli',\n",
              "       'Kodigehaali', 'Kodigehalli', 'Kodihalli', 'Kogilu', 'Konanakunte',\n",
              "       'Koramangala', 'Kothannur', 'Kothanur', 'Kudlu', 'Kudlu Gate',\n",
              "       'Kumaraswami Layout', 'Kundalahalli', 'LB Shastri Nagar',\n",
              "       'Laggere', 'Lakshminarayana Pura', 'Lingadheeranahalli',\n",
              "       'Magadi Road', 'Mahadevpura', 'Mahalakshmi Layout', 'Mallasandra',\n",
              "       'Malleshpalya', 'Malleshwaram', 'Marathahalli', 'Margondanahalli',\n",
              "       'Marsur', 'Mico Layout', 'Munnekollal', 'Murugeshpalya',\n",
              "       'Mysore Road', 'NGR Layout', 'NRI Layout', 'Nagarbhavi',\n",
              "       'Nagasandra', 'Nagavara', 'Nagavarapalya', 'Narayanapura',\n",
              "       'Neeladri Nagar', 'Nehru Nagar', 'OMBR Layout', 'Old Airport Road',\n",
              "       'Old Madras Road', 'Padmanabhanagar', 'Pai Layout', 'Panathur',\n",
              "       'Parappana Agrahara', 'Pattandur Agrahara', 'Poorna Pragna Layout',\n",
              "       'Prithvi Layout', 'R.T. Nagar', 'Rachenahalli',\n",
              "       'Raja Rajeshwari Nagar', 'Rajaji Nagar', 'Rajiv Nagar',\n",
              "       'Ramagondanahalli', 'Ramamurthy Nagar', 'Rayasandra',\n",
              "       'Sahakara Nagar', 'Sanjay nagar', 'Sarakki Nagar', 'Sarjapur',\n",
              "       'Sarjapur  Road', 'Sarjapura - Attibele Road',\n",
              "       'Sector 2 HSR Layout', 'Sector 7 HSR Layout', 'Seegehalli',\n",
              "       'Shampura', 'Shivaji Nagar', 'Singasandra', 'Somasundara Palya',\n",
              "       'Sompura', 'Sonnenahalli', 'Subramanyapura', 'Sultan Palaya',\n",
              "       'TC Palaya', 'Talaghattapura', 'Thanisandra', 'Thigalarapalya',\n",
              "       'Thubarahalli', 'Thyagaraja Nagar', 'Tindlu', 'Tumkur Road',\n",
              "       'Ulsoor', 'Uttarahalli', 'Varthur', 'Varthur Road', 'Vasanthapura',\n",
              "       'Vidyaranyapura', 'Vijayanagar', 'Vishveshwarya Layout',\n",
              "       'Vishwapriya Layout', 'Vittasandra', 'Whitefield',\n",
              "       'Yelachenahalli', 'Yelahanka', 'Yelahanka New Town', 'Yelenahalli',\n",
              "       'Yeshwanthpur', 'other'], dtype=object)"
            ]
          },
          "metadata": {},
          "execution_count": 114
        }
      ]
    },
    {
      "cell_type": "code",
      "source": [],
      "metadata": {
        "id": "nWvCVAmo7pvH"
      },
      "execution_count": null,
      "outputs": []
    }
  ]
}