{
  "nbformat": 4,
  "nbformat_minor": 0,
  "metadata": {
    "colab": {
      "name": "house_price_prediction.ipynb",
      "provenance": [],
      "collapsed_sections": [
        "g-6S4joHSRMk"
      ]
    },
    "kernelspec": {
      "name": "python3",
      "display_name": "Python 3"
    },
    "language_info": {
      "name": "python"
    }
  },
  "cells": [
    {
      "cell_type": "markdown",
      "source": [
        "#Bangaluru House Price - Kaggle dataset"
      ],
      "metadata": {
        "id": "rF0iTmArKjP2"
      }
    },
    {
      "cell_type": "markdown",
      "source": [
        "## **Dataset:** https://www.kaggle.com/datasets/amitabhajoy/bengaluru-house-price-data"
      ],
      "metadata": {
        "id": "g-6S4joHSRMk"
      }
    },
    {
      "cell_type": "code",
      "source": [
        "#upload kaggle.json\n",
        "from google.colab import files\n",
        "files.upload()\n",
        "print('Uploaded')"
      ],
      "metadata": {
        "colab": {
          "resources": {
            "http://localhost:8080/nbextensions/google.colab/files.js": {
              "data": "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",
              "ok": true,
              "headers": [
                [
                  "content-type",
                  "application/javascript"
                ]
              ],
              "status": 200,
              "status_text": ""
            }
          },
          "base_uri": "https://localhost:8080/",
          "height": 87
        },
        "id": "rE3A76IyXlyd",
        "outputId": "33163115-4414-41ab-abfb-1f303b8ed502"
      },
      "execution_count": 1,
      "outputs": [
        {
          "output_type": "display_data",
          "data": {
            "text/plain": [
              "<IPython.core.display.HTML object>"
            ],
            "text/html": [
              "\n",
              "     <input type=\"file\" id=\"files-84fce948-aa97-4a52-9fb9-66136106b1ec\" name=\"files[]\" multiple disabled\n",
              "        style=\"border:none\" />\n",
              "     <output id=\"result-84fce948-aa97-4a52-9fb9-66136106b1ec\">\n",
              "      Upload widget is only available when the cell has been executed in the\n",
              "      current browser session. Please rerun this cell to enable.\n",
              "      </output>\n",
              "      <script src=\"/nbextensions/google.colab/files.js\"></script> "
            ]
          },
          "metadata": {}
        },
        {
          "output_type": "stream",
          "name": "stdout",
          "text": [
            "Saving kaggle.json to kaggle.json\n",
            "Uploaded\n"
          ]
        }
      ]
    },
    {
      "cell_type": "code",
      "source": [
        "!pip install -q kaggle\n",
        "!mkdir -p ~/.kaggle\n",
        "!cp kaggle.json ~/.kaggle/\n",
        "!ls ~/.kaggle\n",
        "!chmod 600 /root/.kaggle/kaggle.json"
      ],
      "metadata": {
        "colab": {
          "base_uri": "https://localhost:8080/",
          "height": 0
        },
        "id": "doSV0ogNJGas",
        "outputId": "a2ceb8d3-232b-46f8-e7e6-6d4d2b7769ce"
      },
      "execution_count": 2,
      "outputs": [
        {
          "output_type": "stream",
          "name": "stdout",
          "text": [
            "kaggle.json\n"
          ]
        }
      ]
    },
    {
      "cell_type": "code",
      "source": [
        "!kaggle datasets download -d amitabhajoy/bengaluru-house-price-data"
      ],
      "metadata": {
        "colab": {
          "base_uri": "https://localhost:8080/",
          "height": 0
        },
        "id": "84V0hrZjJGd2",
        "outputId": "dba7caea-4f07-4e9d-9eb8-77e9faa6dceb"
      },
      "execution_count": 3,
      "outputs": [
        {
          "output_type": "stream",
          "name": "stdout",
          "text": [
            "Downloading bengaluru-house-price-data.zip to /content\n",
            "\r  0% 0.00/195k [00:00<?, ?B/s]\n",
            "\r100% 195k/195k [00:00<00:00, 78.5MB/s]\n"
          ]
        }
      ]
    },
    {
      "cell_type": "code",
      "source": [
        "!unzip /content/bengaluru-house-price-data.zip -d kaggle"
      ],
      "metadata": {
        "colab": {
          "base_uri": "https://localhost:8080/",
          "height": 0
        },
        "id": "GuTg5AubYJma",
        "outputId": "61886bb6-cde9-42cd-d99d-efe1f5ce9719"
      },
      "execution_count": 4,
      "outputs": [
        {
          "output_type": "stream",
          "name": "stdout",
          "text": [
            "Archive:  /content/bengaluru-house-price-data.zip\n",
            "  inflating: kaggle/Bengaluru_House_Data.csv  \n"
          ]
        }
      ]
    },
    {
      "cell_type": "markdown",
      "source": [
        "##Start of Code\n"
      ],
      "metadata": {
        "id": "xukFU6KSYenX"
      }
    },
    {
      "cell_type": "code",
      "source": [
        "import numpy as np\n",
        "import pandas as pd"
      ],
      "metadata": {
        "id": "eobsL8nZYJjp"
      },
      "execution_count": 1,
      "outputs": []
    },
    {
      "cell_type": "code",
      "source": [
        "df = pd.read_csv(\"/content/kaggle/Bengaluru_House_Data.csv\")\n",
        "df.head()"
      ],
      "metadata": {
        "colab": {
          "base_uri": "https://localhost:8080/",
          "height": 206
        },
        "id": "U0ByvNb_YJfg",
        "outputId": "f586ab7f-7c9b-4cc1-ea4c-8680104403ef"
      },
      "execution_count": 2,
      "outputs": [
        {
          "output_type": "execute_result",
          "data": {
            "text/plain": [
              "              area_type   availability                  location       size  \\\n",
              "0  Super built-up  Area         19-Dec  Electronic City Phase II      2 BHK   \n",
              "1            Plot  Area  Ready To Move          Chikka Tirupathi  4 Bedroom   \n",
              "2        Built-up  Area  Ready To Move               Uttarahalli      3 BHK   \n",
              "3  Super built-up  Area  Ready To Move        Lingadheeranahalli      3 BHK   \n",
              "4  Super built-up  Area  Ready To Move                  Kothanur      2 BHK   \n",
              "\n",
              "   society total_sqft  bath  balcony   price  \n",
              "0  Coomee        1056   2.0      1.0   39.07  \n",
              "1  Theanmp       2600   5.0      3.0  120.00  \n",
              "2      NaN       1440   2.0      3.0   62.00  \n",
              "3  Soiewre       1521   3.0      1.0   95.00  \n",
              "4      NaN       1200   2.0      1.0   51.00  "
            ],
            "text/html": [
              "\n",
              "  <div id=\"df-e03af01f-8b5f-4897-b05e-65e152dd67f2\">\n",
              "    <div class=\"colab-df-container\">\n",
              "      <div>\n",
              "<style scoped>\n",
              "    .dataframe tbody tr th:only-of-type {\n",
              "        vertical-align: middle;\n",
              "    }\n",
              "\n",
              "    .dataframe tbody tr th {\n",
              "        vertical-align: top;\n",
              "    }\n",
              "\n",
              "    .dataframe thead th {\n",
              "        text-align: right;\n",
              "    }\n",
              "</style>\n",
              "<table border=\"1\" class=\"dataframe\">\n",
              "  <thead>\n",
              "    <tr style=\"text-align: right;\">\n",
              "      <th></th>\n",
              "      <th>area_type</th>\n",
              "      <th>availability</th>\n",
              "      <th>location</th>\n",
              "      <th>size</th>\n",
              "      <th>society</th>\n",
              "      <th>total_sqft</th>\n",
              "      <th>bath</th>\n",
              "      <th>balcony</th>\n",
              "      <th>price</th>\n",
              "    </tr>\n",
              "  </thead>\n",
              "  <tbody>\n",
              "    <tr>\n",
              "      <th>0</th>\n",
              "      <td>Super built-up  Area</td>\n",
              "      <td>19-Dec</td>\n",
              "      <td>Electronic City Phase II</td>\n",
              "      <td>2 BHK</td>\n",
              "      <td>Coomee</td>\n",
              "      <td>1056</td>\n",
              "      <td>2.0</td>\n",
              "      <td>1.0</td>\n",
              "      <td>39.07</td>\n",
              "    </tr>\n",
              "    <tr>\n",
              "      <th>1</th>\n",
              "      <td>Plot  Area</td>\n",
              "      <td>Ready To Move</td>\n",
              "      <td>Chikka Tirupathi</td>\n",
              "      <td>4 Bedroom</td>\n",
              "      <td>Theanmp</td>\n",
              "      <td>2600</td>\n",
              "      <td>5.0</td>\n",
              "      <td>3.0</td>\n",
              "      <td>120.00</td>\n",
              "    </tr>\n",
              "    <tr>\n",
              "      <th>2</th>\n",
              "      <td>Built-up  Area</td>\n",
              "      <td>Ready To Move</td>\n",
              "      <td>Uttarahalli</td>\n",
              "      <td>3 BHK</td>\n",
              "      <td>NaN</td>\n",
              "      <td>1440</td>\n",
              "      <td>2.0</td>\n",
              "      <td>3.0</td>\n",
              "      <td>62.00</td>\n",
              "    </tr>\n",
              "    <tr>\n",
              "      <th>3</th>\n",
              "      <td>Super built-up  Area</td>\n",
              "      <td>Ready To Move</td>\n",
              "      <td>Lingadheeranahalli</td>\n",
              "      <td>3 BHK</td>\n",
              "      <td>Soiewre</td>\n",
              "      <td>1521</td>\n",
              "      <td>3.0</td>\n",
              "      <td>1.0</td>\n",
              "      <td>95.00</td>\n",
              "    </tr>\n",
              "    <tr>\n",
              "      <th>4</th>\n",
              "      <td>Super built-up  Area</td>\n",
              "      <td>Ready To Move</td>\n",
              "      <td>Kothanur</td>\n",
              "      <td>2 BHK</td>\n",
              "      <td>NaN</td>\n",
              "      <td>1200</td>\n",
              "      <td>2.0</td>\n",
              "      <td>1.0</td>\n",
              "      <td>51.00</td>\n",
              "    </tr>\n",
              "  </tbody>\n",
              "</table>\n",
              "</div>\n",
              "      <button class=\"colab-df-convert\" onclick=\"convertToInteractive('df-e03af01f-8b5f-4897-b05e-65e152dd67f2')\"\n",
              "              title=\"Convert this dataframe to an interactive table.\"\n",
              "              style=\"display:none;\">\n",
              "        \n",
              "  <svg xmlns=\"http://www.w3.org/2000/svg\" height=\"24px\"viewBox=\"0 0 24 24\"\n",
              "       width=\"24px\">\n",
              "    <path d=\"M0 0h24v24H0V0z\" fill=\"none\"/>\n",
              "    <path d=\"M18.56 5.44l.94 2.06.94-2.06 2.06-.94-2.06-.94-.94-2.06-.94 2.06-2.06.94zm-11 1L8.5 8.5l.94-2.06 2.06-.94-2.06-.94L8.5 2.5l-.94 2.06-2.06.94zm10 10l.94 2.06.94-2.06 2.06-.94-2.06-.94-.94-2.06-.94 2.06-2.06.94z\"/><path d=\"M17.41 7.96l-1.37-1.37c-.4-.4-.92-.59-1.43-.59-.52 0-1.04.2-1.43.59L10.3 9.45l-7.72 7.72c-.78.78-.78 2.05 0 2.83L4 21.41c.39.39.9.59 1.41.59.51 0 1.02-.2 1.41-.59l7.78-7.78 2.81-2.81c.8-.78.8-2.07 0-2.86zM5.41 20L4 18.59l7.72-7.72 1.47 1.35L5.41 20z\"/>\n",
              "  </svg>\n",
              "      </button>\n",
              "      \n",
              "  <style>\n",
              "    .colab-df-container {\n",
              "      display:flex;\n",
              "      flex-wrap:wrap;\n",
              "      gap: 12px;\n",
              "    }\n",
              "\n",
              "    .colab-df-convert {\n",
              "      background-color: #E8F0FE;\n",
              "      border: none;\n",
              "      border-radius: 50%;\n",
              "      cursor: pointer;\n",
              "      display: none;\n",
              "      fill: #1967D2;\n",
              "      height: 32px;\n",
              "      padding: 0 0 0 0;\n",
              "      width: 32px;\n",
              "    }\n",
              "\n",
              "    .colab-df-convert:hover {\n",
              "      background-color: #E2EBFA;\n",
              "      box-shadow: 0px 1px 2px rgba(60, 64, 67, 0.3), 0px 1px 3px 1px rgba(60, 64, 67, 0.15);\n",
              "      fill: #174EA6;\n",
              "    }\n",
              "\n",
              "    [theme=dark] .colab-df-convert {\n",
              "      background-color: #3B4455;\n",
              "      fill: #D2E3FC;\n",
              "    }\n",
              "\n",
              "    [theme=dark] .colab-df-convert:hover {\n",
              "      background-color: #434B5C;\n",
              "      box-shadow: 0px 1px 3px 1px rgba(0, 0, 0, 0.15);\n",
              "      filter: drop-shadow(0px 1px 2px rgba(0, 0, 0, 0.3));\n",
              "      fill: #FFFFFF;\n",
              "    }\n",
              "  </style>\n",
              "\n",
              "      <script>\n",
              "        const buttonEl =\n",
              "          document.querySelector('#df-e03af01f-8b5f-4897-b05e-65e152dd67f2 button.colab-df-convert');\n",
              "        buttonEl.style.display =\n",
              "          google.colab.kernel.accessAllowed ? 'block' : 'none';\n",
              "\n",
              "        async function convertToInteractive(key) {\n",
              "          const element = document.querySelector('#df-e03af01f-8b5f-4897-b05e-65e152dd67f2');\n",
              "          const dataTable =\n",
              "            await google.colab.kernel.invokeFunction('convertToInteractive',\n",
              "                                                     [key], {});\n",
              "          if (!dataTable) return;\n",
              "\n",
              "          const docLinkHtml = 'Like what you see? Visit the ' +\n",
              "            '<a target=\"_blank\" href=https://colab.research.google.com/notebooks/data_table.ipynb>data table notebook</a>'\n",
              "            + ' to learn more about interactive tables.';\n",
              "          element.innerHTML = '';\n",
              "          dataTable['output_type'] = 'display_data';\n",
              "          await google.colab.output.renderOutput(dataTable, element);\n",
              "          const docLink = document.createElement('div');\n",
              "          docLink.innerHTML = docLinkHtml;\n",
              "          element.appendChild(docLink);\n",
              "        }\n",
              "      </script>\n",
              "    </div>\n",
              "  </div>\n",
              "  "
            ]
          },
          "metadata": {},
          "execution_count": 2
        }
      ]
    },
    {
      "cell_type": "code",
      "source": [
        "df.columns"
      ],
      "metadata": {
        "colab": {
          "base_uri": "https://localhost:8080/"
        },
        "id": "EG7Jd6W3YJde",
        "outputId": "14332861-b03c-43ca-a1c8-3383adfa9988"
      },
      "execution_count": 3,
      "outputs": [
        {
          "output_type": "execute_result",
          "data": {
            "text/plain": [
              "Index(['area_type', 'availability', 'location', 'size', 'society',\n",
              "       'total_sqft', 'bath', 'balcony', 'price'],\n",
              "      dtype='object')"
            ]
          },
          "metadata": {},
          "execution_count": 3
        }
      ]
    },
    {
      "cell_type": "code",
      "source": [
        "catg = ['area_type', 'location', 'size', 'society', 'bath', 'balcony']"
      ],
      "metadata": {
        "id": "RwoaaBlFenda"
      },
      "execution_count": 4,
      "outputs": []
    },
    {
      "cell_type": "code",
      "source": [
        "for obj in catg:\n",
        "  print(\"{} sets {}\".format(obj,set(df[obj])))"
      ],
      "metadata": {
        "colab": {
          "base_uri": "https://localhost:8080/"
        },
        "id": "EzVnaYlZYJbC",
        "outputId": "b2646f0e-5c6d-44a7-8f74-f7dda2d4d29e"
      },
      "execution_count": 5,
      "outputs": [
        {
          "output_type": "stream",
          "name": "stdout",
          "text": [
            "area_type sets {'Plot  Area', 'Built-up  Area', 'Carpet  Area', 'Super built-up  Area'}\n",
            "location sets {nan, 'Hal old airport road', 'Udayagiri', 'Marenahalli', 'Ramanagara Channapatna', 'Jigani', 'Jyothi Nagar', 'Medahalli', 'Veerannapalya', 'Binnamangala', 'Kannamangala', 'Nelamangala', 'Garudachar Palya', 'Narayanappa Layout', '2nd Block Hbr Layout', 'Venkatadri Layout', 'Parappana Agrahara', 'Kamdhenu Nagar', 'Sarjapur  Road', 'Kalkere', 'Nagadevanahalli', 'Gowdanapalya', 'Kumarapalli', 'Dodda Banaswadi', 'Iggalur', 'Langford Town', 'Sanjay nagar', 'Keshava Nagar', 'V.V Puram', 'Weavers Colony', 'Sathanur', 'Vijayanagar', 'St Thomas Town', '1 Giri Nagar', 'Nandi Hills', 'Wilson Garden', 'white field,kadugodi', 'Someshwara Layout', '4th Block Koramangala', 'Anekal - Hosur Road', 'Chikka Tirupathi', 'Langford Gardens', 'Jalahalli East', 'Old Madras Road', 'Venkatapura', 'Hennur Gardens', 'Raja Rajeshwari Nagara', 'Virupakshapura', 'Begur', 'Chikkaballapur', 'Bhoganhalli', 'Vijayabank bank layout', 'Popular Colony', ' Banaswadi', 'Banashankari Stage II', 'Silk Board', 'Suragajakkanahalli', 'Dwarka Nagar', 'Arekempanahalli', 'Domlur Layout', 'BTM Layout 1stage 9th Main', 'Ambalipura', 'Ganga Nagar', 'frazertown', 'Narayanappa Garden', 'Thirupalya', 'Judicial Layout', '4 Bedroom Farm House in Bagalur', 'Bidrahalli', 'Vadarpalya', 'Hosakerehalli Layout', 'Anjana Nagar', 'RK Layout 2nd Stage', 'Vishwapriya Layout', 'Malleshwaram', 'Laxminarayana Layout', 'Kumbena Agrahara', 'Guddadahalli', 'Tirumanahalli', 'Subbannaiah Palya', 'Thyagraj Nagar', 'Harsha Layout', 'Raghavendra Layout', 'BSM Extension', 'Sarjapur', 'T G extension', 'Indranagar  100ft road defence colony', 'Akshya Nagar', 'Omkar Nagar', 'Thirumalashettyhally', 'Jnana Ganga Nagar', 'Banashankari 2 nd Stage', 'Defence Colony', 'Bommanahalli', 'ITPL', 'Electronic city Phase 1, ', '5th Block Jayanagar', 'Marsur', 'Rajaji Nagar', 'Amruthahalli', 'CQAL Layout', 'Baba Nagar', 'Near International Airport', 'Medaralli', 'Amruthnagar', 'Byadarahalli', 'Vasanthpura', '6th Phase JP Nagar', 'Vikram Nagar', 'Tasker Town', 'Yelenahalli', 'Harappanahalli', ' Devarabeesana Halli', 'Akshayanagara West', 'Dasanapura', 'Muthurayya Swamy Layout', 'Brindavan Layout', 'Srigandada Kaval', 'Sector 7 HSR Layout', 'Shantiniketan Layout', 'Vishwanatha Nagenahalli', 'Billekahalli', 'B Y Raveshwara Nagar', '9th Phase JP Nagar', 'Chandapura', 'Bellandur, ', 'Vishveshwarya Layout', 'Vishwapriya Nagar', 'Keerthi Layout', 'Garebhavipalya', 'VGP Layout', 'Maruthi nagar kogilu', 'Lakshmipura', 'Divya Unnathi Layout', 'Kalyan nagar', 'Chikkadunnasandra', '8th Phase JP Nagar', 'Surabhi Layout', 'PNS Layout', 'banashankari stage iii sa', 'Neeladri Nagar', 'Nrupathunga Nagar', 'Choodasandra', 'TR Mill Road, Chamarajpet', 'Banashankari3rd stage bigbazar', 'Sunder Ram Shetty Nagar', 'Kaggadasapura', 'Hosakerehalli', 'Akash Nagar', 'Masjid e Alkareem', 'Cooke Town', 'Jakkuru Layout', 'Prasanth Extension', 'Basava Nagar', 'Andrahalli', 'Sarjapur Road, ', 'Chokkahalli', 'Dhanalakshmi Layout', 'mvj engineering college', 'Behind Don Bosco Church', 'Attibele', 'Bank Of Baroda Colony', 'Raja Rajashweri Nagar', 'Bhuvaneshwari Nagar', '2nd Block Koramangala', 'Kammasandra', 'Dwaraka Nagar', 'BHEL Layout', 'Panduranga Nagar', 'Tala Cauvery Layout', 'Ganga Nagar Extension', 'Sector 2 HSR Layout', '1st Stage Domlur', 'Bharathnagar', 'P Krishnappa Layout', 'Yelachenahalli', 'Aishwarya Crystal Layout', 'Pillanna Gardens', 'Nobo Nagar', 'RR Layout', 'SK Garden', 'Park View Layout', 'Chuchangatta Colony', 'Volagerekallahalli', 'JakkurYelahanka', 'Shakthi Nagar', 'Vijay Nagar', 'Ring Road Nagarbhavi', 'CHIKKATIRUPATHI', 'BTM 4th Stage', 'AGB Layout', 'Vaishnavi Layout', 'Sampige Layout', 'Koramangala', 'Kariyammana Agrahara', 'Kothanur', 'Pragathi Nagar', 'New Gurappana Palya', 'Reliable Woods Layout', 'Maruthi Extension', 'sapthagiri Layout', 'Narasapura', 'Dommasandra', 'Bidadi', 'Rajagopala Nagar', 'Shettigere', 'Vijaya Bank Colony', 'Austin Town', 'rr nagar', 'Immadihalli', 'Frazer Town', 'Bharath Housing Society Layout', '1st Block HRBR Layout', 'Silver Springs Layout', 'Kaveri Nagar', 'Channasandra', 'Electronic City', 'Gubbalala', 'RMV Extension', 'Banashankari Stage I', 'Yeshwanthpur', 'Thanisandra main road', 'Shankarapuram', 'Hennur Bande', '2 Bedroom Furnished Farm House in Kolar Road', 'Kasthuri Nagar East Of NGEF', 'Kadugondanahalli', 'BTM Layout', 'Banaswadi', 'Chennammanakere Achukattu', 'Bilal Nagar', 'M.G Road', 'Dooravani Nagar', 'vinayakanagar', 'Cottonpet', 'Kengeri', 'Uday Nagar', 'Pattandur Agrahara', 'HAL Layout', 'Allalasandra', 'B Channasandra', 'Kodbisanhalli', 'Tharabanahalli', 'Ardendale', 'Lal Bahadur Shastri Nagar', 'Punappa Layout', 'Vidhyanagar Cross', 'BTM 2nd Stage', 'Michael Palaya', 'Attur Layout', 'Fraser town', 'JP Nagar', '1A Block Koramangala', 'Teachers Colony', 'Bandepalya', '9th Block Jayanagar', 'Akshaya Vana', 'Pulkeshi Nagar', 'Tilak Nagar', 'Marathalli bridge', 'Shanti Nagar', 'Challaghatta', '1st Block Koramangala', 'Anantapuram', 'Koppa', 'Madavara', 'Anwar Layout', 'Banashankari Stage V', 'Satyasaibaba Layout', 'Indira Nagar Stage 2', 'Suryanagar', 'Hoodi Circle, ', 'kadubisnahalli', 'Shikaripalya', 'Sadashiva Nagar', 'Sri Sai Layout', 'Sahakara Nagar', 'Hanuman Nagar', 'AGS Layout', 'Sidedahalli', 'BEML Layout', 'Badrappa Layout', 'elachenahalli', 'Dasappa Layout', 'Govindpura', 'Devanahalli Road', 'Byrathi Village', 'kamanahalli main road', 'Hennur', 'Yarandahalli', 'Mariyannapalya', 'Rajarajeshwarinagar', 'Mahalakshmi Puram', 'Atmananda Colony', 'Rahmath Nagar', 'SHANTHINAGAR', 'Chikkalasandra', 'Maruthi Sevanagar', 'Prakash Nagar', 'Madiwala', 'Shingapura', 'KR Layout', 'Nagasandra', 'Thippasandra', 'Sathya Sai Layout', 'Rajarajesheari nagar', 'Kuvempu Layout', '1st Block Jayanagar', 'NS Palya', 'Somasundara Palya', '6th Block Rajaji Nagar', 'Anugrah Layout', 'Basvasamithi Layout Vidyaranyapura', 'Vaderahalli', 'Abbaiah Reddy Layout', ' Mysore Highway', 'Gangondanahalli', 'Sir M V Nagar', 'Friends Colony', 'Domlur', 'GD Layout', 'Kannur', 'Victoria Layout', 'RBI Layout', 'Puttappa Layout', 'Gollarahatti', 'Rustam Bagh Layout', 'Lakshminarayana Pura', 'Sompura', 'Craig Park Layout', '5th Stage BEML Layout', 'Thanisandra', 'Murugeshpalya', 'Bhuvaneswari Nagar', 'Kirloskar Layout', 'Chikkagubbi', 'Ejipura', 'Jagajyothi layout', 'manyata', 'Nagarbhavi  BDA Complex', 'Bannerghatta Road', 'Ayappa Nagar', 'Mallasandra', 'Doddathoguru', 'Kasturi Nagar', 'Nanjappa Layout', 'Kasavanhalli', 'Kuvempu Nagar', 'Roopena Agrahara', 'Yediyur', 'Papareddipalya', 'Doopanahalli', 'Doddabidrakallu', 'CV Raman Nagar', 'Anekal', 'near Ramanashree California resort', 'Electronics City Phase 1', 'Pattanagere', 'Ambedkar Colony', 'Nanjappa Layout Vidyaranyapura', 'Basavanagara', 'Dodsworth Layout', 'Indra Nagar', ' Bhoganhalli', 'Stage-4 Bommanahalli', 'KUDLU MAIN ROAD', 'Rammana Layout', 'Doddakannelli', 'Agara Village', '5th Phase JP Nagar', 'Nayandanahalli', 'Byrasandra Extension', 'Horamavu Agara', 'Green Domain Layout', 'RMV Extension Stage 2', 'Cubbon Road', '3rd Block Koramangala', 'Poornapragna Housing Society Layout', 'Kalhalli', 'Hunasamaranahalli', 'Chamrajpet', 'Amam Enclave Layout', 'Basavanapura', 'Pattegarhpalya', 'Seethappa Layout', 'Panathur', 'Junnasandra', 'M C Layout', 'Jaraganahalli Jp Nagar Post', 'Chennammana Kere', 'Jai Bheema Nagar', 'Kanakapura main  Road', 'Sadahalli', 'Jayanagar', 'Kengeri Satellite Town ( BDA SITE)', 'asha township, off hennur road', 'Alur', 'New Thippasandra', 'Kamakya Layout', 'Samethanahalli', 'Bommasandra Industrial Area', 'Subramanyapura', 'Adarsh Nagar', 'BDS Layout', 'Raja Rajeshwari Nagar', 'adigondanhalli', 'Chaitanya Ananya', 'Kashi Nagar', 'Udayapur Village', 'AMS Layout', 'Rajiv Gandhi Nagar', 'Ankappa Layout', 'Hormavu', 't.c palya', 'Kenchenahalli', 'Jogupalya', 'Jaymahal Road', 'Canara Bank Layout', 'Horamavu Banaswadi', 'Raghuvanahalli', 'Xavier Layout', 'Bommasandra', 'Doddanakunte', 'P&T Colony', 'Kenchenhalli', 'Anathanagar', 'Ashok Nagar', 'Banashankari 2nd Stage', 'Kudlu Village, ', 'Dollars Layout', 'Viswapriyanagar.begur Road.bommanahalli.', 'Vidyapeeta', 'Soppahalli', 'Udaya Nagar', 'VHBCS Layout', 'Maragondanahalli', 'Devasandra Extension', 'Hsr layout sector3', 'Kalena Agrahara', 'Vittal Mallya Road', 'RK Colony', 'Chowdeshwari Layout', 'akshaya nagar t c palya', 'DUO Layout', 'GB Palya', 'Lalbagh Road', 'Lakshmipura Vidyaanyapura', '1 Ramamurthy Nagar', 'Munivenkatppa Layout', 'Kenchanehalli R R Nagar', 'Haralur Road', 'Sadduguntepalya', '12th cross srinivas nagar banshankari 3rd stage', ' Thanisandra', 'Gulimangala', 'Hennagara', 'kanakapura road', 'Havanur extension', 'JP nagar 9th Phase, ', 'Bull Temple Road', 'Jayanagar, ', 'Doctor Layout Rayasandra', 'Banagirinagar', '4th T block Jayanagar', '2nd Stage Nagarbhavi', 'Kumbhena Agrahara', 'Bisuvanahalli', 'West of Chord Road', '1st Stage Indira Nagar', 'Hessarghatta', 'Kanakapur main road', '3rd Phase Iti Layout', 'Javarandoddi', 'Shree Ananth Nagar Layout', 'Kaval Byrasandra', 'Cox Town', 'Subramanya Nagar', 'Old Mangammanapalya Road', 'Kadugodi', 'Amco Colony', 'BCC Layout', 'Anjappa Layout', '5th Block Hbr Layout', 'ISRO Layout', 'Margondanahalli', 'Sundar Ram Shetty Nagar', 'Krishna Reddy Layout', 'Meenakshi Layout', 'Anand nagar', 'Ashirvad Colony', 'BEML Layout 5th stage', 'Gattahalli', '1Hoysalanagar', 'Maragondana Halli, kr puram, old madras road', 'Thanisandra Main Road, ', 'Bhoopsandra', 'Prithvi Layout', 'Begur Road', 'Ex-Servicemen Colony Dinnur Main Road R.T.Nagar', 'Kodanda Reddy Layout', 'Tumkur Road', 'Canara Bank Colony', 'Yeshwanthpur Industrial Suburb', 'T c palya', 'Padmanabhanagar', 'Bendiganahalli', 'Dena Bank Colony', 'Chikka Gowdanapalya.', 'K N Extension', 'Kyalasanahalli', 'Singena Agrahara', 'Seshadripuram', 'Balaji Gardens Layout', 'Basapura', 'Jalahalli West', 'Gollarapalya Hosahalli', 'Chikkakannalli', 'Jakkur Plantation', 'Kodihalli', 'Anand Nagar', 'Kadarenahalli', 'Vasatha Vallbha Nagar', 'Kanakpura Road', \"St. John's Road\", 'Bagalakunte', 'Ramakrishnappa Layout', 'BAGUR', 'Guni Agrahara', 'Srinivasa Nagar', 'Meenakunte', 'GM Palaya', 'Konappana Agrahara', 'kanakapura main road', 'Nagarbhavi', 'Banashankari 3rd stage, Vivekanandanagar', 'Thigalarapalya', 'Annasandrapalya', 'Uttarahalli', 'BTM Layout 2nd Stage 1st Phase', 'Jeevanhalli', 'Malimakanapura', 'Hanumantha Nagar', 'Queens Road', 'Bikasipura', 'Vijinapura', 'Hosahalli Extension', 'Phase 1 Kammasandra', 'Chikka Banaswadi', 'Nandi Durga Road', 'Chikkathoguru', 'Vasanth nagar', 'Hadosiddapura', 'Vinayaka Nagar', 'Gokula Extension', 'Rajankunte', 'RMV 2nd Stage', 'Mangammanapalya', 'Munnekollal', 'Kengeri Satellite Town', 'Gubbi Cross, Hennur Main Road', 'Govindapura', 'Sahyadri Layout', 'Gopalapura', 'Raja Rajeshwari Nagar 5th Stage', 'Kambipura', 'Banashankari Stage VI', 'Alfa Garden Layout', 'Gulakamale', 'Battarahalli', 'Bettahalsoor', 'Palace Road', 'Doddaballapur', 'Kalkere Channasandra', ' Whitefield', 'Dinnur', 'Pai Layout', 'Mailasandra', 'Kengeri Hobli', 'Somanna Garden', 'Makali', 'Kogilu', 'pavitra paradise', 'Gayathri Nagar', 'Vasanthapura', 'Chikku Lakshmaiah Layout', 'Jakkasandra', '8th Block Jayanagar', 'Mylasandra', 'Shanthi Pura', 'Abshot Layout', 'Bellandur', 'CR Layout', 'Milk Colony', 'Geddalahalli', 'Chikkabanavar', 'HAL 2nd Stage', 'Doddabele', 'Kumbalgodu', 'B Narayanapura', 'Chambenahalli', 'Jeevan bima nagar', 'Upkar Layout', 'Garden Layout', 'Howthinarayanappa Garden', 'Doddabanahalli', 'Devarabeesana Halli', 'Brooke Bond First Cross', 'Banasawadi, ', 'Doddakallasandra', 'Bapuji Layout', 'Kallumantapa', 'KEB Colony', 'Indiranagar HAL 2nd Stage', 'Lakkasandra', 'KR Puram', 'Hulimavu', 'Gaundanapalya', 'Kundalahalli', 'Dodda Nekkundi Extension', 'Doddagubbi', 'Annapurneshwari Nagar', 'Rachenahalli', 'Anjanapura', 'Giri Nagar', 'Hennur Road', 'Sanjeevini Nagar', 'Outer Ring Road East', 'Hiremath Layout', 'Reliaable Tranquil Layout', 'Anantapura', 'Shanthi Layout', 'Agrahara Dasarahalli', 'Suddaguntepalya', 'KHB Colony Extension', 'Ilyas Nagar', 'Jaya Mahal layout', 'Nagaraja Garden', 'T K Reddy Layout', 'RMV', 'Prasanti Nagar', 'Yemlur, Old Airport Road, ', 'Babusapalaya', 'Kammanahalli', 'Bande Nallasandra', 'A Narayanapura', ' south', 'Hoskote near', 'Kathriguppe IV Phase', 'Muneshwara Nagar', 'Basavanna Nagar', '2nd Stage Arekere Mico Layout', 'Doddanekundi', 'Ngef Layout', 'Tata Nagar', 'Pillahalli', 'Herohalli', '7th Phase JP Nagar', 'Vittal Nagar', 'Tigalarpalya', 'tc.palya', 'Kundalahalli Colony', 'Mukkutam Nagar', 'Virudhu Nagar', 'Gattigere', 'Jalahalli', 'Akshayanagara East', 'BEL Road', 'Bhagyalakshmi Avenue', 'Infantry Road', 'Hanumanth Nagar', 'Hommadevanahalli', 'Kadabagere', 'Akshaya Nagar', 'Hullahalli', 'Koramangala Industrial Layout', 'Richmond Road', 'Dodda Nekkundi', 'Konanakunte', 'Shettihalli', '2nd Block Bel Layout', 'Old Airport Road', 'Govindaraja Nagar Ward', 'sarjapura main road', 'Varthur', 'Prakruthi Township', 'Kanakadasa Layout', 'Dairy Circle', '3rd Stage Raja Rajeshwari Nagar', 'BTM 1st Stage', 'Magadi Road', '1st Block BEL Layout', 'Manjunath Nagar', 'Singanayakanahalli', 'Vijaypura', 'HBR Layout', 'Naganathapura', 'Lingadheeranahalli', 'OLd Gurappanapalya', 'Siddapura', 'RWF West Colony', 'manyata tech park', 'Jp nagar 8th Phase .', 'JP Nagar 7th Phase, ', 'bsk 6th stage 2ad block near sri conversation hall', 'Vinayaka Layout', 'Mallathahalli', '3rd Phase JP Nagar', 'Hallehalli', 'Lavelle Road', 'Rajapura', 'Kengeri Satellite Town KHB Apartment', 'Omarbagh Layout', 'Kudlu Gate', 'Nagappa Reddy Layout', 'Marathahalli', 'Vayunandana Layout', '7th Block Koramangala', 'Ananth Nagar', 'Byatarayanapura', 'Sadaramangala', 'kg halli jalhalli west', 'Annaiah Reddy Layout', 'Esther Enclave Layout', 'EPIP AREA, WHITEFIELD', 'Banjara Layout', 'Tavarekere', 'Annapoorneshwari Layout, JP nagar 7th phase', 'Kanakapura', 'Bhattarahalli', 'JCR Layout', 'Moodalapalya', 'Harlur', 'Jakkur', ' Anekal', 'Green Garden Layout', 'Banashankari Stage III', 'Manorayana Palya', 'Mahaganapathy Nagar', 'Sampigehalli', 'Jnanabharathi Layout', 'Deepanjali Nagar', 'Ganesha Block', 'Rahat Bagh', 'Zuzuvadi', 'Hongasandra', 'Suraksha Nagar', 'Viswajit Layout', 'Vijaya Bank Layout', 'Devanahalli Int. Airport', 'HMT Layout', 'Telecom Layout', '3rd Block Hrbr Layout', '7th Block Jayanagar', 'Postal Colony', 'Hosahalli', 'Shirdi Sai Layout', 'Escorts Colony', 'Bharat Nagar', 'Gollahalli', 'Nyanappana Halli', 'MLA Layout', 'Devi Nagar', 'T R Mill Road', 'Celebrity Paradise Layout', 'Vidya Nagar', 'Yelahanka,MVIT college', 'Sri Balaji Krupa Layout', 'Kamala Nagar', 'TC Palaya', 'Ittamadu', '6th Block Jayanagar', 'Mico Layout', 'Attiguppe', 'Veer Sandra', ' Devarachikkanahalli', 'Brindavan Nagar', 'Veerabhadra Nagar', 'Doctors Layout', 'Off Bannergatta road', 'Seetharampalya', 'HAL 3rd Stage', 'Basavangudi', 'SMV layout', 'Indira Nagar', 'Yelahanka New Town', 'Bagalur', 'Karuna Nagar', 'Harohalli', 'Kadubeesanahalli', 'Lottegolla Halli', 'MM Layout', '5 Bedroom Farm House in Lakshmipura', 'Palanahalli', 'Pulikeshi Nagar', 'Kodichikkanahalli', 'Jakkasandra Extension', 'Doddabommasandra', 'Devarabisanahalli', 'Ashwathnagar', 'whitefiled', 'Kempegowda Nagar', 'Sneha Colony', 'Ullal Uppanagar', 'Arekere', 'Ashwath Nagar', 'Upadhyaya Layout', 'Kengeri Satellite Town Stage II', 'Panathur Road, ', 'Ramesh Nagar', 'Coconut Grove Layout', 'Vinayak Nagar', 'Sarvabhouma Nagar', 'Sarjapura - Attibele Road', 'Air View Colony', 'Laggere', 'Basaveshwara Nagar', '3rd Block Banashankari', 'Nagawara Junction', 'Pampa Extension', 'Basnashankari,6th stage,', 'Banagiri Nagar', 'Jagadish Nagar', 'Prasanna layout Herohalli', 'Chellikere', 'Bellari Road', 'P&T Layout', 'Bethel Nagar', 'beml layout, basaveshwara nagar', 'Ulsoor', 'Ramagondanahalli', 'Versova Layout', 'Hoskote', 'Sabari Nagar', 'cooketown', 'Hoodi Layout', 'Coffee Board Layout', 'Tejaswini Nagar', 'Mahadevpura', 'Sector 1 HSR Layout', 'Jaladarsini Layout', ' ittamadu', 'Thomas Town', 'Dominic Layout', 'Williams Town', 'R.T. Nagar', 'Marathi Layout', 'T Dasarahalli', 'Kalasipalya', 'Jayamahal Extension', 'Double Road', 'Dollar Scheme Colony', 'Byrasandra', 'MCECHS  layout', 'Kodigehalli', 'Poorna Pragna Layout', 'J P Nagar 7th Phase Ramayya City', 'Rajiv Nagar', 'Gopalkrishna Nagar', 'Ramamurthy Nagar Extension', 'Judicial Layout, Kanakapura Road, ', 'Subramanyanagar', 'Vasantapura main road', 'Shanthala Nagar', 'Devarachikkanahalli', 'Ramamurthy Nagar', 'Chandra Layout', '1Channasandra', 'Kavika Layout', 'Amblipura', 'Bannerghatta', 'Chikkasandra', 'ECC Road, Whitefield, ', 'Ananthapura, T C palaya Main Road', 'Sulthangunta', 'Ckikkakammana Halli', 'RMV extension stage 2, rmv extension', 'Channasandra Layout', 'RR Nagar', '2nd Block Jayanagar', '1Kasavanhalli', 'Mathikere', 'Cambridge Layout', 'Duvasapalya', 'Abbigere', '2Electronic City Phase II', 'Hennur Busstop', '8th block Koramangala', 'Nagarbhavi Garden Villas Layout', 'Varsova Layout', 'Whitefield, ', 'Brookefield', 'Viviani Road', 'Prashanth Nagar', 'KG Halli', 'Gandhi Bazar', 'Thubarahalli', 'Mahalakshmi Layout', 'RMC YARD', 'Bidere Agarahara, Behind Safal market', 'Banashankari', 'Vignana Nagar', 'Sindhi Colony', 'Handenahalli', 'Kammagondahalli', 'Bagalur Main Road', 'Shivanagar', 'Belathur', 'Kullappa Colony', 'T.C. Palya', 'HOSUR RMAIN ROAD', 'AECS LAYOUT A-BLOCK Singasandra', 'Richmond Town', 'Nandini Layout', 'Gkvk Layout', '4th Phase JP Nagar', 'Kacharakanahalli', 'Wheelers Road', 'Kothannur', 'Chikbasavanapura', 'Near ullas theater', 'singapura paradise', 'Kudlu', 'Maruthi Layout', '5th block Koramangala', 'Kodigehaali', 'Mudalpalaya', 'Vasantha Vallabha Nagar', 'HRBR Layout', 'Hegganahalli', 'Medi Agrahara', 'Jayanti Nagar', 'Syndicate Bank Colony', 'Srinivas Colony', 'Devasthanagalu', 'Raghavendra Nagar', 'Kada Agrahara', 'Adugodi', 'Kaggalipura', 'Chikkabidarakallu', 'Whitefield', 'Kirloskar layout, Basaveshwarnagar', 'AECS Layout', 'Haralur Road, ', 'Basaveshwara Nagar Yelahanka', 'Dasarahalli', 'Off Sarjapur road, ', 'Malur Hosur Road', 'Gunjur Palya', 'CQAL LAYOUT C BLOCK', 'Tippenahalli', 'D Souza Layout', 'Rayasandra', 'Cholanayakanahalli', 'Sathya Layout', 'Kattigenahalli', 'Puttanahalli', 'Cunningham Road', 'Rajarajeshwari nagar', 'Seegehalli', 'Ullal Road', 'Sunkan palya', 'Rainbow Drive', 'Ramaswamy Palya - Kammanahalli Main Road', 'Patelappa Layout', 'KSRTC Layout', 'Anandapura', 'Vyalikaval', 'Banashankari stage 2', 'Crimson Layout', 'SBM Colony', 'Kothnoor Dinne', 'Ncpr Industrial Layout', 'Nanjappa Garden', 'Maruthi Nagar', 'Lavakusha Nagar', 'GKW Layout', 'Hanumagiri', 'Electronic City Phase 1, ', 'NRI Layout', 'Geetanjali Layout', 'Veersandra', 'Kumaraswami Layout', 'Remco Bhel Layout', 'Kathreguppe', 'ravindra nagar, T.dasarahalli peenya', 'Billamaranahalli', '2nd Phase JP Nagar', '3rd Block HBR Layout', 'Gnana Bharathi', 'Gidada Konnenahalli', 'Ambedkar Nagar', 'Varthur Road, ', 'Bahubali Nagar', 'Uvce Layout', 'Shauhardha Layout', 'Varthur Road', 'Maruthi HBCS Layout', 'Govindraja Nagar', 'Sai Gardens', 'Mathikere Extension', 'Neelasandra', 'Chokkanahalli', 'OMBR Layout', 'T.C PALYA', 'J.P.nagar 6th Phase.Sarakki Nagar', 'Aavalahalli', 'Grihalakshmi Layout', 'Coconut Garden', 'Kanakapura Main Road', 'Sampangi Rama Nagar', 'Dr Shivarama Karantha Nagar', '1Hanuman Nagar', 'Rest House Road', 'BEL Layout', 'Prestige Sunrise', 'Benson Town', 'Talaghattapura', 'Vimanapura', 'Ashwini layout', '6th block banashankari 3rd stage, 100 feet ORR', 'Whitefield ECC Road', 'Varanasi', 'Huskur', 'Sonnenahalli', 'Cambridge  road', 'Nagavara', 'Shetty Halli', 'Cleveland Town', '6th block Koramangala', 'Amrita Nagar', 'Nagavarapalya', 'Gaurava Nagar', 'basaveshwarnagar', ' Sector 1 HSR Layout', 'Kanakapura Road, ', 'Nagashetty Halli', 'LIC Colony', 'Shampura', 'Janatha Colony', 'Banashankari 6th Stage ,Subramanyapura', 'Asthagrama Layout', 'Vittasandra', 'Binny Mills Employees Colony', 'Kamakshipalya', 'IVC Road', 'Kanaka Nagar', 'Laxmi Sagar Layout', 'Mango Garden Layout', 'Peenya', 'Marasandra', 'Arishinakunte', 'Nirman Layout', 'sankeswari', 'Manonarayanapalya', 'Race Course Road', 'Madanayakahalli', 'Devara Jeevanahalli', 'Iblur Village', 'RTO ullalu', 'Chelekare', 'Shivaji Nagar', 'Palace Guttahalli', 'Ramchandrapuram', 'Thyagaraja Nagar', 'HOSUR MAIN ROAD', 'Konanakunte Cross', 'Kaikondrahalli', 'Defence Layout', 'Shirdi Sai Nagar', 'CMH Road', 'S R Layout', 'Geleyara Balaga Layout', ' Rachenahalli', 'MS Pallya', 'BEML Layout 5th Stage', 'Bapuji Nagar', 'Kempapura', 'Gandhi Nagar', 'Gunjur', 'Tindlu', 'Narayanapura', 'Sector 6 HSR Layout', 'J C Nagar', 'Krishna Nagar', 'KR Garden', 'Arasanakunte', 'Konena Agrahara', 'Bileshivale', 'Motappa Layout', 'Manganahalli', 'Mathikere SBM colony', 'ITI Employees Layout', '1 Annasandrapalya', 'Vibuthipura', 'Malleshpalya', 'RPC layout', 'Virat Nagar', 'Thurahalli', 'Ramanashree Enclave', 'Bank Avenue', 'Virgonagar', 'Sector 4 HSR Layout', 'Karnataka Shabarimala', 'Chennappa Layout', 'Hoodi', 'manyata park', 'Prakruthi Nagar', 'Sugama Layout', 'Venkateshpuram', 'Lingarajapuram', 'Sector 3 HSR Layout', 'Jayamahal', 'Lake City', 'Lakkasandra Extension', 'Bommenahalli', 'Sanne Amanikere', 'N R Layout', 'LB Shastri Nagar', 'Devanahalli', 'NR Colony', 'Beml layout, Rajarajeshwari nagar', 'Binny Pete', '4th Block Jayanagar', 'Kanakapura Road', 'Avalahalli', 'Ganganahalli', 'Banashankari 6th Stage', 'Singasandra', 'Sadhguru Layout', 'D Group Employees Layout', 'Srirampura', 'NGR Layout', 'Hosa Road', 'Sree Narayana Nagar', 'Chickpet', 'anjananager magdi road', 'Doddanakundi Industrial Area 2', 'Sarakki Nagar', 'Sri Venkateshpura Layout', 'Subash Nagar', '4th Block HBR Layout', 'NTI Layout', 'Venugopal Reddy Layout', 'Kithaganur', 'M V Extenstion', 'ITI Layout', 'Jinkethimmanahalli', 'Chokkasandra', 'Near Electronic City, ', '2nd phase jp nagar, jp nagar', 'Chikkajala', 'Millers Road', 'Old Town', 'BCMC Layout', 'Kathriguppe', 'Jaya Nagar East', 'Subhash Nagar', 'Sonam Layout', 'Vidyaranyapura', 'KAMAKIYA', 'Singapura Village', 'Belatur', 'HSR Layout 7th sector, ', 'KPC Layout', 'Jay an agar 4 T Block', 'SRINIVASAPURA', 'Pai layout , Mahadevapura', 'Saptagiri Layout', 'Sampangirama Nagar', 'Mallappa Layout', 'Church Street', 'Goraguntepalya', ' Electronic City', 'Daadys Gaarden Layout', 'Doddakammanahalli', ' Basavangudi', 'Thirumenahalli', 'Huttanahalli', 'Budigere', 'Sarvobhogam Nagar', 'Sundara Nagar', 'Kurubarahalli', 'Sri Kanteshwara Nagar', 'Chinnapanahalli', '1st Phase JP Nagar', 'Sadanand Nagar', 'Kumara Park', 'Rajasree Layout', 'Manjunatha Layout', 'Whietfield, ', 'Byagadadhenahalli', 'Green View Layout', 'Hagadur', 'Hoysalanagar', 'Chikkabettahalli', 'Kanakapura  Rod', 'Classic Paradise Layout', 'Basaveswarnagar', 'Soundarya Layout', 'Himagiri Meadows', 'Yemlur', 'Balepet', 'Rajanna Layout', 'Nallurhalli', 'Vajarahalli', 'Off Bannergatta Road', 'Gottigere', 'K G Colony', 'Sultan Palaya', 'Byappanahalli', 'Srirampuram', 'MRCR Layout', 'Electronic city phase 1, ', '1st Block HBR Layout', 'MEI layout, Bagalgunte', 'Narayana Nagar 1st Block', 'Chikkanahalli', 'Adityanagar', 'Indira Nagar 3rd Stage', 'Billapura', 'Dollars Colony', 'Carmelaram', 'Wajid layout thanisandra', 'arudi', 'Rajarajeshwari Nagara', 'Mullur', 'Green Woods Layout', 'Hegde Nagar', 'Gokaula Extension', 'Bennigana Halli', 'Kaverappa Layout', 'B K Nagar', 'Hosur Road', 'Tunganagara', '3rd Block Jayanagar', 'Hosapalya', 'Maheswari Nagar', 'Hebbal', 'Gopal Reddy Layout', 'Venkateswara Nagar', 'Ramamohanapuram', 'Lakshminarayanapura, Electronic City Phase 2', 'High grounds', 'Kothnur Narayanapura', 'Yelahanka', 'Balagere', 'Okalipura', 'Bharathi Nagar', '2nd Phase Judicial Layout', 'Achins Road', 'Addischetan Layout', 'Ananthanagar Phase 1,Electronic City , phase 2', 'JP Nagar 8th Phase, ', 'SARJAPUR BAGALUR ROAD', 'Dodda Kempaiah Layout', 'Kachanayakanahalli', 'T C Palya main Road', 'Ferrar Nagar', 'Muthyala Nagar', 'Rukmaiah Layout', '1st Stage Radha Krishna Layout', 'Glass Factory Layout', 'Lakshmi Layout', '1 Immadihalli', 'Off Sarjapur Road, ', 'Naidu Layout', 'Bettadasanapura', 'EPIP Zone', 'Chamundi Nagar', 'Arehalli', 'Banashankari 6th stage , 2nd block', 'Ramanjaneyanagar', 'Kodipalya', 'Ashraya Layout', 'PC Palaya', 'Green Glen Layout', 'Vivek Nagar', 'HSR Layout', '2nd Block Hrbr Layout', 'Srinagar', 'Brigade Road', 'Duddanahalli', 'Nehru Nagar', 'K R C kothanur', 'Maithri Layout', 'Lakshmiamma Garden', 'Housing Board Layout Vijay Nagar', 'Hebbal Kempapura', 'Sunkadakatte', 'BAGUR ROAD', 'Amarjyothi Colony', 'Navodaya Nagar', 'poornaprajna layout', 'Mysore Road', 'Thavarekere', 'Badavala Nagar', 'Electronic City Phase II', 'Kereguddadahalli', 'Nagondanahalli', 'Neelamangala', 'Kodathi', 'Richards Town', 'Banaswadi, ', 'Manayata Tech Park', 'Vibhutipura Extension', 'Halanayakanahalli'}\n",
            "size sets {nan, '6 Bedroom', '6 BHK', '43 Bedroom', '12 Bedroom', '13 BHK', '7 BHK', '11 BHK', '11 Bedroom', '9 BHK', '10 BHK', '18 Bedroom', '9 Bedroom', '10 Bedroom', '16 BHK', '2 BHK', '1 RK', '27 BHK', '5 BHK', '7 Bedroom', '5 Bedroom', '4 Bedroom', '1 BHK', '3 BHK', '8 Bedroom', '1 Bedroom', '19 BHK', '14 BHK', '3 Bedroom', '4 BHK', '8 BHK', '2 Bedroom'}\n",
            "society sets {nan, 'Puachal', 'Vaodssh', 'Malowr ', 'ViortCo', 'Sonosty', 'Pao 3ow', 'SNnia E', 'Siayayo', 'HoDewy ', 'VisicCl', 'PaantPl', 'R ra  R', 'HRnyaAn', 'Pridei ', 'EGdiaAr', 'Lecco C', 'NaaveEn', 'Srrnasa', 'Amconi ', 'Scenth ', 'Golmsoy', 'MJarlPe', 'Veales ', 'AltesEs', 'Chsilut', 'Shestut', 'Ronty C', 'Apinaa ', 'Leton A', 'Naashi ', 'Rakulai', 'Eltert ', 'Wharl P', 'Stide B', 'Bamita ', 'Soarkig', 'T ZedZe', 'Sravehi', 'Samesan', 'Sotus L', 'KencyRe', 'BMineis', 'Naasyak', 'PrawnRa', 'Adevo S', 'SViseun', 'Vanami ', 'S mesci', 'Prmes H', 'Prclee ', 'Puodsm ', 'MDncyhi', 'Upoutks', 'NDionas', 'JRaderc', 'Prncyrn', 'Pronege', 'Raaden ', 'Amsomun', 'Bebalrk', 'Maentr ', 'Vaw 1il', 'Palanla', 'DSrry S', 'Puceswn', 'PuineSu', 'Coa 3t ', 'Mairer ', 'GoityEt', 'Laowsba', 'Bemesrm', 'Seityen', 'RodenGa', 'Anavi B', 'SancyRe', 'Jaensa ', 'Jainaht', 'SoechHa', 'Eladero', 'Suriaa ', 'Laihai ', 'Srdor S', 'Sringlv', 'ArndsSk', 'Diisein', 'RatosAr', 'Aincyev', 'DSise S', 'Prony S', 'Prityel', 'Kreera ', 'BMmesHo', 'SVlesas', 'BhreeBa', 'Doissa ', 'Prllasw', 'NDpalSe', 'Skinaa ', 'Brens7 ', 'Chtali ', 'Sonet G', 'Disical', 'ValiaCa', 'Vanusn ', 'Puide P', 'Dieldli', 'MSuntra', 'Arata A', 'Raard B', 'Icncy R', 'HMtesle', 'Shard T', 'Bhath N', 'ShyamSh', 'Hoens T', 'Foncync', 'Vancya ', 'Soitya ', 'SKdesa ', 'PuhtsHe', 'Prensya', 'Loente ', 'Tinori ', 'Saarep ', 'Maonsrn', 'Krz 2 Q', 'SrncyRe', 'Prentra', 'Srhida ', 'Raisys ', 'Sorisa ', 'Jaiewke', 'Lancya ', 'Viaree ', 'PuonsSe', 'RaontWa', 'Pantsce', 'Sutesga', 'Beesta ', 'Srure S', 'TGeepga', 'Gencysi', 'Maisehi', 'JHk 1en', 'Gontsoo', 'Adowslm', 'Prhtsua', 'GaentAp', 'Saowsri', 'Sisice ', 'PlhtsHe', 'Jahtsa ', 'VancyRe', 'MJtroty', 'SRgio V', 'Corus C', 'Reciale', 'HMRWAyo', 'Unentsi', 'Sinde G', 'SihtsHe', 'Reion M', 'PaisePa', 'ShanaSp', 'Shntie ', 'Dee 2 P', 'BrlisCo', 'Atntspa', 'Sanne E', 'Derdsig', 'Gontyol', 'Arera V', 'AdentEl', 'SLureSi', 'RKntsrt', 'Stensg ', 'EAvarum', 'Krshi G', 'DSons S', 'Srrlsnu', 'Trows M', 'Cehosy ', 'PrstaLa', 'Enodsed', 'Tahtsla', 'APncyla', 'Foghaa ', 'Brglede', 'Maens G', 'SuodsAc', 'PhestOn', 'Srshq T', 'Naoden ', 'ToSky F', 'ElavuHo', 'Anair A', 'Lancyey', 'Unarlth', 'MDoseim', 'KuisePa', 'Niers S', 'PaigeMa', 'PrncyRe', 'Jaw 2 L', 'BSisear', 'Niiewem', 'Viisear', 'Maa 5a ', 'Pralmat', 'VBn 2lm', 'Opamaan', 'Myace P', 'Pa II E', 'Niarknt', 'Deonsxp', 'Prowshi', 'VBvenal', 'RInceeg', 'BMityre', 'Siisega', 'May 2ge', 'SSaveik', 'ArierPr', 'Taonte ', 'Shthi S', 'Brsic C', 'Inuseda', 'Gomeseg', 'ARipsul', 'Caonand', 'Vaderla', 'Sreat R', 'SivelMa', 'Naiewre', 'Hiate F', 'Jaity H', 'Oaeze B', 'GKityde', 'Dwterai', 'MJiyayl', 'Tovesee', 'NRnoral', 'MyeurGr', 'SrnesSr', 'SatonLi', 'MancyRe', 'Prwer S', 'Hoeatan', 'Pritehi', 'JDensar', 'Saark H', 'Puentpa', 'Chaldi ', 'Elidet ', 'Spows M', 'Mandsi ', 'LeeyaCa', 'Puitea ', 'Aduil T', 'Shalkri', 'Masser ', 'NCarkna', 'G ceses', 'Jancyva', 'Srrtsu ', 'AnentAp', 'SJodsed', 'SVoutow', 'Amnavdr', 'MSanaer', 'GSideS ', 'DSsorin', 'Aling10', 'Graceik', 'MavarSa', 'Adthm R', 'Dhndsh ', 'URodsmb', 'TNnumla', 'AWharde', 'NaensGa', 'FeowsMe', 'EcEONfe', 'Ozquaba', 'Adaveth', 'Thessmm', 'Shmolti', 'Bhinglv', 'GRhtiru', 'MJinele', 'Saarlth', 'Indanrt', 'PancyRe', 'Prigh L', 'Siite E', 'Asintas', 'PuontFa', 'Skityer', 'Brnumnn', 'Sioma A', 'Puveshe', 'SBoneuc', 'SLtias ', 'Aincy R', 'Raony C', 'ManceEl', 'Fants A', 'Shaceop', 'SLourle', 'SaisePa', 'Arentra', 'Shncyhi', 'SMaxyay', 'Gats He', 'Thisea ', 'Prave E', 'Sulesil', 'NCaveun', 'P num P', 'Raood R', 'Malmser', 'Saesttt', 'MRowsea', 'DLhtsen', 'NatanNi', 'Vincyat', 'KSideas', 'Oca 2 V', 'Srayai ', 'Undraro', 'Keort F', 'PrityFa', 'GMentAp', 'GaicaVe', 'Vapasrk', 'CoapeSo', 'Pre 1ri', 'Prldsum', 'Hiatei ', 'VBavaai', 'Prowsi ', 'Sragei ', 'MDonta ', 'MaionMa', 'MBodsen', 'SLiand ', 'Juoryma', 'Golmsn ', 'Reitice', 'SoageHe', 'Moquach', 'Haaceal', 'AdniaSk', 'Duity C', 'Vaine S', 'Prlmsge', 'BrereAt', 'Spity E', 'Valdsic', 'Maionus', 'Sillaa ', 'Soweray', 'SrireSo', 'SSonsvi', 'SRzonhu', 'Siestr ', 'Soyleif', 'Mavelr ', 'Ceezey ', 'Samittv', '3Codeli', 'BhisePa', 'SaireSa', 'MGntsar', 'Rencyed', 'SSarlPe', 'Diaveic', 'Maodser', 'PindsWo', 'Soestrn', 'K borja', 'N iewak', 'UKe 2nz', 'Vangsld', 'Crentt ', 'Shyalha', 'K ensad', 'Frides ', 'Vahid O', 'Suvasre', 'SudenEd', 'Patri M', 'Viara M', 'Malex C', 'SStusan', 'Goardth', 'Indesve', 'Masta A', 'S2ionrn', 'Salle F', 'Ocezes ', 'VSineDi', 'PrhyaK ', 'Kinumsh', 'MItatHa', 'Brstark', 'Zostaa ', 'Kehts H', 'SRanail', 'Nastadr', 'RMaanSa', 'Spensas', 'Caiseha', 'RatatHa', 'Pehtsa ', 'She 2rk', 'Kierser', 'Mosom B', 'VentsAp', 'Dwntsli', 'SocusHi', 'Shodsir', 'Ardaseo', 'Chisea ', 'V2lasna', 'Amais V', 'Vaeva E', 'WishiVa', 'Soacyst', 'GMownTe', 'Srarkav', 'SSdhimr', 'Laderav', 'Dhgraas', 'Sravema', 'Siace P', 'GCiewty', 'SLtraks', 'PaontWa', 'Agtiaur', 'VDdonel', 'ISeekon', 'Esnamin', 'DSalehn', 'CMionsy', 'Saahaat', 'Diacee ', 'Tuentpa', 'Aangsur', 'Puodse ', 'Mapleer', 'BrdgeNo', 'Roiti A', 'Pancy R', 'Baentgi', 'Inaadd ', 'Aimesya', 'Vaent V', 'Prhar G', 'DSireSo', 'Clsto C', 'Feowsdi', 'EmardBo', 'APuraen', 'BaiseBa', 'Bhiya N', 'AdndeBe', 'DSeak S', 'Mauil T', 'APusenc', 'Sungsha', 'Preaunt', 'Mileeou', 'Skensk ', 'Bousey ', 'Saacesa', 'Brity U', 'Anensva', 'Lancysi', 'Srdids ', 'Mae 1Ar', 'PaanaCh', 'SLhidOr', 'Adxira ', 'Mailsaf', 'Evvan V', 'Saenti ', 'MaisePa', 'DSureSi', 'Maidsr ', 'Sourtal', 'Ihnueut', 'FiriaVi', 'Rilor C', 'Aaubyya', 'ARngsd ', 'Chranya', 'DSOakil', 'Srire S', 'Srthaa ', 'MBireap', 'KHatsFl', 'JRarlPe', 'Prook M', 'Salesni', 'DubowRa', 'Prarkhi', 'BrriaIm', 'GoAirej', 'FoGemna', 'CaaveEn', 'Reeroce', 'Vatlede', 'RaosePr', 'Keorai ', 'Puncyya', 'Sortz Q', 'Niway G', 'Jhntspa', 'KonteiT', 'PueraRi', 'HoiewLa', 'Sohti S', 'NRosete', 'Evanaan', 'Chara N', 'Nentsan', 'VaantPl', 'SrageGl', 'SVyam N', 'GRlpank', 'SSthamh', 'Lelia M', 'MoaveEn', 'Suntsan', 'Alows M', 'Mithmn ', 'Ranuetz', 'Mawerer', 'Arentpa', 'DNtonri', 'Swers T', 'Adsia F', 'Klark L', 'Saciatt', 'Arnis A', 'Dhave E', 'Varlsa ', 'StwarSi', 'KSidems', 'NatisAt', 'Viowsen', 'Camesa ', 'Afncyad', 'Hisic G', 'Maunt M', 'Vaarech', 'Nencei ', 'Naepa D', 'SRensar', 'Kencyes', 'Suryais', 'Apows M', 'Gundaa ', 'CiaksRi', 'Pelle P', 'Paentta', 'SunceEs', 'Un 46th', 'Srvasks', 'RohtsHe', 'PuoodSk', 'BSersTo', 'Puarero', 'Inshath', 'GonumPl', 'Hiowsi ', 'Suiseit', 'ArariGo', 'Catle C', 'Neise P', 'Aroomba', 'HoAcela', 'LedorSa', 'Kinuerg', 'Coora S', 'HViesar', 'GKncysi', 'HMwerCo', 'Naory G', 'NaonySy', 'BruntPa', 'ApallEn', 'PrianM ', 'Goodsrb', 'GrrvaGr', 'SLnssPr', 'Vaarai ', 'Reyle L', 'Meowns ', 'ItRRVna', 'Collsrn', 'SRhtsa ', 'Sariaat', 'LGeete ', 'SosonGa', 'Hemai D', 'IJent A', 'ZeodsWo', 'SSaleRo', 'Trnce A', 'Cemesal', 'Nisisn ', 'Satanan', 'MIntare', 'Shntsad', 'ReudePr', 'Siows M', 'NDrelau', 'MaentNa', 'Emsisy ', 'Soena A', 'NRodsen', 'Siaraa ', 'Kesomrn', 'Sungspr', 'Prncyay', 'Prntsrt', 'Shncy R', 'FBazaah', 'ShentAp', 'Prlla C', 'VeSkyva', 'PrBayGa', 'Jaood G', 'Guranya', 'Mazzo P', 'Soionar', 'Bisic C', 'GathiVa', 'Goaysn ', 'Elodsre', 'Ceeury ', 'Inulat ', 'Srasy F', 'Srestve', 'Sainei ', 'SLiewce', 'BSian M', 'Gonorir', 'Halms S', 'Vedhias', 'Roale D', 'Alarke ', 'FoncyRe', 'SLaceda', 'VRiewke', 'Iseenst', 'AHodsWo', 'Lalipa ', 'DSdorSp', 'Stndeil', 'Etuney ', 'Cee 2du', 'ShaleSp', 'PuilaMi', 'Ahownve', 'Maidei ', 'Hotat H', 'Esave E', 'Bhacy L', 'Raourpl', 'Ayaya A', 'JClyner', 'SontsAp', 'DSndsod', 'Ratlet ', 'MamalPr', 'Raide P', 'Cearkry', 'SLoven ', 'Aahts H', 'Juaxyan', 'Dovel M', 'FetatHa', 'Thessie', 'Oznuean', 'Prtates', 'Prldsri', 'Skstark', 'SLavena', 'MadinJa', 'Puwerun', 'Ste 2al', 'SuentAp', 'Shmes O', 'CSncele', 'Vaesh T', 'Mancyes', 'Tiitela', 'SuBayin', 'NellsKo', 'Proodt ', 'Prtor N', 'Juclend', 'Avine A', 'Skave E', 'Shdhia ', 'SRidePr', 'ValleCi', 'DSlesSp', 'ARncy R', 'Toodyit', 'Vauna F', 'MMowsik', 'Ceste C', 'Liwerun', 'Rarthne', 'VRest N', 'VMowsea', 'KKdenng', 'Radenta', 'Srsica ', 'AdhriPa', 'MauilTr', 'SLarkic', 'Frhtsr ', 'Shiumi ', 'Visom B', 'MCvarar', 'SJlynro', 'Keersto', 'MJeusyl', 'Paarklu', 'PintsAp', 'Manha M', 'PrensKe', 'Gamesti', 'AriosPa', 'Vasta C', 'KAMESRI', 'Vithm R', 'SraveSL', 'Coner C', 'Mancyhi', 'SLenssh', 'Trntska', 'Velas V', 'Elentrk', 'Glnetch', 'TrryaAi', 'ETens G', 'PrntaEn', 'Madener', 'Shierhi', 'BrontLa', 'ArnzaFi', 'Sorta S', 'Caxusnd', 'Elayabh', 'Hirio L', 'Gotaten', 'Adeatlm', 'Pridsi ', 'Pyikad ', 'TRensre', 'Alestrb', 'NCiteEl', 'DSestma', 'NRncyrk', 'Asnts a', 'DNlleks', 'Sasta S', 'Krrbsil', 'Pruthg ', 'VaitySe', 'DSingSt', 'Ozana U', 'Satlea ', 'Aharlve', 'RRnumn ', 'Dhnts A', 'Valipf ', 'Sarlsm ', 'Srhts P', 'Goe 2me', 'GoilsDa', 'Shodsth', 'Gollela', 'Dhncyud', 'Siise R', 'SoniaPe', 'Krs A C', 'Lehidrc', 'Oznzaes', 'NCs 2rj', 'DSsicky', 'Javasi ', 'Koagati', 'Alsta F', 'SJowsn ', 'GRvanun', 'Siiewag', 'Vaodak ', 'JRichee', 'AaineSi', 'Toindls', 'Reiteee', 'RotatHa', 'DiamiSa', 'Soe 2as', 'DiaveEn', 'ACopsva', 'SLarei ', 'Pry 2 R', 'Soiniy ', 'Suise S', 'RBersll', 'Viave E', 'Saaveas', 'SNe 2ev', 'SNbay G', 'ARnts A', 'MNtha A', 'Vastael', 'Sariana', 'IcudiMa', 'KuncyRe', 'FoityIn', 'DSimaUl', 'Saisena', 'KohraNa', 'AkletBa', 'ACersd ', 'Shenshi', 'Uptusol', 'Keony H', 'KHityry', 'SuezeLa', 'Sancybr', 'Prlis A', 'Exitym ', 'Viaxy G', 'Ocuil T', 'Matonr ', 'Tentsw ', 'Aavelis', 'Shont F', 'SrntsRV', 'HiahsLa', 'SKisyDa', 'Cedusy ', 'ArBayeb', 'SPthara', 'Maorai ', 'UKicte ', 'NVanat ', 'SLionan', 'Toiasle', 'Hoxiaa ', 'ALtonea', 'HRaniIb', 'GolusLi', 'Srods P', 'LGlarAs', 'Dhowsyo', 'Anlthmo', 'Seamaha', 'Vaodspe', 'HooudSi', 'Dhistee', 'Sklls C', 'Magiaya', 'DSera S', 'Kacesh ', 'Wiass G', 'NianaBr', 'Aiitya ', 'BSarknd', 'Lallere', 'Viise P', 'Akncyes', 'Rathira', 'GSodsee', 'MVkleiw', 'Keera R', 'Saire S', 'Gllas V', 'Suncy R', 'Paion P', 'Theanmp', 'TiaksAa', 'DSity S', 'Fleepi ', 'NCdgerj', 'Shrds O', 'M denGa', 'GoratAr', 'KBityo ', 'Sasicha', 'JPismPr', 'Prvanai', 'CidgeKn', 'Kames S', 'Monorh ', 'Prsorhi', 'DSillto', 'SaareNo', 'Gopia O', 'Mantsce', 'DSellil', 'SVhyaga', 'VSomepi', 'Sanetra', 'SVodsve', 'HMigond', 'Ahciace', 'JJortom', 'TNaldme', 'Sapus S', 'Srowsrj', 'Solip T', 'StodsWa', 'Music C', 'Raiyai ', 'Hiestre', 'PadgeOa', 'Seasare', 'Jahidva', 'Ladenea', 'Flretes', 'Prsichi', 'Hoensti', 'Clood E', 'Deiten ', 'Haows M', 'M ondit', 'Gincyi ', 'KPiteEl', 'Vandaac', 'Ahntyve', 'Shestth', 'Aklia R', 'Heate L', 'Vacle P', 'SLowse ', 'Saentpa', 'Avlya A', 'Solle V', 'CaIRSCr', 'Myhrie ', 'DLhtsnd', 'SastyDy', 'DStik S', 'Nae 2El', 'G conTh', 'Marnara', 'Skarkev', 'DSeme S', 'SPllain', 'Haestt ', 'Viconth', 'Soianal', 'Sid 2ss', 'PrinePr', 'ArrdsOr', 'Vaens G', 'Bhmesy ', 'Emtat H', 'RSntsAp', 'Goyalir', 'Brwernn', 'DSutyng', 'Suvals ', 'Sooneoo', 'Goourta', 'Phaku K', 'SMncyy ', 'Salisal', 'Krberl ', 'Contsci', 'Keleti ', 'Krestee', 'Gentson', 'Nihtsss', 'Shana S', 'Isncasa', 'Reverve', 'Srowsee', 'Bregae ', 'AnaveEn', 'Icaryan', 'Saenett', 'Aaniaa ', 'Bustain', 'Soond R', 'Meentan', 'Maionra', 'PuziaVe', 'Tenetee', 'Phens G', 'Kobhiil', 'Dintsmi', 'Leate O', 'Krntsee', 'K dotna', 'Jaangm ', 'CoDast ', 'NStusD ', 'KBaleoy', 'Co IIla', 'DRnerns', 'VDe 1Du', 'Hentye ', 'DSe 2ie', 'Viers S', 'GRhtsei', 'Caycend', 'Saaveir', 'Sryalan', 'Orana N', 'MGBay T', 'SriewGr', 'VHinoel', 'Jatish ', 'Rainet ', 'Arhtsth', 'Asira E', 'RMcesa ', 'Dhows M', 'GMown E', 'Emngs S', 'Vincy R', 'Cotaror', 'RMncy R', 'Saalpas', 'Brngsal', 'TuiteIn', 'UKkente', 'Skume R', 'Rallsdr', 'Varve R', 'Nillsre', 'Bhise P', 'URncysi', 'Srhemay', 'Spsic C', 'Vantsra', 'Daill S', 'NianaKe', 'DNncasa', 'Brersld', 'Coowsri', 'Saent G', 'Soodsa ', 'Ameur G', 'SJcerpe', 'MBpleca', 'EsniaGa', 'Gaodsch', 'SradeSr', 'SJityaz', 'Ozdiaan', 'Darsh S', 'LGrldti', 'Saoneil', 'Ceonyy ', 'Vicony ', 'SGncy R', 'NiarkHy', 'Sabixtt', 'Ranorar', 'SNiew L', 'Saent A', 'Soosea ', 'Jauraht', 'Seardac', 'AsensGa', 'Apvas N', 'AeisePV', 'Srystme', 'Goe 3la', 'Pae 1ov', 'MaeamSu', 'HawerMa', 'MyhtsHe', 'ETntsce', 'Puens G', 'Adion A', 'SJityVe', 'Pranai ', 'KMnorab', 'Whosone', 'Javasya', 'Sahanra', 'MCnexva', 'Soral C', 'Mykyayi', 'Itvir M', 'AdlasRe', 'Fencyes', 'Siissi ', 'Gaent R', 'Nanorkr', 'Koillph', 'Pae 2ov', 'ViisePa', 'ShstaAl', 'Pamesy ', 'SomonCi', 'Feissx ', 'Foity S', 'Ieuseut', 'BrriaLu', 'KrodsNo', 'Bhentne', 'SneurGr', 'Mahosya', 'MJinala', 'Prionad', 'Aantspa', 'Chiteny', 'Vador S', 'AsastDe', 'MIalerd', 'Vadidpl', 'Nihtsur', 'PrdgeLa', 'Neite T', 'AxinoCi', 'Srier P', 'Neagar ', 'Prasa W', 'Jalonht', 'Silusti', 'Invenai', 'DLhtsan', 'RNvasth', 'Assha A', 'Laave E', 'Soarkge', 'Sravea ', 'AritaFe', 'Vaaldak', 'Nioutar', 'SMshi M', 'Abncy R', 'Shestlo', 'VaoldMa', 'Ceral C', 'Baowsig', 'Adion M', 'Rosha I', 'Pethaai', 'Bhgarve', 'Thiced ', 'AcisePa', 'Esree8 ', 'Sheurre', 'SunetSo', 'Exncene', 'Kaantth', 'Janaala', 'SoineC ', 'Maita R', 'KKersow', 'Prionve', 'Akave E', 'Soy 1Iv', 'Skacak ', 'Mazler ', 'Grntsd ', 'RothaVa', 'Choomu ', 'Brersge', 'Jalot C', 'Sahidri', 'PualeSk', 'DSthian', 'Shnto F', 'Veodsar', 'Srmitev', 'Inntsa ', 'Alncy R', 'Bhmesa ', 'Amngsag', 'ARvasV ', 'BancyRe', 'Fanorrt', 'Prsun S', 'PNncysi', 'Nauha G', 'Asarqz ', 'Radhian', 'Gintsar', 'VKvenas', 'VDenaWa', 'Ciques ', 'Rabow R', 'SGllaav', 'SLontel', 'Sanstya', 'Prian E', 'V2avei ', 'Adntsra', 'Mancyi ', 'GoontLa', 'Arade A', 'CoLeoen', 'Krtonwe', 'GRe 2iv', 'Ulure S', 'SNontle', 'Rancy R', 'Krton S', 'Goeenes', 'Kenia G', 'Soowsa ', 'Baanise', 'Rocid P', 'Srvasi ', 'Sryam N', 'ViensRK', 'Soran U', 'ArowsMe', 'Myitece', 'G harth', 'Shelash', 'Papusa ', 'MCrds S', 'ICoolon', 'Upldsin', 'Shidei ', 'Amazaa ', 'Vimesar', 'Prowser', 'Saave R', 'Cevely ', 'UmrldDr', 'Laavevi', 'Natic T', 'Asnex A', 'Emceske', 'Loe 1st', 'Jae 2hu', 'GSnts A', 'InhtsHe', 'Prandm ', 'ImncyTa', 'SVnamnd', 'M1riaa ', 'Siacen ', 'Sanzaat', 'SrEndPo', 'FlsicFl', 'ThhtsV ', 'Scsta V', 'DNeremo', 'Pardst ', 'SoersTo', 'Duoveoo', 'AnncyRe', 'HovasTe', 'Edreelm', 'Danna S', 'Soite E', 'A rtsai', 'Solia D', 'DSreerk', 'Bhave E', 'Saandvi', 'Shvarji', 'Itnaia ', 'Duavenc', 'Saniai ', 'LencyRe', 'SReafin', 'Vaniai ', 'Shony S', 'Saavena', 'NDncysi', 'Goandn ', '7 ise P', 'Brlms P', 'PrstaTe', 'AGoutLa', 'SoderLa', 'Nehalri', 'BrnoxEq', 'Clntsrt', 'Spngsin', 'Srllaan', 'Asene S', 'Sudama ', 'ShtonDw', 'BriumMi', 'Heatee ', 'Vabow R', 'Daivon ', 'SApusnu', 'MVmesle', 'Asncywo', 'Pathira', 'Roarkan', 'Saitya ', 'JRrnauv', 'Prmesad', 'Patust ', 'JaghtDe', 'Courf T', 'Saityat', 'DSerste', 'Rencyes', 'SSoraba', 'AmthaIn', 'Srncykh', 'Shinei ', 'Sothin ', 'Epllan ', 'Omy 2es', 'Skvasa ', 'SVthaho', 'Vaensia', 'GoandAc', 'IBaveen', 'Foconna', 'Saensar', 'SRbiaxu', 'Inden O', 'Aroveth', 'Prora F', 'Goeesem', 'Mancy R', 'Brareio', 'Gasom B', 'Apise P', 'Anncyar', 'Prndsde', 'Leeno S', 'Daives ', 'Jaanaa ', 'Makeser', 'SoronSa', 'Paestol', 'Tenceen', 'Inion P', 'Elley B', 'NCenega', 'AdingSV', 'AnazaPl', 'Teilsaf', 'Say 3 R', 'Dhise P', 'SVstos ', 'Malah A', 'MJlese ', 'Prodsm ', 'PeBayle', 'KancyRe', 'SGiewrk', 'Niacesa', 'Brtondd', 'Mebhaee', 'Cestama', 'HIideSu', 'Hivesdr', 'BCivell', 'LuntsAp', 'Sronda ', 'Asadacy', 'Veyal V', 'Prorath', 'Thowsil', 'Amhidte', 'Soikaa ', 'Skesta ', 'SRldsnt', 'Prood P', 'GMilse ', 'PavesGr', 'Peles P', 'Kaestid', 'MVnexde', 'Elleyt ', 'Soini T', 'Reodsnc', 'Prone M', 'SLncyaj', 'Amarere', 'PyonsCa', 'ViionMa', 'Swhtsna', 'Soresea', 'Foisha ', 'Coona A', 'LancyRe', 'SollaMa', 'VRrtsa ', 'ChionCo', 'SaodySa', 'PrwarSa', 'Suwerlo', 'CSvelMa', 'PrrloMo', 'Ikmesay', 'MJilayl', 'SyOnen ', 'SJmesst', 'Vrensn ', 'Saade E', 'Xeitaa ', 'Siilka ', 'Oztarol', 'Pranthi', 'KBnnupu', 'Prmesi ', 'Apentir', 'GontsAp', 'EiionCa', 'Prhtsok', 'HMriast', 'ARineun', 'SLiritn', 'Muiseek', 'A idse ', 'Sovar S', 'PuontBe', 'ARntyne', 'Viiniai', 'Saive L', 'Bintsee', 'OriewLa', 'LeDuvMy', 'Saacela', 'S2kaaan', 'DSvar S', 'Tincyum', 'SaageWi', 'Srersas', 'SLnorMa', 'Coronte', 'Miiewa ', 'KlarkBe', 'Vaensnd', 'SyidaCr', 'PentyVB', 'Prtusth', 'Shise P', 'Chtert ', 'Neony H', 'Krine O', 'SRidsrc', 'Jaers S', 'Ahriaup', 'Ely 3Em', 'Tantsod', 'NSezeBr', 'AbiewLa', 'Soose P', 'Prodsth', 'Asmosz ', 'Pricae ', 'Arhid O', 'MSingco', 'Shbhi S', 'Ceiti I', 'NVaree ', 'ImiteEl', 'Viine P', 'Srncyla', 'Soamsay', 'Femes S', 'NeendLe', 'SBiewid', 'Suram S', 'Shitt S', 'Brama P', 'Saeraep', 'Asara S', 'PuandHi', 'HMonymp', 'Srandir', 'GKowsea', 'Jaades ', 'Prcesvy', 'Prrry M', 'Fosic C', 'AztheBr', 'S2oveat', 'Asncyes', 'Toainnt', 'Sancy R', 'Amionce', 'Tiare S', 'Keharya', 'Jants V', 'ARineha', 'Koestpt', 'Vancyat', 'Suelsa ', 'Mangsr ', 'AdadeEs', 'Giaver ', 'Saowsi ', 'GRarken', 'DSineSt', 'Sohea A', 'BrlonAv', 'Priesla', 'Mallad ', 'Briumri', 'Duals P', 'DSousyl', 'Sohid O', 'Alnorrm', 'Usquaya', 'DSvvyx ', 'PronsEn', 'Niateki', 'LGDewke', 'Swadeh ', 'Pronyt ', 'Baesta ', 'GancyRe', 'Spess C', 'DancyRe', 'MenueNo', 'Asorai ', 'Shamzm ', 'Inasy E', 'Miitat ', 'Apntsal', 'Ajomaa ', 'Covelrs', 'PrpiaSr', 'Bhensa ', 'MaionPa', 'Miwel M', 'ArsiaEx', 'Saionl ', 'Shlashi', 'Paony H', 'Bhsic C', 'Malmsri', 'Sumesa ', 'JSlipTu', 'Cilip J', 'Prianhi', 'Sholaya', 'SuncyRe', 'Clell D', 'Esnamth', 'Sadhii ', 'SodilDa', 'Icingpy', 'Shentpa', 'Thessrm', 'TGjraVa', 'Coomee ', 'Prurten', 'Axdam V', 'Santspa', 'Sidin J', 'Veisear', 'AgaveEn', 'RatraNa', 'Arndesa', 'Maourit', 'Esncyth', 'TCncyn ', 'Almid P', 'Guenoa ', 'DSidsrc', 'Hincy R', 'Savar S', 'Myple M', 'Reunee ', 'SVineun', 'GKityel', 'MVisear', 'Aseenh ', 'Evood S', 'KPhtsei', 'B ncysi', 'Shiaa S', 'Toreeic', 'EvestPi', 'Saa 2Ai', 'MKensi ', 'DSionhe', 'Puallhi', 'Saeina ', 'SagasSa', 'Veiewak', 'UbreeAn', 'Keave E', 'NCondia', 'Asncy P', 'Roeekbl', 'SruntFa', 'Sriseva', 'VSaya A', 'Conixt ', 'Cetattu', 'HintsAp', 'Apmes H', 'Giersin', 'JSyane ', 'Ammesss', 'LGifeew', 'ARureig', 'SrisePo', 'Salms G', 'Pudgear', 'Panorse', 'Rie 2 P', 'WoarkEm', 'SMllay ', 'SoestSu', 'Kaiew L', 'Thesseg', 'Sancei ', 'Savarar', 'Inenshe', 'Veitaus', 'Avlls H', 'MGave E', 'Prdhue ', 'DSestSt', 'MadorSp', 'Vaontos', 'UKanema', 'Maest N', 'Foodasa', 'Sagnage', 'RKhipwn', 'Rie 2ri', 'Prllsan', 'Kut 3or', 'GaityEt', 'Arnorya', 'Trurea ', 'Ceise P', 'Corix B', 'CMoryma', 'AraraSa', 'Malyxer', 'SoapeSu', 'Vancy R', 'DSeldpr', 'Srntsha', 'VSlistr', 'Marthur', 'JahanSa', 'Rauil T', 'SaodsGr', 'Goareir', 'Srers T', 'ElaleSp', 'Rallse ', 'Inave R', 'Utntspa', 'AWharan', 'Viony H', 'GoncyRe', 'Pridel ', 'Arcia S', 'BMttaor', 'Daganva', 'Saata S', 'OsrdsOr', 'Arria G', 'SVdhaig', 'Aentsbe', 'MYncysi', 'Grterrr', 'Peora P', 'Arity S', 'Shika A', 'Hoston ', 'AlEcone', 'Leilo E', 'Unuil T', 'Sooutnu', 'Kelmsoy', 'AkncyRe', 'Prngshi', 'Supams ', 'Umods W', 'BDectou', 'SRrnauv', 'PriumMi', 'Srarkha', 'Puestol', 'Ravashw', 'Chpana ', 'Gopus O', 'RookaJh', 'Vitat H', 'Uncioe ', 'Riousd ', 'SuanaNa', 'Mameser', 'Meines ', 'AreraRe', 'Inntss ', 'V htsji', 'SoasaSa', 'Adarkya', 'Niborik', 'Jyavet ', 'Drente ', 'Soisy D', 'NCierar', 'Chuti S', 'ColeyNa', 'JJr 2e ', 'Saace P', 'Srconor', 'Maoseer', 'NCowsar', 'Vemit S', 'Coa It ', 'Apavea ', 'DSesthr', 'Asity S', 'PaownNe', 'Peentn ', 'Mancya ', 'Diarknt', 'Prersis', 'Naods W', 'Foinade', 'DSldsen', 'Baveles', 'Nanuena', 'Atreli ', 'SNadeAr', 'VaireSo', 'SNeur G', 'i1ncyRe', 'V6estde', 'SaaceSa', 'Matlelp', 'Ajleyor', 'Mames M', 'i1odsne', 'SosicCl', 'Gonoril', 'Prenty ', 'AjityIn', 'Emodsel', 'AmiewLa', 'LVniaar', 'Asoilul', 'MaaveDu', 'DNionfl', 'Soinequ', 'Vaour S', 'Prdowth', 'Rasom B', 'BrardCo', 'BrlisMe', 'NevenLi', 'Kaamai ', 'Krine C', 'LIandee', 'Diensso', 'Neess P', 'RortsCo', 'Jeshan ', 'Unm 2El', 'Sancy L', 'Soire A', 'SoncyRe', 'Shensit', 'Suitea ', 'Arzzo P', 'Suensda', 'DaniaNe', 'DSgmax ', 'Amelllu', 'Maian M', 'Bilya A', 'Asiss B', 'VHistal', 'SNavenc', 'HMityld', 'Gotis A', 'VBpleMa', 'ARomee ', 'DSagax ', 'Pao 2Sm', 'Aples M', 'Naenti ', 'Sririth', 'Hincy V', 'VSletes', 'HioraTr', 'i1rtsCo', 'Undge T', 'DSoodil', 'IBictnd', 'Inntsth', 'Sastaat', 'ElentAp', 'MaaveEn', 'Komesa ', 'Shine S', 'Niowshi', 'Srldsri', 'Maavera', 'AMaveon', 'CharkGr', 'AbarkVa', 'NCold G', 'CMard B', 'Pardsri', 'Prarkun', 'DSestil', 'SMdesy ', 'ALoraAu', 'Epwnee ', 'SraveHi', 'Srntssh', 'Grensak', 'Niara S', 'Saestde', 'J isear', 'Ajows V', 'Krtiqa ', 'Hedosme', 'Sosisic', 'Grmes L', 'Niareum', 'Shentnd', 'MacleK ', 'Amivace', 'Anineu ', 'Chnts A', 'AsineSu', 'Goty  E', 'AsNowre', 'Saineiv', 'Vaaram ', 'Brods W', 'OlarkLa', 'LGestbo', 'Inurave', 'SLayaer', 'Satle C', 'Sparam ', 'Ciris P', 'Cruran ', 'MavanK ', 'Daxir E', 'Viium E', 'CVnetnc', 'Sksia A', 'Wiowsri', 'VRave E', 'DShtsow', 'Vadel C', 'VBownre', 'NVdenic', 'Villeka', 'ACiteda', 'Maarkr ', 'Bltonin', 'Dural C', 'ThntsAp', 'SoineJa', 'JKmesHo', 'Ceureld', 'Riiew L', 'Prard B', 'Yaenti ', 'Matrai ', 'Sancyra', 'Krryll ', 'DRens A', 'SLoraFl', 'Deade A', 'Jae 1ke', 'Hahtsya', 'InockHo', 'Caiya D', 'Hohnari', 'Paoliy ', 'Itelaa ', 'Skdia A', 'Saaksa ', 'Revane ', 'NRniad ', 'Brtiael', 'PrOakSi', 'KsonsCa', 'SNity S', 'Veyalin', 'MasicCl', 'DSdidSp', 'Suent A', 'Leuseut', 'Itbhaa ', 'Asuilnc', 'Maity W', 'Leino C', 'Detat H', 'PronsAs', 'Mas 2 H', 'Eledst ', 'EmrchAn', 'Sulya A', 'Ascid P', 'Dehts H', 'Baalp S', 'NantsGa', 'Rintspa', 'Adity S', 'Sapazta', 'PancyPr', 'Srncyya', 'Alivae ', 'Saersel', 'EsaceLe', 'MCngeha', 'Srhamra', 'SNtua S', 'Elrisnt', 'Jaaveha', 'Sulla S', 'Niiman ', 'Mayne A', 'TealeRo', 'Zonce E', 'Thuse F', 'Viissmi', 'Prhna S', 'Emsic C', 'Caiseur', 'Sashaa ', 'Bancyri', 'SoosePr', 'Pantym ', 'Maantr ', 'Niimet ', 'Saite G', 'Puestig', 'Rallaa ', 'VMityre', 'Mae 2ow', 'Sueesti', 'Omter A', 'NDclenn', 'Kelia R', 'LoentKr', 'Siageal', 'Akone R', 'Siourpl', 'Vasisvi', 'DSestre', 'Suiumy ', 'Viodspr', 'Cimeshw', 'CoiewSy', 'Putus L', 'Akdorli', 'GeereEc', 'Mavanru', 'SNncypa', 'SPavenc', 'SPontna', 'Prageta', 'Kantsce', 'Maager ', 'DatroGo', 'Vaanda ', 'Deens G', 'Rehtsna', 'Nathira', 'TNrdet ', 'NCensun', 'Brnia G', 'Kamesar', 'Usnexra', 'Mania G', 'ShdhiSa', 'Goner C', 'Brsiaen', 'AvensGa', 'RMudeat', 'ThBayah', 'RMerslu', 'Krone S', 'Clint E', 'LGapeon', 'Suhamra', 'SMuilan', 'KeureSi', 'Miershi', 'VaiewV ', 'NadelCi', 'IDldsin', 'DSapete', 'V2gesre', 'SMikaay', 'Aaityi ', 'Maine J', 'SKthaAa', 'CoaveAt', 'Vaunei ', 'SoystAm', 'Vencyha', 'Koowsis', 'Supleon', 'Brony H', 'Inensba', 'SaSkyBl', 'Bhhmi L', 'VRdelit', 'Maenara', 'JSonyar', 'Gaenty ', 'Suashen', 'Maows M', 'BKideor', 'Vaonyi ', 'DwntsAp', 'Cores V', 'Unateit', 'Bront A', 'VVbhion', 'MB-laan', 'SoisoCa', 'DStus S', 'MNnia E', 'Macanr ', 'Sancya ', 'KSliaor', 'LuncyRe', 'Leora D', 'SRniaGa', 'SVacyeg', 'SuntsAp', 'Srise P', 'HodhiSa', 'Shxorm ', 'PSmalsh', 'Deiveer', 'Copust ', 'DSncele', 'ProdsWe', 'Vehida ', 'SwionMa', 'ChodsGr', 'SVovelm', 'Sonyxa ', 'Sanumn ', 'BVeneSe', 'Essic C', 'GradeMR', 'Neisei ', 'Coleyli', 'Niidet ', 'Krala D', 'Saavenc', 'Vaidsi ', 'SKvanin', 'GKiewke', 'Unris E', 'Prood G', 'SLwernf', 'NRowse ', 'Lancy R', 'NadriNe', 'GRvasth', 'RahtsHe', 'Prarat ', 'Soeurri', 'Saavean', 'InadeAr', 'Brway G', 'Saaintv', 'SoitaCa', 'Shncyes', 'AkoreEn', 'Puarent', 'CLdiaAr', 'Putere ', 'PantsAp', 'AszarAl', 'Itvas S', 'Soncy R', 'Maletr ', 'CMoneoo', 'Asarkia', 'Kr 10Ca', 'Redarav', 'VRaceer', 'Metrais', 'Maerar ', 'Daosts ', 'VaMarll', 'Vatra N', 'HMeuran', 'Frhts H', 'Saageat', 'Oaines ', 'RKncyha', 'MRsicla', 'Shmai D', 'MBrrySt', 'SVon hn', 'Roima A', 'Prdenth', 'Reicace', 'Maade P', 'Srisei ', 'Arntyi ', 'Srhan P', 'Srncy R', 'Saaveha', 'Krllael', 'KrineAq', 'SirlsPe', 'Aniona ', 'Niaveha', 'AkArkti', 'Srkha S', 'Unezes ', 'Sithand', 'MSvelek', 'Peace P', 'Mahla T', 'AdtusAn', 'Kuownri', 'Shateor', 'Drerspe', 'Pyvenas', 'Oce 1nd', 'Vehes L', 'Dheusag', 'Sriferi', 'PrliaRe', 'E onsg ', 'Apitea ', 'Cerasy ', 'DSoodSh', 'VMlet C', 'Vaaveeh', 'Bhide P', 'AbnceEs', 'Itala A', 'NDiteio', 'Sancyi ', 'Jahipa ', 'LiaveEn', 'Esareap', 'Vixirri', 'Thionav', 'JaaldEm', 'Syonyph', 'NDivaOl', 'Soubya ', 'Arnts A', 'Vayali ', 'Goateds', 'ARaveSa', 'SheldGr', 'Vantspa', 'Prana S', 'CMhidal', 'Srcha S', 'DencyRe', 'Asuceis', 'Spanda ', 'Piityra', 'Blisera', 'SaignSo', 'Arensh ', 'BMtusLo', 'Honcyju', 'Paurt C', 'SurtsCo', 'AReenui', 'SoniaEt', 'Amageru', 'Gohts H', 'Riave E', 'Shsom B', 'Chllsev', 'Srsami ', 'TGasyhu', 'VRowsa ', 'Srigmsw', 'Rerelve', 'Fea 3Al', 'Cemesti', 'Dhniail', 'Pumesim', 'Keids O', 'SrSaira', 'SNityVe', 'Cangse ', 'Ajnue A', 'Vaw 2il', 'Mae 2ra', 'CaestSr', 'Saconp ', 'PrityTr', 'Calyxy ', 'SNillin', 'CMhamai', 'VMianri', 'MBncele', 'GCngsn ', 'JPoldGo', 'Gancy P', 'Cearuy ', 'Kiagar ', 'Sutte C', 'Emine P', 'Esatea ', 'Pride S', 'SGandea', 'Vestas ', 'SiidsGa', 'Adace P', 'SLtalry', 'MBaleRo', 'Chisei ', 'SatraNa', 'Ozensve', 'VBeriav', 'Hiows C', 'Shireru', 'VDarmlo', 'AlourAr', 'AxvamTa', 'Prncy R', 'Maaveal', 'Incksaf', 'Saisei ', 'PrestSe', 'Ablmsol', 'DScon S', 'Sueneu ', 'Soazak ', 'Somus A', 'ARnamru', 'Suent V', 'Sie 2is', 'BSensth', 'GClmsun', 'Madgeer', 'SSityri', 'MamelKa', 'LendaVi', 'SSestth', 'MSureRR', 'PavanSa', 'Amlisai', 'Vaoodar', 'PSdenGa', 'Goezell', 'Mades G', 'Goted U', 'Vaharvi', 'DSineun', 'Loals P', 'Roa 2ha', 'CMDewun', 'Elacet ', 'Vrenty ', 'AuRISa ', 'Brntsal', 'Sonue A', 'ShourSp', 'DiiteR ', 'Shionya', 'Inaxyga', 'Brica E', 'SLestde', 'DSgam S', 'Stkarrd', 'SamesHo', 'DSdhiSa', 'Vailsaf', 'Aaentpa', 'Phhidx ', 'Ciisera', 'Laiteya', 'YMhenLi', 'SNdri N', 'Ocavees', 'SuVue S', 'Nadhian', 'MKllei ', 'Shers S', 'Moity S', 'Veale R', 'NChtsun', 'HMinebo', 'UNERA P', 'Inentva', 'Aplanje', 'K tlete', 'Nimesch', 'Hameson', 'Karchru', 'Visic C', 'Jae 1hu', 'Saowson', 'Naandit', 'Hanar I', 'Shhin S', 'Naireru', 'PulokPu', 'S onsMa', 'Mauner ', 'AdestAs', 'Tencyes', 'SLireap', 'Muistry', 'SavanBr', 'Sraveks', 'Apion M', 'Rewelav', 'SJarkte', 'YCnce R', 'Sriffhi', 'DStra S', 'Rahidhi', 'JahtsHe', 'Raeusiy', 'Peide L', 'Ceove G', 'Akvam P', 'DSvil S', 'UpowsMe', 'Esale O', 'SrarkSk', 'Teire G', 'Atarebe', 'Sants A', 'Kiare S', 'Samukja', 'Muncy R', 'IBityin', 'Srayatr', 'MancyEl', 'SJovest', 'Suncyu ', 'Eznuee ', 'Saacy A', 'BMoldar', 'Vandak ', 'Tusom B', 'Canoroy', 'Sondaka', 'Betatsi', 'PrdgeSo', 'Sodgere', 'Prrtht ', 'Maentor', 'Prareth', 'SRageri', 'ViaarSa', 'AVeldun', 'VmlleRo', 'Prvaska', 'Koncyad', 'Goeur G', 'KroneMo', 'SatatHa', 'OadraCh', 'DSersus', 'MSadeed', 'Prcan P', 'DSapeto', 'Mahesr ', 'Aaire S', 'PraleSi', 'Shyas S', 'MaidoPl', 'SaMTBai', 'Inods A', 'Ardanru', 'Prthand', 'Jahts H', 'MNlam G', 'Edleyil', 'Prleaou', 'ShshaSa', 'MSopsw ', 'Somumys', 'Srtusi ', 'Prillot', 'Krite D', 'MNikaas', 'Srncya ', 'Prntsax', 'Brine J', 'Jaisemi', 'InllaPa', 'PrarePa', 'RSntsja', 'BlibuMa', 'Mamespa', 'Neestna', 'Maana E', 'Brrds O', 'Niine J', 'CoinoCu', 'Rooodre', 'Names H', 'Chhalut', 'Aliewe ', 'SVmesVi', 'IDlleri', 'BSiumly', 'Prtanha', 'Srentea', 'S2enste', 'Tavenew', 'Aconyit', 'Arano M', 'MaitySe', 'Siuntar', 'Cadel C', 'GCbowai', 'Stlomg ', 'GilomSh', 'HMqueu ', 'VKe 1 M', 'JaniaGa', 'Prdomt ', 'CalanGo', 'Krreera', 'Dwity T', 'Saandtt', 'Emstael', 'PrrvaPl', 'Frowsru', 'RRersow', 'Adity T', 'Sarch M', 'Sahtsi ', 'Raave E', 'Vidgema', 'Ajens G', 'DSstaen', 'Saood S', 'Priew P', 'DSata S', 'Giconal', 'Arncyd ', 'Prsisge', 'SoliaMa', 'Klort C', 'VaarkMe', 'BModsen', 'Naavehi', 'DSpazTo', 'Roareta', 'Srluei ', 'Sahtsva', 'PuamaPa', 'Sharlth', 'Srtasno', 'Rarelt ', 'Advash ', 'Saentva', 'DSensn ', 'BSlasin', 'Pontspa', 'Sonumy ', 'Prs 2hi', 'GModsNR', 'Jaise P', 'Ansna K', 'Goelsn ', 'PisomSu', 'Chllea ', 'HiqueMa', 'MAnceun', 'SollyCl', 'DSnjh S', 'Lants A', 'Vaenev ', 'Shissut', 'Asareur', 'BDlexHo', 'GrhtiSr', 'KHnumla', 'Sowerew', 'AnnceEl', 'Cerdsga', 'Kolisl ', 'SaeneSe', 'Mamesi ', 'Spews L', 'MCtleas', 'Srmesun', 'ShtalCr', 'MyigePr', 'Plowsri', 'SrentAp', 'K ncy R', 'Daden G', 'Omncy R', 'Suurtni', 'AsdiaAr', 'BaisePa', 'Soe 2Sa', 'KHage G', 'Vacesi ', 'Ajresre', 'PoetyHo', 'Binorn ', 'NDfelip', 'EsadeNS', 'Sanorpa', 'DSidePr', 'Gruesaf', 'Ajacea ', 'PSterAs', 'DuenaTa', 'BhncyRe', 'NRtesnd', 'SJces R', 'GRlas V', 'BadorSp', 'VaiteEx', 'AiIIIpl', 'Raenti ', 'Viuliap', 'Ocrda M', 'Vaurtar', 'MRvar S', 'Tepleee', 'Bhncyis', 'Priewhi', 'Shntsan', 'Henue A', 'Spiteid', 'Ocock R', 'Sothadr', 'AMAKS O', 'Omaveai', 'Eline P', 'Prensin', 'Jaitira', 'Gilleon', 'Ahhtser', 'Smrryny', 'Sonviik', 'Orens G', 'AjhalNa', 'Saavear', 'AriosHe', 'Palleon', 'Adstah ', 'SuMTBPr', 'Jancyes', 'Gaaran ', 'SJerse ', 'SaideHi', 'SNpalaj', 'RaiewLa', 'Hahtsde', 'Grare S', 'Viockit', 'Bhncy V', 'Niiewin', 'Brium C', 'Puownm ', 'Sotosty', 'Srnumum', 'Chhamku', 'Maowsve', 'Diaste ', 'Concyvi', 'RailsDa', 'TealdEm', 'V2anags', 'Saarea ', 'SraruSr', 'Saavem ', 'J axyGa', 'Sencys ', 'ItAnuna', 'Nileyap', 'Abeesmi', 'SearkHy', 'ArzzaRe', 'Pu270a ', 'Oreldhi', 'Santste', 'Marnaer', 'FoapeWa', 'BainePr', 'Arldsyo', 'Suleyli', 'Ranor M', 'VincyRe', 'Raellil', 'Soiewre', 'Owlotou', 'Varala ', 'VaasaPr', 'Vaows M', 'Riodsri', 'SuaveRa', 'Bhe 2ko', 'Sryamar', 'PritaDo', 'Suavea ', 'Leero C', 'MBncyh ', 'C ensnd', 'Prarkll', 'Trade E', 'Vidil D', 'Sphts H', 'ViistLa', 'Toeadp ', 'Puops R', 'AFe 3Ph', 'Brstaue', 'HivanBr', 'SantsAp', 'Saeur G', 'Saiewas', 'Shusehi', 'Goues A', 'SKterAs', 'ARestco', 'Leora E', 'KVersuj', 'Jurdsig', 'Smentha', 'Srg Bnc', 'MJtumty', 'AnialPa', 'SLityee', 'RBRWAyo', 'Spdoren', 'AHavenc', 'Saage V', 'AkonyHa', 'Kritel ', 'Coise P', 'Dimes E', 'Somns T', 'Raesta ', 'Prineth', 'Coush W', 'Shiew T', 'Vetanan', 'Wiaysld', 'Chntsat', 'Keers S', 'LoLeoen', 'Arora A', 'Maierr ', 'Dhalsh ', 'Maoma P', 'SyavuHo', 'NiCodCa', 'Sagalhi', 'Chorda ', 'Saowsou', 'PuendWe', 'Socon Z', 'Emhtsl ', 'Asneren', 'SiineSu', 'Soestin', 'ShnyeSy', 'CharkR ', 'Anave S', 'BDensar', 'Mahtsba', 'DSapeSk', 'Vemes H', 'Cuohahi', 'SryleHo'}\n",
            "bath sets {nan, 1.0, 2.0, 3.0, 4.0, 5.0, 6.0, 7.0, 8.0, 9.0, nan, nan, nan, nan, nan, nan, 11.0, 10.0, 14.0, 12.0, 16.0, 15.0, 13.0, 18.0, 27.0, nan, nan, nan, nan, nan, nan, nan, nan, nan, nan, 40.0, nan, nan, nan, nan, nan, nan, nan, nan, nan, nan, nan, nan, nan, nan, nan, nan, nan, nan, nan, nan, nan, nan, nan, nan, nan, nan, nan, nan, nan, nan, nan, nan, nan, nan, nan, nan, nan, nan, nan, nan, nan, nan, nan, nan, nan, nan, nan, nan, nan, nan, nan, nan, nan, nan, nan, nan}\n",
            "balcony sets {nan, 1.0, nan, 3.0, nan, 2.0, 0.0, nan, nan, nan, nan, nan, nan, nan, nan, nan, nan, nan, nan, nan, nan, nan, nan, nan, nan, nan, nan, nan, nan, nan, nan, nan, nan, nan, nan, nan, nan, nan, nan, nan, nan, nan, nan, nan, nan, nan, nan, nan, nan, nan, nan, nan, nan, nan, nan, nan, nan, nan, nan, nan, nan, nan, nan, nan, nan, nan, nan, nan, nan, nan, nan, nan, nan, nan, nan, nan, nan, nan, nan, nan, nan, nan, nan, nan, nan, nan, nan, nan, nan, nan, nan, nan, nan, nan, nan, nan, nan, nan, nan, nan, nan, nan, nan, nan, nan, nan, nan, nan, nan, nan, nan, nan, nan, nan, nan, nan, nan, nan, nan, nan, nan, nan, nan, nan, nan, nan, nan, nan, nan, nan, nan, nan, nan, nan, nan, nan, nan, nan, nan, nan, nan, nan, nan, nan, nan, nan, nan, nan, nan, nan, nan, nan, nan, nan, nan, nan, nan, nan, nan, nan, nan, nan, nan, nan, nan, nan, nan, nan, nan, nan, nan, nan, nan, nan, nan, nan, nan, nan, nan, nan, nan, nan, nan, nan, nan, nan, nan, nan, nan, nan, nan, nan, nan, nan, nan, nan, nan, nan, nan, nan, nan, nan, nan, nan, nan, nan, nan, nan, nan, nan, nan, nan, nan, nan, nan, nan, nan, nan, nan, nan, nan, nan, nan, nan, nan, nan, nan, nan, nan, nan, nan, nan, nan, nan, nan, nan, nan, nan, nan, nan, nan, nan, nan, nan, nan, nan, nan, nan, nan, nan, nan, nan, nan, nan, nan, nan, nan, nan, nan, nan, nan, nan, nan, nan, nan, nan, nan, nan, nan, nan, nan, nan, nan, nan, nan, nan, nan, nan, nan, nan, nan, nan, nan, nan, nan, nan, nan, nan, nan, nan, nan, nan, nan, nan, nan, nan, nan, nan, nan, nan, nan, nan, nan, nan, nan, nan, nan, nan, nan, nan, nan, nan, nan, nan, nan, nan, nan, nan, nan, nan, nan, nan, nan, nan, nan, nan, nan, nan, nan, nan, nan, nan, nan, nan, nan, nan, nan, nan, nan, nan, nan, nan, nan, nan, nan, nan, nan, nan, nan, nan, nan, nan, nan, nan, nan, nan, nan, nan, nan, nan, nan, nan, nan, nan, nan, nan, nan, nan, nan, nan, nan, nan, nan, nan, nan, nan, nan, nan, nan, nan, nan, nan, nan, nan, nan, nan, nan, nan, nan, nan, nan, nan, nan, nan, nan, nan, nan, nan, nan, nan, nan, nan, nan, nan, nan, nan, nan, nan, nan, nan, nan, nan, nan, nan, nan, nan, nan, nan, nan, nan, nan, nan, nan, nan, nan, nan, nan, nan, nan, nan, nan, nan, nan, nan, nan, nan, nan, nan, nan, nan, nan, nan, nan, nan, nan, nan, nan, nan, nan, nan, nan, nan, nan, nan, nan, nan, nan, nan, nan, nan, nan, nan, nan, nan, nan, nan, nan, nan, nan, nan, nan, nan, nan, nan, nan, nan, nan, nan, nan, nan, nan, nan, nan, nan, nan, nan, nan, nan, nan, nan, nan, nan, nan, nan, nan, nan, nan, nan, nan, nan, nan, nan, nan, nan, nan, nan, nan, nan, nan, nan, nan, nan, nan, nan, nan, nan, nan, nan, nan, nan, nan, nan, nan, nan, nan, nan, nan, nan, nan, nan, nan, nan, nan, nan, nan, nan, nan, nan, nan, nan, nan, nan, nan, nan, nan, nan, nan, nan, nan, nan, nan, nan, nan, nan, nan, nan, nan, nan, nan, nan, nan, nan, nan, nan, nan, nan, nan, nan, nan, nan, nan, nan, nan, nan, nan, nan, nan, nan, nan, nan, nan, nan, nan, nan, nan, nan, nan, nan, nan, nan, nan, nan, nan, nan, nan, nan, nan, nan, nan, nan, nan, nan, nan, nan, nan, nan, nan, nan, nan, nan, nan, nan, nan}\n"
          ]
        }
      ]
    },
    {
      "cell_type": "code",
      "source": [
        "bath_mean = int(df['bath'].mean())\n",
        "bath_mean"
      ],
      "metadata": {
        "colab": {
          "base_uri": "https://localhost:8080/"
        },
        "id": "EnuMx3PTYJXN",
        "outputId": "4af85af7-f1e9-4016-fc78-c4fa10b5a1cf"
      },
      "execution_count": 6,
      "outputs": [
        {
          "output_type": "execute_result",
          "data": {
            "text/plain": [
              "2"
            ]
          },
          "metadata": {},
          "execution_count": 6
        }
      ]
    },
    {
      "cell_type": "code",
      "source": [
        "int(df['balcony'].mean())"
      ],
      "metadata": {
        "colab": {
          "base_uri": "https://localhost:8080/"
        },
        "id": "2Lpw0aOeYJUs",
        "outputId": "5049e3bc-5999-4a4e-8ccd-9ab7072c145e"
      },
      "execution_count": 7,
      "outputs": [
        {
          "output_type": "execute_result",
          "data": {
            "text/plain": [
              "1"
            ]
          },
          "metadata": {},
          "execution_count": 7
        }
      ]
    },
    {
      "cell_type": "code",
      "source": [
        "set(df['size'])"
      ],
      "metadata": {
        "colab": {
          "base_uri": "https://localhost:8080/"
        },
        "id": "CnJUA4ofYJR-",
        "outputId": "a9dbaecd-fee3-4960-f9d7-defbd4f3054c"
      },
      "execution_count": 8,
      "outputs": [
        {
          "output_type": "execute_result",
          "data": {
            "text/plain": [
              "{'1 BHK',\n",
              " '1 Bedroom',\n",
              " '1 RK',\n",
              " '10 BHK',\n",
              " '10 Bedroom',\n",
              " '11 BHK',\n",
              " '11 Bedroom',\n",
              " '12 Bedroom',\n",
              " '13 BHK',\n",
              " '14 BHK',\n",
              " '16 BHK',\n",
              " '18 Bedroom',\n",
              " '19 BHK',\n",
              " '2 BHK',\n",
              " '2 Bedroom',\n",
              " '27 BHK',\n",
              " '3 BHK',\n",
              " '3 Bedroom',\n",
              " '4 BHK',\n",
              " '4 Bedroom',\n",
              " '43 Bedroom',\n",
              " '5 BHK',\n",
              " '5 Bedroom',\n",
              " '6 BHK',\n",
              " '6 Bedroom',\n",
              " '7 BHK',\n",
              " '7 Bedroom',\n",
              " '8 BHK',\n",
              " '8 Bedroom',\n",
              " '9 BHK',\n",
              " '9 Bedroom',\n",
              " nan}"
            ]
          },
          "metadata": {},
          "execution_count": 8
        }
      ]
    },
    {
      "cell_type": "code",
      "source": [
        "df['location'].fillna(value= 'Std', inplace = True)\n",
        "df['location'] = df['location'].apply(lambda x : x.strip())"
      ],
      "metadata": {
        "id": "Qho8vFbPt1N7"
      },
      "execution_count": 9,
      "outputs": []
    },
    {
      "cell_type": "code",
      "source": [
        "location_cnt = df['location'].value_counts()\n",
        "location_cnt"
      ],
      "metadata": {
        "colab": {
          "base_uri": "https://localhost:8080/"
        },
        "id": "vBjc9_CRtw5N",
        "outputId": "3006a752-4817-4126-b319-2ceca03eb621"
      },
      "execution_count": 10,
      "outputs": [
        {
          "output_type": "execute_result",
          "data": {
            "text/plain": [
              "Whitefield                            541\n",
              "Sarjapur  Road                        399\n",
              "Electronic City                       304\n",
              "Kanakpura Road                        273\n",
              "Thanisandra                           237\n",
              "                                     ... \n",
              "1Channasandra                           1\n",
              "Hosahalli                               1\n",
              "Vijayabank bank layout                  1\n",
              "near Ramanashree California resort      1\n",
              "Abshot Layout                           1\n",
              "Name: location, Length: 1295, dtype: int64"
            ]
          },
          "metadata": {},
          "execution_count": 10
        }
      ]
    },
    {
      "cell_type": "code",
      "source": [
        "location_cnt[location_cnt<=2]"
      ],
      "metadata": {
        "colab": {
          "base_uri": "https://localhost:8080/"
        },
        "id": "yWSZlSGWuUAd",
        "outputId": "152b2726-b6a0-425e-cf49-e7b8a3225d9d"
      },
      "execution_count": 11,
      "outputs": [
        {
          "output_type": "execute_result",
          "data": {
            "text/plain": [
              "Jayamahal Extension                   2\n",
              "MLA Layout                            2\n",
              "Infantry Road                         2\n",
              "GD Layout                             2\n",
              "Palace Road                           2\n",
              "                                     ..\n",
              "1Channasandra                         1\n",
              "Hosahalli                             1\n",
              "Vijayabank bank layout                1\n",
              "near Ramanashree California resort    1\n",
              "Abshot Layout                         1\n",
              "Name: location, Length: 646, dtype: int64"
            ]
          },
          "metadata": {},
          "execution_count": 11
        }
      ]
    },
    {
      "cell_type": "code",
      "source": [
        "location_cnt_2 = location_cnt[location_cnt<=2]"
      ],
      "metadata": {
        "id": "0dzf3iDVuJN9"
      },
      "execution_count": 12,
      "outputs": []
    },
    {
      "cell_type": "code",
      "source": [
        "df['location'] = df['location'].apply(lambda x :'other' if x in location_cnt_2 else x)"
      ],
      "metadata": {
        "id": "2XZQxR5FuJLl"
      },
      "execution_count": 13,
      "outputs": []
    },
    {
      "cell_type": "code",
      "source": [
        "df['location'].value_counts()"
      ],
      "metadata": {
        "colab": {
          "base_uri": "https://localhost:8080/"
        },
        "id": "X-lFRbW7uJIe",
        "outputId": "b15f5223-6c7c-4465-d445-9cf1fcf8779f"
      },
      "execution_count": 14,
      "outputs": [
        {
          "output_type": "execute_result",
          "data": {
            "text/plain": [
              "other              818\n",
              "Whitefield         541\n",
              "Sarjapur  Road     399\n",
              "Electronic City    304\n",
              "Kanakpura Road     273\n",
              "                  ... \n",
              "Nanjappa Layout      3\n",
              "Gattahalli           3\n",
              "Tirumanahalli        3\n",
              "Brindavan Nagar      3\n",
              "Ayappa Nagar         3\n",
              "Name: location, Length: 650, dtype: int64"
            ]
          },
          "metadata": {},
          "execution_count": 14
        }
      ]
    },
    {
      "cell_type": "code",
      "source": [
        ""
      ],
      "metadata": {
        "id": "QdUooRmvtw2e"
      },
      "execution_count": null,
      "outputs": []
    },
    {
      "cell_type": "code",
      "source": [
        "df['bath'].fillna(value= bath_mean, inplace = True)\n",
        "set(df.bath)"
      ],
      "metadata": {
        "colab": {
          "base_uri": "https://localhost:8080/"
        },
        "id": "W7gyU1NFhlXB",
        "outputId": "7b88ad45-c226-4e57-d278-a8a1dde3abb7"
      },
      "execution_count": 15,
      "outputs": [
        {
          "output_type": "execute_result",
          "data": {
            "text/plain": [
              "{1.0,\n",
              " 2.0,\n",
              " 3.0,\n",
              " 4.0,\n",
              " 5.0,\n",
              " 6.0,\n",
              " 7.0,\n",
              " 8.0,\n",
              " 9.0,\n",
              " 10.0,\n",
              " 11.0,\n",
              " 12.0,\n",
              " 13.0,\n",
              " 14.0,\n",
              " 15.0,\n",
              " 16.0,\n",
              " 18.0,\n",
              " 27.0,\n",
              " 40.0}"
            ]
          },
          "metadata": {},
          "execution_count": 15
        }
      ]
    },
    {
      "cell_type": "code",
      "source": [
        "df['balcony'].fillna(value= 0, inplace = True)\n",
        "set(df.balcony)"
      ],
      "metadata": {
        "colab": {
          "base_uri": "https://localhost:8080/"
        },
        "id": "WSfzC8OGhlQr",
        "outputId": "9c67f69e-a6ec-42f6-a18e-20bf583b4f05"
      },
      "execution_count": 16,
      "outputs": [
        {
          "output_type": "execute_result",
          "data": {
            "text/plain": [
              "{0.0, 1.0, 2.0, 3.0}"
            ]
          },
          "metadata": {},
          "execution_count": 16
        }
      ]
    },
    {
      "cell_type": "code",
      "source": [
        "df['size'].fillna(value= '1 BHK', inplace = True)"
      ],
      "metadata": {
        "id": "111YL_fihlK9"
      },
      "execution_count": 17,
      "outputs": []
    },
    {
      "cell_type": "code",
      "source": [
        "set(df['size'])"
      ],
      "metadata": {
        "colab": {
          "base_uri": "https://localhost:8080/"
        },
        "id": "uEA5oswElK2H",
        "outputId": "bace46fd-6366-48ce-8110-64d99b16963b"
      },
      "execution_count": 18,
      "outputs": [
        {
          "output_type": "execute_result",
          "data": {
            "text/plain": [
              "{'1 BHK',\n",
              " '1 Bedroom',\n",
              " '1 RK',\n",
              " '10 BHK',\n",
              " '10 Bedroom',\n",
              " '11 BHK',\n",
              " '11 Bedroom',\n",
              " '12 Bedroom',\n",
              " '13 BHK',\n",
              " '14 BHK',\n",
              " '16 BHK',\n",
              " '18 Bedroom',\n",
              " '19 BHK',\n",
              " '2 BHK',\n",
              " '2 Bedroom',\n",
              " '27 BHK',\n",
              " '3 BHK',\n",
              " '3 Bedroom',\n",
              " '4 BHK',\n",
              " '4 Bedroom',\n",
              " '43 Bedroom',\n",
              " '5 BHK',\n",
              " '5 Bedroom',\n",
              " '6 BHK',\n",
              " '6 Bedroom',\n",
              " '7 BHK',\n",
              " '7 Bedroom',\n",
              " '8 BHK',\n",
              " '8 Bedroom',\n",
              " '9 BHK',\n",
              " '9 Bedroom'}"
            ]
          },
          "metadata": {},
          "execution_count": 18
        }
      ]
    },
    {
      "cell_type": "code",
      "source": [
        "df[['size', 'suff']] = df['size'].str.split(' ', 1, expand=True)"
      ],
      "metadata": {
        "id": "HCCLpIDjlOFL"
      },
      "execution_count": 19,
      "outputs": []
    },
    {
      "cell_type": "code",
      "source": [
        "df['size'] = df['size'].astype(int)\n",
        "df['bath'] = df['bath'].astype(int)\n",
        "df['balcony'] = df['balcony'].astype(int)"
      ],
      "metadata": {
        "id": "HWPux2X2hlHK"
      },
      "execution_count": 20,
      "outputs": []
    },
    {
      "cell_type": "code",
      "source": [
        "set(df['size'])"
      ],
      "metadata": {
        "colab": {
          "base_uri": "https://localhost:8080/"
        },
        "id": "_f4QktsunJAC",
        "outputId": "713c8f1d-f01c-4219-fe7b-443115542e97"
      },
      "execution_count": 21,
      "outputs": [
        {
          "output_type": "execute_result",
          "data": {
            "text/plain": [
              "{1, 2, 3, 4, 5, 6, 7, 8, 9, 10, 11, 12, 13, 14, 16, 18, 19, 27, 43}"
            ]
          },
          "metadata": {},
          "execution_count": 21
        }
      ]
    },
    {
      "cell_type": "code",
      "source": [
        "df[catg][:5]"
      ],
      "metadata": {
        "colab": {
          "base_uri": "https://localhost:8080/",
          "height": 206
        },
        "id": "rkbh9kDnoIgU",
        "outputId": "6548756d-998b-45e6-816e-313aa5c30078"
      },
      "execution_count": 22,
      "outputs": [
        {
          "output_type": "execute_result",
          "data": {
            "text/plain": [
              "              area_type                  location  size  society  bath  \\\n",
              "0  Super built-up  Area  Electronic City Phase II     2  Coomee      2   \n",
              "1            Plot  Area          Chikka Tirupathi     4  Theanmp     5   \n",
              "2        Built-up  Area               Uttarahalli     3      NaN     2   \n",
              "3  Super built-up  Area        Lingadheeranahalli     3  Soiewre     3   \n",
              "4  Super built-up  Area                  Kothanur     2      NaN     2   \n",
              "\n",
              "   balcony  \n",
              "0        1  \n",
              "1        3  \n",
              "2        3  \n",
              "3        1  \n",
              "4        1  "
            ],
            "text/html": [
              "\n",
              "  <div id=\"df-c19cb532-1229-43f6-a499-65f13e31b9ff\">\n",
              "    <div class=\"colab-df-container\">\n",
              "      <div>\n",
              "<style scoped>\n",
              "    .dataframe tbody tr th:only-of-type {\n",
              "        vertical-align: middle;\n",
              "    }\n",
              "\n",
              "    .dataframe tbody tr th {\n",
              "        vertical-align: top;\n",
              "    }\n",
              "\n",
              "    .dataframe thead th {\n",
              "        text-align: right;\n",
              "    }\n",
              "</style>\n",
              "<table border=\"1\" class=\"dataframe\">\n",
              "  <thead>\n",
              "    <tr style=\"text-align: right;\">\n",
              "      <th></th>\n",
              "      <th>area_type</th>\n",
              "      <th>location</th>\n",
              "      <th>size</th>\n",
              "      <th>society</th>\n",
              "      <th>bath</th>\n",
              "      <th>balcony</th>\n",
              "    </tr>\n",
              "  </thead>\n",
              "  <tbody>\n",
              "    <tr>\n",
              "      <th>0</th>\n",
              "      <td>Super built-up  Area</td>\n",
              "      <td>Electronic City Phase II</td>\n",
              "      <td>2</td>\n",
              "      <td>Coomee</td>\n",
              "      <td>2</td>\n",
              "      <td>1</td>\n",
              "    </tr>\n",
              "    <tr>\n",
              "      <th>1</th>\n",
              "      <td>Plot  Area</td>\n",
              "      <td>Chikka Tirupathi</td>\n",
              "      <td>4</td>\n",
              "      <td>Theanmp</td>\n",
              "      <td>5</td>\n",
              "      <td>3</td>\n",
              "    </tr>\n",
              "    <tr>\n",
              "      <th>2</th>\n",
              "      <td>Built-up  Area</td>\n",
              "      <td>Uttarahalli</td>\n",
              "      <td>3</td>\n",
              "      <td>NaN</td>\n",
              "      <td>2</td>\n",
              "      <td>3</td>\n",
              "    </tr>\n",
              "    <tr>\n",
              "      <th>3</th>\n",
              "      <td>Super built-up  Area</td>\n",
              "      <td>Lingadheeranahalli</td>\n",
              "      <td>3</td>\n",
              "      <td>Soiewre</td>\n",
              "      <td>3</td>\n",
              "      <td>1</td>\n",
              "    </tr>\n",
              "    <tr>\n",
              "      <th>4</th>\n",
              "      <td>Super built-up  Area</td>\n",
              "      <td>Kothanur</td>\n",
              "      <td>2</td>\n",
              "      <td>NaN</td>\n",
              "      <td>2</td>\n",
              "      <td>1</td>\n",
              "    </tr>\n",
              "  </tbody>\n",
              "</table>\n",
              "</div>\n",
              "      <button class=\"colab-df-convert\" onclick=\"convertToInteractive('df-c19cb532-1229-43f6-a499-65f13e31b9ff')\"\n",
              "              title=\"Convert this dataframe to an interactive table.\"\n",
              "              style=\"display:none;\">\n",
              "        \n",
              "  <svg xmlns=\"http://www.w3.org/2000/svg\" height=\"24px\"viewBox=\"0 0 24 24\"\n",
              "       width=\"24px\">\n",
              "    <path d=\"M0 0h24v24H0V0z\" fill=\"none\"/>\n",
              "    <path d=\"M18.56 5.44l.94 2.06.94-2.06 2.06-.94-2.06-.94-.94-2.06-.94 2.06-2.06.94zm-11 1L8.5 8.5l.94-2.06 2.06-.94-2.06-.94L8.5 2.5l-.94 2.06-2.06.94zm10 10l.94 2.06.94-2.06 2.06-.94-2.06-.94-.94-2.06-.94 2.06-2.06.94z\"/><path d=\"M17.41 7.96l-1.37-1.37c-.4-.4-.92-.59-1.43-.59-.52 0-1.04.2-1.43.59L10.3 9.45l-7.72 7.72c-.78.78-.78 2.05 0 2.83L4 21.41c.39.39.9.59 1.41.59.51 0 1.02-.2 1.41-.59l7.78-7.78 2.81-2.81c.8-.78.8-2.07 0-2.86zM5.41 20L4 18.59l7.72-7.72 1.47 1.35L5.41 20z\"/>\n",
              "  </svg>\n",
              "      </button>\n",
              "      \n",
              "  <style>\n",
              "    .colab-df-container {\n",
              "      display:flex;\n",
              "      flex-wrap:wrap;\n",
              "      gap: 12px;\n",
              "    }\n",
              "\n",
              "    .colab-df-convert {\n",
              "      background-color: #E8F0FE;\n",
              "      border: none;\n",
              "      border-radius: 50%;\n",
              "      cursor: pointer;\n",
              "      display: none;\n",
              "      fill: #1967D2;\n",
              "      height: 32px;\n",
              "      padding: 0 0 0 0;\n",
              "      width: 32px;\n",
              "    }\n",
              "\n",
              "    .colab-df-convert:hover {\n",
              "      background-color: #E2EBFA;\n",
              "      box-shadow: 0px 1px 2px rgba(60, 64, 67, 0.3), 0px 1px 3px 1px rgba(60, 64, 67, 0.15);\n",
              "      fill: #174EA6;\n",
              "    }\n",
              "\n",
              "    [theme=dark] .colab-df-convert {\n",
              "      background-color: #3B4455;\n",
              "      fill: #D2E3FC;\n",
              "    }\n",
              "\n",
              "    [theme=dark] .colab-df-convert:hover {\n",
              "      background-color: #434B5C;\n",
              "      box-shadow: 0px 1px 3px 1px rgba(0, 0, 0, 0.15);\n",
              "      filter: drop-shadow(0px 1px 2px rgba(0, 0, 0, 0.3));\n",
              "      fill: #FFFFFF;\n",
              "    }\n",
              "  </style>\n",
              "\n",
              "      <script>\n",
              "        const buttonEl =\n",
              "          document.querySelector('#df-c19cb532-1229-43f6-a499-65f13e31b9ff button.colab-df-convert');\n",
              "        buttonEl.style.display =\n",
              "          google.colab.kernel.accessAllowed ? 'block' : 'none';\n",
              "\n",
              "        async function convertToInteractive(key) {\n",
              "          const element = document.querySelector('#df-c19cb532-1229-43f6-a499-65f13e31b9ff');\n",
              "          const dataTable =\n",
              "            await google.colab.kernel.invokeFunction('convertToInteractive',\n",
              "                                                     [key], {});\n",
              "          if (!dataTable) return;\n",
              "\n",
              "          const docLinkHtml = 'Like what you see? Visit the ' +\n",
              "            '<a target=\"_blank\" href=https://colab.research.google.com/notebooks/data_table.ipynb>data table notebook</a>'\n",
              "            + ' to learn more about interactive tables.';\n",
              "          element.innerHTML = '';\n",
              "          dataTable['output_type'] = 'display_data';\n",
              "          await google.colab.output.renderOutput(dataTable, element);\n",
              "          const docLink = document.createElement('div');\n",
              "          docLink.innerHTML = docLinkHtml;\n",
              "          element.appendChild(docLink);\n",
              "        }\n",
              "      </script>\n",
              "    </div>\n",
              "  </div>\n",
              "  "
            ]
          },
          "metadata": {},
          "execution_count": 22
        }
      ]
    },
    {
      "cell_type": "code",
      "source": [
        "df['society'].fillna(value= \"Std\", inplace = True)\n",
        "set(df.society)"
      ],
      "metadata": {
        "colab": {
          "base_uri": "https://localhost:8080/"
        },
        "id": "DoDuFeLSo1qs",
        "outputId": "279faeda-0460-4755-be0c-c1ead6411ab7"
      },
      "execution_count": 23,
      "outputs": [
        {
          "output_type": "execute_result",
          "data": {
            "text/plain": [
              "{'Puachal',\n",
              " 'Vaodssh',\n",
              " 'ViortCo',\n",
              " 'Malowr ',\n",
              " 'Sonosty',\n",
              " 'Pao 3ow',\n",
              " 'SNnia E',\n",
              " 'Siayayo',\n",
              " 'HoDewy ',\n",
              " 'VisicCl',\n",
              " 'PaantPl',\n",
              " 'R ra  R',\n",
              " 'HRnyaAn',\n",
              " 'Pridei ',\n",
              " 'EGdiaAr',\n",
              " 'Lecco C',\n",
              " 'NaaveEn',\n",
              " 'Srrnasa',\n",
              " 'Amconi ',\n",
              " 'Scenth ',\n",
              " 'Golmsoy',\n",
              " 'MJarlPe',\n",
              " 'Veales ',\n",
              " 'AltesEs',\n",
              " 'Chsilut',\n",
              " 'Shestut',\n",
              " 'Ronty C',\n",
              " 'Apinaa ',\n",
              " 'Leton A',\n",
              " 'Naashi ',\n",
              " 'Rakulai',\n",
              " 'Eltert ',\n",
              " 'Wharl P',\n",
              " 'Stide B',\n",
              " 'Bamita ',\n",
              " 'Soarkig',\n",
              " 'T ZedZe',\n",
              " 'Sravehi',\n",
              " 'Samesan',\n",
              " 'Sotus L',\n",
              " 'KencyRe',\n",
              " 'BMineis',\n",
              " 'Naasyak',\n",
              " 'PrawnRa',\n",
              " 'Adevo S',\n",
              " 'SViseun',\n",
              " 'Vanami ',\n",
              " 'S mesci',\n",
              " 'Prmes H',\n",
              " 'Prclee ',\n",
              " 'Puodsm ',\n",
              " 'MDncyhi',\n",
              " 'Upoutks',\n",
              " 'NDionas',\n",
              " 'JRaderc',\n",
              " 'Prncyrn',\n",
              " 'Pronege',\n",
              " 'Raaden ',\n",
              " 'Amsomun',\n",
              " 'Bebalrk',\n",
              " 'Maentr ',\n",
              " 'Vaw 1il',\n",
              " 'Palanla',\n",
              " 'DSrry S',\n",
              " 'Puceswn',\n",
              " 'PuineSu',\n",
              " 'Coa 3t ',\n",
              " 'Mairer ',\n",
              " 'GoityEt',\n",
              " 'Laowsba',\n",
              " 'Bemesrm',\n",
              " 'Seityen',\n",
              " 'RodenGa',\n",
              " 'Anavi B',\n",
              " 'SancyRe',\n",
              " 'Jaensa ',\n",
              " 'Jainaht',\n",
              " 'SoechHa',\n",
              " 'Eladero',\n",
              " 'Suriaa ',\n",
              " 'Laihai ',\n",
              " 'Srdor S',\n",
              " 'Sringlv',\n",
              " 'ArndsSk',\n",
              " 'Diisein',\n",
              " 'RatosAr',\n",
              " 'Aincyev',\n",
              " 'DSise S',\n",
              " 'Prony S',\n",
              " 'Prityel',\n",
              " 'Kreera ',\n",
              " 'BMmesHo',\n",
              " 'SVlesas',\n",
              " 'BhreeBa',\n",
              " 'Doissa ',\n",
              " 'Prllasw',\n",
              " 'NDpalSe',\n",
              " 'Skinaa ',\n",
              " 'Brens7 ',\n",
              " 'Chtali ',\n",
              " 'Sonet G',\n",
              " 'Disical',\n",
              " 'ValiaCa',\n",
              " 'Vanusn ',\n",
              " 'Puide P',\n",
              " 'Dieldli',\n",
              " 'MSuntra',\n",
              " 'Arata A',\n",
              " 'Raard B',\n",
              " 'Icncy R',\n",
              " 'HMtesle',\n",
              " 'Shard T',\n",
              " 'Bhath N',\n",
              " 'ShyamSh',\n",
              " 'Hoens T',\n",
              " 'Foncync',\n",
              " 'Vancya ',\n",
              " 'Soitya ',\n",
              " 'SKdesa ',\n",
              " 'PuhtsHe',\n",
              " 'Prensya',\n",
              " 'Loente ',\n",
              " 'Tinori ',\n",
              " 'Saarep ',\n",
              " 'Maonsrn',\n",
              " 'Krz 2 Q',\n",
              " 'SrncyRe',\n",
              " 'Prentra',\n",
              " 'Srhida ',\n",
              " 'Raisys ',\n",
              " 'Sorisa ',\n",
              " 'Jaiewke',\n",
              " 'Lancya ',\n",
              " 'Viaree ',\n",
              " 'PuonsSe',\n",
              " 'RaontWa',\n",
              " 'Pantsce',\n",
              " 'Sutesga',\n",
              " 'Beesta ',\n",
              " 'Srure S',\n",
              " 'TGeepga',\n",
              " 'Gencysi',\n",
              " 'Maisehi',\n",
              " 'JHk 1en',\n",
              " 'Gontsoo',\n",
              " 'Adowslm',\n",
              " 'Prhtsua',\n",
              " 'GaentAp',\n",
              " 'Saowsri',\n",
              " 'Sisice ',\n",
              " 'PlhtsHe',\n",
              " 'Jahtsa ',\n",
              " 'VancyRe',\n",
              " 'MJtroty',\n",
              " 'SRgio V',\n",
              " 'Corus C',\n",
              " 'Reciale',\n",
              " 'HMRWAyo',\n",
              " 'Unentsi',\n",
              " 'Sinde G',\n",
              " 'SihtsHe',\n",
              " 'Reion M',\n",
              " 'PaisePa',\n",
              " 'ShanaSp',\n",
              " 'Shntie ',\n",
              " 'Dee 2 P',\n",
              " 'BrlisCo',\n",
              " 'Atntspa',\n",
              " 'Sanne E',\n",
              " 'Derdsig',\n",
              " 'Gontyol',\n",
              " 'Arera V',\n",
              " 'AdentEl',\n",
              " 'SLureSi',\n",
              " 'RKntsrt',\n",
              " 'Stensg ',\n",
              " 'EAvarum',\n",
              " 'Krshi G',\n",
              " 'DSons S',\n",
              " 'Srrlsnu',\n",
              " 'Trows M',\n",
              " 'Cehosy ',\n",
              " 'PrstaLa',\n",
              " 'Enodsed',\n",
              " 'Tahtsla',\n",
              " 'APncyla',\n",
              " 'Foghaa ',\n",
              " 'Brglede',\n",
              " 'Maens G',\n",
              " 'SuodsAc',\n",
              " 'PhestOn',\n",
              " 'Srshq T',\n",
              " 'Naoden ',\n",
              " 'ToSky F',\n",
              " 'ElavuHo',\n",
              " 'Anair A',\n",
              " 'Lancyey',\n",
              " 'Unarlth',\n",
              " 'MDoseim',\n",
              " 'KuisePa',\n",
              " 'Niers S',\n",
              " 'PaigeMa',\n",
              " 'PrncyRe',\n",
              " 'Jaw 2 L',\n",
              " 'BSisear',\n",
              " 'Niiewem',\n",
              " 'Viisear',\n",
              " 'Maa 5a ',\n",
              " 'Pralmat',\n",
              " 'VBn 2lm',\n",
              " 'Opamaan',\n",
              " 'Myace P',\n",
              " 'Pa II E',\n",
              " 'Niarknt',\n",
              " 'Deonsxp',\n",
              " 'Prowshi',\n",
              " 'VBvenal',\n",
              " 'RInceeg',\n",
              " 'BMityre',\n",
              " 'Siisega',\n",
              " 'May 2ge',\n",
              " 'SSaveik',\n",
              " 'ArierPr',\n",
              " 'Taonte ',\n",
              " 'Shthi S',\n",
              " 'Brsic C',\n",
              " 'Inuseda',\n",
              " 'Gomeseg',\n",
              " 'ARipsul',\n",
              " 'Caonand',\n",
              " 'Vaderla',\n",
              " 'Sreat R',\n",
              " 'SivelMa',\n",
              " 'Naiewre',\n",
              " 'Hiate F',\n",
              " 'Jaity H',\n",
              " 'Oaeze B',\n",
              " 'GKityde',\n",
              " 'Dwterai',\n",
              " 'MJiyayl',\n",
              " 'Tovesee',\n",
              " 'NRnoral',\n",
              " 'MyeurGr',\n",
              " 'SrnesSr',\n",
              " 'SatonLi',\n",
              " 'MancyRe',\n",
              " 'Prwer S',\n",
              " 'Hoeatan',\n",
              " 'Pritehi',\n",
              " 'JDensar',\n",
              " 'Saark H',\n",
              " 'Puentpa',\n",
              " 'Chaldi ',\n",
              " 'Elidet ',\n",
              " 'Spows M',\n",
              " 'Mandsi ',\n",
              " 'LeeyaCa',\n",
              " 'Puitea ',\n",
              " 'Aduil T',\n",
              " 'Shalkri',\n",
              " 'Masser ',\n",
              " 'NCarkna',\n",
              " 'G ceses',\n",
              " 'Jancyva',\n",
              " 'Srrtsu ',\n",
              " 'AnentAp',\n",
              " 'SJodsed',\n",
              " 'SVoutow',\n",
              " 'Amnavdr',\n",
              " 'MSanaer',\n",
              " 'GSideS ',\n",
              " 'DSsorin',\n",
              " 'Aling10',\n",
              " 'Graceik',\n",
              " 'MavarSa',\n",
              " 'Adthm R',\n",
              " 'Dhndsh ',\n",
              " 'URodsmb',\n",
              " 'TNnumla',\n",
              " 'AWharde',\n",
              " 'NaensGa',\n",
              " 'FeowsMe',\n",
              " 'EcEONfe',\n",
              " 'Ozquaba',\n",
              " 'Adaveth',\n",
              " 'Thessmm',\n",
              " 'Shmolti',\n",
              " 'Bhinglv',\n",
              " 'GRhtiru',\n",
              " 'MJinele',\n",
              " 'Saarlth',\n",
              " 'Indanrt',\n",
              " 'PancyRe',\n",
              " 'Prigh L',\n",
              " 'Siite E',\n",
              " 'Asintas',\n",
              " 'PuontFa',\n",
              " 'Skityer',\n",
              " 'Brnumnn',\n",
              " 'Sioma A',\n",
              " 'Puveshe',\n",
              " 'SBoneuc',\n",
              " 'SLtias ',\n",
              " 'Aincy R',\n",
              " 'Raony C',\n",
              " 'ManceEl',\n",
              " 'Fants A',\n",
              " 'Shaceop',\n",
              " 'SLourle',\n",
              " 'SaisePa',\n",
              " 'Arentra',\n",
              " 'Shncyhi',\n",
              " 'SMaxyay',\n",
              " 'Gats He',\n",
              " 'Thisea ',\n",
              " 'Prave E',\n",
              " 'Sulesil',\n",
              " 'NCaveun',\n",
              " 'P num P',\n",
              " 'Raood R',\n",
              " 'Malmser',\n",
              " 'Saesttt',\n",
              " 'MRowsea',\n",
              " 'DLhtsen',\n",
              " 'NatanNi',\n",
              " 'Vincyat',\n",
              " 'KSideas',\n",
              " 'Oca 2 V',\n",
              " 'Srayai ',\n",
              " 'Undraro',\n",
              " 'Keort F',\n",
              " 'PrityFa',\n",
              " 'GMentAp',\n",
              " 'GaicaVe',\n",
              " 'Vapasrk',\n",
              " 'CoapeSo',\n",
              " 'Pre 1ri',\n",
              " 'Prldsum',\n",
              " 'Hiatei ',\n",
              " 'VBavaai',\n",
              " 'Prowsi ',\n",
              " 'Sragei ',\n",
              " 'MDonta ',\n",
              " 'MaionMa',\n",
              " 'MBodsen',\n",
              " 'SLiand ',\n",
              " 'Juoryma',\n",
              " 'Golmsn ',\n",
              " 'Reitice',\n",
              " 'SoageHe',\n",
              " 'Moquach',\n",
              " 'Haaceal',\n",
              " 'AdniaSk',\n",
              " 'Duity C',\n",
              " 'Vaine S',\n",
              " 'Prlmsge',\n",
              " 'BrereAt',\n",
              " 'Spity E',\n",
              " 'Valdsic',\n",
              " 'Maionus',\n",
              " 'Sillaa ',\n",
              " 'Soweray',\n",
              " 'SrireSo',\n",
              " 'SSonsvi',\n",
              " 'SRzonhu',\n",
              " 'Siestr ',\n",
              " 'Soyleif',\n",
              " 'Mavelr ',\n",
              " 'Ceezey ',\n",
              " 'Samittv',\n",
              " '3Codeli',\n",
              " 'BhisePa',\n",
              " 'SaireSa',\n",
              " 'MGntsar',\n",
              " 'Rencyed',\n",
              " 'SSarlPe',\n",
              " 'Diaveic',\n",
              " 'Maodser',\n",
              " 'PindsWo',\n",
              " 'Soestrn',\n",
              " 'K borja',\n",
              " 'N iewak',\n",
              " 'UKe 2nz',\n",
              " 'Vangsld',\n",
              " 'Crentt ',\n",
              " 'Shyalha',\n",
              " 'K ensad',\n",
              " 'Frides ',\n",
              " 'Vahid O',\n",
              " 'Suvasre',\n",
              " 'SudenEd',\n",
              " 'Patri M',\n",
              " 'Viara M',\n",
              " 'Malex C',\n",
              " 'SStusan',\n",
              " 'Goardth',\n",
              " 'Indesve',\n",
              " 'Masta A',\n",
              " 'S2ionrn',\n",
              " 'Salle F',\n",
              " 'Ocezes ',\n",
              " 'VSineDi',\n",
              " 'PrhyaK ',\n",
              " 'Kinumsh',\n",
              " 'MItatHa',\n",
              " 'Brstark',\n",
              " 'Zostaa ',\n",
              " 'Kehts H',\n",
              " 'SRanail',\n",
              " 'Nastadr',\n",
              " 'RMaanSa',\n",
              " 'Spensas',\n",
              " 'Caiseha',\n",
              " 'RatatHa',\n",
              " 'Pehtsa ',\n",
              " 'She 2rk',\n",
              " 'Kierser',\n",
              " 'Mosom B',\n",
              " 'VentsAp',\n",
              " 'Dwntsli',\n",
              " 'SocusHi',\n",
              " 'Shodsir',\n",
              " 'Ardaseo',\n",
              " 'Chisea ',\n",
              " 'V2lasna',\n",
              " 'Amais V',\n",
              " 'Vaeva E',\n",
              " 'WishiVa',\n",
              " 'Soacyst',\n",
              " 'GMownTe',\n",
              " 'Srarkav',\n",
              " 'SSdhimr',\n",
              " 'Laderav',\n",
              " 'Dhgraas',\n",
              " 'Sravema',\n",
              " 'Siace P',\n",
              " 'GCiewty',\n",
              " 'SLtraks',\n",
              " 'PaontWa',\n",
              " 'Agtiaur',\n",
              " 'VDdonel',\n",
              " 'ISeekon',\n",
              " 'Esnamin',\n",
              " 'DSalehn',\n",
              " 'CMionsy',\n",
              " 'Saahaat',\n",
              " 'Diacee ',\n",
              " 'Tuentpa',\n",
              " 'Aangsur',\n",
              " 'Puodse ',\n",
              " 'Mapleer',\n",
              " 'BrdgeNo',\n",
              " 'Roiti A',\n",
              " 'Pancy R',\n",
              " 'Baentgi',\n",
              " 'Inaadd ',\n",
              " 'Aimesya',\n",
              " 'Vaent V',\n",
              " 'Prhar G',\n",
              " 'DSireSo',\n",
              " 'Clsto C',\n",
              " 'Feowsdi',\n",
              " 'EmardBo',\n",
              " 'APuraen',\n",
              " 'BaiseBa',\n",
              " 'Bhiya N',\n",
              " 'AdndeBe',\n",
              " 'DSeak S',\n",
              " 'Mauil T',\n",
              " 'APusenc',\n",
              " 'Sungsha',\n",
              " 'Preaunt',\n",
              " 'Mileeou',\n",
              " 'Skensk ',\n",
              " 'Bousey ',\n",
              " 'Saacesa',\n",
              " 'Brity U',\n",
              " 'Anensva',\n",
              " 'Lancysi',\n",
              " 'Srdids ',\n",
              " 'Mae 1Ar',\n",
              " 'PaanaCh',\n",
              " 'SLhidOr',\n",
              " 'Adxira ',\n",
              " 'Mailsaf',\n",
              " 'Evvan V',\n",
              " 'Saenti ',\n",
              " 'MaisePa',\n",
              " 'DSureSi',\n",
              " 'Maidsr ',\n",
              " 'Sourtal',\n",
              " 'Ihnueut',\n",
              " 'FiriaVi',\n",
              " 'Rilor C',\n",
              " 'Aaubyya',\n",
              " 'ARngsd ',\n",
              " 'Chranya',\n",
              " 'DSOakil',\n",
              " 'Srire S',\n",
              " 'Srthaa ',\n",
              " 'MBireap',\n",
              " 'KHatsFl',\n",
              " 'JRarlPe',\n",
              " 'Prook M',\n",
              " 'Salesni',\n",
              " 'DubowRa',\n",
              " 'Prarkhi',\n",
              " 'BrriaIm',\n",
              " 'GoAirej',\n",
              " 'FoGemna',\n",
              " 'CaaveEn',\n",
              " 'Reeroce',\n",
              " 'Vatlede',\n",
              " 'RaosePr',\n",
              " 'Keorai ',\n",
              " 'Puncyya',\n",
              " 'Sortz Q',\n",
              " 'Niway G',\n",
              " 'Jhntspa',\n",
              " 'KonteiT',\n",
              " 'PueraRi',\n",
              " 'HoiewLa',\n",
              " 'Sohti S',\n",
              " 'NRosete',\n",
              " 'Evanaan',\n",
              " 'Chara N',\n",
              " 'Nentsan',\n",
              " 'VaantPl',\n",
              " 'SrageGl',\n",
              " 'SVyam N',\n",
              " 'GRlpank',\n",
              " 'SSthamh',\n",
              " 'Lelia M',\n",
              " 'MoaveEn',\n",
              " 'Suntsan',\n",
              " 'Alows M',\n",
              " 'Mithmn ',\n",
              " 'Ranuetz',\n",
              " 'Mawerer',\n",
              " 'Arentpa',\n",
              " 'DNtonri',\n",
              " 'Swers T',\n",
              " 'Adsia F',\n",
              " 'Klark L',\n",
              " 'Saciatt',\n",
              " 'Arnis A',\n",
              " 'Dhave E',\n",
              " 'Varlsa ',\n",
              " 'StwarSi',\n",
              " 'KSidems',\n",
              " 'NatisAt',\n",
              " 'Viowsen',\n",
              " 'Camesa ',\n",
              " 'Afncyad',\n",
              " 'Hisic G',\n",
              " 'Maunt M',\n",
              " 'Vaarech',\n",
              " 'Nencei ',\n",
              " 'Naepa D',\n",
              " 'SRensar',\n",
              " 'Kencyes',\n",
              " 'Suryais',\n",
              " 'Apows M',\n",
              " 'Gundaa ',\n",
              " 'CiaksRi',\n",
              " 'Pelle P',\n",
              " 'Paentta',\n",
              " 'SunceEs',\n",
              " 'Un 46th',\n",
              " 'Srvasks',\n",
              " 'RohtsHe',\n",
              " 'PuoodSk',\n",
              " 'BSersTo',\n",
              " 'Puarero',\n",
              " 'Inshath',\n",
              " 'GonumPl',\n",
              " 'Hiowsi ',\n",
              " 'Suiseit',\n",
              " 'ArariGo',\n",
              " 'Catle C',\n",
              " 'Neise P',\n",
              " 'Aroomba',\n",
              " 'HoAcela',\n",
              " 'LedorSa',\n",
              " 'Kinuerg',\n",
              " 'Coora S',\n",
              " 'HViesar',\n",
              " 'GKncysi',\n",
              " 'HMwerCo',\n",
              " 'Naory G',\n",
              " 'NaonySy',\n",
              " 'BruntPa',\n",
              " 'ApallEn',\n",
              " 'PrianM ',\n",
              " 'Goodsrb',\n",
              " 'GrrvaGr',\n",
              " 'SLnssPr',\n",
              " 'Vaarai ',\n",
              " 'Reyle L',\n",
              " 'Meowns ',\n",
              " 'ItRRVna',\n",
              " 'Collsrn',\n",
              " 'SRhtsa ',\n",
              " 'Sariaat',\n",
              " 'LGeete ',\n",
              " 'SosonGa',\n",
              " 'Hemai D',\n",
              " 'IJent A',\n",
              " 'ZeodsWo',\n",
              " 'SSaleRo',\n",
              " 'Trnce A',\n",
              " 'Cemesal',\n",
              " 'Nisisn ',\n",
              " 'Satanan',\n",
              " 'MIntare',\n",
              " 'Shntsad',\n",
              " 'ReudePr',\n",
              " 'Siows M',\n",
              " 'NDrelau',\n",
              " 'MaentNa',\n",
              " 'Emsisy ',\n",
              " 'Soena A',\n",
              " 'NRodsen',\n",
              " 'Siaraa ',\n",
              " 'Kesomrn',\n",
              " 'Sungspr',\n",
              " 'Prncyay',\n",
              " 'Prntsrt',\n",
              " 'Shncy R',\n",
              " 'FBazaah',\n",
              " 'ShentAp',\n",
              " 'Prlla C',\n",
              " 'VeSkyva',\n",
              " 'PrBayGa',\n",
              " 'Jaood G',\n",
              " 'Guranya',\n",
              " 'Mazzo P',\n",
              " 'Soionar',\n",
              " 'Bisic C',\n",
              " 'GathiVa',\n",
              " 'Goaysn ',\n",
              " 'Elodsre',\n",
              " 'Ceeury ',\n",
              " 'Inulat ',\n",
              " 'Srasy F',\n",
              " 'Srestve',\n",
              " 'Sainei ',\n",
              " 'SLiewce',\n",
              " 'BSian M',\n",
              " 'Gonorir',\n",
              " 'Halms S',\n",
              " 'Vedhias',\n",
              " 'Roale D',\n",
              " 'Alarke ',\n",
              " 'FoncyRe',\n",
              " 'SLaceda',\n",
              " 'VRiewke',\n",
              " 'Iseenst',\n",
              " 'AHodsWo',\n",
              " 'Lalipa ',\n",
              " 'DSdorSp',\n",
              " 'Stndeil',\n",
              " 'Etuney ',\n",
              " 'Cee 2du',\n",
              " 'ShaleSp',\n",
              " 'PuilaMi',\n",
              " 'Ahownve',\n",
              " 'Maidei ',\n",
              " 'Hotat H',\n",
              " 'Esave E',\n",
              " 'Bhacy L',\n",
              " 'Raourpl',\n",
              " 'Ayaya A',\n",
              " 'JClyner',\n",
              " 'SontsAp',\n",
              " 'DSndsod',\n",
              " 'Ratlet ',\n",
              " 'MamalPr',\n",
              " 'Raide P',\n",
              " 'Cearkry',\n",
              " 'SLoven ',\n",
              " 'Aahts H',\n",
              " 'Juaxyan',\n",
              " 'Dovel M',\n",
              " 'FetatHa',\n",
              " 'Thessie',\n",
              " 'Oznuean',\n",
              " 'Prtates',\n",
              " 'Prldsri',\n",
              " 'Skstark',\n",
              " 'SLavena',\n",
              " 'MadinJa',\n",
              " 'Puwerun',\n",
              " 'Ste 2al',\n",
              " 'SuentAp',\n",
              " 'Shmes O',\n",
              " 'CSncele',\n",
              " 'Vaesh T',\n",
              " 'Mancyes',\n",
              " 'Tiitela',\n",
              " 'SuBayin',\n",
              " 'NellsKo',\n",
              " 'Proodt ',\n",
              " 'Prtor N',\n",
              " 'Juclend',\n",
              " 'Avine A',\n",
              " 'Skave E',\n",
              " 'Shdhia ',\n",
              " 'SRidePr',\n",
              " 'ValleCi',\n",
              " 'DSlesSp',\n",
              " 'ARncy R',\n",
              " 'Toodyit',\n",
              " 'Vauna F',\n",
              " 'MMowsik',\n",
              " 'Ceste C',\n",
              " 'Liwerun',\n",
              " 'Rarthne',\n",
              " 'VRest N',\n",
              " 'VMowsea',\n",
              " 'KKdenng',\n",
              " 'Radenta',\n",
              " 'Srsica ',\n",
              " 'AdhriPa',\n",
              " 'MauilTr',\n",
              " 'SLarkic',\n",
              " 'Frhtsr ',\n",
              " 'Shiumi ',\n",
              " 'Visom B',\n",
              " 'MCvarar',\n",
              " 'SJlynro',\n",
              " 'Keersto',\n",
              " 'MJeusyl',\n",
              " 'Paarklu',\n",
              " 'PintsAp',\n",
              " 'Manha M',\n",
              " 'PrensKe',\n",
              " 'Gamesti',\n",
              " 'AriosPa',\n",
              " 'Vasta C',\n",
              " 'KAMESRI',\n",
              " 'Vithm R',\n",
              " 'SraveSL',\n",
              " 'Coner C',\n",
              " 'Mancyhi',\n",
              " 'SLenssh',\n",
              " 'Trntska',\n",
              " 'Velas V',\n",
              " 'Elentrk',\n",
              " 'Glnetch',\n",
              " 'TrryaAi',\n",
              " 'ETens G',\n",
              " 'PrntaEn',\n",
              " 'Madener',\n",
              " 'Shierhi',\n",
              " 'BrontLa',\n",
              " 'ArnzaFi',\n",
              " 'Sorta S',\n",
              " 'Caxusnd',\n",
              " 'Elayabh',\n",
              " 'Hirio L',\n",
              " 'Gotaten',\n",
              " 'Adeatlm',\n",
              " 'Pridsi ',\n",
              " 'Pyikad ',\n",
              " 'TRensre',\n",
              " 'Alestrb',\n",
              " 'NCiteEl',\n",
              " 'DSestma',\n",
              " 'NRncyrk',\n",
              " 'Asnts a',\n",
              " 'DNlleks',\n",
              " 'Sasta S',\n",
              " 'Krrbsil',\n",
              " 'Pruthg ',\n",
              " 'VaitySe',\n",
              " 'DSingSt',\n",
              " 'Ozana U',\n",
              " 'Satlea ',\n",
              " 'Aharlve',\n",
              " 'RRnumn ',\n",
              " 'Dhnts A',\n",
              " 'Valipf ',\n",
              " 'Sarlsm ',\n",
              " 'Srhts P',\n",
              " 'Goe 2me',\n",
              " 'GoilsDa',\n",
              " 'Shodsth',\n",
              " 'Gollela',\n",
              " 'Dhncyud',\n",
              " 'Siise R',\n",
              " 'SoniaPe',\n",
              " 'Krs A C',\n",
              " 'Lehidrc',\n",
              " 'Oznzaes',\n",
              " 'NCs 2rj',\n",
              " 'DSsicky',\n",
              " 'Javasi ',\n",
              " 'Koagati',\n",
              " 'Alsta F',\n",
              " 'SJowsn ',\n",
              " 'GRvanun',\n",
              " 'Siiewag',\n",
              " 'Vaodak ',\n",
              " 'JRichee',\n",
              " 'AaineSi',\n",
              " 'Toindls',\n",
              " 'Reiteee',\n",
              " 'RotatHa',\n",
              " 'DiamiSa',\n",
              " 'Soe 2as',\n",
              " 'DiaveEn',\n",
              " 'ACopsva',\n",
              " 'SLarei ',\n",
              " 'Pry 2 R',\n",
              " 'Soiniy ',\n",
              " 'Suise S',\n",
              " 'RBersll',\n",
              " 'Viave E',\n",
              " 'Saaveas',\n",
              " 'SNe 2ev',\n",
              " 'SNbay G',\n",
              " 'ARnts A',\n",
              " 'MNtha A',\n",
              " 'Vastael',\n",
              " 'Sariana',\n",
              " 'IcudiMa',\n",
              " 'KuncyRe',\n",
              " 'FoityIn',\n",
              " 'DSimaUl',\n",
              " 'Saisena',\n",
              " 'KohraNa',\n",
              " 'AkletBa',\n",
              " 'ACersd ',\n",
              " 'Shenshi',\n",
              " 'Uptusol',\n",
              " 'Keony H',\n",
              " 'KHityry',\n",
              " 'SuezeLa',\n",
              " 'Sancybr',\n",
              " 'Prlis A',\n",
              " 'Exitym ',\n",
              " 'Viaxy G',\n",
              " 'Ocuil T',\n",
              " 'Matonr ',\n",
              " 'Tentsw ',\n",
              " 'Aavelis',\n",
              " 'Shont F',\n",
              " 'SrntsRV',\n",
              " 'HiahsLa',\n",
              " 'SKisyDa',\n",
              " 'Cedusy ',\n",
              " 'ArBayeb',\n",
              " 'SPthara',\n",
              " 'Maorai ',\n",
              " 'UKicte ',\n",
              " 'NVanat ',\n",
              " 'SLionan',\n",
              " 'Toiasle',\n",
              " 'Hoxiaa ',\n",
              " 'ALtonea',\n",
              " 'HRaniIb',\n",
              " 'GolusLi',\n",
              " 'Srods P',\n",
              " 'LGlarAs',\n",
              " 'Dhowsyo',\n",
              " 'Anlthmo',\n",
              " 'Seamaha',\n",
              " 'Vaodspe',\n",
              " 'HooudSi',\n",
              " 'Dhistee',\n",
              " 'Sklls C',\n",
              " 'Magiaya',\n",
              " 'DSera S',\n",
              " 'Kacesh ',\n",
              " 'Wiass G',\n",
              " 'NianaBr',\n",
              " 'Aiitya ',\n",
              " 'BSarknd',\n",
              " 'Lallere',\n",
              " 'Viise P',\n",
              " 'Akncyes',\n",
              " 'Rathira',\n",
              " 'GSodsee',\n",
              " 'MVkleiw',\n",
              " 'Keera R',\n",
              " 'Saire S',\n",
              " 'Gllas V',\n",
              " 'Suncy R',\n",
              " 'Paion P',\n",
              " 'Theanmp',\n",
              " 'TiaksAa',\n",
              " 'DSity S',\n",
              " 'Fleepi ',\n",
              " 'NCdgerj',\n",
              " 'Shrds O',\n",
              " 'M denGa',\n",
              " 'GoratAr',\n",
              " 'KBityo ',\n",
              " 'Sasicha',\n",
              " 'JPismPr',\n",
              " 'Prvanai',\n",
              " 'CidgeKn',\n",
              " 'Kames S',\n",
              " 'Monorh ',\n",
              " 'Prsorhi',\n",
              " 'DSillto',\n",
              " 'SaareNo',\n",
              " 'Gopia O',\n",
              " 'Mantsce',\n",
              " 'DSellil',\n",
              " 'SVhyaga',\n",
              " 'VSomepi',\n",
              " 'Sanetra',\n",
              " 'SVodsve',\n",
              " 'HMigond',\n",
              " 'Ahciace',\n",
              " 'JJortom',\n",
              " 'TNaldme',\n",
              " 'Sapus S',\n",
              " 'Srowsrj',\n",
              " 'Solip T',\n",
              " 'StodsWa',\n",
              " 'Music C',\n",
              " 'Raiyai ',\n",
              " 'Hiestre',\n",
              " 'PadgeOa',\n",
              " 'Seasare',\n",
              " 'Jahidva',\n",
              " 'Ladenea',\n",
              " 'Flretes',\n",
              " 'Prsichi',\n",
              " 'Hoensti',\n",
              " 'Clood E',\n",
              " 'Deiten ',\n",
              " 'Haows M',\n",
              " 'M ondit',\n",
              " 'Gincyi ',\n",
              " 'KPiteEl',\n",
              " 'Vandaac',\n",
              " 'Ahntyve',\n",
              " 'Shestth',\n",
              " 'Aklia R',\n",
              " 'Heate L',\n",
              " 'Vacle P',\n",
              " 'SLowse ',\n",
              " 'Saentpa',\n",
              " 'Avlya A',\n",
              " 'Solle V',\n",
              " 'CaIRSCr',\n",
              " 'Myhrie ',\n",
              " 'DLhtsnd',\n",
              " 'SastyDy',\n",
              " 'DStik S',\n",
              " 'Nae 2El',\n",
              " 'G conTh',\n",
              " 'Marnara',\n",
              " 'Skarkev',\n",
              " 'DSeme S',\n",
              " 'SPllain',\n",
              " 'Haestt ',\n",
              " 'Viconth',\n",
              " 'Soianal',\n",
              " 'Sid 2ss',\n",
              " 'PrinePr',\n",
              " 'ArrdsOr',\n",
              " 'Vaens G',\n",
              " 'Bhmesy ',\n",
              " 'Emtat H',\n",
              " 'RSntsAp',\n",
              " 'Goyalir',\n",
              " 'Brwernn',\n",
              " 'DSutyng',\n",
              " 'Suvals ',\n",
              " 'Sooneoo',\n",
              " 'Goourta',\n",
              " 'Phaku K',\n",
              " 'SMncyy ',\n",
              " 'Salisal',\n",
              " 'Krberl ',\n",
              " 'Contsci',\n",
              " 'Keleti ',\n",
              " 'Krestee',\n",
              " 'Gentson',\n",
              " 'Nihtsss',\n",
              " 'Shana S',\n",
              " 'Isncasa',\n",
              " 'Reverve',\n",
              " 'Srowsee',\n",
              " 'Bregae ',\n",
              " 'AnaveEn',\n",
              " 'Icaryan',\n",
              " 'Saenett',\n",
              " 'Aaniaa ',\n",
              " 'Bustain',\n",
              " 'Soond R',\n",
              " 'Meentan',\n",
              " 'Maionra',\n",
              " 'PuziaVe',\n",
              " 'Tenetee',\n",
              " ...}"
            ]
          },
          "metadata": {},
          "execution_count": 23
        }
      ]
    },
    {
      "cell_type": "code",
      "source": [
        "df.columns"
      ],
      "metadata": {
        "colab": {
          "base_uri": "https://localhost:8080/"
        },
        "id": "ph5H7tz4ryfh",
        "outputId": "be07d491-dd57-48ab-b989-61ed3adaa0b4"
      },
      "execution_count": 24,
      "outputs": [
        {
          "output_type": "execute_result",
          "data": {
            "text/plain": [
              "Index(['area_type', 'availability', 'location', 'size', 'society',\n",
              "       'total_sqft', 'bath', 'balcony', 'price', 'suff'],\n",
              "      dtype='object')"
            ]
          },
          "metadata": {},
          "execution_count": 24
        }
      ]
    },
    {
      "cell_type": "code",
      "source": [
        "for col in df1.columns:\n",
        "  print('{} has NA ? {}'.format(col,df[col].isna().values.any()))"
      ],
      "metadata": {
        "colab": {
          "base_uri": "https://localhost:8080/"
        },
        "id": "CP0T-h0pryaG",
        "outputId": "fa670c2e-97c4-451f-c0ad-d56fc28ed36e"
      },
      "execution_count": 227,
      "outputs": [
        {
          "output_type": "stream",
          "name": "stdout",
          "text": [
            "area_type has NA ? False\n",
            "location has NA ? False\n",
            "size has NA ? False\n",
            "society has NA ? False\n",
            "total_sqft has NA ? False\n",
            "bath has NA ? False\n",
            "balcony has NA ? False\n",
            "price has NA ? False\n"
          ]
        }
      ]
    },
    {
      "cell_type": "code",
      "source": [
        ""
      ],
      "metadata": {
        "id": "8ICvgb8axCr1"
      },
      "execution_count": 24,
      "outputs": []
    },
    {
      "cell_type": "code",
      "source": [
        "df1 = df.loc[:,['area_type', 'location', 'size', 'society',\n",
        "       'total_sqft', 'bath', 'balcony', 'price']]"
      ],
      "metadata": {
        "id": "mlcrzk1wuXvg"
      },
      "execution_count": 26,
      "outputs": []
    },
    {
      "cell_type": "code",
      "source": [
        "df1.head()"
      ],
      "metadata": {
        "colab": {
          "base_uri": "https://localhost:8080/",
          "height": 206
        },
        "id": "yDdMJ43KvBDC",
        "outputId": "51cd19eb-ab7a-4ffd-c842-e9432c49694e"
      },
      "execution_count": 27,
      "outputs": [
        {
          "output_type": "execute_result",
          "data": {
            "text/plain": [
              "              area_type                  location  size  society total_sqft  \\\n",
              "0  Super built-up  Area  Electronic City Phase II     2  Coomee        1056   \n",
              "1            Plot  Area          Chikka Tirupathi     4  Theanmp       2600   \n",
              "2        Built-up  Area               Uttarahalli     3      Std       1440   \n",
              "3  Super built-up  Area        Lingadheeranahalli     3  Soiewre       1521   \n",
              "4  Super built-up  Area                  Kothanur     2      Std       1200   \n",
              "\n",
              "   bath  balcony   price  \n",
              "0     2        1   39.07  \n",
              "1     5        3  120.00  \n",
              "2     2        3   62.00  \n",
              "3     3        1   95.00  \n",
              "4     2        1   51.00  "
            ],
            "text/html": [
              "\n",
              "  <div id=\"df-86cfa292-132c-4d6f-8099-5dfd1865908c\">\n",
              "    <div class=\"colab-df-container\">\n",
              "      <div>\n",
              "<style scoped>\n",
              "    .dataframe tbody tr th:only-of-type {\n",
              "        vertical-align: middle;\n",
              "    }\n",
              "\n",
              "    .dataframe tbody tr th {\n",
              "        vertical-align: top;\n",
              "    }\n",
              "\n",
              "    .dataframe thead th {\n",
              "        text-align: right;\n",
              "    }\n",
              "</style>\n",
              "<table border=\"1\" class=\"dataframe\">\n",
              "  <thead>\n",
              "    <tr style=\"text-align: right;\">\n",
              "      <th></th>\n",
              "      <th>area_type</th>\n",
              "      <th>location</th>\n",
              "      <th>size</th>\n",
              "      <th>society</th>\n",
              "      <th>total_sqft</th>\n",
              "      <th>bath</th>\n",
              "      <th>balcony</th>\n",
              "      <th>price</th>\n",
              "    </tr>\n",
              "  </thead>\n",
              "  <tbody>\n",
              "    <tr>\n",
              "      <th>0</th>\n",
              "      <td>Super built-up  Area</td>\n",
              "      <td>Electronic City Phase II</td>\n",
              "      <td>2</td>\n",
              "      <td>Coomee</td>\n",
              "      <td>1056</td>\n",
              "      <td>2</td>\n",
              "      <td>1</td>\n",
              "      <td>39.07</td>\n",
              "    </tr>\n",
              "    <tr>\n",
              "      <th>1</th>\n",
              "      <td>Plot  Area</td>\n",
              "      <td>Chikka Tirupathi</td>\n",
              "      <td>4</td>\n",
              "      <td>Theanmp</td>\n",
              "      <td>2600</td>\n",
              "      <td>5</td>\n",
              "      <td>3</td>\n",
              "      <td>120.00</td>\n",
              "    </tr>\n",
              "    <tr>\n",
              "      <th>2</th>\n",
              "      <td>Built-up  Area</td>\n",
              "      <td>Uttarahalli</td>\n",
              "      <td>3</td>\n",
              "      <td>Std</td>\n",
              "      <td>1440</td>\n",
              "      <td>2</td>\n",
              "      <td>3</td>\n",
              "      <td>62.00</td>\n",
              "    </tr>\n",
              "    <tr>\n",
              "      <th>3</th>\n",
              "      <td>Super built-up  Area</td>\n",
              "      <td>Lingadheeranahalli</td>\n",
              "      <td>3</td>\n",
              "      <td>Soiewre</td>\n",
              "      <td>1521</td>\n",
              "      <td>3</td>\n",
              "      <td>1</td>\n",
              "      <td>95.00</td>\n",
              "    </tr>\n",
              "    <tr>\n",
              "      <th>4</th>\n",
              "      <td>Super built-up  Area</td>\n",
              "      <td>Kothanur</td>\n",
              "      <td>2</td>\n",
              "      <td>Std</td>\n",
              "      <td>1200</td>\n",
              "      <td>2</td>\n",
              "      <td>1</td>\n",
              "      <td>51.00</td>\n",
              "    </tr>\n",
              "  </tbody>\n",
              "</table>\n",
              "</div>\n",
              "      <button class=\"colab-df-convert\" onclick=\"convertToInteractive('df-86cfa292-132c-4d6f-8099-5dfd1865908c')\"\n",
              "              title=\"Convert this dataframe to an interactive table.\"\n",
              "              style=\"display:none;\">\n",
              "        \n",
              "  <svg xmlns=\"http://www.w3.org/2000/svg\" height=\"24px\"viewBox=\"0 0 24 24\"\n",
              "       width=\"24px\">\n",
              "    <path d=\"M0 0h24v24H0V0z\" fill=\"none\"/>\n",
              "    <path d=\"M18.56 5.44l.94 2.06.94-2.06 2.06-.94-2.06-.94-.94-2.06-.94 2.06-2.06.94zm-11 1L8.5 8.5l.94-2.06 2.06-.94-2.06-.94L8.5 2.5l-.94 2.06-2.06.94zm10 10l.94 2.06.94-2.06 2.06-.94-2.06-.94-.94-2.06-.94 2.06-2.06.94z\"/><path d=\"M17.41 7.96l-1.37-1.37c-.4-.4-.92-.59-1.43-.59-.52 0-1.04.2-1.43.59L10.3 9.45l-7.72 7.72c-.78.78-.78 2.05 0 2.83L4 21.41c.39.39.9.59 1.41.59.51 0 1.02-.2 1.41-.59l7.78-7.78 2.81-2.81c.8-.78.8-2.07 0-2.86zM5.41 20L4 18.59l7.72-7.72 1.47 1.35L5.41 20z\"/>\n",
              "  </svg>\n",
              "      </button>\n",
              "      \n",
              "  <style>\n",
              "    .colab-df-container {\n",
              "      display:flex;\n",
              "      flex-wrap:wrap;\n",
              "      gap: 12px;\n",
              "    }\n",
              "\n",
              "    .colab-df-convert {\n",
              "      background-color: #E8F0FE;\n",
              "      border: none;\n",
              "      border-radius: 50%;\n",
              "      cursor: pointer;\n",
              "      display: none;\n",
              "      fill: #1967D2;\n",
              "      height: 32px;\n",
              "      padding: 0 0 0 0;\n",
              "      width: 32px;\n",
              "    }\n",
              "\n",
              "    .colab-df-convert:hover {\n",
              "      background-color: #E2EBFA;\n",
              "      box-shadow: 0px 1px 2px rgba(60, 64, 67, 0.3), 0px 1px 3px 1px rgba(60, 64, 67, 0.15);\n",
              "      fill: #174EA6;\n",
              "    }\n",
              "\n",
              "    [theme=dark] .colab-df-convert {\n",
              "      background-color: #3B4455;\n",
              "      fill: #D2E3FC;\n",
              "    }\n",
              "\n",
              "    [theme=dark] .colab-df-convert:hover {\n",
              "      background-color: #434B5C;\n",
              "      box-shadow: 0px 1px 3px 1px rgba(0, 0, 0, 0.15);\n",
              "      filter: drop-shadow(0px 1px 2px rgba(0, 0, 0, 0.3));\n",
              "      fill: #FFFFFF;\n",
              "    }\n",
              "  </style>\n",
              "\n",
              "      <script>\n",
              "        const buttonEl =\n",
              "          document.querySelector('#df-86cfa292-132c-4d6f-8099-5dfd1865908c button.colab-df-convert');\n",
              "        buttonEl.style.display =\n",
              "          google.colab.kernel.accessAllowed ? 'block' : 'none';\n",
              "\n",
              "        async function convertToInteractive(key) {\n",
              "          const element = document.querySelector('#df-86cfa292-132c-4d6f-8099-5dfd1865908c');\n",
              "          const dataTable =\n",
              "            await google.colab.kernel.invokeFunction('convertToInteractive',\n",
              "                                                     [key], {});\n",
              "          if (!dataTable) return;\n",
              "\n",
              "          const docLinkHtml = 'Like what you see? Visit the ' +\n",
              "            '<a target=\"_blank\" href=https://colab.research.google.com/notebooks/data_table.ipynb>data table notebook</a>'\n",
              "            + ' to learn more about interactive tables.';\n",
              "          element.innerHTML = '';\n",
              "          dataTable['output_type'] = 'display_data';\n",
              "          await google.colab.output.renderOutput(dataTable, element);\n",
              "          const docLink = document.createElement('div');\n",
              "          docLink.innerHTML = docLinkHtml;\n",
              "          element.appendChild(docLink);\n",
              "        }\n",
              "      </script>\n",
              "    </div>\n",
              "  </div>\n",
              "  "
            ]
          },
          "metadata": {},
          "execution_count": 27
        }
      ]
    },
    {
      "cell_type": "code",
      "source": [
        "df1['total_sqft'].unique()"
      ],
      "metadata": {
        "colab": {
          "base_uri": "https://localhost:8080/"
        },
        "id": "WjomOgsd1mL_",
        "outputId": "05ea5a6f-deef-49b9-8af0-de19831e694f"
      },
      "execution_count": 228,
      "outputs": [
        {
          "output_type": "execute_result",
          "data": {
            "text/plain": [
              "array([1056. , 2600. , 1440. , ..., 1258.5,  774. , 4689. ])"
            ]
          },
          "metadata": {},
          "execution_count": 228
        }
      ]
    },
    {
      "cell_type": "code",
      "source": [
        "# converting total_sqft  into a float using funtion\n",
        "def convertRange(x):\n",
        "    temp = x.split('-')\n",
        "    if len(temp)==2:\n",
        "        return (float(temp[0]) + float(temp[1]))/2\n",
        "    try:\n",
        "        return float(x)\n",
        "    except :\n",
        "        return None"
      ],
      "metadata": {
        "id": "YQNl0YG91mIb"
      },
      "execution_count": 29,
      "outputs": []
    },
    {
      "cell_type": "code",
      "source": [
        "df1['total_sqft'] = df1['total_sqft'].apply(convertRange)"
      ],
      "metadata": {
        "id": "fYkzxx6T1QlS"
      },
      "execution_count": 30,
      "outputs": []
    },
    {
      "cell_type": "code",
      "source": [
        ""
      ],
      "metadata": {
        "id": "wGKZ6TmR1Qiu"
      },
      "execution_count": null,
      "outputs": []
    },
    {
      "cell_type": "code",
      "source": [
        ""
      ],
      "metadata": {
        "id": "-MEBfknr1QgS"
      },
      "execution_count": null,
      "outputs": []
    },
    {
      "cell_type": "code",
      "source": [
        "from sklearn.preprocessing import LabelEncoder\n",
        "from sklearn.preprocessing import OneHotEncoder"
      ],
      "metadata": {
        "id": "ChibnZdJpLL_"
      },
      "execution_count": 31,
      "outputs": []
    },
    {
      "cell_type": "code",
      "source": [
        ""
      ],
      "metadata": {
        "id": "6j8bl8XHbcUr"
      },
      "execution_count": null,
      "outputs": []
    },
    {
      "cell_type": "code",
      "source": [
        "le_ar_type =LabelEncoder()\n",
        "le_loc =LabelEncoder()\n",
        "le_society =LabelEncoder()"
      ],
      "metadata": {
        "id": "89dXbTV6rg8l"
      },
      "execution_count": 32,
      "outputs": []
    },
    {
      "cell_type": "code",
      "source": [
        "df1['area_type'] = le_ar_type.fit_transform(df1['area_type'])\n",
        "df1['location'] = le_loc.fit_transform(df1['location'])\n",
        "df1['society'] = le_society.fit_transform(df1['society'])"
      ],
      "metadata": {
        "id": "cdmkwUZGrg4U"
      },
      "execution_count": 33,
      "outputs": []
    },
    {
      "cell_type": "code",
      "source": [
        "enc_at = OneHotEncoder()\n",
        "enc_loc = OneHotEncoder()\n",
        "enc_soc = OneHotEncoder()"
      ],
      "metadata": {
        "id": "Vvu2MaE3bcgC"
      },
      "execution_count": 34,
      "outputs": []
    },
    {
      "cell_type": "code",
      "source": [
        ""
      ],
      "metadata": {
        "id": "3GKEi4wbdiEA"
      },
      "execution_count": 72,
      "outputs": []
    },
    {
      "cell_type": "code",
      "source": [
        "at_col = []\n",
        "for i in set(df1.area_type):\n",
        "  at_col.append(str(le_ar_type.inverse_transform([i])[0]).replace(' ','_'))\n",
        "  #at_col.append(str(le_ar_type.inverse_transform([i])[0]).replace(' ','_'))"
      ],
      "metadata": {
        "id": "ho1sVEY_bcbF"
      },
      "execution_count": 35,
      "outputs": []
    },
    {
      "cell_type": "code",
      "source": [
        "at_col"
      ],
      "metadata": {
        "colab": {
          "base_uri": "https://localhost:8080/"
        },
        "id": "NXJTUrw3ejWz",
        "outputId": "7cb4f041-8083-49ea-f026-1810e2a0e9b3"
      },
      "execution_count": 36,
      "outputs": [
        {
          "output_type": "execute_result",
          "data": {
            "text/plain": [
              "['Built-up__Area', 'Carpet__Area', 'Plot__Area', 'Super_built-up__Area']"
            ]
          },
          "metadata": {},
          "execution_count": 36
        }
      ]
    },
    {
      "cell_type": "code",
      "source": [
        "#perform one-hot encoding on 'team' column \n",
        "pd.DataFrame(enc_at.fit_transform(df1[['area_type']]).toarray(),columns=at_col)"
      ],
      "metadata": {
        "colab": {
          "base_uri": "https://localhost:8080/",
          "height": 423
        },
        "id": "gE4qugV7bcYF",
        "outputId": "6b293fb3-9b75-4e70-ccf9-9ee40de635a9"
      },
      "execution_count": 37,
      "outputs": [
        {
          "output_type": "execute_result",
          "data": {
            "text/plain": [
              "       Built-up__Area  Carpet__Area  Plot__Area  Super_built-up__Area\n",
              "0                 0.0           0.0         0.0                   1.0\n",
              "1                 0.0           0.0         1.0                   0.0\n",
              "2                 1.0           0.0         0.0                   0.0\n",
              "3                 0.0           0.0         0.0                   1.0\n",
              "4                 0.0           0.0         0.0                   1.0\n",
              "...               ...           ...         ...                   ...\n",
              "13315             1.0           0.0         0.0                   0.0\n",
              "13316             0.0           0.0         0.0                   1.0\n",
              "13317             1.0           0.0         0.0                   0.0\n",
              "13318             0.0           0.0         0.0                   1.0\n",
              "13319             0.0           0.0         0.0                   1.0\n",
              "\n",
              "[13320 rows x 4 columns]"
            ],
            "text/html": [
              "\n",
              "  <div id=\"df-61365958-b641-4112-aa61-0a23a5ce336f\">\n",
              "    <div class=\"colab-df-container\">\n",
              "      <div>\n",
              "<style scoped>\n",
              "    .dataframe tbody tr th:only-of-type {\n",
              "        vertical-align: middle;\n",
              "    }\n",
              "\n",
              "    .dataframe tbody tr th {\n",
              "        vertical-align: top;\n",
              "    }\n",
              "\n",
              "    .dataframe thead th {\n",
              "        text-align: right;\n",
              "    }\n",
              "</style>\n",
              "<table border=\"1\" class=\"dataframe\">\n",
              "  <thead>\n",
              "    <tr style=\"text-align: right;\">\n",
              "      <th></th>\n",
              "      <th>Built-up__Area</th>\n",
              "      <th>Carpet__Area</th>\n",
              "      <th>Plot__Area</th>\n",
              "      <th>Super_built-up__Area</th>\n",
              "    </tr>\n",
              "  </thead>\n",
              "  <tbody>\n",
              "    <tr>\n",
              "      <th>0</th>\n",
              "      <td>0.0</td>\n",
              "      <td>0.0</td>\n",
              "      <td>0.0</td>\n",
              "      <td>1.0</td>\n",
              "    </tr>\n",
              "    <tr>\n",
              "      <th>1</th>\n",
              "      <td>0.0</td>\n",
              "      <td>0.0</td>\n",
              "      <td>1.0</td>\n",
              "      <td>0.0</td>\n",
              "    </tr>\n",
              "    <tr>\n",
              "      <th>2</th>\n",
              "      <td>1.0</td>\n",
              "      <td>0.0</td>\n",
              "      <td>0.0</td>\n",
              "      <td>0.0</td>\n",
              "    </tr>\n",
              "    <tr>\n",
              "      <th>3</th>\n",
              "      <td>0.0</td>\n",
              "      <td>0.0</td>\n",
              "      <td>0.0</td>\n",
              "      <td>1.0</td>\n",
              "    </tr>\n",
              "    <tr>\n",
              "      <th>4</th>\n",
              "      <td>0.0</td>\n",
              "      <td>0.0</td>\n",
              "      <td>0.0</td>\n",
              "      <td>1.0</td>\n",
              "    </tr>\n",
              "    <tr>\n",
              "      <th>...</th>\n",
              "      <td>...</td>\n",
              "      <td>...</td>\n",
              "      <td>...</td>\n",
              "      <td>...</td>\n",
              "    </tr>\n",
              "    <tr>\n",
              "      <th>13315</th>\n",
              "      <td>1.0</td>\n",
              "      <td>0.0</td>\n",
              "      <td>0.0</td>\n",
              "      <td>0.0</td>\n",
              "    </tr>\n",
              "    <tr>\n",
              "      <th>13316</th>\n",
              "      <td>0.0</td>\n",
              "      <td>0.0</td>\n",
              "      <td>0.0</td>\n",
              "      <td>1.0</td>\n",
              "    </tr>\n",
              "    <tr>\n",
              "      <th>13317</th>\n",
              "      <td>1.0</td>\n",
              "      <td>0.0</td>\n",
              "      <td>0.0</td>\n",
              "      <td>0.0</td>\n",
              "    </tr>\n",
              "    <tr>\n",
              "      <th>13318</th>\n",
              "      <td>0.0</td>\n",
              "      <td>0.0</td>\n",
              "      <td>0.0</td>\n",
              "      <td>1.0</td>\n",
              "    </tr>\n",
              "    <tr>\n",
              "      <th>13319</th>\n",
              "      <td>0.0</td>\n",
              "      <td>0.0</td>\n",
              "      <td>0.0</td>\n",
              "      <td>1.0</td>\n",
              "    </tr>\n",
              "  </tbody>\n",
              "</table>\n",
              "<p>13320 rows × 4 columns</p>\n",
              "</div>\n",
              "      <button class=\"colab-df-convert\" onclick=\"convertToInteractive('df-61365958-b641-4112-aa61-0a23a5ce336f')\"\n",
              "              title=\"Convert this dataframe to an interactive table.\"\n",
              "              style=\"display:none;\">\n",
              "        \n",
              "  <svg xmlns=\"http://www.w3.org/2000/svg\" height=\"24px\"viewBox=\"0 0 24 24\"\n",
              "       width=\"24px\">\n",
              "    <path d=\"M0 0h24v24H0V0z\" fill=\"none\"/>\n",
              "    <path d=\"M18.56 5.44l.94 2.06.94-2.06 2.06-.94-2.06-.94-.94-2.06-.94 2.06-2.06.94zm-11 1L8.5 8.5l.94-2.06 2.06-.94-2.06-.94L8.5 2.5l-.94 2.06-2.06.94zm10 10l.94 2.06.94-2.06 2.06-.94-2.06-.94-.94-2.06-.94 2.06-2.06.94z\"/><path d=\"M17.41 7.96l-1.37-1.37c-.4-.4-.92-.59-1.43-.59-.52 0-1.04.2-1.43.59L10.3 9.45l-7.72 7.72c-.78.78-.78 2.05 0 2.83L4 21.41c.39.39.9.59 1.41.59.51 0 1.02-.2 1.41-.59l7.78-7.78 2.81-2.81c.8-.78.8-2.07 0-2.86zM5.41 20L4 18.59l7.72-7.72 1.47 1.35L5.41 20z\"/>\n",
              "  </svg>\n",
              "      </button>\n",
              "      \n",
              "  <style>\n",
              "    .colab-df-container {\n",
              "      display:flex;\n",
              "      flex-wrap:wrap;\n",
              "      gap: 12px;\n",
              "    }\n",
              "\n",
              "    .colab-df-convert {\n",
              "      background-color: #E8F0FE;\n",
              "      border: none;\n",
              "      border-radius: 50%;\n",
              "      cursor: pointer;\n",
              "      display: none;\n",
              "      fill: #1967D2;\n",
              "      height: 32px;\n",
              "      padding: 0 0 0 0;\n",
              "      width: 32px;\n",
              "    }\n",
              "\n",
              "    .colab-df-convert:hover {\n",
              "      background-color: #E2EBFA;\n",
              "      box-shadow: 0px 1px 2px rgba(60, 64, 67, 0.3), 0px 1px 3px 1px rgba(60, 64, 67, 0.15);\n",
              "      fill: #174EA6;\n",
              "    }\n",
              "\n",
              "    [theme=dark] .colab-df-convert {\n",
              "      background-color: #3B4455;\n",
              "      fill: #D2E3FC;\n",
              "    }\n",
              "\n",
              "    [theme=dark] .colab-df-convert:hover {\n",
              "      background-color: #434B5C;\n",
              "      box-shadow: 0px 1px 3px 1px rgba(0, 0, 0, 0.15);\n",
              "      filter: drop-shadow(0px 1px 2px rgba(0, 0, 0, 0.3));\n",
              "      fill: #FFFFFF;\n",
              "    }\n",
              "  </style>\n",
              "\n",
              "      <script>\n",
              "        const buttonEl =\n",
              "          document.querySelector('#df-61365958-b641-4112-aa61-0a23a5ce336f button.colab-df-convert');\n",
              "        buttonEl.style.display =\n",
              "          google.colab.kernel.accessAllowed ? 'block' : 'none';\n",
              "\n",
              "        async function convertToInteractive(key) {\n",
              "          const element = document.querySelector('#df-61365958-b641-4112-aa61-0a23a5ce336f');\n",
              "          const dataTable =\n",
              "            await google.colab.kernel.invokeFunction('convertToInteractive',\n",
              "                                                     [key], {});\n",
              "          if (!dataTable) return;\n",
              "\n",
              "          const docLinkHtml = 'Like what you see? Visit the ' +\n",
              "            '<a target=\"_blank\" href=https://colab.research.google.com/notebooks/data_table.ipynb>data table notebook</a>'\n",
              "            + ' to learn more about interactive tables.';\n",
              "          element.innerHTML = '';\n",
              "          dataTable['output_type'] = 'display_data';\n",
              "          await google.colab.output.renderOutput(dataTable, element);\n",
              "          const docLink = document.createElement('div');\n",
              "          docLink.innerHTML = docLinkHtml;\n",
              "          element.appendChild(docLink);\n",
              "        }\n",
              "      </script>\n",
              "    </div>\n",
              "  </div>\n",
              "  "
            ]
          },
          "metadata": {},
          "execution_count": 37
        }
      ]
    },
    {
      "cell_type": "code",
      "source": [
        "df1.head()"
      ],
      "metadata": {
        "colab": {
          "base_uri": "https://localhost:8080/",
          "height": 206
        },
        "id": "qDiIRpulrgym",
        "outputId": "52a5f2b3-6894-41cf-ab16-c702f5a41d1a"
      },
      "execution_count": 38,
      "outputs": [
        {
          "output_type": "execute_result",
          "data": {
            "text/plain": [
              "   area_type  location  size  society  total_sqft  bath  balcony   price\n",
              "0          3       217     2      464      1056.0     2        1   39.07\n",
              "1          2       160     4     2440      2600.0     5        3  120.00\n",
              "2          0       604     3     2351      1440.0     2        3   62.00\n",
              "3          3       398     3     2186      1521.0     3        1   95.00\n",
              "4          3       375     2     2351      1200.0     2        1   51.00"
            ],
            "text/html": [
              "\n",
              "  <div id=\"df-5f63cf27-c41b-4199-8f0d-56ec45e8bde3\">\n",
              "    <div class=\"colab-df-container\">\n",
              "      <div>\n",
              "<style scoped>\n",
              "    .dataframe tbody tr th:only-of-type {\n",
              "        vertical-align: middle;\n",
              "    }\n",
              "\n",
              "    .dataframe tbody tr th {\n",
              "        vertical-align: top;\n",
              "    }\n",
              "\n",
              "    .dataframe thead th {\n",
              "        text-align: right;\n",
              "    }\n",
              "</style>\n",
              "<table border=\"1\" class=\"dataframe\">\n",
              "  <thead>\n",
              "    <tr style=\"text-align: right;\">\n",
              "      <th></th>\n",
              "      <th>area_type</th>\n",
              "      <th>location</th>\n",
              "      <th>size</th>\n",
              "      <th>society</th>\n",
              "      <th>total_sqft</th>\n",
              "      <th>bath</th>\n",
              "      <th>balcony</th>\n",
              "      <th>price</th>\n",
              "    </tr>\n",
              "  </thead>\n",
              "  <tbody>\n",
              "    <tr>\n",
              "      <th>0</th>\n",
              "      <td>3</td>\n",
              "      <td>217</td>\n",
              "      <td>2</td>\n",
              "      <td>464</td>\n",
              "      <td>1056.0</td>\n",
              "      <td>2</td>\n",
              "      <td>1</td>\n",
              "      <td>39.07</td>\n",
              "    </tr>\n",
              "    <tr>\n",
              "      <th>1</th>\n",
              "      <td>2</td>\n",
              "      <td>160</td>\n",
              "      <td>4</td>\n",
              "      <td>2440</td>\n",
              "      <td>2600.0</td>\n",
              "      <td>5</td>\n",
              "      <td>3</td>\n",
              "      <td>120.00</td>\n",
              "    </tr>\n",
              "    <tr>\n",
              "      <th>2</th>\n",
              "      <td>0</td>\n",
              "      <td>604</td>\n",
              "      <td>3</td>\n",
              "      <td>2351</td>\n",
              "      <td>1440.0</td>\n",
              "      <td>2</td>\n",
              "      <td>3</td>\n",
              "      <td>62.00</td>\n",
              "    </tr>\n",
              "    <tr>\n",
              "      <th>3</th>\n",
              "      <td>3</td>\n",
              "      <td>398</td>\n",
              "      <td>3</td>\n",
              "      <td>2186</td>\n",
              "      <td>1521.0</td>\n",
              "      <td>3</td>\n",
              "      <td>1</td>\n",
              "      <td>95.00</td>\n",
              "    </tr>\n",
              "    <tr>\n",
              "      <th>4</th>\n",
              "      <td>3</td>\n",
              "      <td>375</td>\n",
              "      <td>2</td>\n",
              "      <td>2351</td>\n",
              "      <td>1200.0</td>\n",
              "      <td>2</td>\n",
              "      <td>1</td>\n",
              "      <td>51.00</td>\n",
              "    </tr>\n",
              "  </tbody>\n",
              "</table>\n",
              "</div>\n",
              "      <button class=\"colab-df-convert\" onclick=\"convertToInteractive('df-5f63cf27-c41b-4199-8f0d-56ec45e8bde3')\"\n",
              "              title=\"Convert this dataframe to an interactive table.\"\n",
              "              style=\"display:none;\">\n",
              "        \n",
              "  <svg xmlns=\"http://www.w3.org/2000/svg\" height=\"24px\"viewBox=\"0 0 24 24\"\n",
              "       width=\"24px\">\n",
              "    <path d=\"M0 0h24v24H0V0z\" fill=\"none\"/>\n",
              "    <path d=\"M18.56 5.44l.94 2.06.94-2.06 2.06-.94-2.06-.94-.94-2.06-.94 2.06-2.06.94zm-11 1L8.5 8.5l.94-2.06 2.06-.94-2.06-.94L8.5 2.5l-.94 2.06-2.06.94zm10 10l.94 2.06.94-2.06 2.06-.94-2.06-.94-.94-2.06-.94 2.06-2.06.94z\"/><path d=\"M17.41 7.96l-1.37-1.37c-.4-.4-.92-.59-1.43-.59-.52 0-1.04.2-1.43.59L10.3 9.45l-7.72 7.72c-.78.78-.78 2.05 0 2.83L4 21.41c.39.39.9.59 1.41.59.51 0 1.02-.2 1.41-.59l7.78-7.78 2.81-2.81c.8-.78.8-2.07 0-2.86zM5.41 20L4 18.59l7.72-7.72 1.47 1.35L5.41 20z\"/>\n",
              "  </svg>\n",
              "      </button>\n",
              "      \n",
              "  <style>\n",
              "    .colab-df-container {\n",
              "      display:flex;\n",
              "      flex-wrap:wrap;\n",
              "      gap: 12px;\n",
              "    }\n",
              "\n",
              "    .colab-df-convert {\n",
              "      background-color: #E8F0FE;\n",
              "      border: none;\n",
              "      border-radius: 50%;\n",
              "      cursor: pointer;\n",
              "      display: none;\n",
              "      fill: #1967D2;\n",
              "      height: 32px;\n",
              "      padding: 0 0 0 0;\n",
              "      width: 32px;\n",
              "    }\n",
              "\n",
              "    .colab-df-convert:hover {\n",
              "      background-color: #E2EBFA;\n",
              "      box-shadow: 0px 1px 2px rgba(60, 64, 67, 0.3), 0px 1px 3px 1px rgba(60, 64, 67, 0.15);\n",
              "      fill: #174EA6;\n",
              "    }\n",
              "\n",
              "    [theme=dark] .colab-df-convert {\n",
              "      background-color: #3B4455;\n",
              "      fill: #D2E3FC;\n",
              "    }\n",
              "\n",
              "    [theme=dark] .colab-df-convert:hover {\n",
              "      background-color: #434B5C;\n",
              "      box-shadow: 0px 1px 3px 1px rgba(0, 0, 0, 0.15);\n",
              "      filter: drop-shadow(0px 1px 2px rgba(0, 0, 0, 0.3));\n",
              "      fill: #FFFFFF;\n",
              "    }\n",
              "  </style>\n",
              "\n",
              "      <script>\n",
              "        const buttonEl =\n",
              "          document.querySelector('#df-5f63cf27-c41b-4199-8f0d-56ec45e8bde3 button.colab-df-convert');\n",
              "        buttonEl.style.display =\n",
              "          google.colab.kernel.accessAllowed ? 'block' : 'none';\n",
              "\n",
              "        async function convertToInteractive(key) {\n",
              "          const element = document.querySelector('#df-5f63cf27-c41b-4199-8f0d-56ec45e8bde3');\n",
              "          const dataTable =\n",
              "            await google.colab.kernel.invokeFunction('convertToInteractive',\n",
              "                                                     [key], {});\n",
              "          if (!dataTable) return;\n",
              "\n",
              "          const docLinkHtml = 'Like what you see? Visit the ' +\n",
              "            '<a target=\"_blank\" href=https://colab.research.google.com/notebooks/data_table.ipynb>data table notebook</a>'\n",
              "            + ' to learn more about interactive tables.';\n",
              "          element.innerHTML = '';\n",
              "          dataTable['output_type'] = 'display_data';\n",
              "          await google.colab.output.renderOutput(dataTable, element);\n",
              "          const docLink = document.createElement('div');\n",
              "          docLink.innerHTML = docLinkHtml;\n",
              "          element.appendChild(docLink);\n",
              "        }\n",
              "      </script>\n",
              "    </div>\n",
              "  </div>\n",
              "  "
            ]
          },
          "metadata": {},
          "execution_count": 38
        }
      ]
    },
    {
      "cell_type": "code",
      "source": [
        ""
      ],
      "metadata": {
        "id": "ixUVCi2Sn3m6"
      },
      "execution_count": 38,
      "outputs": []
    },
    {
      "cell_type": "code",
      "source": [
        "loc_col = []\n",
        "for i in set(df1['location']):\n",
        "  loc_col.append(str(le_loc.inverse_transform([i])[0]).replace(' ','_'))"
      ],
      "metadata": {
        "id": "-QzGOGKIhNT4"
      },
      "execution_count": 39,
      "outputs": []
    },
    {
      "cell_type": "code",
      "source": [
        "len(loc_col)"
      ],
      "metadata": {
        "colab": {
          "base_uri": "https://localhost:8080/"
        },
        "id": "j8KeW3bHhwxL",
        "outputId": "f8a1382e-7c66-4132-8172-9173adda51cb"
      },
      "execution_count": 40,
      "outputs": [
        {
          "output_type": "execute_result",
          "data": {
            "text/plain": [
              "650"
            ]
          },
          "metadata": {},
          "execution_count": 40
        }
      ]
    },
    {
      "cell_type": "code",
      "source": [
        "#perform one-hot encoding on 'team' column \n",
        "pd.DataFrame(enc_loc.fit_transform(df1[['location']]).toarray(),columns=loc_col)"
      ],
      "metadata": {
        "colab": {
          "base_uri": "https://localhost:8080/",
          "height": 487
        },
        "id": "Q60O2RvthNR8",
        "outputId": "652da9f4-b914-4201-c02c-944f3418831a"
      },
      "execution_count": 41,
      "outputs": [
        {
          "output_type": "execute_result",
          "data": {
            "text/plain": [
              "       1st_Block_HBR_Layout  1st_Block_HRBR_Layout  1st_Block_Jayanagar  \\\n",
              "0                       0.0                    0.0                  0.0   \n",
              "1                       0.0                    0.0                  0.0   \n",
              "2                       0.0                    0.0                  0.0   \n",
              "3                       0.0                    0.0                  0.0   \n",
              "4                       0.0                    0.0                  0.0   \n",
              "...                     ...                    ...                  ...   \n",
              "13315                   0.0                    0.0                  0.0   \n",
              "13316                   0.0                    0.0                  0.0   \n",
              "13317                   0.0                    0.0                  0.0   \n",
              "13318                   0.0                    0.0                  0.0   \n",
              "13319                   0.0                    0.0                  0.0   \n",
              "\n",
              "       1st_Block_Koramangala  1st_Phase_JP_Nagar  1st_Stage_Indira_Nagar  \\\n",
              "0                        0.0                 0.0                     0.0   \n",
              "1                        0.0                 0.0                     0.0   \n",
              "2                        0.0                 0.0                     0.0   \n",
              "3                        0.0                 0.0                     0.0   \n",
              "4                        0.0                 0.0                     0.0   \n",
              "...                      ...                 ...                     ...   \n",
              "13315                    0.0                 0.0                     0.0   \n",
              "13316                    0.0                 0.0                     0.0   \n",
              "13317                    0.0                 0.0                     0.0   \n",
              "13318                    0.0                 0.0                     0.0   \n",
              "13319                    0.0                 0.0                     0.0   \n",
              "\n",
              "       2nd_Block_Hrbr_Layout  2nd_Block_Jayanagar  2nd_Phase_JP_Nagar  \\\n",
              "0                        0.0                  0.0                 0.0   \n",
              "1                        0.0                  0.0                 0.0   \n",
              "2                        0.0                  0.0                 0.0   \n",
              "3                        0.0                  0.0                 0.0   \n",
              "4                        0.0                  0.0                 0.0   \n",
              "...                      ...                  ...                 ...   \n",
              "13315                    0.0                  0.0                 0.0   \n",
              "13316                    0.0                  0.0                 0.0   \n",
              "13317                    0.0                  0.0                 0.0   \n",
              "13318                    0.0                  0.0                 0.0   \n",
              "13319                    0.0                  0.0                 0.0   \n",
              "\n",
              "       2nd_Phase_Judicial_Layout  ...  Wilson_Garden  Yelachenahalli  \\\n",
              "0                            0.0  ...            0.0             0.0   \n",
              "1                            0.0  ...            0.0             0.0   \n",
              "2                            0.0  ...            0.0             0.0   \n",
              "3                            0.0  ...            0.0             0.0   \n",
              "4                            0.0  ...            0.0             0.0   \n",
              "...                          ...  ...            ...             ...   \n",
              "13315                        0.0  ...            0.0             0.0   \n",
              "13316                        0.0  ...            0.0             0.0   \n",
              "13317                        0.0  ...            0.0             0.0   \n",
              "13318                        0.0  ...            0.0             0.0   \n",
              "13319                        0.0  ...            0.0             0.0   \n",
              "\n",
              "       Yelahanka  Yelahanka_New_Town  Yelenahalli  Yemlur  Yeshwanthpur  \\\n",
              "0            0.0                 0.0          0.0     0.0           0.0   \n",
              "1            0.0                 0.0          0.0     0.0           0.0   \n",
              "2            0.0                 0.0          0.0     0.0           0.0   \n",
              "3            0.0                 0.0          0.0     0.0           0.0   \n",
              "4            0.0                 0.0          0.0     0.0           0.0   \n",
              "...          ...                 ...          ...     ...           ...   \n",
              "13315        0.0                 0.0          0.0     0.0           0.0   \n",
              "13316        0.0                 0.0          0.0     0.0           0.0   \n",
              "13317        0.0                 0.0          0.0     0.0           0.0   \n",
              "13318        0.0                 0.0          0.0     0.0           0.0   \n",
              "13319        0.0                 0.0          0.0     0.0           0.0   \n",
              "\n",
              "       Yeshwanthpur_Industrial_Suburb  other  tc.palya  \n",
              "0                                 0.0    0.0       0.0  \n",
              "1                                 0.0    0.0       0.0  \n",
              "2                                 0.0    0.0       0.0  \n",
              "3                                 0.0    0.0       0.0  \n",
              "4                                 0.0    0.0       0.0  \n",
              "...                               ...    ...       ...  \n",
              "13315                             0.0    0.0       0.0  \n",
              "13316                             0.0    0.0       0.0  \n",
              "13317                             0.0    0.0       0.0  \n",
              "13318                             0.0    0.0       0.0  \n",
              "13319                             0.0    0.0       0.0  \n",
              "\n",
              "[13320 rows x 650 columns]"
            ],
            "text/html": [
              "\n",
              "  <div id=\"df-4a77281b-4c47-4cb2-9cf1-a97dd5ce5982\">\n",
              "    <div class=\"colab-df-container\">\n",
              "      <div>\n",
              "<style scoped>\n",
              "    .dataframe tbody tr th:only-of-type {\n",
              "        vertical-align: middle;\n",
              "    }\n",
              "\n",
              "    .dataframe tbody tr th {\n",
              "        vertical-align: top;\n",
              "    }\n",
              "\n",
              "    .dataframe thead th {\n",
              "        text-align: right;\n",
              "    }\n",
              "</style>\n",
              "<table border=\"1\" class=\"dataframe\">\n",
              "  <thead>\n",
              "    <tr style=\"text-align: right;\">\n",
              "      <th></th>\n",
              "      <th>1st_Block_HBR_Layout</th>\n",
              "      <th>1st_Block_HRBR_Layout</th>\n",
              "      <th>1st_Block_Jayanagar</th>\n",
              "      <th>1st_Block_Koramangala</th>\n",
              "      <th>1st_Phase_JP_Nagar</th>\n",
              "      <th>1st_Stage_Indira_Nagar</th>\n",
              "      <th>2nd_Block_Hrbr_Layout</th>\n",
              "      <th>2nd_Block_Jayanagar</th>\n",
              "      <th>2nd_Phase_JP_Nagar</th>\n",
              "      <th>2nd_Phase_Judicial_Layout</th>\n",
              "      <th>...</th>\n",
              "      <th>Wilson_Garden</th>\n",
              "      <th>Yelachenahalli</th>\n",
              "      <th>Yelahanka</th>\n",
              "      <th>Yelahanka_New_Town</th>\n",
              "      <th>Yelenahalli</th>\n",
              "      <th>Yemlur</th>\n",
              "      <th>Yeshwanthpur</th>\n",
              "      <th>Yeshwanthpur_Industrial_Suburb</th>\n",
              "      <th>other</th>\n",
              "      <th>tc.palya</th>\n",
              "    </tr>\n",
              "  </thead>\n",
              "  <tbody>\n",
              "    <tr>\n",
              "      <th>0</th>\n",
              "      <td>0.0</td>\n",
              "      <td>0.0</td>\n",
              "      <td>0.0</td>\n",
              "      <td>0.0</td>\n",
              "      <td>0.0</td>\n",
              "      <td>0.0</td>\n",
              "      <td>0.0</td>\n",
              "      <td>0.0</td>\n",
              "      <td>0.0</td>\n",
              "      <td>0.0</td>\n",
              "      <td>...</td>\n",
              "      <td>0.0</td>\n",
              "      <td>0.0</td>\n",
              "      <td>0.0</td>\n",
              "      <td>0.0</td>\n",
              "      <td>0.0</td>\n",
              "      <td>0.0</td>\n",
              "      <td>0.0</td>\n",
              "      <td>0.0</td>\n",
              "      <td>0.0</td>\n",
              "      <td>0.0</td>\n",
              "    </tr>\n",
              "    <tr>\n",
              "      <th>1</th>\n",
              "      <td>0.0</td>\n",
              "      <td>0.0</td>\n",
              "      <td>0.0</td>\n",
              "      <td>0.0</td>\n",
              "      <td>0.0</td>\n",
              "      <td>0.0</td>\n",
              "      <td>0.0</td>\n",
              "      <td>0.0</td>\n",
              "      <td>0.0</td>\n",
              "      <td>0.0</td>\n",
              "      <td>...</td>\n",
              "      <td>0.0</td>\n",
              "      <td>0.0</td>\n",
              "      <td>0.0</td>\n",
              "      <td>0.0</td>\n",
              "      <td>0.0</td>\n",
              "      <td>0.0</td>\n",
              "      <td>0.0</td>\n",
              "      <td>0.0</td>\n",
              "      <td>0.0</td>\n",
              "      <td>0.0</td>\n",
              "    </tr>\n",
              "    <tr>\n",
              "      <th>2</th>\n",
              "      <td>0.0</td>\n",
              "      <td>0.0</td>\n",
              "      <td>0.0</td>\n",
              "      <td>0.0</td>\n",
              "      <td>0.0</td>\n",
              "      <td>0.0</td>\n",
              "      <td>0.0</td>\n",
              "      <td>0.0</td>\n",
              "      <td>0.0</td>\n",
              "      <td>0.0</td>\n",
              "      <td>...</td>\n",
              "      <td>0.0</td>\n",
              "      <td>0.0</td>\n",
              "      <td>0.0</td>\n",
              "      <td>0.0</td>\n",
              "      <td>0.0</td>\n",
              "      <td>0.0</td>\n",
              "      <td>0.0</td>\n",
              "      <td>0.0</td>\n",
              "      <td>0.0</td>\n",
              "      <td>0.0</td>\n",
              "    </tr>\n",
              "    <tr>\n",
              "      <th>3</th>\n",
              "      <td>0.0</td>\n",
              "      <td>0.0</td>\n",
              "      <td>0.0</td>\n",
              "      <td>0.0</td>\n",
              "      <td>0.0</td>\n",
              "      <td>0.0</td>\n",
              "      <td>0.0</td>\n",
              "      <td>0.0</td>\n",
              "      <td>0.0</td>\n",
              "      <td>0.0</td>\n",
              "      <td>...</td>\n",
              "      <td>0.0</td>\n",
              "      <td>0.0</td>\n",
              "      <td>0.0</td>\n",
              "      <td>0.0</td>\n",
              "      <td>0.0</td>\n",
              "      <td>0.0</td>\n",
              "      <td>0.0</td>\n",
              "      <td>0.0</td>\n",
              "      <td>0.0</td>\n",
              "      <td>0.0</td>\n",
              "    </tr>\n",
              "    <tr>\n",
              "      <th>4</th>\n",
              "      <td>0.0</td>\n",
              "      <td>0.0</td>\n",
              "      <td>0.0</td>\n",
              "      <td>0.0</td>\n",
              "      <td>0.0</td>\n",
              "      <td>0.0</td>\n",
              "      <td>0.0</td>\n",
              "      <td>0.0</td>\n",
              "      <td>0.0</td>\n",
              "      <td>0.0</td>\n",
              "      <td>...</td>\n",
              "      <td>0.0</td>\n",
              "      <td>0.0</td>\n",
              "      <td>0.0</td>\n",
              "      <td>0.0</td>\n",
              "      <td>0.0</td>\n",
              "      <td>0.0</td>\n",
              "      <td>0.0</td>\n",
              "      <td>0.0</td>\n",
              "      <td>0.0</td>\n",
              "      <td>0.0</td>\n",
              "    </tr>\n",
              "    <tr>\n",
              "      <th>...</th>\n",
              "      <td>...</td>\n",
              "      <td>...</td>\n",
              "      <td>...</td>\n",
              "      <td>...</td>\n",
              "      <td>...</td>\n",
              "      <td>...</td>\n",
              "      <td>...</td>\n",
              "      <td>...</td>\n",
              "      <td>...</td>\n",
              "      <td>...</td>\n",
              "      <td>...</td>\n",
              "      <td>...</td>\n",
              "      <td>...</td>\n",
              "      <td>...</td>\n",
              "      <td>...</td>\n",
              "      <td>...</td>\n",
              "      <td>...</td>\n",
              "      <td>...</td>\n",
              "      <td>...</td>\n",
              "      <td>...</td>\n",
              "      <td>...</td>\n",
              "    </tr>\n",
              "    <tr>\n",
              "      <th>13315</th>\n",
              "      <td>0.0</td>\n",
              "      <td>0.0</td>\n",
              "      <td>0.0</td>\n",
              "      <td>0.0</td>\n",
              "      <td>0.0</td>\n",
              "      <td>0.0</td>\n",
              "      <td>0.0</td>\n",
              "      <td>0.0</td>\n",
              "      <td>0.0</td>\n",
              "      <td>0.0</td>\n",
              "      <td>...</td>\n",
              "      <td>0.0</td>\n",
              "      <td>0.0</td>\n",
              "      <td>0.0</td>\n",
              "      <td>0.0</td>\n",
              "      <td>0.0</td>\n",
              "      <td>0.0</td>\n",
              "      <td>0.0</td>\n",
              "      <td>0.0</td>\n",
              "      <td>0.0</td>\n",
              "      <td>0.0</td>\n",
              "    </tr>\n",
              "    <tr>\n",
              "      <th>13316</th>\n",
              "      <td>0.0</td>\n",
              "      <td>0.0</td>\n",
              "      <td>0.0</td>\n",
              "      <td>0.0</td>\n",
              "      <td>0.0</td>\n",
              "      <td>0.0</td>\n",
              "      <td>0.0</td>\n",
              "      <td>0.0</td>\n",
              "      <td>0.0</td>\n",
              "      <td>0.0</td>\n",
              "      <td>...</td>\n",
              "      <td>0.0</td>\n",
              "      <td>0.0</td>\n",
              "      <td>0.0</td>\n",
              "      <td>0.0</td>\n",
              "      <td>0.0</td>\n",
              "      <td>0.0</td>\n",
              "      <td>0.0</td>\n",
              "      <td>0.0</td>\n",
              "      <td>0.0</td>\n",
              "      <td>0.0</td>\n",
              "    </tr>\n",
              "    <tr>\n",
              "      <th>13317</th>\n",
              "      <td>0.0</td>\n",
              "      <td>0.0</td>\n",
              "      <td>0.0</td>\n",
              "      <td>0.0</td>\n",
              "      <td>0.0</td>\n",
              "      <td>0.0</td>\n",
              "      <td>0.0</td>\n",
              "      <td>0.0</td>\n",
              "      <td>0.0</td>\n",
              "      <td>0.0</td>\n",
              "      <td>...</td>\n",
              "      <td>0.0</td>\n",
              "      <td>0.0</td>\n",
              "      <td>0.0</td>\n",
              "      <td>0.0</td>\n",
              "      <td>0.0</td>\n",
              "      <td>0.0</td>\n",
              "      <td>0.0</td>\n",
              "      <td>0.0</td>\n",
              "      <td>0.0</td>\n",
              "      <td>0.0</td>\n",
              "    </tr>\n",
              "    <tr>\n",
              "      <th>13318</th>\n",
              "      <td>0.0</td>\n",
              "      <td>0.0</td>\n",
              "      <td>0.0</td>\n",
              "      <td>0.0</td>\n",
              "      <td>0.0</td>\n",
              "      <td>0.0</td>\n",
              "      <td>0.0</td>\n",
              "      <td>0.0</td>\n",
              "      <td>0.0</td>\n",
              "      <td>0.0</td>\n",
              "      <td>...</td>\n",
              "      <td>0.0</td>\n",
              "      <td>0.0</td>\n",
              "      <td>0.0</td>\n",
              "      <td>0.0</td>\n",
              "      <td>0.0</td>\n",
              "      <td>0.0</td>\n",
              "      <td>0.0</td>\n",
              "      <td>0.0</td>\n",
              "      <td>0.0</td>\n",
              "      <td>0.0</td>\n",
              "    </tr>\n",
              "    <tr>\n",
              "      <th>13319</th>\n",
              "      <td>0.0</td>\n",
              "      <td>0.0</td>\n",
              "      <td>0.0</td>\n",
              "      <td>0.0</td>\n",
              "      <td>0.0</td>\n",
              "      <td>0.0</td>\n",
              "      <td>0.0</td>\n",
              "      <td>0.0</td>\n",
              "      <td>0.0</td>\n",
              "      <td>0.0</td>\n",
              "      <td>...</td>\n",
              "      <td>0.0</td>\n",
              "      <td>0.0</td>\n",
              "      <td>0.0</td>\n",
              "      <td>0.0</td>\n",
              "      <td>0.0</td>\n",
              "      <td>0.0</td>\n",
              "      <td>0.0</td>\n",
              "      <td>0.0</td>\n",
              "      <td>0.0</td>\n",
              "      <td>0.0</td>\n",
              "    </tr>\n",
              "  </tbody>\n",
              "</table>\n",
              "<p>13320 rows × 650 columns</p>\n",
              "</div>\n",
              "      <button class=\"colab-df-convert\" onclick=\"convertToInteractive('df-4a77281b-4c47-4cb2-9cf1-a97dd5ce5982')\"\n",
              "              title=\"Convert this dataframe to an interactive table.\"\n",
              "              style=\"display:none;\">\n",
              "        \n",
              "  <svg xmlns=\"http://www.w3.org/2000/svg\" height=\"24px\"viewBox=\"0 0 24 24\"\n",
              "       width=\"24px\">\n",
              "    <path d=\"M0 0h24v24H0V0z\" fill=\"none\"/>\n",
              "    <path d=\"M18.56 5.44l.94 2.06.94-2.06 2.06-.94-2.06-.94-.94-2.06-.94 2.06-2.06.94zm-11 1L8.5 8.5l.94-2.06 2.06-.94-2.06-.94L8.5 2.5l-.94 2.06-2.06.94zm10 10l.94 2.06.94-2.06 2.06-.94-2.06-.94-.94-2.06-.94 2.06-2.06.94z\"/><path d=\"M17.41 7.96l-1.37-1.37c-.4-.4-.92-.59-1.43-.59-.52 0-1.04.2-1.43.59L10.3 9.45l-7.72 7.72c-.78.78-.78 2.05 0 2.83L4 21.41c.39.39.9.59 1.41.59.51 0 1.02-.2 1.41-.59l7.78-7.78 2.81-2.81c.8-.78.8-2.07 0-2.86zM5.41 20L4 18.59l7.72-7.72 1.47 1.35L5.41 20z\"/>\n",
              "  </svg>\n",
              "      </button>\n",
              "      \n",
              "  <style>\n",
              "    .colab-df-container {\n",
              "      display:flex;\n",
              "      flex-wrap:wrap;\n",
              "      gap: 12px;\n",
              "    }\n",
              "\n",
              "    .colab-df-convert {\n",
              "      background-color: #E8F0FE;\n",
              "      border: none;\n",
              "      border-radius: 50%;\n",
              "      cursor: pointer;\n",
              "      display: none;\n",
              "      fill: #1967D2;\n",
              "      height: 32px;\n",
              "      padding: 0 0 0 0;\n",
              "      width: 32px;\n",
              "    }\n",
              "\n",
              "    .colab-df-convert:hover {\n",
              "      background-color: #E2EBFA;\n",
              "      box-shadow: 0px 1px 2px rgba(60, 64, 67, 0.3), 0px 1px 3px 1px rgba(60, 64, 67, 0.15);\n",
              "      fill: #174EA6;\n",
              "    }\n",
              "\n",
              "    [theme=dark] .colab-df-convert {\n",
              "      background-color: #3B4455;\n",
              "      fill: #D2E3FC;\n",
              "    }\n",
              "\n",
              "    [theme=dark] .colab-df-convert:hover {\n",
              "      background-color: #434B5C;\n",
              "      box-shadow: 0px 1px 3px 1px rgba(0, 0, 0, 0.15);\n",
              "      filter: drop-shadow(0px 1px 2px rgba(0, 0, 0, 0.3));\n",
              "      fill: #FFFFFF;\n",
              "    }\n",
              "  </style>\n",
              "\n",
              "      <script>\n",
              "        const buttonEl =\n",
              "          document.querySelector('#df-4a77281b-4c47-4cb2-9cf1-a97dd5ce5982 button.colab-df-convert');\n",
              "        buttonEl.style.display =\n",
              "          google.colab.kernel.accessAllowed ? 'block' : 'none';\n",
              "\n",
              "        async function convertToInteractive(key) {\n",
              "          const element = document.querySelector('#df-4a77281b-4c47-4cb2-9cf1-a97dd5ce5982');\n",
              "          const dataTable =\n",
              "            await google.colab.kernel.invokeFunction('convertToInteractive',\n",
              "                                                     [key], {});\n",
              "          if (!dataTable) return;\n",
              "\n",
              "          const docLinkHtml = 'Like what you see? Visit the ' +\n",
              "            '<a target=\"_blank\" href=https://colab.research.google.com/notebooks/data_table.ipynb>data table notebook</a>'\n",
              "            + ' to learn more about interactive tables.';\n",
              "          element.innerHTML = '';\n",
              "          dataTable['output_type'] = 'display_data';\n",
              "          await google.colab.output.renderOutput(dataTable, element);\n",
              "          const docLink = document.createElement('div');\n",
              "          docLink.innerHTML = docLinkHtml;\n",
              "          element.appendChild(docLink);\n",
              "        }\n",
              "      </script>\n",
              "    </div>\n",
              "  </div>\n",
              "  "
            ]
          },
          "metadata": {},
          "execution_count": 41
        }
      ]
    },
    {
      "cell_type": "code",
      "source": [
        "df_at = pd.DataFrame(enc_at.fit_transform(df1[['area_type']]).toarray(),columns=at_col)"
      ],
      "metadata": {
        "id": "9doN4uOki1a2"
      },
      "execution_count": 42,
      "outputs": []
    },
    {
      "cell_type": "code",
      "source": [
        "#df_loc = pd.DataFrame(enc_loc.fit_transform(df1[['location']]).toarray(),columns=loc_col)"
      ],
      "metadata": {
        "id": "UZ-_kepEmioL"
      },
      "execution_count": 43,
      "outputs": []
    },
    {
      "cell_type": "code",
      "source": [
        "#drop_cols = ['area_type',\t'location','society','Plot__Area', 'other']\n",
        "drop_cols = ['area_type',\t'location','society','Plot__Area']"
      ],
      "metadata": {
        "id": "fJ3io10dnXXx"
      },
      "execution_count": 43,
      "outputs": []
    },
    {
      "cell_type": "code",
      "source": [
        "#df_m =pd.merge(pd.merge(  df1,df_at,left_index=True,right_index=True)  ,df_loc,left_index=True,right_index=True).drop(columns=drop_cols)\n",
        "df_m =pd.merge(  df1,df_at,left_index=True,right_index=True).drop(columns=drop_cols)"
      ],
      "metadata": {
        "id": "YWsg3DEpi1dR"
      },
      "execution_count": 44,
      "outputs": []
    },
    {
      "cell_type": "code",
      "source": [
        "df_m.head()"
      ],
      "metadata": {
        "colab": {
          "base_uri": "https://localhost:8080/",
          "height": 206
        },
        "id": "MwYRn_eRkyZx",
        "outputId": "cfea79a5-c55a-4b83-8aa3-4d2383163bf0"
      },
      "execution_count": 46,
      "outputs": [
        {
          "output_type": "execute_result",
          "data": {
            "text/plain": [
              "   size  total_sqft  bath  balcony   price  Built-up__Area  Carpet__Area  \\\n",
              "0     2      1056.0     2        1   39.07             0.0           0.0   \n",
              "1     4      2600.0     5        3  120.00             0.0           0.0   \n",
              "2     3      1440.0     2        3   62.00             1.0           0.0   \n",
              "3     3      1521.0     3        1   95.00             0.0           0.0   \n",
              "4     2      1200.0     2        1   51.00             0.0           0.0   \n",
              "\n",
              "   Super_built-up__Area  \n",
              "0                   1.0  \n",
              "1                   0.0  \n",
              "2                   0.0  \n",
              "3                   1.0  \n",
              "4                   1.0  "
            ],
            "text/html": [
              "\n",
              "  <div id=\"df-af68c6db-f254-46bf-8128-5914b7f9a546\">\n",
              "    <div class=\"colab-df-container\">\n",
              "      <div>\n",
              "<style scoped>\n",
              "    .dataframe tbody tr th:only-of-type {\n",
              "        vertical-align: middle;\n",
              "    }\n",
              "\n",
              "    .dataframe tbody tr th {\n",
              "        vertical-align: top;\n",
              "    }\n",
              "\n",
              "    .dataframe thead th {\n",
              "        text-align: right;\n",
              "    }\n",
              "</style>\n",
              "<table border=\"1\" class=\"dataframe\">\n",
              "  <thead>\n",
              "    <tr style=\"text-align: right;\">\n",
              "      <th></th>\n",
              "      <th>size</th>\n",
              "      <th>total_sqft</th>\n",
              "      <th>bath</th>\n",
              "      <th>balcony</th>\n",
              "      <th>price</th>\n",
              "      <th>Built-up__Area</th>\n",
              "      <th>Carpet__Area</th>\n",
              "      <th>Super_built-up__Area</th>\n",
              "    </tr>\n",
              "  </thead>\n",
              "  <tbody>\n",
              "    <tr>\n",
              "      <th>0</th>\n",
              "      <td>2</td>\n",
              "      <td>1056.0</td>\n",
              "      <td>2</td>\n",
              "      <td>1</td>\n",
              "      <td>39.07</td>\n",
              "      <td>0.0</td>\n",
              "      <td>0.0</td>\n",
              "      <td>1.0</td>\n",
              "    </tr>\n",
              "    <tr>\n",
              "      <th>1</th>\n",
              "      <td>4</td>\n",
              "      <td>2600.0</td>\n",
              "      <td>5</td>\n",
              "      <td>3</td>\n",
              "      <td>120.00</td>\n",
              "      <td>0.0</td>\n",
              "      <td>0.0</td>\n",
              "      <td>0.0</td>\n",
              "    </tr>\n",
              "    <tr>\n",
              "      <th>2</th>\n",
              "      <td>3</td>\n",
              "      <td>1440.0</td>\n",
              "      <td>2</td>\n",
              "      <td>3</td>\n",
              "      <td>62.00</td>\n",
              "      <td>1.0</td>\n",
              "      <td>0.0</td>\n",
              "      <td>0.0</td>\n",
              "    </tr>\n",
              "    <tr>\n",
              "      <th>3</th>\n",
              "      <td>3</td>\n",
              "      <td>1521.0</td>\n",
              "      <td>3</td>\n",
              "      <td>1</td>\n",
              "      <td>95.00</td>\n",
              "      <td>0.0</td>\n",
              "      <td>0.0</td>\n",
              "      <td>1.0</td>\n",
              "    </tr>\n",
              "    <tr>\n",
              "      <th>4</th>\n",
              "      <td>2</td>\n",
              "      <td>1200.0</td>\n",
              "      <td>2</td>\n",
              "      <td>1</td>\n",
              "      <td>51.00</td>\n",
              "      <td>0.0</td>\n",
              "      <td>0.0</td>\n",
              "      <td>1.0</td>\n",
              "    </tr>\n",
              "  </tbody>\n",
              "</table>\n",
              "</div>\n",
              "      <button class=\"colab-df-convert\" onclick=\"convertToInteractive('df-af68c6db-f254-46bf-8128-5914b7f9a546')\"\n",
              "              title=\"Convert this dataframe to an interactive table.\"\n",
              "              style=\"display:none;\">\n",
              "        \n",
              "  <svg xmlns=\"http://www.w3.org/2000/svg\" height=\"24px\"viewBox=\"0 0 24 24\"\n",
              "       width=\"24px\">\n",
              "    <path d=\"M0 0h24v24H0V0z\" fill=\"none\"/>\n",
              "    <path d=\"M18.56 5.44l.94 2.06.94-2.06 2.06-.94-2.06-.94-.94-2.06-.94 2.06-2.06.94zm-11 1L8.5 8.5l.94-2.06 2.06-.94-2.06-.94L8.5 2.5l-.94 2.06-2.06.94zm10 10l.94 2.06.94-2.06 2.06-.94-2.06-.94-.94-2.06-.94 2.06-2.06.94z\"/><path d=\"M17.41 7.96l-1.37-1.37c-.4-.4-.92-.59-1.43-.59-.52 0-1.04.2-1.43.59L10.3 9.45l-7.72 7.72c-.78.78-.78 2.05 0 2.83L4 21.41c.39.39.9.59 1.41.59.51 0 1.02-.2 1.41-.59l7.78-7.78 2.81-2.81c.8-.78.8-2.07 0-2.86zM5.41 20L4 18.59l7.72-7.72 1.47 1.35L5.41 20z\"/>\n",
              "  </svg>\n",
              "      </button>\n",
              "      \n",
              "  <style>\n",
              "    .colab-df-container {\n",
              "      display:flex;\n",
              "      flex-wrap:wrap;\n",
              "      gap: 12px;\n",
              "    }\n",
              "\n",
              "    .colab-df-convert {\n",
              "      background-color: #E8F0FE;\n",
              "      border: none;\n",
              "      border-radius: 50%;\n",
              "      cursor: pointer;\n",
              "      display: none;\n",
              "      fill: #1967D2;\n",
              "      height: 32px;\n",
              "      padding: 0 0 0 0;\n",
              "      width: 32px;\n",
              "    }\n",
              "\n",
              "    .colab-df-convert:hover {\n",
              "      background-color: #E2EBFA;\n",
              "      box-shadow: 0px 1px 2px rgba(60, 64, 67, 0.3), 0px 1px 3px 1px rgba(60, 64, 67, 0.15);\n",
              "      fill: #174EA6;\n",
              "    }\n",
              "\n",
              "    [theme=dark] .colab-df-convert {\n",
              "      background-color: #3B4455;\n",
              "      fill: #D2E3FC;\n",
              "    }\n",
              "\n",
              "    [theme=dark] .colab-df-convert:hover {\n",
              "      background-color: #434B5C;\n",
              "      box-shadow: 0px 1px 3px 1px rgba(0, 0, 0, 0.15);\n",
              "      filter: drop-shadow(0px 1px 2px rgba(0, 0, 0, 0.3));\n",
              "      fill: #FFFFFF;\n",
              "    }\n",
              "  </style>\n",
              "\n",
              "      <script>\n",
              "        const buttonEl =\n",
              "          document.querySelector('#df-af68c6db-f254-46bf-8128-5914b7f9a546 button.colab-df-convert');\n",
              "        buttonEl.style.display =\n",
              "          google.colab.kernel.accessAllowed ? 'block' : 'none';\n",
              "\n",
              "        async function convertToInteractive(key) {\n",
              "          const element = document.querySelector('#df-af68c6db-f254-46bf-8128-5914b7f9a546');\n",
              "          const dataTable =\n",
              "            await google.colab.kernel.invokeFunction('convertToInteractive',\n",
              "                                                     [key], {});\n",
              "          if (!dataTable) return;\n",
              "\n",
              "          const docLinkHtml = 'Like what you see? Visit the ' +\n",
              "            '<a target=\"_blank\" href=https://colab.research.google.com/notebooks/data_table.ipynb>data table notebook</a>'\n",
              "            + ' to learn more about interactive tables.';\n",
              "          element.innerHTML = '';\n",
              "          dataTable['output_type'] = 'display_data';\n",
              "          await google.colab.output.renderOutput(dataTable, element);\n",
              "          const docLink = document.createElement('div');\n",
              "          docLink.innerHTML = docLinkHtml;\n",
              "          element.appendChild(docLink);\n",
              "        }\n",
              "      </script>\n",
              "    </div>\n",
              "  </div>\n",
              "  "
            ]
          },
          "metadata": {},
          "execution_count": 46
        }
      ]
    },
    {
      "cell_type": "code",
      "source": [
        ""
      ],
      "metadata": {
        "id": "h5AQyJ6yi1Tl"
      },
      "execution_count": null,
      "outputs": []
    },
    {
      "cell_type": "code",
      "source": [
        "import matplotlib.pyplot as plt\n",
        "import seaborn as sns"
      ],
      "metadata": {
        "id": "BQ8RXVFqNNHp"
      },
      "execution_count": 102,
      "outputs": []
    },
    {
      "cell_type": "code",
      "source": [
        "sns.scatterplot(x = 'total_sqft',y='price',data=df1 )"
      ],
      "metadata": {
        "colab": {
          "base_uri": "https://localhost:8080/",
          "height": 297
        },
        "id": "JzMBc-sqXpr3",
        "outputId": "764cc7ee-2133-40f4-c0a0-a72e1dc67748"
      },
      "execution_count": 34,
      "outputs": [
        {
          "output_type": "execute_result",
          "data": {
            "text/plain": [
              "<matplotlib.axes._subplots.AxesSubplot at 0x7f277225ca50>"
            ]
          },
          "metadata": {},
          "execution_count": 34
        },
        {
          "output_type": "display_data",
          "data": {
            "text/plain": [
              "<Figure size 432x288 with 1 Axes>"
            ],
            "image/png": "[encoded data removed]"
          },
          "metadata": {
            "needs_background": "light"
          }
        }
      ]
    },
    {
      "cell_type": "code",
      "source": [
        "sns.barplot(x='bath',y='price',data=df1)\n"
      ],
      "metadata": {
        "colab": {
          "base_uri": "https://localhost:8080/",
          "height": 296
        },
        "id": "okNFUJB3TKS_",
        "outputId": "2594ddb4-4939-4238-b727-0f748eedec01"
      },
      "execution_count": 33,
      "outputs": [
        {
          "output_type": "execute_result",
          "data": {
            "text/plain": [
              "<matplotlib.axes._subplots.AxesSubplot at 0x7f27724e6f90>"
            ]
          },
          "metadata": {},
          "execution_count": 33
        },
        {
          "output_type": "display_data",
          "data": {
            "text/plain": [
              "<Figure size 432x288 with 1 Axes>"
            ],
            "image/png": "[encoded data removed]"
          },
          "metadata": {
            "needs_background": "light"
          }
        }
      ]
    },
    {
      "cell_type": "code",
      "source": [
        "sns.barplot(x='size',y='price',data=df1)"
      ],
      "metadata": {
        "colab": {
          "base_uri": "https://localhost:8080/",
          "height": 296
        },
        "id": "0Mf8VnFhWbMu",
        "outputId": "6adaa4da-689b-4585-ec30-a289d84c5cba"
      },
      "execution_count": 32,
      "outputs": [
        {
          "output_type": "execute_result",
          "data": {
            "text/plain": [
              "<matplotlib.axes._subplots.AxesSubplot at 0x7f27731bfb50>"
            ]
          },
          "metadata": {},
          "execution_count": 32
        },
        {
          "output_type": "display_data",
          "data": {
            "text/plain": [
              "<Figure size 432x288 with 1 Axes>"
            ],
            "image/png": "[encoded data removed]"
          },
          "metadata": {
            "needs_background": "light"
          }
        }
      ]
    },
    {
      "cell_type": "code",
      "source": [
        "df1.corr()"
      ],
      "metadata": {
        "colab": {
          "base_uri": "https://localhost:8080/",
          "height": 269
        },
        "id": "w08ewTENY3fC",
        "outputId": "a9a11f54-0dc4-4b62-85a3-2700feaabcd7"
      },
      "execution_count": 35,
      "outputs": [
        {
          "output_type": "execute_result",
          "data": {
            "text/plain": [
              "           area_type  location      size   society      bath   balcony  \\\n",
              "area_type   1.000000  0.033177 -0.121769 -0.128632 -0.101768  0.098609   \n",
              "location    0.033177  1.000000 -0.008418 -0.049399  0.003618  0.002593   \n",
              "size       -0.121769 -0.008418  1.000000  0.133643  0.895428  0.070203   \n",
              "society    -0.128632 -0.049399  0.133643  1.000000  0.110369 -0.061492   \n",
              "bath       -0.101768  0.003618  0.895428  0.110369  1.000000  0.075339   \n",
              "balcony     0.098609  0.002593  0.070203 -0.061492  0.075339  1.000000   \n",
              "price      -0.057359  0.011406  0.397787  0.047804  0.454449  0.019648   \n",
              "\n",
              "              price  \n",
              "area_type -0.057359  \n",
              "location   0.011406  \n",
              "size       0.397787  \n",
              "society    0.047804  \n",
              "bath       0.454449  \n",
              "balcony    0.019648  \n",
              "price      1.000000  "
            ],
            "text/html": [
              "\n",
              "  <div id=\"df-bbd260d7-bcf9-47c8-aa46-2943fb3626e6\">\n",
              "    <div class=\"colab-df-container\">\n",
              "      <div>\n",
              "<style scoped>\n",
              "    .dataframe tbody tr th:only-of-type {\n",
              "        vertical-align: middle;\n",
              "    }\n",
              "\n",
              "    .dataframe tbody tr th {\n",
              "        vertical-align: top;\n",
              "    }\n",
              "\n",
              "    .dataframe thead th {\n",
              "        text-align: right;\n",
              "    }\n",
              "</style>\n",
              "<table border=\"1\" class=\"dataframe\">\n",
              "  <thead>\n",
              "    <tr style=\"text-align: right;\">\n",
              "      <th></th>\n",
              "      <th>area_type</th>\n",
              "      <th>location</th>\n",
              "      <th>size</th>\n",
              "      <th>society</th>\n",
              "      <th>bath</th>\n",
              "      <th>balcony</th>\n",
              "      <th>price</th>\n",
              "    </tr>\n",
              "  </thead>\n",
              "  <tbody>\n",
              "    <tr>\n",
              "      <th>area_type</th>\n",
              "      <td>1.000000</td>\n",
              "      <td>0.033177</td>\n",
              "      <td>-0.121769</td>\n",
              "      <td>-0.128632</td>\n",
              "      <td>-0.101768</td>\n",
              "      <td>0.098609</td>\n",
              "      <td>-0.057359</td>\n",
              "    </tr>\n",
              "    <tr>\n",
              "      <th>location</th>\n",
              "      <td>0.033177</td>\n",
              "      <td>1.000000</td>\n",
              "      <td>-0.008418</td>\n",
              "      <td>-0.049399</td>\n",
              "      <td>0.003618</td>\n",
              "      <td>0.002593</td>\n",
              "      <td>0.011406</td>\n",
              "    </tr>\n",
              "    <tr>\n",
              "      <th>size</th>\n",
              "      <td>-0.121769</td>\n",
              "      <td>-0.008418</td>\n",
              "      <td>1.000000</td>\n",
              "      <td>0.133643</td>\n",
              "      <td>0.895428</td>\n",
              "      <td>0.070203</td>\n",
              "      <td>0.397787</td>\n",
              "    </tr>\n",
              "    <tr>\n",
              "      <th>society</th>\n",
              "      <td>-0.128632</td>\n",
              "      <td>-0.049399</td>\n",
              "      <td>0.133643</td>\n",
              "      <td>1.000000</td>\n",
              "      <td>0.110369</td>\n",
              "      <td>-0.061492</td>\n",
              "      <td>0.047804</td>\n",
              "    </tr>\n",
              "    <tr>\n",
              "      <th>bath</th>\n",
              "      <td>-0.101768</td>\n",
              "      <td>0.003618</td>\n",
              "      <td>0.895428</td>\n",
              "      <td>0.110369</td>\n",
              "      <td>1.000000</td>\n",
              "      <td>0.075339</td>\n",
              "      <td>0.454449</td>\n",
              "    </tr>\n",
              "    <tr>\n",
              "      <th>balcony</th>\n",
              "      <td>0.098609</td>\n",
              "      <td>0.002593</td>\n",
              "      <td>0.070203</td>\n",
              "      <td>-0.061492</td>\n",
              "      <td>0.075339</td>\n",
              "      <td>1.000000</td>\n",
              "      <td>0.019648</td>\n",
              "    </tr>\n",
              "    <tr>\n",
              "      <th>price</th>\n",
              "      <td>-0.057359</td>\n",
              "      <td>0.011406</td>\n",
              "      <td>0.397787</td>\n",
              "      <td>0.047804</td>\n",
              "      <td>0.454449</td>\n",
              "      <td>0.019648</td>\n",
              "      <td>1.000000</td>\n",
              "    </tr>\n",
              "  </tbody>\n",
              "</table>\n",
              "</div>\n",
              "      <button class=\"colab-df-convert\" onclick=\"convertToInteractive('df-bbd260d7-bcf9-47c8-aa46-2943fb3626e6')\"\n",
              "              title=\"Convert this dataframe to an interactive table.\"\n",
              "              style=\"display:none;\">\n",
              "        \n",
              "  <svg xmlns=\"http://www.w3.org/2000/svg\" height=\"24px\"viewBox=\"0 0 24 24\"\n",
              "       width=\"24px\">\n",
              "    <path d=\"M0 0h24v24H0V0z\" fill=\"none\"/>\n",
              "    <path d=\"M18.56 5.44l.94 2.06.94-2.06 2.06-.94-2.06-.94-.94-2.06-.94 2.06-2.06.94zm-11 1L8.5 8.5l.94-2.06 2.06-.94-2.06-.94L8.5 2.5l-.94 2.06-2.06.94zm10 10l.94 2.06.94-2.06 2.06-.94-2.06-.94-.94-2.06-.94 2.06-2.06.94z\"/><path d=\"M17.41 7.96l-1.37-1.37c-.4-.4-.92-.59-1.43-.59-.52 0-1.04.2-1.43.59L10.3 9.45l-7.72 7.72c-.78.78-.78 2.05 0 2.83L4 21.41c.39.39.9.59 1.41.59.51 0 1.02-.2 1.41-.59l7.78-7.78 2.81-2.81c.8-.78.8-2.07 0-2.86zM5.41 20L4 18.59l7.72-7.72 1.47 1.35L5.41 20z\"/>\n",
              "  </svg>\n",
              "      </button>\n",
              "      \n",
              "  <style>\n",
              "    .colab-df-container {\n",
              "      display:flex;\n",
              "      flex-wrap:wrap;\n",
              "      gap: 12px;\n",
              "    }\n",
              "\n",
              "    .colab-df-convert {\n",
              "      background-color: #E8F0FE;\n",
              "      border: none;\n",
              "      border-radius: 50%;\n",
              "      cursor: pointer;\n",
              "      display: none;\n",
              "      fill: #1967D2;\n",
              "      height: 32px;\n",
              "      padding: 0 0 0 0;\n",
              "      width: 32px;\n",
              "    }\n",
              "\n",
              "    .colab-df-convert:hover {\n",
              "      background-color: #E2EBFA;\n",
              "      box-shadow: 0px 1px 2px rgba(60, 64, 67, 0.3), 0px 1px 3px 1px rgba(60, 64, 67, 0.15);\n",
              "      fill: #174EA6;\n",
              "    }\n",
              "\n",
              "    [theme=dark] .colab-df-convert {\n",
              "      background-color: #3B4455;\n",
              "      fill: #D2E3FC;\n",
              "    }\n",
              "\n",
              "    [theme=dark] .colab-df-convert:hover {\n",
              "      background-color: #434B5C;\n",
              "      box-shadow: 0px 1px 3px 1px rgba(0, 0, 0, 0.15);\n",
              "      filter: drop-shadow(0px 1px 2px rgba(0, 0, 0, 0.3));\n",
              "      fill: #FFFFFF;\n",
              "    }\n",
              "  </style>\n",
              "\n",
              "      <script>\n",
              "        const buttonEl =\n",
              "          document.querySelector('#df-bbd260d7-bcf9-47c8-aa46-2943fb3626e6 button.colab-df-convert');\n",
              "        buttonEl.style.display =\n",
              "          google.colab.kernel.accessAllowed ? 'block' : 'none';\n",
              "\n",
              "        async function convertToInteractive(key) {\n",
              "          const element = document.querySelector('#df-bbd260d7-bcf9-47c8-aa46-2943fb3626e6');\n",
              "          const dataTable =\n",
              "            await google.colab.kernel.invokeFunction('convertToInteractive',\n",
              "                                                     [key], {});\n",
              "          if (!dataTable) return;\n",
              "\n",
              "          const docLinkHtml = 'Like what you see? Visit the ' +\n",
              "            '<a target=\"_blank\" href=https://colab.research.google.com/notebooks/data_table.ipynb>data table notebook</a>'\n",
              "            + ' to learn more about interactive tables.';\n",
              "          element.innerHTML = '';\n",
              "          dataTable['output_type'] = 'display_data';\n",
              "          await google.colab.output.renderOutput(dataTable, element);\n",
              "          const docLink = document.createElement('div');\n",
              "          docLink.innerHTML = docLinkHtml;\n",
              "          element.appendChild(docLink);\n",
              "        }\n",
              "      </script>\n",
              "    </div>\n",
              "  </div>\n",
              "  "
            ]
          },
          "metadata": {},
          "execution_count": 35
        }
      ]
    },
    {
      "cell_type": "code",
      "source": [
        "df1.corr()['price']"
      ],
      "metadata": {
        "colab": {
          "base_uri": "https://localhost:8080/"
        },
        "id": "XMBHgd27Y3SL",
        "outputId": "b6c08f5a-dec1-4b1e-ef28-42e0fd4f28b7"
      },
      "execution_count": 229,
      "outputs": [
        {
          "output_type": "execute_result",
          "data": {
            "text/plain": [
              "area_type    -0.057359\n",
              "location      0.038930\n",
              "size          0.397787\n",
              "society       0.047804\n",
              "total_sqft    0.575559\n",
              "bath          0.454449\n",
              "balcony       0.019648\n",
              "price         1.000000\n",
              "Name: price, dtype: float64"
            ]
          },
          "metadata": {},
          "execution_count": 229
        }
      ]
    },
    {
      "cell_type": "markdown",
      "source": [
        "##Model selection and Model Training"
      ],
      "metadata": {
        "id": "6x2WLn_raBWR"
      }
    },
    {
      "cell_type": "code",
      "source": [
        "from sklearn.model_selection import train_test_split,cross_val_score,GridSearchCV\n",
        "from sklearn.preprocessing import StandardScaler\n",
        "from sklearn.pipeline import make_pipeline,Pipeline\n",
        "from sklearn.metrics import r2_score,accuracy_score\n",
        "from sklearn.compose import make_column_transformer"
      ],
      "metadata": {
        "id": "b8S2b_AcaBIk"
      },
      "execution_count": 209,
      "outputs": []
    },
    {
      "cell_type": "code",
      "source": [
        "df1.head()"
      ],
      "metadata": {
        "colab": {
          "base_uri": "https://localhost:8080/",
          "height": 206
        },
        "id": "Q_byg6EGaVer",
        "outputId": "c458fefe-8071-46fd-99dc-0281d50f4009"
      },
      "execution_count": 214,
      "outputs": [
        {
          "output_type": "execute_result",
          "data": {
            "text/plain": [
              "   area_type  location  size  society  total_sqft  bath  balcony   price\n",
              "0          3       217     2      464      1056.0     2        1   39.07\n",
              "1          2       160     4     2440      2600.0     5        3  120.00\n",
              "2          0       604     3     2351      1440.0     2        3   62.00\n",
              "3          3       398     3     2186      1521.0     3        1   95.00\n",
              "4          3       375     2     2351      1200.0     2        1   51.00"
            ],
            "text/html": [
              "\n",
              "  <div id=\"df-67fb372c-9563-454d-8ff6-3751f6afe787\">\n",
              "    <div class=\"colab-df-container\">\n",
              "      <div>\n",
              "<style scoped>\n",
              "    .dataframe tbody tr th:only-of-type {\n",
              "        vertical-align: middle;\n",
              "    }\n",
              "\n",
              "    .dataframe tbody tr th {\n",
              "        vertical-align: top;\n",
              "    }\n",
              "\n",
              "    .dataframe thead th {\n",
              "        text-align: right;\n",
              "    }\n",
              "</style>\n",
              "<table border=\"1\" class=\"dataframe\">\n",
              "  <thead>\n",
              "    <tr style=\"text-align: right;\">\n",
              "      <th></th>\n",
              "      <th>area_type</th>\n",
              "      <th>location</th>\n",
              "      <th>size</th>\n",
              "      <th>society</th>\n",
              "      <th>total_sqft</th>\n",
              "      <th>bath</th>\n",
              "      <th>balcony</th>\n",
              "      <th>price</th>\n",
              "    </tr>\n",
              "  </thead>\n",
              "  <tbody>\n",
              "    <tr>\n",
              "      <th>0</th>\n",
              "      <td>3</td>\n",
              "      <td>217</td>\n",
              "      <td>2</td>\n",
              "      <td>464</td>\n",
              "      <td>1056.0</td>\n",
              "      <td>2</td>\n",
              "      <td>1</td>\n",
              "      <td>39.07</td>\n",
              "    </tr>\n",
              "    <tr>\n",
              "      <th>1</th>\n",
              "      <td>2</td>\n",
              "      <td>160</td>\n",
              "      <td>4</td>\n",
              "      <td>2440</td>\n",
              "      <td>2600.0</td>\n",
              "      <td>5</td>\n",
              "      <td>3</td>\n",
              "      <td>120.00</td>\n",
              "    </tr>\n",
              "    <tr>\n",
              "      <th>2</th>\n",
              "      <td>0</td>\n",
              "      <td>604</td>\n",
              "      <td>3</td>\n",
              "      <td>2351</td>\n",
              "      <td>1440.0</td>\n",
              "      <td>2</td>\n",
              "      <td>3</td>\n",
              "      <td>62.00</td>\n",
              "    </tr>\n",
              "    <tr>\n",
              "      <th>3</th>\n",
              "      <td>3</td>\n",
              "      <td>398</td>\n",
              "      <td>3</td>\n",
              "      <td>2186</td>\n",
              "      <td>1521.0</td>\n",
              "      <td>3</td>\n",
              "      <td>1</td>\n",
              "      <td>95.00</td>\n",
              "    </tr>\n",
              "    <tr>\n",
              "      <th>4</th>\n",
              "      <td>3</td>\n",
              "      <td>375</td>\n",
              "      <td>2</td>\n",
              "      <td>2351</td>\n",
              "      <td>1200.0</td>\n",
              "      <td>2</td>\n",
              "      <td>1</td>\n",
              "      <td>51.00</td>\n",
              "    </tr>\n",
              "  </tbody>\n",
              "</table>\n",
              "</div>\n",
              "      <button class=\"colab-df-convert\" onclick=\"convertToInteractive('df-67fb372c-9563-454d-8ff6-3751f6afe787')\"\n",
              "              title=\"Convert this dataframe to an interactive table.\"\n",
              "              style=\"display:none;\">\n",
              "        \n",
              "  <svg xmlns=\"http://www.w3.org/2000/svg\" height=\"24px\"viewBox=\"0 0 24 24\"\n",
              "       width=\"24px\">\n",
              "    <path d=\"M0 0h24v24H0V0z\" fill=\"none\"/>\n",
              "    <path d=\"M18.56 5.44l.94 2.06.94-2.06 2.06-.94-2.06-.94-.94-2.06-.94 2.06-2.06.94zm-11 1L8.5 8.5l.94-2.06 2.06-.94-2.06-.94L8.5 2.5l-.94 2.06-2.06.94zm10 10l.94 2.06.94-2.06 2.06-.94-2.06-.94-.94-2.06-.94 2.06-2.06.94z\"/><path d=\"M17.41 7.96l-1.37-1.37c-.4-.4-.92-.59-1.43-.59-.52 0-1.04.2-1.43.59L10.3 9.45l-7.72 7.72c-.78.78-.78 2.05 0 2.83L4 21.41c.39.39.9.59 1.41.59.51 0 1.02-.2 1.41-.59l7.78-7.78 2.81-2.81c.8-.78.8-2.07 0-2.86zM5.41 20L4 18.59l7.72-7.72 1.47 1.35L5.41 20z\"/>\n",
              "  </svg>\n",
              "      </button>\n",
              "      \n",
              "  <style>\n",
              "    .colab-df-container {\n",
              "      display:flex;\n",
              "      flex-wrap:wrap;\n",
              "      gap: 12px;\n",
              "    }\n",
              "\n",
              "    .colab-df-convert {\n",
              "      background-color: #E8F0FE;\n",
              "      border: none;\n",
              "      border-radius: 50%;\n",
              "      cursor: pointer;\n",
              "      display: none;\n",
              "      fill: #1967D2;\n",
              "      height: 32px;\n",
              "      padding: 0 0 0 0;\n",
              "      width: 32px;\n",
              "    }\n",
              "\n",
              "    .colab-df-convert:hover {\n",
              "      background-color: #E2EBFA;\n",
              "      box-shadow: 0px 1px 2px rgba(60, 64, 67, 0.3), 0px 1px 3px 1px rgba(60, 64, 67, 0.15);\n",
              "      fill: #174EA6;\n",
              "    }\n",
              "\n",
              "    [theme=dark] .colab-df-convert {\n",
              "      background-color: #3B4455;\n",
              "      fill: #D2E3FC;\n",
              "    }\n",
              "\n",
              "    [theme=dark] .colab-df-convert:hover {\n",
              "      background-color: #434B5C;\n",
              "      box-shadow: 0px 1px 3px 1px rgba(0, 0, 0, 0.15);\n",
              "      filter: drop-shadow(0px 1px 2px rgba(0, 0, 0, 0.3));\n",
              "      fill: #FFFFFF;\n",
              "    }\n",
              "  </style>\n",
              "\n",
              "      <script>\n",
              "        const buttonEl =\n",
              "          document.querySelector('#df-67fb372c-9563-454d-8ff6-3751f6afe787 button.colab-df-convert');\n",
              "        buttonEl.style.display =\n",
              "          google.colab.kernel.accessAllowed ? 'block' : 'none';\n",
              "\n",
              "        async function convertToInteractive(key) {\n",
              "          const element = document.querySelector('#df-67fb372c-9563-454d-8ff6-3751f6afe787');\n",
              "          const dataTable =\n",
              "            await google.colab.kernel.invokeFunction('convertToInteractive',\n",
              "                                                     [key], {});\n",
              "          if (!dataTable) return;\n",
              "\n",
              "          const docLinkHtml = 'Like what you see? Visit the ' +\n",
              "            '<a target=\"_blank\" href=https://colab.research.google.com/notebooks/data_table.ipynb>data table notebook</a>'\n",
              "            + ' to learn more about interactive tables.';\n",
              "          element.innerHTML = '';\n",
              "          dataTable['output_type'] = 'display_data';\n",
              "          await google.colab.output.renderOutput(dataTable, element);\n",
              "          const docLink = document.createElement('div');\n",
              "          docLink.innerHTML = docLinkHtml;\n",
              "          element.appendChild(docLink);\n",
              "        }\n",
              "      </script>\n",
              "    </div>\n",
              "  </div>\n",
              "  "
            ]
          },
          "metadata": {},
          "execution_count": 214
        }
      ]
    },
    {
      "cell_type": "code",
      "source": [
        "y_train.values.reshape(len(y_train.values),1)"
      ],
      "metadata": {
        "colab": {
          "base_uri": "https://localhost:8080/"
        },
        "id": "YGYK9L07H18s",
        "outputId": "dcb7914d-4242-46e0-a833-80f44206e2f4"
      },
      "execution_count": 97,
      "outputs": [
        {
          "output_type": "execute_result",
          "data": {
            "text/plain": [
              "array([[ 95. ],\n",
              "       [115. ],\n",
              "       [ 51.5],\n",
              "       ...,\n",
              "       [200. ],\n",
              "       [ 74. ],\n",
              "       [ 60. ]])"
            ]
          },
          "metadata": {},
          "execution_count": 97
        }
      ]
    },
    {
      "cell_type": "code",
      "source": [
        "sc = StandardScaler()\n",
        "sc_o = StandardScaler()"
      ],
      "metadata": {
        "id": "H8FTkJrTptKX"
      },
      "execution_count": 136,
      "outputs": []
    },
    {
      "cell_type": "code",
      "source": [
        "X_train_s = sc.fit_transform(X_train)\n",
        "#sc_o.fit_transform(y_train[:])"
      ],
      "metadata": {
        "id": "F7yHNC-BzL8w"
      },
      "execution_count": 137,
      "outputs": []
    },
    {
      "cell_type": "code",
      "source": [
        "y_train_s = sc_o.fit_transform(y_train.values.reshape(len(y_train.values),1))"
      ],
      "metadata": {
        "id": "Lu8sBefmGBTc"
      },
      "execution_count": 138,
      "outputs": []
    },
    {
      "cell_type": "code",
      "source": [
        "sc_o.inverse_transform([y_train_s[0]])"
      ],
      "metadata": {
        "colab": {
          "base_uri": "https://localhost:8080/"
        },
        "id": "81t4yaD9JHBF",
        "outputId": "b6d3ab45-b3f3-4c73-d2e5-ca4a7ae523f7"
      },
      "execution_count": 105,
      "outputs": [
        {
          "output_type": "execute_result",
          "data": {
            "text/plain": [
              "array([[95.]])"
            ]
          },
          "metadata": {},
          "execution_count": 105
        }
      ]
    },
    {
      "cell_type": "code",
      "source": [
        "y_train[:]"
      ],
      "metadata": {
        "colab": {
          "base_uri": "https://localhost:8080/"
        },
        "id": "o4VDVRa5FNI8",
        "outputId": "7f319725-9960-484f-fb1a-bb0f581b7771"
      },
      "execution_count": 82,
      "outputs": [
        {
          "output_type": "execute_result",
          "data": {
            "text/plain": [
              "9226      95.00\n",
              "4972     115.00\n",
              "10201     51.50\n",
              "5495      68.80\n",
              "10901     36.25\n",
              "          ...  \n",
              "13123     69.00\n",
              "3264     146.00\n",
              "9845     200.00\n",
              "10799     74.00\n",
              "2732      60.00\n",
              "Name: price, Length: 10656, dtype: float64"
            ]
          },
          "metadata": {},
          "execution_count": 82
        }
      ]
    },
    {
      "cell_type": "code",
      "source": [
        "X_test_s = sc.transform(X_test)"
      ],
      "metadata": {
        "id": "vLs1KhczJig_"
      },
      "execution_count": 139,
      "outputs": []
    },
    {
      "cell_type": "code",
      "source": [
        "y_test_s = sc_o.transform(y_test.values.reshape(len(y_test.values),1))"
      ],
      "metadata": {
        "id": "aLfxllFMRtH1"
      },
      "execution_count": 140,
      "outputs": []
    },
    {
      "cell_type": "code",
      "source": [
        "#X_train.total_sqft = sc.fit_transform(X_train.loc[:,['total_sqft']].astype(float))\n",
        "#X_test.total_sqft = sc.transform(X_test.loc[:,['total_sqft']].astype(float))"
      ],
      "metadata": {
        "id": "eycvBL6SryXF"
      },
      "execution_count": 58,
      "outputs": []
    },
    {
      "cell_type": "code",
      "source": [
        ""
      ],
      "metadata": {
        "colab": {
          "base_uri": "https://localhost:8080/"
        },
        "id": "ka5O0qCmrySH",
        "outputId": "b924b9dc-3359-4a4d-8c5f-e8de37b96b3e"
      },
      "execution_count": 114,
      "outputs": [
        {
          "output_type": "execute_result",
          "data": {
            "text/plain": [
              "array([[-0.46703803],\n",
              "       [ 0.029332  ],\n",
              "       [-0.25315501],\n",
              "       [-0.32041382],\n",
              "       [-0.11863738]])"
            ]
          },
          "metadata": {},
          "execution_count": 114
        }
      ]
    },
    {
      "cell_type": "code",
      "source": [
        "X_train.head()"
      ],
      "metadata": {
        "colab": {
          "base_uri": "https://localhost:8080/",
          "height": 206
        },
        "id": "hSyAKrJCryOw",
        "outputId": "918374f9-ed26-4e0a-eef4-23e6c2df085a"
      },
      "execution_count": 141,
      "outputs": [
        {
          "output_type": "execute_result",
          "data": {
            "text/plain": [
              "       size  total_sqft  bath  balcony  Built-up__Area  Carpet__Area  \\\n",
              "9226      3      1600.0     3        2             0.0           0.0   \n",
              "4972      7         5.0     7        3             1.0           0.0   \n",
              "10201     2      1263.0     2        1             0.0           0.0   \n",
              "5495      2      1314.0     2        2             0.0           0.0   \n",
              "10901     2      1110.0     2        2             0.0           0.0   \n",
              "\n",
              "       Super_built-up__Area  \n",
              "9226                    1.0  \n",
              "4972                    0.0  \n",
              "10201                   1.0  \n",
              "5495                    1.0  \n",
              "10901                   1.0  "
            ],
            "text/html": [
              "\n",
              "  <div id=\"df-c18fbcb2-5bfa-4775-88cc-1ab679c5cc70\">\n",
              "    <div class=\"colab-df-container\">\n",
              "      <div>\n",
              "<style scoped>\n",
              "    .dataframe tbody tr th:only-of-type {\n",
              "        vertical-align: middle;\n",
              "    }\n",
              "\n",
              "    .dataframe tbody tr th {\n",
              "        vertical-align: top;\n",
              "    }\n",
              "\n",
              "    .dataframe thead th {\n",
              "        text-align: right;\n",
              "    }\n",
              "</style>\n",
              "<table border=\"1\" class=\"dataframe\">\n",
              "  <thead>\n",
              "    <tr style=\"text-align: right;\">\n",
              "      <th></th>\n",
              "      <th>size</th>\n",
              "      <th>total_sqft</th>\n",
              "      <th>bath</th>\n",
              "      <th>balcony</th>\n",
              "      <th>Built-up__Area</th>\n",
              "      <th>Carpet__Area</th>\n",
              "      <th>Super_built-up__Area</th>\n",
              "    </tr>\n",
              "  </thead>\n",
              "  <tbody>\n",
              "    <tr>\n",
              "      <th>9226</th>\n",
              "      <td>3</td>\n",
              "      <td>1600.0</td>\n",
              "      <td>3</td>\n",
              "      <td>2</td>\n",
              "      <td>0.0</td>\n",
              "      <td>0.0</td>\n",
              "      <td>1.0</td>\n",
              "    </tr>\n",
              "    <tr>\n",
              "      <th>4972</th>\n",
              "      <td>7</td>\n",
              "      <td>5.0</td>\n",
              "      <td>7</td>\n",
              "      <td>3</td>\n",
              "      <td>1.0</td>\n",
              "      <td>0.0</td>\n",
              "      <td>0.0</td>\n",
              "    </tr>\n",
              "    <tr>\n",
              "      <th>10201</th>\n",
              "      <td>2</td>\n",
              "      <td>1263.0</td>\n",
              "      <td>2</td>\n",
              "      <td>1</td>\n",
              "      <td>0.0</td>\n",
              "      <td>0.0</td>\n",
              "      <td>1.0</td>\n",
              "    </tr>\n",
              "    <tr>\n",
              "      <th>5495</th>\n",
              "      <td>2</td>\n",
              "      <td>1314.0</td>\n",
              "      <td>2</td>\n",
              "      <td>2</td>\n",
              "      <td>0.0</td>\n",
              "      <td>0.0</td>\n",
              "      <td>1.0</td>\n",
              "    </tr>\n",
              "    <tr>\n",
              "      <th>10901</th>\n",
              "      <td>2</td>\n",
              "      <td>1110.0</td>\n",
              "      <td>2</td>\n",
              "      <td>2</td>\n",
              "      <td>0.0</td>\n",
              "      <td>0.0</td>\n",
              "      <td>1.0</td>\n",
              "    </tr>\n",
              "  </tbody>\n",
              "</table>\n",
              "</div>\n",
              "      <button class=\"colab-df-convert\" onclick=\"convertToInteractive('df-c18fbcb2-5bfa-4775-88cc-1ab679c5cc70')\"\n",
              "              title=\"Convert this dataframe to an interactive table.\"\n",
              "              style=\"display:none;\">\n",
              "        \n",
              "  <svg xmlns=\"http://www.w3.org/2000/svg\" height=\"24px\"viewBox=\"0 0 24 24\"\n",
              "       width=\"24px\">\n",
              "    <path d=\"M0 0h24v24H0V0z\" fill=\"none\"/>\n",
              "    <path d=\"M18.56 5.44l.94 2.06.94-2.06 2.06-.94-2.06-.94-.94-2.06-.94 2.06-2.06.94zm-11 1L8.5 8.5l.94-2.06 2.06-.94-2.06-.94L8.5 2.5l-.94 2.06-2.06.94zm10 10l.94 2.06.94-2.06 2.06-.94-2.06-.94-.94-2.06-.94 2.06-2.06.94z\"/><path d=\"M17.41 7.96l-1.37-1.37c-.4-.4-.92-.59-1.43-.59-.52 0-1.04.2-1.43.59L10.3 9.45l-7.72 7.72c-.78.78-.78 2.05 0 2.83L4 21.41c.39.39.9.59 1.41.59.51 0 1.02-.2 1.41-.59l7.78-7.78 2.81-2.81c.8-.78.8-2.07 0-2.86zM5.41 20L4 18.59l7.72-7.72 1.47 1.35L5.41 20z\"/>\n",
              "  </svg>\n",
              "      </button>\n",
              "      \n",
              "  <style>\n",
              "    .colab-df-container {\n",
              "      display:flex;\n",
              "      flex-wrap:wrap;\n",
              "      gap: 12px;\n",
              "    }\n",
              "\n",
              "    .colab-df-convert {\n",
              "      background-color: #E8F0FE;\n",
              "      border: none;\n",
              "      border-radius: 50%;\n",
              "      cursor: pointer;\n",
              "      display: none;\n",
              "      fill: #1967D2;\n",
              "      height: 32px;\n",
              "      padding: 0 0 0 0;\n",
              "      width: 32px;\n",
              "    }\n",
              "\n",
              "    .colab-df-convert:hover {\n",
              "      background-color: #E2EBFA;\n",
              "      box-shadow: 0px 1px 2px rgba(60, 64, 67, 0.3), 0px 1px 3px 1px rgba(60, 64, 67, 0.15);\n",
              "      fill: #174EA6;\n",
              "    }\n",
              "\n",
              "    [theme=dark] .colab-df-convert {\n",
              "      background-color: #3B4455;\n",
              "      fill: #D2E3FC;\n",
              "    }\n",
              "\n",
              "    [theme=dark] .colab-df-convert:hover {\n",
              "      background-color: #434B5C;\n",
              "      box-shadow: 0px 1px 3px 1px rgba(0, 0, 0, 0.15);\n",
              "      filter: drop-shadow(0px 1px 2px rgba(0, 0, 0, 0.3));\n",
              "      fill: #FFFFFF;\n",
              "    }\n",
              "  </style>\n",
              "\n",
              "      <script>\n",
              "        const buttonEl =\n",
              "          document.querySelector('#df-c18fbcb2-5bfa-4775-88cc-1ab679c5cc70 button.colab-df-convert');\n",
              "        buttonEl.style.display =\n",
              "          google.colab.kernel.accessAllowed ? 'block' : 'none';\n",
              "\n",
              "        async function convertToInteractive(key) {\n",
              "          const element = document.querySelector('#df-c18fbcb2-5bfa-4775-88cc-1ab679c5cc70');\n",
              "          const dataTable =\n",
              "            await google.colab.kernel.invokeFunction('convertToInteractive',\n",
              "                                                     [key], {});\n",
              "          if (!dataTable) return;\n",
              "\n",
              "          const docLinkHtml = 'Like what you see? Visit the ' +\n",
              "            '<a target=\"_blank\" href=https://colab.research.google.com/notebooks/data_table.ipynb>data table notebook</a>'\n",
              "            + ' to learn more about interactive tables.';\n",
              "          element.innerHTML = '';\n",
              "          dataTable['output_type'] = 'display_data';\n",
              "          await google.colab.output.renderOutput(dataTable, element);\n",
              "          const docLink = document.createElement('div');\n",
              "          docLink.innerHTML = docLinkHtml;\n",
              "          element.appendChild(docLink);\n",
              "        }\n",
              "      </script>\n",
              "    </div>\n",
              "  </div>\n",
              "  "
            ]
          },
          "metadata": {},
          "execution_count": 141
        }
      ]
    },
    {
      "cell_type": "code",
      "source": [
        "y_train_s"
      ],
      "metadata": {
        "colab": {
          "base_uri": "https://localhost:8080/"
        },
        "id": "kyVs2GLgT1WE",
        "outputId": "7e96357c-75b6-43b5-b9b4-a8f1131aec24"
      },
      "execution_count": 151,
      "outputs": [
        {
          "output_type": "execute_result",
          "data": {
            "text/plain": [
              "array([[-0.11863738],\n",
              "       [ 0.01588024],\n",
              "       [-0.41121321],\n",
              "       ...,\n",
              "       [ 0.58758014],\n",
              "       [-0.25988089],\n",
              "       [-0.35404322]])"
            ]
          },
          "metadata": {},
          "execution_count": 151
        }
      ]
    },
    {
      "cell_type": "code",
      "source": [
        "X_train_s[:5]"
      ],
      "metadata": {
        "colab": {
          "base_uri": "https://localhost:8080/"
        },
        "id": "_dnGDhBHTVaB",
        "outputId": "7f6d264c-9caa-4c93-d9b1-5c8b2cb00e4a"
      },
      "execution_count": 143,
      "outputs": [
        {
          "output_type": "execute_result",
          "data": {
            "text/plain": [
              "array([[ 0.15292233,  0.0333055 ,  0.22997779,  0.56046635, -0.47371445,\n",
              "        -0.07954446,  0.71683429],\n",
              "       [ 3.22607721, -1.31743012,  3.18879861,  1.71098253,  2.11097636,\n",
              "        -0.07954446, -1.39502255],\n",
              "       [-0.61536639, -0.25208504, -0.50972741, -0.59004982, -0.47371445,\n",
              "        -0.07954446,  0.71683429],\n",
              "       [-0.61536639, -0.20889537, -0.50972741,  0.56046635, -0.47371445,\n",
              "        -0.07954446,  0.71683429],\n",
              "       [-0.61536639, -0.38165403, -0.50972741,  0.56046635, -0.47371445,\n",
              "        -0.07954446,  0.71683429]])"
            ]
          },
          "metadata": {},
          "execution_count": 143
        }
      ]
    },
    {
      "cell_type": "code",
      "source": [
        ""
      ],
      "metadata": {
        "id": "mtmhidLaXll2"
      },
      "execution_count": null,
      "outputs": []
    },
    {
      "cell_type": "code",
      "source": [
        ""
      ],
      "metadata": {
        "id": "4HrUR8AGXlj3"
      },
      "execution_count": null,
      "outputs": []
    },
    {
      "cell_type": "code",
      "source": [
        ""
      ],
      "metadata": {
        "id": "zpIgRh5rXlhm"
      },
      "execution_count": null,
      "outputs": []
    },
    {
      "cell_type": "code",
      "source": [
        ""
      ],
      "metadata": {
        "id": "jgg7c4oZXlfF"
      },
      "execution_count": null,
      "outputs": []
    },
    {
      "cell_type": "code",
      "source": [
        "df_m.columns"
      ],
      "metadata": {
        "colab": {
          "base_uri": "https://localhost:8080/"
        },
        "id": "IVjsbgrKWMbv",
        "outputId": "5c0a6d46-5031-4c14-9527-59555d543133"
      },
      "execution_count": 177,
      "outputs": [
        {
          "output_type": "execute_result",
          "data": {
            "text/plain": [
              "Index(['size', 'total_sqft', 'bath', 'balcony', 'price', 'Built-up__Area',\n",
              "       'Carpet__Area', 'Super_built-up__Area'],\n",
              "      dtype='object')"
            ]
          },
          "metadata": {},
          "execution_count": 177
        }
      ]
    },
    {
      "cell_type": "code",
      "source": [
        "# Separate Target Variable and Predictor Variables\n",
        "TargetVariable=['price']\n",
        "Predictors=['size', 'total_sqft', 'bath', 'balcony', 'Built-up__Area','Carpet__Area', 'Super_built-up__Area']"
      ],
      "metadata": {
        "id": "eJ9_CzTzWMZT"
      },
      "execution_count": 230,
      "outputs": []
    },
    {
      "cell_type": "code",
      "source": [
        "X=df_m[Predictors].values\n",
        "y=df_m[TargetVariable].values"
      ],
      "metadata": {
        "id": "1yWxbak4WMWb"
      },
      "execution_count": 231,
      "outputs": []
    },
    {
      "cell_type": "code",
      "source": [
        "### Sandardization of data ###\n",
        "PredictorScaler=StandardScaler()\n",
        "TargetVarScaler=StandardScaler()"
      ],
      "metadata": {
        "id": "8QRaLO7gXksy"
      },
      "execution_count": 232,
      "outputs": []
    },
    {
      "cell_type": "code",
      "source": [
        "# Storing the fit object for later reference\n",
        "PredictorScalerFit=PredictorScaler.fit(X)\n",
        "TargetVarScalerFit=TargetVarScaler.fit(y)"
      ],
      "metadata": {
        "id": "xRMC6s2RXkpb"
      },
      "execution_count": 233,
      "outputs": []
    },
    {
      "cell_type": "code",
      "source": [
        "# Generating the standardized values of X and y\n",
        "X=PredictorScalerFit.transform(X)\n",
        "y=TargetVarScalerFit.transform(y)"
      ],
      "metadata": {
        "id": "GryMiqYoXkm4"
      },
      "execution_count": 234,
      "outputs": []
    },
    {
      "cell_type": "code",
      "source": [
        "# Split the data into training and testing set\n",
        "from sklearn.model_selection import train_test_split\n",
        "X_train, X_test, y_train, y_test = train_test_split(X, y, test_size=0.3, random_state=42)"
      ],
      "metadata": {
        "id": "KUhdd4JQXkkB"
      },
      "execution_count": 235,
      "outputs": []
    },
    {
      "cell_type": "code",
      "source": [
        "print('The shape of X_train =',X_train.shape)\n",
        "print('The shape of X_test = ',X_test.shape)\n",
        "print('The shape of y_train = ',y_train.shape)\n",
        "print('The shape of y_test = ',y_test.shape)"
      ],
      "metadata": {
        "colab": {
          "base_uri": "https://localhost:8080/"
        },
        "id": "2kwUEe6NXkhV",
        "outputId": "966425e8-1383-46bd-d199-060c1ee7563a"
      },
      "execution_count": 236,
      "outputs": [
        {
          "output_type": "stream",
          "name": "stdout",
          "text": [
            "The shape of X_train = (9324, 7)\n",
            "The shape of X_test =  (3996, 7)\n",
            "The shape of y_train =  (9324, 1)\n",
            "The shape of y_test =  (3996, 1)\n"
          ]
        }
      ]
    },
    {
      "cell_type": "code",
      "source": [
        "X_train[:5]"
      ],
      "metadata": {
        "colab": {
          "base_uri": "https://localhost:8080/"
        },
        "id": "JbGuN0GHX5p0",
        "outputId": "682cc269-75a4-408d-9cd2-c1f33d070fde"
      },
      "execution_count": 237,
      "outputs": [
        {
          "output_type": "execute_result",
          "data": {
            "text/plain": [
              "array([[ 0.15314529,  0.35561049,  0.2324534 ,  0.56475221, -0.47095028,\n",
              "        -0.08108312,  0.71788464],\n",
              "       [ 0.15314529,  0.67942622,  0.2324534 ,  0.56475221, -0.47095028,\n",
              "        -0.08108312,  0.71788464],\n",
              "       [ 0.15314529,  0.25063282,  0.2324534 ,  0.56475221, -0.47095028,\n",
              "        -0.08108312,  0.71788464],\n",
              "       [-1.3904758 , -0.77491826, -1.26152937, -1.74950696, -0.47095028,\n",
              "        -0.08108312,  0.71788464],\n",
              "       [ 0.92495583,  2.47494811, -0.51453799, -1.74950696, -0.47095028,\n",
              "        -0.08108312,  0.71788464]])"
            ]
          },
          "metadata": {},
          "execution_count": 237
        }
      ]
    },
    {
      "cell_type": "code",
      "source": [
        "y_train[:5]"
      ],
      "metadata": {
        "colab": {
          "base_uri": "https://localhost:8080/"
        },
        "id": "clGxRlJSYcr-",
        "outputId": "3a34a4ee-691f-43fc-e5a9-79ce55254641"
      },
      "execution_count": 238,
      "outputs": [
        {
          "output_type": "execute_result",
          "data": {
            "text/plain": [
              "array([[ 0.58694149],\n",
              "       [ 0.48624742],\n",
              "       [-0.15148164],\n",
              "       [-0.50055439],\n",
              "       [ 2.28531468]])"
            ]
          },
          "metadata": {},
          "execution_count": 238
        }
      ]
    },
    {
      "cell_type": "code",
      "source": [
        "X_test[:5]"
      ],
      "metadata": {
        "colab": {
          "base_uri": "https://localhost:8080/"
        },
        "id": "QEwlka2GX5iu",
        "outputId": "865702f6-705b-4639-d589-34f30f6cc770"
      },
      "execution_count": 239,
      "outputs": [
        {
          "output_type": "execute_result",
          "data": {
            "text/plain": [
              "array([[-0.61866525, -0.41153402, -0.51453799, -0.59237737,  2.1233664 ,\n",
              "        -0.08108312, -1.39298146],\n",
              "       [ 0.15314529,  0.10527912,  0.2324534 , -0.59237737, -0.47095028,\n",
              "        -0.08108312,  0.71788464],\n",
              "       [-0.61866525, -0.37115799, -0.51453799, -0.59237737,  2.1233664 ,\n",
              "        -0.08108312, -1.39298146],\n",
              "       [ 2.46857692, -0.29040594,  0.97944479,  0.56475221, -0.47095028,\n",
              "        -0.08108312, -1.39298146],\n",
              "       [ 0.92495583,  0.70203679,  0.2324534 , -0.59237737,  2.1233664 ,\n",
              "        -0.08108312, -1.39298146]])"
            ]
          },
          "metadata": {},
          "execution_count": 239
        }
      ]
    },
    {
      "cell_type": "code",
      "source": [
        ""
      ],
      "metadata": {
        "id": "9GXVzFstX5aX"
      },
      "execution_count": null,
      "outputs": []
    },
    {
      "cell_type": "code",
      "source": [
        ""
      ],
      "metadata": {
        "id": "jxj1juk0X5Wq"
      },
      "execution_count": null,
      "outputs": []
    },
    {
      "cell_type": "markdown",
      "source": [
        "##Using ANN"
      ],
      "metadata": {
        "id": "mmlGYuzHqcuw"
      }
    },
    {
      "cell_type": "code",
      "source": [
        "# Installing required libraries\n",
        "!pip install tensorflow\n",
        "!pip install keras"
      ],
      "metadata": {
        "id": "l-V4G9laptF1"
      },
      "execution_count": null,
      "outputs": []
    },
    {
      "cell_type": "code",
      "source": [
        "# importing the libraries\n",
        "from keras.models import Sequential\n",
        "from keras.layers import Dense"
      ],
      "metadata": {
        "id": "4IEWuM3Rps6e"
      },
      "execution_count": 240,
      "outputs": []
    },
    {
      "cell_type": "code",
      "source": [
        "# create ANN model\n",
        "model = Sequential()"
      ],
      "metadata": {
        "id": "qLkXUHuTps2r"
      },
      "execution_count": 241,
      "outputs": []
    },
    {
      "cell_type": "code",
      "source": [
        "# Defining the Input layer and FIRST hidden layer, both are same!\n",
        "model.add(Dense(units=5, input_dim=7, kernel_initializer='normal', activation='relu'))\n",
        " \n",
        "# Defining the Second layer of the model\n",
        "# after the first layer we don't have to specify input_dim as keras configure it automatically\n",
        "model.add(Dense(units=5, kernel_initializer='normal', activation='tanh'))\n",
        " \n",
        "# The output neuron is a single fully connected node \n",
        "# Since we will be predicting a single number\n",
        "model.add(Dense(1, kernel_initializer='normal'))"
      ],
      "metadata": {
        "id": "8Q8kq0C_5PL-"
      },
      "execution_count": 242,
      "outputs": []
    },
    {
      "cell_type": "code",
      "source": [
        " \n",
        "# Compiling the model\n",
        "model.compile(loss='mean_squared_error', optimizer='adam')"
      ],
      "metadata": {
        "id": "tBTMaN2M5O5N"
      },
      "execution_count": 243,
      "outputs": []
    },
    {
      "cell_type": "code",
      "source": [
        "# Fitting the ANN to the Training set\n",
        "model.fit(X_train, y_train ,batch_size = 20, epochs = 50, verbose=1)"
      ],
      "metadata": {
        "colab": {
          "base_uri": "https://localhost:8080/",
          "height": 815
        },
        "id": "VWiVNeiB5sKn",
        "outputId": "b79dad67-f8b3-455f-bdb0-c783dfa7e188"
      },
      "execution_count": 244,
      "outputs": [
        {
          "output_type": "stream",
          "name": "stdout",
          "text": [
            "Epoch 1/50\n",
            "467/467 [==============================] - 1s 2ms/step - loss: nan\n",
            "Epoch 2/50\n",
            "467/467 [==============================] - 1s 1ms/step - loss: nan\n",
            "Epoch 3/50\n",
            "467/467 [==============================] - 1s 2ms/step - loss: nan\n",
            "Epoch 4/50\n",
            "467/467 [==============================] - 1s 1ms/step - loss: nan\n",
            "Epoch 5/50\n",
            "467/467 [==============================] - 1s 1ms/step - loss: nan\n",
            "Epoch 6/50\n",
            "467/467 [==============================] - 1s 1ms/step - loss: nan\n",
            "Epoch 7/50\n",
            "467/467 [==============================] - 1s 2ms/step - loss: nan\n",
            "Epoch 8/50\n",
            "467/467 [==============================] - 1s 1ms/step - loss: nan\n",
            "Epoch 9/50\n",
            "467/467 [==============================] - 1s 1ms/step - loss: nan\n",
            "Epoch 10/50\n",
            "467/467 [==============================] - 1s 1ms/step - loss: nan\n",
            "Epoch 11/50\n",
            "467/467 [==============================] - 1s 1ms/step - loss: nan\n",
            "Epoch 12/50\n",
            "467/467 [==============================] - 1s 1ms/step - loss: nan\n",
            "Epoch 13/50\n",
            "467/467 [==============================] - 1s 2ms/step - loss: nan\n",
            "Epoch 14/50\n",
            "249/467 [==============>...............] - ETA: 0s - loss: nan"
          ]
        },
        {
          "output_type": "error",
          "ename": "KeyboardInterrupt",
          "evalue": "ignored",
          "traceback": [
            "\u001b[0;31m---------------------------------------------------------------------------\u001b[0m",
            "\u001b[0;31mKeyboardInterrupt\u001b[0m                         Traceback (most recent call last)",
            "\u001b[0;32m<ipython-input-244-b2a6a50993b2>\u001b[0m in \u001b[0;36m<module>\u001b[0;34m\u001b[0m\n\u001b[1;32m      1\u001b[0m \u001b[0;31m# Fitting the ANN to the Training set\u001b[0m\u001b[0;34m\u001b[0m\u001b[0;34m\u001b[0m\u001b[0;34m\u001b[0m\u001b[0m\n\u001b[0;32m----> 2\u001b[0;31m \u001b[0mmodel\u001b[0m\u001b[0;34m.\u001b[0m\u001b[0mfit\u001b[0m\u001b[0;34m(\u001b[0m\u001b[0mX_train\u001b[0m\u001b[0;34m,\u001b[0m \u001b[0my_train\u001b[0m \u001b[0;34m,\u001b[0m\u001b[0mbatch_size\u001b[0m \u001b[0;34m=\u001b[0m \u001b[0;36m20\u001b[0m\u001b[0;34m,\u001b[0m \u001b[0mepochs\u001b[0m \u001b[0;34m=\u001b[0m \u001b[0;36m50\u001b[0m\u001b[0;34m,\u001b[0m \u001b[0mverbose\u001b[0m\u001b[0;34m=\u001b[0m\u001b[0;36m1\u001b[0m\u001b[0;34m)\u001b[0m\u001b[0;34m\u001b[0m\u001b[0;34m\u001b[0m\u001b[0m\n\u001b[0m",
            "\u001b[0;32m/usr/local/lib/python3.7/dist-packages/keras/utils/traceback_utils.py\u001b[0m in \u001b[0;36merror_handler\u001b[0;34m(*args, **kwargs)\u001b[0m\n\u001b[1;32m     62\u001b[0m     \u001b[0mfiltered_tb\u001b[0m \u001b[0;34m=\u001b[0m \u001b[0;32mNone\u001b[0m\u001b[0;34m\u001b[0m\u001b[0;34m\u001b[0m\u001b[0m\n\u001b[1;32m     63\u001b[0m     \u001b[0;32mtry\u001b[0m\u001b[0;34m:\u001b[0m\u001b[0;34m\u001b[0m\u001b[0;34m\u001b[0m\u001b[0m\n\u001b[0;32m---> 64\u001b[0;31m       \u001b[0;32mreturn\u001b[0m \u001b[0mfn\u001b[0m\u001b[0;34m(\u001b[0m\u001b[0;34m*\u001b[0m\u001b[0margs\u001b[0m\u001b[0;34m,\u001b[0m \u001b[0;34m**\u001b[0m\u001b[0mkwargs\u001b[0m\u001b[0;34m)\u001b[0m\u001b[0;34m\u001b[0m\u001b[0;34m\u001b[0m\u001b[0m\n\u001b[0m\u001b[1;32m     65\u001b[0m     \u001b[0;32mexcept\u001b[0m \u001b[0mException\u001b[0m \u001b[0;32mas\u001b[0m \u001b[0me\u001b[0m\u001b[0;34m:\u001b[0m  \u001b[0;31m# pylint: disable=broad-except\u001b[0m\u001b[0;34m\u001b[0m\u001b[0;34m\u001b[0m\u001b[0m\n\u001b[1;32m     66\u001b[0m       \u001b[0mfiltered_tb\u001b[0m \u001b[0;34m=\u001b[0m \u001b[0m_process_traceback_frames\u001b[0m\u001b[0;34m(\u001b[0m\u001b[0me\u001b[0m\u001b[0;34m.\u001b[0m\u001b[0m__traceback__\u001b[0m\u001b[0;34m)\u001b[0m\u001b[0;34m\u001b[0m\u001b[0;34m\u001b[0m\u001b[0m\n",
            "\u001b[0;32m/usr/local/lib/python3.7/dist-packages/keras/engine/training.py\u001b[0m in \u001b[0;36mfit\u001b[0;34m(self, x, y, batch_size, epochs, verbose, callbacks, validation_split, validation_data, shuffle, class_weight, sample_weight, initial_epoch, steps_per_epoch, validation_steps, validation_batch_size, validation_freq, max_queue_size, workers, use_multiprocessing)\u001b[0m\n\u001b[1;32m   1374\u001b[0m         \u001b[0mcallbacks\u001b[0m\u001b[0;34m.\u001b[0m\u001b[0mon_epoch_begin\u001b[0m\u001b[0;34m(\u001b[0m\u001b[0mepoch\u001b[0m\u001b[0;34m)\u001b[0m\u001b[0;34m\u001b[0m\u001b[0;34m\u001b[0m\u001b[0m\n\u001b[1;32m   1375\u001b[0m         \u001b[0;32mwith\u001b[0m \u001b[0mdata_handler\u001b[0m\u001b[0;34m.\u001b[0m\u001b[0mcatch_stop_iteration\u001b[0m\u001b[0;34m(\u001b[0m\u001b[0;34m)\u001b[0m\u001b[0;34m:\u001b[0m\u001b[0;34m\u001b[0m\u001b[0;34m\u001b[0m\u001b[0m\n\u001b[0;32m-> 1376\u001b[0;31m           \u001b[0;32mfor\u001b[0m \u001b[0mstep\u001b[0m \u001b[0;32min\u001b[0m \u001b[0mdata_handler\u001b[0m\u001b[0;34m.\u001b[0m\u001b[0msteps\u001b[0m\u001b[0;34m(\u001b[0m\u001b[0;34m)\u001b[0m\u001b[0;34m:\u001b[0m\u001b[0;34m\u001b[0m\u001b[0;34m\u001b[0m\u001b[0m\n\u001b[0m\u001b[1;32m   1377\u001b[0m             with tf.profiler.experimental.Trace(\n\u001b[1;32m   1378\u001b[0m                 \u001b[0;34m'train'\u001b[0m\u001b[0;34m,\u001b[0m\u001b[0;34m\u001b[0m\u001b[0;34m\u001b[0m\u001b[0m\n",
            "\u001b[0;32m/usr/local/lib/python3.7/dist-packages/keras/engine/data_adapter.py\u001b[0m in \u001b[0;36msteps\u001b[0;34m(self)\u001b[0m\n\u001b[1;32m   1244\u001b[0m       \u001b[0;32mif\u001b[0m \u001b[0mself\u001b[0m\u001b[0;34m.\u001b[0m\u001b[0m_insufficient_data\u001b[0m\u001b[0;34m:\u001b[0m  \u001b[0;31m# Set by `catch_stop_iteration`.\u001b[0m\u001b[0;34m\u001b[0m\u001b[0;34m\u001b[0m\u001b[0m\n\u001b[1;32m   1245\u001b[0m         \u001b[0;32mbreak\u001b[0m\u001b[0;34m\u001b[0m\u001b[0;34m\u001b[0m\u001b[0m\n\u001b[0;32m-> 1246\u001b[0;31m       \u001b[0moriginal_spe\u001b[0m \u001b[0;34m=\u001b[0m \u001b[0mself\u001b[0m\u001b[0;34m.\u001b[0m\u001b[0m_steps_per_execution\u001b[0m\u001b[0;34m.\u001b[0m\u001b[0mnumpy\u001b[0m\u001b[0;34m(\u001b[0m\u001b[0;34m)\u001b[0m\u001b[0;34m.\u001b[0m\u001b[0mitem\u001b[0m\u001b[0;34m(\u001b[0m\u001b[0;34m)\u001b[0m\u001b[0;34m\u001b[0m\u001b[0;34m\u001b[0m\u001b[0m\n\u001b[0m\u001b[1;32m   1247\u001b[0m       can_run_full_execution = (\n\u001b[1;32m   1248\u001b[0m           \u001b[0moriginal_spe\u001b[0m \u001b[0;34m==\u001b[0m \u001b[0;36m1\u001b[0m \u001b[0;32mor\u001b[0m\u001b[0;34m\u001b[0m\u001b[0;34m\u001b[0m\u001b[0m\n",
            "\u001b[0;32m/usr/local/lib/python3.7/dist-packages/tensorflow/python/ops/resource_variable_ops.py\u001b[0m in \u001b[0;36mnumpy\u001b[0;34m(self)\u001b[0m\n\u001b[1;32m    672\u001b[0m   \u001b[0;32mdef\u001b[0m \u001b[0mnumpy\u001b[0m\u001b[0;34m(\u001b[0m\u001b[0mself\u001b[0m\u001b[0;34m)\u001b[0m\u001b[0;34m:\u001b[0m\u001b[0;34m\u001b[0m\u001b[0;34m\u001b[0m\u001b[0m\n\u001b[1;32m    673\u001b[0m     \u001b[0;32mif\u001b[0m \u001b[0mcontext\u001b[0m\u001b[0;34m.\u001b[0m\u001b[0mexecuting_eagerly\u001b[0m\u001b[0;34m(\u001b[0m\u001b[0;34m)\u001b[0m\u001b[0;34m:\u001b[0m\u001b[0;34m\u001b[0m\u001b[0;34m\u001b[0m\u001b[0m\n\u001b[0;32m--> 674\u001b[0;31m       \u001b[0;32mreturn\u001b[0m \u001b[0mself\u001b[0m\u001b[0;34m.\u001b[0m\u001b[0mread_value\u001b[0m\u001b[0;34m(\u001b[0m\u001b[0;34m)\u001b[0m\u001b[0;34m.\u001b[0m\u001b[0mnumpy\u001b[0m\u001b[0;34m(\u001b[0m\u001b[0;34m)\u001b[0m\u001b[0;34m\u001b[0m\u001b[0;34m\u001b[0m\u001b[0m\n\u001b[0m\u001b[1;32m    675\u001b[0m     raise NotImplementedError(\n\u001b[1;32m    676\u001b[0m         \"numpy() is only available when eager execution is enabled.\")\n",
            "\u001b[0;32m/usr/local/lib/python3.7/dist-packages/tensorflow/python/framework/ops.py\u001b[0m in \u001b[0;36mnumpy\u001b[0;34m(self)\u001b[0m\n\u001b[1;32m   1221\u001b[0m     \"\"\"\n\u001b[1;32m   1222\u001b[0m     \u001b[0;31m# TODO(slebedev): Consider avoiding a copy for non-CPU or remote tensors.\u001b[0m\u001b[0;34m\u001b[0m\u001b[0;34m\u001b[0m\u001b[0;34m\u001b[0m\u001b[0m\n\u001b[0;32m-> 1223\u001b[0;31m     \u001b[0mmaybe_arr\u001b[0m \u001b[0;34m=\u001b[0m \u001b[0mself\u001b[0m\u001b[0;34m.\u001b[0m\u001b[0m_numpy\u001b[0m\u001b[0;34m(\u001b[0m\u001b[0;34m)\u001b[0m  \u001b[0;31m# pylint: disable=protected-access\u001b[0m\u001b[0;34m\u001b[0m\u001b[0;34m\u001b[0m\u001b[0m\n\u001b[0m\u001b[1;32m   1224\u001b[0m     \u001b[0;32mreturn\u001b[0m \u001b[0mmaybe_arr\u001b[0m\u001b[0;34m.\u001b[0m\u001b[0mcopy\u001b[0m\u001b[0;34m(\u001b[0m\u001b[0;34m)\u001b[0m \u001b[0;32mif\u001b[0m \u001b[0misinstance\u001b[0m\u001b[0;34m(\u001b[0m\u001b[0mmaybe_arr\u001b[0m\u001b[0;34m,\u001b[0m \u001b[0mnp\u001b[0m\u001b[0;34m.\u001b[0m\u001b[0mndarray\u001b[0m\u001b[0;34m)\u001b[0m \u001b[0;32melse\u001b[0m \u001b[0mmaybe_arr\u001b[0m\u001b[0;34m\u001b[0m\u001b[0;34m\u001b[0m\u001b[0m\n\u001b[1;32m   1225\u001b[0m \u001b[0;34m\u001b[0m\u001b[0m\n",
            "\u001b[0;32m/usr/local/lib/python3.7/dist-packages/tensorflow/python/framework/ops.py\u001b[0m in \u001b[0;36m_numpy\u001b[0;34m(self)\u001b[0m\n\u001b[1;32m   1187\u001b[0m   \u001b[0;32mdef\u001b[0m \u001b[0m_numpy\u001b[0m\u001b[0;34m(\u001b[0m\u001b[0mself\u001b[0m\u001b[0;34m)\u001b[0m\u001b[0;34m:\u001b[0m\u001b[0;34m\u001b[0m\u001b[0;34m\u001b[0m\u001b[0m\n\u001b[1;32m   1188\u001b[0m     \u001b[0;32mtry\u001b[0m\u001b[0;34m:\u001b[0m\u001b[0;34m\u001b[0m\u001b[0;34m\u001b[0m\u001b[0m\n\u001b[0;32m-> 1189\u001b[0;31m       \u001b[0;32mreturn\u001b[0m \u001b[0mself\u001b[0m\u001b[0;34m.\u001b[0m\u001b[0m_numpy_internal\u001b[0m\u001b[0;34m(\u001b[0m\u001b[0;34m)\u001b[0m\u001b[0;34m\u001b[0m\u001b[0;34m\u001b[0m\u001b[0m\n\u001b[0m\u001b[1;32m   1190\u001b[0m     \u001b[0;32mexcept\u001b[0m \u001b[0mcore\u001b[0m\u001b[0;34m.\u001b[0m\u001b[0m_NotOkStatusException\u001b[0m \u001b[0;32mas\u001b[0m \u001b[0me\u001b[0m\u001b[0;34m:\u001b[0m  \u001b[0;31m# pylint: disable=protected-access\u001b[0m\u001b[0;34m\u001b[0m\u001b[0;34m\u001b[0m\u001b[0m\n\u001b[1;32m   1191\u001b[0m       \u001b[0;32mraise\u001b[0m \u001b[0mcore\u001b[0m\u001b[0;34m.\u001b[0m\u001b[0m_status_to_exception\u001b[0m\u001b[0;34m(\u001b[0m\u001b[0me\u001b[0m\u001b[0;34m)\u001b[0m \u001b[0;32mfrom\u001b[0m \u001b[0;32mNone\u001b[0m  \u001b[0;31m# pylint: disable=protected-access\u001b[0m\u001b[0;34m\u001b[0m\u001b[0;34m\u001b[0m\u001b[0m\n",
            "\u001b[0;31mKeyboardInterrupt\u001b[0m: "
          ]
        }
      ]
    },
    {
      "cell_type": "code",
      "source": [
        ""
      ],
      "metadata": {
        "id": "3I1xCGo_ZI_z"
      },
      "execution_count": null,
      "outputs": []
    },
    {
      "cell_type": "code",
      "source": [
        ""
      ],
      "metadata": {
        "id": "LfdhfGXUZI9q"
      },
      "execution_count": null,
      "outputs": []
    },
    {
      "cell_type": "code",
      "source": [
        "from sklearn.linear_model import Lasso,Ridge,LinearRegression"
      ],
      "metadata": {
        "id": "ib5eHRiFZI7y"
      },
      "execution_count": 198,
      "outputs": []
    },
    {
      "cell_type": "code",
      "source": [
        "lr = LinearRegression(normalize=True)\n",
        "pipe = make_pipeline(lr)\n",
        "pipe.fit(X_train,y_train)\n",
        "y_predict = pipe.predict(X_test)\n",
        "print('R2 Score = ',r2_score(y_test,y_predict))"
      ],
      "metadata": {
        "id": "wY2hHG7AZI5l"
      },
      "execution_count": null,
      "outputs": []
    },
    {
      "cell_type": "code",
      "source": [
        ""
      ],
      "metadata": {
        "id": "OXDmM5TAZI3c"
      },
      "execution_count": null,
      "outputs": []
    },
    {
      "cell_type": "code",
      "source": [
        ""
      ],
      "metadata": {
        "id": "PcGHCw9xZIyJ"
      },
      "execution_count": null,
      "outputs": []
    }
  ]
}